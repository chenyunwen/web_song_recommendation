{
 "cells": [
  {
   "cell_type": "code",
   "execution_count": 1,
   "id": "326dd4d4",
   "metadata": {},
   "outputs": [],
   "source": [
    "from sklearn.datasets import load_files\n",
    "from sklearn.feature_extraction.text import TfidfVectorizer\n",
    "from sklearn.linear_model import LogisticRegression\n",
    "import os\n",
    "from gensim import corpora, models, similarities\n",
    "import joblib\n",
    "import pickle\n",
    "import numpy as np\n",
    "import jieba.analyse\n",
    "import jieba\n",
    "import codecs\n",
    "import pandas as pd\n",
    "import re"
   ]
  },
  {
   "cell_type": "markdown",
   "id": "90ed49f4",
   "metadata": {},
   "source": [
    "# Load lyrics data"
   ]
  },
  {
   "cell_type": "code",
   "execution_count": 2,
   "id": "0ab28411",
   "metadata": {},
   "outputs": [
    {
     "data": {
      "text/html": [
       "<div>\n",
       "<style scoped>\n",
       "    .dataframe tbody tr th:only-of-type {\n",
       "        vertical-align: middle;\n",
       "    }\n",
       "\n",
       "    .dataframe tbody tr th {\n",
       "        vertical-align: top;\n",
       "    }\n",
       "\n",
       "    .dataframe thead th {\n",
       "        text-align: right;\n",
       "    }\n",
       "</style>\n",
       "<table border=\"1\" class=\"dataframe\">\n",
       "  <thead>\n",
       "    <tr style=\"text-align: right;\">\n",
       "      <th></th>\n",
       "      <th>Singer</th>\n",
       "      <th>Name</th>\n",
       "      <th>Lyric</th>\n",
       "      <th>Category</th>\n",
       "      <th>seg_text</th>\n",
       "      <th>remove_synonym</th>\n",
       "      <th>top_10</th>\n",
       "    </tr>\n",
       "  </thead>\n",
       "  <tbody>\n",
       "    <tr>\n",
       "      <th>0</th>\n",
       "      <td>A-Lin</td>\n",
       "      <td>One Life</td>\n",
       "      <td>白雲撞進藍天 激起昨天畫面我想起你的臉好久不見 在遠方的My Friend不論晴天雨天 也會...</td>\n",
       "      <td>勵志友情</td>\n",
       "      <td>白雲撞, 進藍天, 激起, 昨天, 畫面, 想起, 臉, 好久, 不見, 遠方, MyFri...</td>\n",
       "      <td>白雲撞 進藍天 激起 昨天 畫面 想起 臉 好久 不見 遠處 MyFriend 晴天 雨天 ...</td>\n",
       "      <td>['Life', '我們', '一天', '期待', '哪邊', '邊要', '出現', '...</td>\n",
       "    </tr>\n",
       "    <tr>\n",
       "      <th>1</th>\n",
       "      <td>A-Lin</td>\n",
       "      <td>最好的朋友在身邊</td>\n",
       "      <td>一起笑一起哭一起鬧久別的回憶又浮現一點點一天天一年年最好的朋友在身邊一起走一起跑一起跳相聚到...</td>\n",
       "      <td>勵志友情</td>\n",
       "      <td>一起, 笑, 一起, 哭, 一起, 鬧久別, 回憶, 浮現, 一點點, 一天天, 一年, 年...</td>\n",
       "      <td>一起 笑 一起 哭 一起 鬧久別 回憶 浮現 一些 一天天 一年 年 最好 朋友 身邊 一起...</td>\n",
       "      <td>['一起', '一天天', '永在', '鬧久別', '回憶', '浮現', '一點點', ...</td>\n",
       "    </tr>\n",
       "    <tr>\n",
       "      <th>2</th>\n",
       "      <td>A-Lin</td>\n",
       "      <td>愛的可能</td>\n",
       "      <td>你出現我身邊 像個奇蹟發生沒想到會是你 讓我如此失魂我心中的感覺是這樣陌生快樂的牽掛在相聚的...</td>\n",
       "      <td>勵志友情</td>\n",
       "      <td>出現, 身邊, 蹟, 發生, 想到, 失魂, 心中, 感覺, 陌生, 快樂, 牽掛, 相聚,...</td>\n",
       "      <td>出現 身邊 蹟 發生 想 失魂 心中 感覺 陌生 快樂 牽掛 相見 每一分 曾以 見過 所有...</td>\n",
       "      <td>['我會', '不會', '記得', '孤單', '時候', '因為', '還有', '我的...</td>\n",
       "    </tr>\n",
       "    <tr>\n",
       "      <th>3</th>\n",
       "      <td>A-Lin</td>\n",
       "      <td>太太太耐斯</td>\n",
       "      <td>孩子還沒睡 拜託別鬧手遊聲太吵 狗狗在叫碗盤在洗碗槽 主婦的煩惱惱公不瞭 他先洗澡奶瓶把香水...</td>\n",
       "      <td>反抗反駁反諷</td>\n",
       "      <td>孩子, 還沒, 睡, 拜, 託, 別鬧, 手遊聲, 太吵, 狗狗, 碗, 盤, 洗碗, 槽,...</td>\n",
       "      <td>孩子 還沒 睡 拜 託 別鬧 手遊聲 太吵 狗狗 碗 盤 洗碗 槽 主婦 煩惱 惱公 瞭 先...</td>\n",
       "      <td>['太太', '耐斯', '什麼', '超過', '太過', '發脾氣', '心軟', '忘...</td>\n",
       "    </tr>\n",
       "    <tr>\n",
       "      <th>4</th>\n",
       "      <td>A-Lin</td>\n",
       "      <td>抱歉 我不抱歉</td>\n",
       "      <td>恨 什麼叫恨 這個單字 好陌生我只記得 一路走來 愛的人就算他們 多可恨等 雖然溫柔 還打不...</td>\n",
       "      <td>反抗反駁反諷</td>\n",
       "      <td>恨, 恨, 單字, 好, 陌生, 只, 記得, 一路, 走來, 愛的, 人, 可恨, 溫柔,...</td>\n",
       "      <td>恨 恨 單字 好 陌生 只 記得 一路 走過來 愛的 人 可恨 溫柔 還打 不開 一些 門雖...</td>\n",
       "      <td>['抱歉', '他們', '每枝', '什麼', '我們', '每個', '每張', '太真...</td>\n",
       "    </tr>\n",
       "    <tr>\n",
       "      <th>...</th>\n",
       "      <td>...</td>\n",
       "      <td>...</td>\n",
       "      <td>...</td>\n",
       "      <td>...</td>\n",
       "      <td>...</td>\n",
       "      <td>...</td>\n",
       "      <td>...</td>\n",
       "    </tr>\n",
       "    <tr>\n",
       "      <th>2201</th>\n",
       "      <td>陳奕迅</td>\n",
       "      <td>黑暗中漫舞</td>\n",
       "      <td>為何未能學會起舞便已抱緊你誰料到資質不配合你左腳舉起了便要別離為何未能讓我衰老便要放開你陪你...</td>\n",
       "      <td>悲傷離別</td>\n",
       "      <td>未能, 學會, 起舞, 已, 抱, 緊, 料到, 資質, 配合, 左腳, 舉起, 別離, 未...</td>\n",
       "      <td>未能 學 起舞 已經 抱 緊 料到 資質 配合 左腳 舉起 別離 未能 衰老 放開 陪伴 跳...</td>\n",
       "      <td>['為何', '未能', '左腳', '美不美', '捱到', '學會', '資質', '舉...</td>\n",
       "    </tr>\n",
       "    <tr>\n",
       "      <th>2202</th>\n",
       "      <td>陳奕迅</td>\n",
       "      <td>傷信</td>\n",
       "      <td>重讀著你的告別信　抑壓了暗湧雖不信寫的話　竟可以這麼重但再哭亦無用 徐徐又當這信是你　緊貼我...</td>\n",
       "      <td>悲傷離別</td>\n",
       "      <td>重讀, 告別, 信, 抑壓, 暗湧, 雖不信, 寫, 話, 重, 再, 哭, 亦, 無用, ...</td>\n",
       "      <td>重讀 告別 信 抑壓 暗湧 雖不信 寫 話 重 再 哭 亦 無用 徐徐 又當 這信 緊貼 抱...</td>\n",
       "      <td>['抑壓', '怎麼', '重讀', '告別', '暗湧', '雖不信', '這麼', '無...</td>\n",
       "    </tr>\n",
       "    <tr>\n",
       "      <th>2203</th>\n",
       "      <td>陳奕迅</td>\n",
       "      <td>歲月如歌</td>\n",
       "      <td>愛上了　看見你　如何不懂謙卑去講心中理想　不會俗氣猶如看得見晨曦　才能歡天喜地抱著你　我每次...</td>\n",
       "      <td>悲傷離別</td>\n",
       "      <td>愛上, 懂謙卑, 去講, 心中, 理想, 俗氣, 猶如, 晨曦, 歡天, 喜地, 抱, 每次...</td>\n",
       "      <td>愛上 懂謙卑 去講 心中 夢想 俗氣 猶如 晨曦 歡天 喜地 抱 每次 回來 驚喜 也許 一...</td>\n",
       "      <td>['也許', '愛上', '看見', '懂謙卑', '去講', '不會', '俗氣', '猶...</td>\n",
       "    </tr>\n",
       "    <tr>\n",
       "      <th>2204</th>\n",
       "      <td>陳奕迅</td>\n",
       "      <td>遇見了你(國)</td>\n",
       "      <td>遇見了你　讓生命美好我看見繁華的春天愛情如陽光閃耀我給你我的愛離開了我　你默默低頭我看見往事...</td>\n",
       "      <td>悲傷離別</td>\n",
       "      <td>遇見, 生命, 美好, 看見, 繁華, 春天, 愛情, 如陽光, 閃耀, 我給, 愛離開, ...</td>\n",
       "      <td>遇到 生命 美好 看見 繁華 春天 愛情 如陽光 閃耀 我給 愛離開 靜靜 低頭 往事 如雲...</td>\n",
       "      <td>['離開', '我給', '帶著', '愛帶', '飛到', '邊到', '一個', '傷終...</td>\n",
       "    </tr>\n",
       "    <tr>\n",
       "      <th>2205</th>\n",
       "      <td>陳奕迅</td>\n",
       "      <td>遙遠的她</td>\n",
       "      <td>讓晚風輕輕吹送了落霞我已習慣每個傍晚去想她在遠方的她此刻可知道這段情在我心始終記掛在這半山那...</td>\n",
       "      <td>悲傷離別</td>\n",
       "      <td>晚風, 輕輕, 吹送, 落霞, 已, 習慣, 每個, 傍晚, 想, 遠方, 此刻, 知道, ...</td>\n",
       "      <td>晚風 輕輕 吹送 落霞 已經 習慣 每個 傍晚 想 遠處 此刻 知道 這段 情 我心 始終 ...</td>\n",
       "      <td>['熱情', '那管', '滄桑', '變化', '始終', '相約', '縱使', '相愛...</td>\n",
       "    </tr>\n",
       "  </tbody>\n",
       "</table>\n",
       "<p>2206 rows × 7 columns</p>\n",
       "</div>"
      ],
      "text/plain": [
       "     Singer       Name                                              Lyric  \\\n",
       "0     A-Lin   One Life  白雲撞進藍天 激起昨天畫面我想起你的臉好久不見 在遠方的My Friend不論晴天雨天 也會...   \n",
       "1     A-Lin   最好的朋友在身邊  一起笑一起哭一起鬧久別的回憶又浮現一點點一天天一年年最好的朋友在身邊一起走一起跑一起跳相聚到...   \n",
       "2     A-Lin       愛的可能  你出現我身邊 像個奇蹟發生沒想到會是你 讓我如此失魂我心中的感覺是這樣陌生快樂的牽掛在相聚的...   \n",
       "3     A-Lin      太太太耐斯  孩子還沒睡 拜託別鬧手遊聲太吵 狗狗在叫碗盤在洗碗槽 主婦的煩惱惱公不瞭 他先洗澡奶瓶把香水...   \n",
       "4     A-Lin    抱歉 我不抱歉  恨 什麼叫恨 這個單字 好陌生我只記得 一路走來 愛的人就算他們 多可恨等 雖然溫柔 還打不...   \n",
       "...     ...        ...                                                ...   \n",
       "2201    陳奕迅      黑暗中漫舞  為何未能學會起舞便已抱緊你誰料到資質不配合你左腳舉起了便要別離為何未能讓我衰老便要放開你陪你...   \n",
       "2202    陳奕迅         傷信  重讀著你的告別信　抑壓了暗湧雖不信寫的話　竟可以這麼重但再哭亦無用 徐徐又當這信是你　緊貼我...   \n",
       "2203    陳奕迅       歲月如歌  愛上了　看見你　如何不懂謙卑去講心中理想　不會俗氣猶如看得見晨曦　才能歡天喜地抱著你　我每次...   \n",
       "2204    陳奕迅    遇見了你(國)  遇見了你　讓生命美好我看見繁華的春天愛情如陽光閃耀我給你我的愛離開了我　你默默低頭我看見往事...   \n",
       "2205    陳奕迅       遙遠的她  讓晚風輕輕吹送了落霞我已習慣每個傍晚去想她在遠方的她此刻可知道這段情在我心始終記掛在這半山那...   \n",
       "\n",
       "     Category                                           seg_text  \\\n",
       "0        勵志友情  白雲撞, 進藍天, 激起, 昨天, 畫面, 想起, 臉, 好久, 不見, 遠方, MyFri...   \n",
       "1        勵志友情  一起, 笑, 一起, 哭, 一起, 鬧久別, 回憶, 浮現, 一點點, 一天天, 一年, 年...   \n",
       "2        勵志友情  出現, 身邊, 蹟, 發生, 想到, 失魂, 心中, 感覺, 陌生, 快樂, 牽掛, 相聚,...   \n",
       "3      反抗反駁反諷  孩子, 還沒, 睡, 拜, 託, 別鬧, 手遊聲, 太吵, 狗狗, 碗, 盤, 洗碗, 槽,...   \n",
       "4      反抗反駁反諷  恨, 恨, 單字, 好, 陌生, 只, 記得, 一路, 走來, 愛的, 人, 可恨, 溫柔,...   \n",
       "...       ...                                                ...   \n",
       "2201     悲傷離別  未能, 學會, 起舞, 已, 抱, 緊, 料到, 資質, 配合, 左腳, 舉起, 別離, 未...   \n",
       "2202     悲傷離別  重讀, 告別, 信, 抑壓, 暗湧, 雖不信, 寫, 話, 重, 再, 哭, 亦, 無用, ...   \n",
       "2203     悲傷離別  愛上, 懂謙卑, 去講, 心中, 理想, 俗氣, 猶如, 晨曦, 歡天, 喜地, 抱, 每次...   \n",
       "2204     悲傷離別  遇見, 生命, 美好, 看見, 繁華, 春天, 愛情, 如陽光, 閃耀, 我給, 愛離開, ...   \n",
       "2205     悲傷離別  晚風, 輕輕, 吹送, 落霞, 已, 習慣, 每個, 傍晚, 想, 遠方, 此刻, 知道, ...   \n",
       "\n",
       "                                         remove_synonym  \\\n",
       "0     白雲撞 進藍天 激起 昨天 畫面 想起 臉 好久 不見 遠處 MyFriend 晴天 雨天 ...   \n",
       "1     一起 笑 一起 哭 一起 鬧久別 回憶 浮現 一些 一天天 一年 年 最好 朋友 身邊 一起...   \n",
       "2     出現 身邊 蹟 發生 想 失魂 心中 感覺 陌生 快樂 牽掛 相見 每一分 曾以 見過 所有...   \n",
       "3     孩子 還沒 睡 拜 託 別鬧 手遊聲 太吵 狗狗 碗 盤 洗碗 槽 主婦 煩惱 惱公 瞭 先...   \n",
       "4     恨 恨 單字 好 陌生 只 記得 一路 走過來 愛的 人 可恨 溫柔 還打 不開 一些 門雖...   \n",
       "...                                                 ...   \n",
       "2201  未能 學 起舞 已經 抱 緊 料到 資質 配合 左腳 舉起 別離 未能 衰老 放開 陪伴 跳...   \n",
       "2202  重讀 告別 信 抑壓 暗湧 雖不信 寫 話 重 再 哭 亦 無用 徐徐 又當 這信 緊貼 抱...   \n",
       "2203  愛上 懂謙卑 去講 心中 夢想 俗氣 猶如 晨曦 歡天 喜地 抱 每次 回來 驚喜 也許 一...   \n",
       "2204  遇到 生命 美好 看見 繁華 春天 愛情 如陽光 閃耀 我給 愛離開 靜靜 低頭 往事 如雲...   \n",
       "2205  晚風 輕輕 吹送 落霞 已經 習慣 每個 傍晚 想 遠處 此刻 知道 這段 情 我心 始終 ...   \n",
       "\n",
       "                                                 top_10  \n",
       "0     ['Life', '我們', '一天', '期待', '哪邊', '邊要', '出現', '...  \n",
       "1     ['一起', '一天天', '永在', '鬧久別', '回憶', '浮現', '一點點', ...  \n",
       "2     ['我會', '不會', '記得', '孤單', '時候', '因為', '還有', '我的...  \n",
       "3     ['太太', '耐斯', '什麼', '超過', '太過', '發脾氣', '心軟', '忘...  \n",
       "4     ['抱歉', '他們', '每枝', '什麼', '我們', '每個', '每張', '太真...  \n",
       "...                                                 ...  \n",
       "2201  ['為何', '未能', '左腳', '美不美', '捱到', '學會', '資質', '舉...  \n",
       "2202  ['抑壓', '怎麼', '重讀', '告別', '暗湧', '雖不信', '這麼', '無...  \n",
       "2203  ['也許', '愛上', '看見', '懂謙卑', '去講', '不會', '俗氣', '猶...  \n",
       "2204  ['離開', '我給', '帶著', '愛帶', '飛到', '邊到', '一個', '傷終...  \n",
       "2205  ['熱情', '那管', '滄桑', '變化', '始終', '相約', '縱使', '相愛...  \n",
       "\n",
       "[2206 rows x 7 columns]"
      ]
     },
     "execution_count": 2,
     "metadata": {},
     "output_type": "execute_result"
    }
   ],
   "source": [
    "df = pd.read_csv ('./data/lyric_df.csv')\n",
    "df"
   ]
  },
  {
   "cell_type": "markdown",
   "id": "d6273d0f",
   "metadata": {},
   "source": [
    "# Import testing lyric and preprocess"
   ]
  },
  {
   "cell_type": "code",
   "execution_count": 3,
   "id": "079b114b",
   "metadata": {},
   "outputs": [],
   "source": [
    "def remove_punctuation(line):\n",
    "    stopwords = [line.strip() for line in open('./data/stopwords.txt', 'r', encoding='utf-8').readlines()]\n",
    "    line = str(line)\n",
    "    if line.strip() == '':\n",
    "        return ''\n",
    "    re_han = re.compile(u\"[^a-zA-Z0-9\\u4E00-\\u9FA5]\")\n",
    "    line = re_han.sub('', line)\n",
    "    cut = [w for w in list(jieba.cut(line)) if w not in stopwords]\n",
    "    res = \" \".join(cut)\n",
    "    return res"
   ]
  },
  {
   "cell_type": "code",
   "execution_count": 4,
   "id": "30c727c9",
   "metadata": {},
   "outputs": [
    {
     "name": "stderr",
     "output_type": "stream",
     "text": [
      "Building prefix dict from the default dictionary ...\n",
      "Loading model from cache /tmp/jieba.cache\n",
      "Loading model cost 1.149 seconds.\n",
      "Prefix dict has been built successfully.\n"
     ]
    }
   ],
   "source": [
    "test_lyric = \"會不會 有一天 時間真的能倒退 退回 你的我的 回不去的 悠悠的歲月 也許會 有一天 世界真的有終點 也要和你舉起回憶釀的甜 和你再乾一杯 如果說 要我選出 代表青春 那個畫面 浮現了 那滴眼淚 那片藍天 那年畢業 那一張 邊哭邊笑 還要擁抱 是你的臉 想起來 可愛可憐 可歌可泣 可是多懷念 懷念總是 突然懷念 不談條件 當回憶 衝破考卷 衝出歲月 在我眼前 我和你 流著汗水 喝著汽水 在操場邊 說好了 無論如何 一起走到 未來的世界 現在就是 那個未來 那個世界 為什麼 你的身邊 我的身邊 不是同一邊 友情曾像 諾亞方舟 堅強誓言 只是我 望著海面 等著永遠 模糊了視線 會不會 有一天 時間真的能倒退 退回 你的我的 回不去的 悠悠的歲月 也許會 有一天 世界真的有終點 也要和你舉起回憶釀的甜 和你再乾一杯 這些年 買了四輪 買了手錶 買了單眼 卻發現 追不到的 停不了的 還是那些 人生是 只有認命 只能宿命 只好宿醉 只剩下 高的笑點 低的哭點 卻沒成熟點 成熟就是 幻想幻滅 一場磨練 為什麼 只有夢想 越磨越小 小到不見 有時候 好想流淚 好想流淚 卻沒眼淚 期待會 你會不會 他會不會 開個同學會 他在等你 你在等我 我在等誰 又是誰 孩子沒睡 電話沒電 心情沒準備 天空不斷 黑了又亮 亮了又黑 那光陰 滄海桑田 遠走高飛 再沒力氣追 終究會 有一天 我們都變成昨天 是你 陪我走過 一生一回 匆匆的人間 有一天 就是今天 今天就是有一天 說出一直沒說 對你的感謝 和你再乾一杯 再乾一杯永遠 喝了就能萬歲 歲歲和年年 時間都停了 他們都回來了 懷念的人啊 等你的來到 時間都停了 他們都回來了 懷念的人啊 等你的來到\"\n",
    "test_lyric_seg = remove_punctuation(test_lyric)"
   ]
  },
  {
   "cell_type": "markdown",
   "id": "26d04edc",
   "metadata": {},
   "source": [
    "# Get categories"
   ]
  },
  {
   "cell_type": "markdown",
   "id": "9435fc64",
   "metadata": {},
   "source": [
    "## Load TfidfVectorizer and transform lyric to vector"
   ]
  },
  {
   "cell_type": "code",
   "execution_count": 5,
   "id": "61afce9d",
   "metadata": {},
   "outputs": [],
   "source": [
    "with open('./model/vectorizer.pickle', 'rb') as f:\n",
    "    vectorizer = pickle.load(f)"
   ]
  },
  {
   "cell_type": "code",
   "execution_count": 6,
   "id": "62ab8371",
   "metadata": {},
   "outputs": [],
   "source": [
    "tmp = []\n",
    "tmp.append(test_lyric_seg)\n",
    "test_lyric_vec = vectorizer.transform(tmp)"
   ]
  },
  {
   "cell_type": "markdown",
   "id": "41a7c410",
   "metadata": {},
   "source": [
    "## Load Logistic Regression Model"
   ]
  },
  {
   "cell_type": "code",
   "execution_count": 7,
   "id": "1c00d2ef",
   "metadata": {},
   "outputs": [],
   "source": [
    "LR_model = joblib.load('./model/LR_model')"
   ]
  },
  {
   "cell_type": "markdown",
   "id": "da72b82f",
   "metadata": {},
   "source": [
    "## Predict category"
   ]
  },
  {
   "cell_type": "code",
   "execution_count": 8,
   "id": "2778df13",
   "metadata": {},
   "outputs": [
    {
     "data": {
      "text/plain": [
       "'勵志友情'"
      ]
     },
     "execution_count": 8,
     "metadata": {},
     "output_type": "execute_result"
    }
   ],
   "source": [
    "predictions = LR_model.predict(test_lyric_vec)\n",
    "predictions = predictions[0]\n",
    "predictions"
   ]
  },
  {
   "cell_type": "markdown",
   "id": "8f2f92d5",
   "metadata": {},
   "source": [
    "# Find similar lyric"
   ]
  },
  {
   "cell_type": "code",
   "execution_count": 9,
   "id": "0f39789a",
   "metadata": {},
   "outputs": [],
   "source": [
    "if predictions == '愛情':\n",
    "    category = 'love'\n",
    "elif predictions == '勵志友情':\n",
    "    category = 'friendship'\n",
    "elif predictions == '悲傷離別':\n",
    "    category = 'sad'\n",
    "else:\n",
    "    category = 'fight'"
   ]
  },
  {
   "cell_type": "code",
   "execution_count": 10,
   "id": "d7bc8915",
   "metadata": {},
   "outputs": [
    {
     "data": {
      "text/html": [
       "<div>\n",
       "<style scoped>\n",
       "    .dataframe tbody tr th:only-of-type {\n",
       "        vertical-align: middle;\n",
       "    }\n",
       "\n",
       "    .dataframe tbody tr th {\n",
       "        vertical-align: top;\n",
       "    }\n",
       "\n",
       "    .dataframe thead th {\n",
       "        text-align: right;\n",
       "    }\n",
       "</style>\n",
       "<table border=\"1\" class=\"dataframe\">\n",
       "  <thead>\n",
       "    <tr style=\"text-align: right;\">\n",
       "      <th></th>\n",
       "      <th>Singer</th>\n",
       "      <th>Name</th>\n",
       "      <th>Lyric</th>\n",
       "      <th>Category</th>\n",
       "      <th>seg_text</th>\n",
       "      <th>remove_synonym</th>\n",
       "      <th>top_10</th>\n",
       "    </tr>\n",
       "  </thead>\n",
       "  <tbody>\n",
       "    <tr>\n",
       "      <th>0</th>\n",
       "      <td>A-Lin</td>\n",
       "      <td>One Life</td>\n",
       "      <td>白雲撞進藍天 激起昨天畫面我想起你的臉好久不見 在遠方的My Friend不論晴天雨天 也會...</td>\n",
       "      <td>勵志友情</td>\n",
       "      <td>白雲撞, 進藍天, 激起, 昨天, 畫面, 想起, 臉, 好久, 不見, 遠方, MyFri...</td>\n",
       "      <td>白雲撞 進藍天 激起 昨天 畫面 想起 臉 好久 不見 遠處 MyFriend 晴天 雨天 ...</td>\n",
       "      <td>['Life', '我們', '一天', '期待', '哪邊', '邊要', '出現', '...</td>\n",
       "    </tr>\n",
       "    <tr>\n",
       "      <th>1</th>\n",
       "      <td>A-Lin</td>\n",
       "      <td>最好的朋友在身邊</td>\n",
       "      <td>一起笑一起哭一起鬧久別的回憶又浮現一點點一天天一年年最好的朋友在身邊一起走一起跑一起跳相聚到...</td>\n",
       "      <td>勵志友情</td>\n",
       "      <td>一起, 笑, 一起, 哭, 一起, 鬧久別, 回憶, 浮現, 一點點, 一天天, 一年, 年...</td>\n",
       "      <td>一起 笑 一起 哭 一起 鬧久別 回憶 浮現 一些 一天天 一年 年 最好 朋友 身邊 一起...</td>\n",
       "      <td>['一起', '一天天', '永在', '鬧久別', '回憶', '浮現', '一點點', ...</td>\n",
       "    </tr>\n",
       "    <tr>\n",
       "      <th>2</th>\n",
       "      <td>A-Lin</td>\n",
       "      <td>愛的可能</td>\n",
       "      <td>你出現我身邊 像個奇蹟發生沒想到會是你 讓我如此失魂我心中的感覺是這樣陌生快樂的牽掛在相聚的...</td>\n",
       "      <td>勵志友情</td>\n",
       "      <td>出現, 身邊, 蹟, 發生, 想到, 失魂, 心中, 感覺, 陌生, 快樂, 牽掛, 相聚,...</td>\n",
       "      <td>出現 身邊 蹟 發生 想 失魂 心中 感覺 陌生 快樂 牽掛 相見 每一分 曾以 見過 所有...</td>\n",
       "      <td>['我會', '不會', '記得', '孤單', '時候', '因為', '還有', '我的...</td>\n",
       "    </tr>\n",
       "    <tr>\n",
       "      <th>3</th>\n",
       "      <td>A-Lin</td>\n",
       "      <td>不是不滿足</td>\n",
       "      <td>朋友們 羨慕有他來接我回家不懂我是多盼望 能再多留一下她們說 自由很寬世界也很大哪裡海洋最浪...</td>\n",
       "      <td>勵志友情</td>\n",
       "      <td>朋友, 羨慕, 接, 回家, 懂, 盼望, 再, 留, 一下, 說, 自由, 寬, 世界, ...</td>\n",
       "      <td>朋友 羨慕 接 回家 懂 盼 再 留 一下 說 自由 寬 世界 很大 海洋 最 浪漫 能治 ...</td>\n",
       "      <td>['不滿足', '會想', '有過', '瘋狂', '糊塗', '膩了', '傾訴', '嫌...</td>\n",
       "    </tr>\n",
       "    <tr>\n",
       "      <th>4</th>\n",
       "      <td>A-Lin</td>\n",
       "      <td>分手需要練習的</td>\n",
       "      <td>談起關於你的話題終於可以不用缺席甚至還表現得不再關心從前你是傷的痕跡現在不過是場回憶忽遠 忽...</td>\n",
       "      <td>勵志友情</td>\n",
       "      <td>談起關, 話, 題終, 不用, 缺席, 還表現, 關心, 前, 是傷, 痕跡, 現在, 是場...</td>\n",
       "      <td>談起關 話 題終 不用 缺席 還表現 關心 前 是傷 痕跡 現在 是場 回憶 忽遠 忽近 低...</td>\n",
       "      <td>['原來', '練習', '分手', '傷口', '不殘留', '一點', '回頭', '看...</td>\n",
       "    </tr>\n",
       "    <tr>\n",
       "      <th>...</th>\n",
       "      <td>...</td>\n",
       "      <td>...</td>\n",
       "      <td>...</td>\n",
       "      <td>...</td>\n",
       "      <td>...</td>\n",
       "      <td>...</td>\n",
       "      <td>...</td>\n",
       "    </tr>\n",
       "    <tr>\n",
       "      <th>204</th>\n",
       "      <td>陳奕迅</td>\n",
       "      <td>愚人快樂</td>\n",
       "      <td>心總是總是晴朗 因為身邊有群好姑娘年少的人難免輕狂 於是遲暮年滿身的傷有時刻意地做一副愚蠢的...</td>\n",
       "      <td>勵志友情</td>\n",
       "      <td>心總是, 總是, 晴朗, 身邊, 群好, 姑娘, 年少, 人, 難免, 輕狂, 遲, 暮年,...</td>\n",
       "      <td>心總是 總是 晴朗 身邊 群好 姑娘 年少 人 難免 輕狂 遲 暮年 滿身 傷有 時 刻意 ...</td>\n",
       "      <td>['我們', '愛著', '因為', '親愛的', '陽光', '燦爛', '心總是', '...</td>\n",
       "    </tr>\n",
       "    <tr>\n",
       "      <th>205</th>\n",
       "      <td>陳奕迅</td>\n",
       "      <td>新美人主義(國)</td>\n",
       "      <td>不要一臉驚奇　看的　是你是你是你我們屏色靜氣　為的　是你是你是你你的智美兼具　活現　新的美人...</td>\n",
       "      <td>勵志友情</td>\n",
       "      <td>一臉, 驚奇, 屏色, 靜氣, 智美, 兼具, 活現, 新, 美人主義, 多年, 一直, 尋...</td>\n",
       "      <td>一臉 驚奇 屏色 靜氣 智美 兼具 活現 新 美人主義 多年 一直 尋覓 懷疑 美麗本 這樣...</td>\n",
       "      <td>['我們', '美麗', '思議', '有意思', '一臉', '驚奇', '屏色', '靜...</td>\n",
       "    </tr>\n",
       "    <tr>\n",
       "      <th>206</th>\n",
       "      <td>陳奕迅</td>\n",
       "      <td>路一直都在</td>\n",
       "      <td>穿過人潮洶湧燈火闌珊沒有想過回頭一段又一段走不完的旅程甚麼時候能走完oh 我的夢代表甚麼又是...</td>\n",
       "      <td>勵志友情</td>\n",
       "      <td>穿過, 人潮, 洶湧, 燈火, 闌, 珊, 想過, 回頭, 一段, 一段, 走, 完, 旅程...</td>\n",
       "      <td>穿越 人海 洶湧 燈 闌 珊 想過 回頭 一段 一段 走 完 旅行 走 完 oh 夢 代表 ...</td>\n",
       "      <td>['甚麼', '時候', 'just', 'life', '一段', '穿過', '想過',...</td>\n",
       "    </tr>\n",
       "    <tr>\n",
       "      <th>207</th>\n",
       "      <td>陳奕迅</td>\n",
       "      <td>暴風雨</td>\n",
       "      <td>擁有一切 在我手裡一場風雨 夜半來襲還以為人生全由人控制一覺醒來才發現一切隨陽光消失無法抗拒...</td>\n",
       "      <td>勵志友情</td>\n",
       "      <td>擁有, 手裡, 一場, 風雨, 夜半, 來襲, 還以, 人生, 全由人, 控制, 一覺, 醒...</td>\n",
       "      <td>擁有 手裡 一場 風雨 夜半 來襲 還以 人生 全由人 控制 一覺 醒來 發現 隨陽光 消失...</td>\n",
       "      <td>['暴風雨', '風雨', '事破壞', '遺再', '不過', '會過', '不可理喻',...</td>\n",
       "    </tr>\n",
       "    <tr>\n",
       "      <th>208</th>\n",
       "      <td>陳奕迅</td>\n",
       "      <td>讓我留在你身邊</td>\n",
       "      <td>我從來不說話因為我害怕 沒有人回答我從來不掙扎因為我知道 這世界太大太多時間浪費 太多事要面...</td>\n",
       "      <td>勵志友情</td>\n",
       "      <td>說, 話, 害怕, 有人, 回答, 掙扎, 知道, 世界, 太大太多, 時間, 浪費, 太多...</td>\n",
       "      <td>說 話 害怕 有人 回答 掙扎 知道 世界 太大太多 時間 浪費 太多事 要面 太 已經 無...</td>\n",
       "      <td>['身邊', '渺小', '因為', '沒有', '盡頭', '別怕', '那麼', '許會...</td>\n",
       "    </tr>\n",
       "  </tbody>\n",
       "</table>\n",
       "<p>209 rows × 7 columns</p>\n",
       "</div>"
      ],
      "text/plain": [
       "    Singer       Name                                              Lyric  \\\n",
       "0    A-Lin   One Life  白雲撞進藍天 激起昨天畫面我想起你的臉好久不見 在遠方的My Friend不論晴天雨天 也會...   \n",
       "1    A-Lin   最好的朋友在身邊  一起笑一起哭一起鬧久別的回憶又浮現一點點一天天一年年最好的朋友在身邊一起走一起跑一起跳相聚到...   \n",
       "2    A-Lin       愛的可能  你出現我身邊 像個奇蹟發生沒想到會是你 讓我如此失魂我心中的感覺是這樣陌生快樂的牽掛在相聚的...   \n",
       "3    A-Lin      不是不滿足  朋友們 羨慕有他來接我回家不懂我是多盼望 能再多留一下她們說 自由很寬世界也很大哪裡海洋最浪...   \n",
       "4    A-Lin    分手需要練習的  談起關於你的話題終於可以不用缺席甚至還表現得不再關心從前你是傷的痕跡現在不過是場回憶忽遠 忽...   \n",
       "..     ...        ...                                                ...   \n",
       "204    陳奕迅       愚人快樂  心總是總是晴朗 因為身邊有群好姑娘年少的人難免輕狂 於是遲暮年滿身的傷有時刻意地做一副愚蠢的...   \n",
       "205    陳奕迅   新美人主義(國)  不要一臉驚奇　看的　是你是你是你我們屏色靜氣　為的　是你是你是你你的智美兼具　活現　新的美人...   \n",
       "206    陳奕迅      路一直都在  穿過人潮洶湧燈火闌珊沒有想過回頭一段又一段走不完的旅程甚麼時候能走完oh 我的夢代表甚麼又是...   \n",
       "207    陳奕迅        暴風雨  擁有一切 在我手裡一場風雨 夜半來襲還以為人生全由人控制一覺醒來才發現一切隨陽光消失無法抗拒...   \n",
       "208    陳奕迅    讓我留在你身邊  我從來不說話因為我害怕 沒有人回答我從來不掙扎因為我知道 這世界太大太多時間浪費 太多事要面...   \n",
       "\n",
       "    Category                                           seg_text  \\\n",
       "0       勵志友情  白雲撞, 進藍天, 激起, 昨天, 畫面, 想起, 臉, 好久, 不見, 遠方, MyFri...   \n",
       "1       勵志友情  一起, 笑, 一起, 哭, 一起, 鬧久別, 回憶, 浮現, 一點點, 一天天, 一年, 年...   \n",
       "2       勵志友情  出現, 身邊, 蹟, 發生, 想到, 失魂, 心中, 感覺, 陌生, 快樂, 牽掛, 相聚,...   \n",
       "3       勵志友情  朋友, 羨慕, 接, 回家, 懂, 盼望, 再, 留, 一下, 說, 自由, 寬, 世界, ...   \n",
       "4       勵志友情  談起關, 話, 題終, 不用, 缺席, 還表現, 關心, 前, 是傷, 痕跡, 現在, 是場...   \n",
       "..       ...                                                ...   \n",
       "204     勵志友情  心總是, 總是, 晴朗, 身邊, 群好, 姑娘, 年少, 人, 難免, 輕狂, 遲, 暮年,...   \n",
       "205     勵志友情  一臉, 驚奇, 屏色, 靜氣, 智美, 兼具, 活現, 新, 美人主義, 多年, 一直, 尋...   \n",
       "206     勵志友情  穿過, 人潮, 洶湧, 燈火, 闌, 珊, 想過, 回頭, 一段, 一段, 走, 完, 旅程...   \n",
       "207     勵志友情  擁有, 手裡, 一場, 風雨, 夜半, 來襲, 還以, 人生, 全由人, 控制, 一覺, 醒...   \n",
       "208     勵志友情  說, 話, 害怕, 有人, 回答, 掙扎, 知道, 世界, 太大太多, 時間, 浪費, 太多...   \n",
       "\n",
       "                                        remove_synonym  \\\n",
       "0    白雲撞 進藍天 激起 昨天 畫面 想起 臉 好久 不見 遠處 MyFriend 晴天 雨天 ...   \n",
       "1    一起 笑 一起 哭 一起 鬧久別 回憶 浮現 一些 一天天 一年 年 最好 朋友 身邊 一起...   \n",
       "2    出現 身邊 蹟 發生 想 失魂 心中 感覺 陌生 快樂 牽掛 相見 每一分 曾以 見過 所有...   \n",
       "3    朋友 羨慕 接 回家 懂 盼 再 留 一下 說 自由 寬 世界 很大 海洋 最 浪漫 能治 ...   \n",
       "4    談起關 話 題終 不用 缺席 還表現 關心 前 是傷 痕跡 現在 是場 回憶 忽遠 忽近 低...   \n",
       "..                                                 ...   \n",
       "204  心總是 總是 晴朗 身邊 群好 姑娘 年少 人 難免 輕狂 遲 暮年 滿身 傷有 時 刻意 ...   \n",
       "205  一臉 驚奇 屏色 靜氣 智美 兼具 活現 新 美人主義 多年 一直 尋覓 懷疑 美麗本 這樣...   \n",
       "206  穿越 人海 洶湧 燈 闌 珊 想過 回頭 一段 一段 走 完 旅行 走 完 oh 夢 代表 ...   \n",
       "207  擁有 手裡 一場 風雨 夜半 來襲 還以 人生 全由人 控制 一覺 醒來 發現 隨陽光 消失...   \n",
       "208  說 話 害怕 有人 回答 掙扎 知道 世界 太大太多 時間 浪費 太多事 要面 太 已經 無...   \n",
       "\n",
       "                                                top_10  \n",
       "0    ['Life', '我們', '一天', '期待', '哪邊', '邊要', '出現', '...  \n",
       "1    ['一起', '一天天', '永在', '鬧久別', '回憶', '浮現', '一點點', ...  \n",
       "2    ['我會', '不會', '記得', '孤單', '時候', '因為', '還有', '我的...  \n",
       "3    ['不滿足', '會想', '有過', '瘋狂', '糊塗', '膩了', '傾訴', '嫌...  \n",
       "4    ['原來', '練習', '分手', '傷口', '不殘留', '一點', '回頭', '看...  \n",
       "..                                                 ...  \n",
       "204  ['我們', '愛著', '因為', '親愛的', '陽光', '燦爛', '心總是', '...  \n",
       "205  ['我們', '美麗', '思議', '有意思', '一臉', '驚奇', '屏色', '靜...  \n",
       "206  ['甚麼', '時候', 'just', 'life', '一段', '穿過', '想過',...  \n",
       "207  ['暴風雨', '風雨', '事破壞', '遺再', '不過', '會過', '不可理喻',...  \n",
       "208  ['身邊', '渺小', '因為', '沒有', '盡頭', '別怕', '那麼', '許會...  \n",
       "\n",
       "[209 rows x 7 columns]"
      ]
     },
     "execution_count": 10,
     "metadata": {},
     "output_type": "execute_result"
    }
   ],
   "source": [
    "condition = df['Category'] == predictions\n",
    "df_select = df[condition]\n",
    "df_select = df_select.reset_index(drop = True)\n",
    "df_select"
   ]
  },
  {
   "cell_type": "code",
   "execution_count": 11,
   "id": "8dce6812",
   "metadata": {},
   "outputs": [],
   "source": [
    "# 載入同義字\n",
    "word_net = []\n",
    "with open(\"data/synonyms.txt\", \"r\", encoding = \"utf-8\") as f1:\n",
    "    for line in f1:\n",
    "        word_net.append(line)\n",
    "\n",
    "word_net = sorted(set(word_net))\n",
    "synonyms_dic = {}\n",
    "\n",
    "for word in word_net:\n",
    "    word_s = word.split()\n",
    "    synonyms_dic[word_s[0]] = word_s[1]"
   ]
  },
  {
   "cell_type": "code",
   "execution_count": 12,
   "id": "56da562d",
   "metadata": {},
   "outputs": [],
   "source": [
    "def synonyms(line):\n",
    "    line_words = line.split()\n",
    "    line_lyrics = \"\"\n",
    "    for line_word in line_words:\n",
    "        if line_word in synonyms_dic:\n",
    "            line_lyrics = line_lyrics + synonyms_dic[line_word] + ' '\n",
    "        else:\n",
    "            line_lyrics = line_lyrics + line_word + ' '\n",
    "    return line_lyrics"
   ]
  },
  {
   "cell_type": "code",
   "execution_count": 13,
   "id": "f99bf044",
   "metadata": {},
   "outputs": [],
   "source": [
    "def getTopTen(line):\n",
    "    words = jieba.analyse.extract_tags(line, 10)\n",
    "    return words"
   ]
  },
  {
   "cell_type": "code",
   "execution_count": 14,
   "id": "dce32fee",
   "metadata": {},
   "outputs": [],
   "source": [
    "doc = synonyms(test_lyric_seg)\n",
    "doc_top10 = getTopTen(doc)"
   ]
  },
  {
   "cell_type": "markdown",
   "id": "c84a42f3",
   "metadata": {},
   "source": [
    "## Load LDA models"
   ]
  },
  {
   "cell_type": "code",
   "execution_count": 15,
   "id": "2e8e22eb",
   "metadata": {},
   "outputs": [
    {
     "name": "stdout",
     "output_type": "stream",
     "text": [
      "data/lyrics_friendship.dict\n"
     ]
    }
   ],
   "source": [
    "print(\"data/lyrics_{}.dict\".format(category))"
   ]
  },
  {
   "cell_type": "code",
   "execution_count": 16,
   "id": "0d41ed23",
   "metadata": {},
   "outputs": [
    {
     "name": "stdout",
     "output_type": "stream",
     "text": [
      "Dictionary(6870 unique tokens: ['MyFriend', 'OneLife', '一些', '一天', '一起']...)\n",
      "Used files generated from first tutorial\n",
      "MmCorpus(209 documents, 6856 features, 11055 non-zero entries)\n"
     ]
    }
   ],
   "source": [
    "# 載入語料庫\n",
    "if (os.path.exists(\"data/lyrics_{}.dict\".format(category))):\n",
    "    dictionary = corpora.Dictionary.load(\"data/lyrics_{}.dict\".format(category)) # 建立Dictionary\n",
    "    print(dictionary)\n",
    "    corpus = corpora.MmCorpus(\"data/lyrics_{}.mm\".format(category)) # 將數據流的語料變為內容流的語料\n",
    "    print(\"Used files generated from first tutorial\")\n",
    "    print(corpus)\n",
    "else:\n",
    "    print(\"Please run first tutorial to generate data set\")"
   ]
  },
  {
   "cell_type": "code",
   "execution_count": 17,
   "id": "a27f8365",
   "metadata": {},
   "outputs": [],
   "source": [
    "tfidf = models.TfidfModel(corpus)\n",
    "# 轉為向量表示\n",
    "corpus_tfidf = tfidf[corpus]"
   ]
  },
  {
   "cell_type": "code",
   "execution_count": 18,
   "id": "d37939de",
   "metadata": {
    "scrolled": true
   },
   "outputs": [
    {
     "name": "stderr",
     "output_type": "stream",
     "text": [
      "WARNING:root:failed to load projection from model/lda_model_friendship.lda.projection: [Errno 2] No such file or directory: 'model/lda_model_friendship.lda.projection'\n"
     ]
    }
   ],
   "source": [
    "lda_model = models.LsiModel.load('model/lda_model_{}.lda'.format(category))\n",
    "vec_bow = dictionary.doc2bow(doc.split()) # 把doc語料庫轉為一個一個詞包\n",
    "vec_lsi = lda_model[vec_bow] # 用前面建好的 lsi 模型去計算這一篇歌詞 (input: 斷詞後的詞包、output: 20個主題成分)"
   ]
  },
  {
   "cell_type": "code",
   "execution_count": 19,
   "id": "b413c530",
   "metadata": {},
   "outputs": [
    {
     "name": "stderr",
     "output_type": "stream",
     "text": [
      "WARNING:gensim.similarities.docsim:scanning corpus to determine the number of features (consider setting `num_features` explicitly)\n"
     ]
    }
   ],
   "source": [
    "index = similarities.MatrixSimilarity(lda_model[corpus])  # 建立索引\n",
    "sims = index[vec_lsi] \n",
    "sims = sorted(enumerate(sims), key = lambda item: -item[1])"
   ]
  },
  {
   "cell_type": "code",
   "execution_count": 21,
   "id": "f00e9829",
   "metadata": {},
   "outputs": [
    {
     "name": "stdout",
     "output_type": "stream",
     "text": [
      "\n",
      "相似歌詞:   乾杯\n",
      "TF-IDF top 10:  ['時間', '一天', '許會', '終點', '舉起', '回憶釀', '不會', '悠悠的', '真的', '一杯']\n",
      "會不會 有一天 時間真的能倒退退回 你的我的 回不去的 悠悠的歲月也許會 有一天 世界真的有終點也要和你舉起回憶釀的甜 和你再乾一杯如果說 要我選出 代表青春 那個畫面浮現了 那滴眼淚 那片藍天 那年畢業那一張 邊哭邊笑 還要擁抱 是你的臉想起來 可愛可憐 可歌可泣 可是多懷念懷念總是 突然懷念 不談條件當回憶 衝破考卷 衝出歲月 在我眼前我和你 留著汗水 喝著汽水 在操場邊說好了 無論如何 一起走到 未來的世界現在就是 那個未來 那個世界為什麼 你的身邊 我的身邊 不是同一邊友情曾像 諾亞方舟 堅強誓言只是我 望著海面 等著永遠 模糊了視線會不會 有一天 時間真的能倒退退回 你的我的 回不去的 悠悠的歲月也許會 有一天 世界真的有終點也要和你舉起回憶釀的甜 和你再乾一杯這些年 買了四輪 買了手錶 買了單眼卻發現 追不到的 停不了的 還是那些人生是 只有認命 只能宿命 只好宿醉只剩下 高的笑點 低的哭點 卻沒成熟點成熟就是 幻想幻滅 一場磨鍊為什麼 只有夢想 越磨越小 小到不見有時候 好想流淚 好想流淚 卻沒眼淚期待會 你會不會 他會不會 開個同學會  他在等你 你在等我 我在等誰又是誰 孩子沒睡 電話沒電 心情沒準備天空不斷 黑了又亮 亮了又黑那光陰 滄海桑田 遠走高飛 再沒力氣追會不會 有一天 時間真的能倒退退回 你的我的 回不去的 悠悠的歲月也許會 有一天 世界真的有終點也要和你舉起回憶釀的甜 和你再乾一杯會不會 有一天 時間真的能倒退退回 你的我的 回不去的 悠悠的歲月也許會 有一天 世界真的有終點也要和你舉起回憶釀的甜 和你再乾一杯終究會 有一天 我們都變成昨天是你 陪我走過 一生一回 匆匆的人間有一天 就是今天 今天就是有一天說出一直沒說 對你的感謝 和你再乾一杯再乾一杯永遠 喝了就能萬歲 歲歲和年年 時間都停了 他們都回來了懷念的人阿 等你的來到\n",
      "相似度： 0.98501146\n",
      "\n",
      "相似歌詞:   最好的朋友在身邊\n",
      "TF-IDF top 10:  ['一起', '一天天', '永在', '鬧久別', '回憶', '浮現', '一點點', '身邊', '永遠', '時光轉']\n",
      "一起笑一起哭一起鬧久別的回憶又浮現一點點一天天一年年最好的朋友在身邊一起走一起跑一起跳相聚到永遠有多好一瞬間時光轉少年老風吹葉落枝條 不眷戀  也許 多年後 我們已天各一邊難再見  莫傷感這一刻  須盡歡一起笑一起哭一起鬧最美的青春不忘掉一天天一年年一輩子最好的朋友永在心間我看見這世界 一直變妳溫暖的笑顏總是燦爛如初見幸運如我  有妳相伴舉杯飲 悲歡聚散情誼存心間\n",
      "相似度： 0.98397124\n",
      "\n",
      "相似歌詞:   放肆\n",
      "TF-IDF top 10:  ['放肆', '夢想', '永遠', '一個', '只會', '再不去', '大鬧', '一場', '原諒', '還是']\n",
      "就放肆愛放肆追 放肆去闖 放肆是我的信仰再不去闖 夢想永遠只會 是一個夢想想太多又想太重的夢想 還不如乾脆不多想每一個險惡的浪 都會有浪花綻放 我決定邊衝邊欣賞牛頓要我們都活在地上 偏偏我就想要飛翔要掙脫命運綑綁 要推翻柏林圍牆 要站上巨人的肩膀夢想永遠是逆向 一路都有人阻擋人們說的荒唐卻是我的心中的天堂就放肆愛放肆追 放肆去闖 放肆的大鬧一場不能原諒 如果很多年後 我還是這樣就放肆愛放肆追 放肆去闖 放肆是我的信仰再不去闖 夢想永遠只會 是一個夢想哥倫布只要有一顆星光 就膽敢橫越大西洋  我還有一把吉他 我還有一群死黨 為什麼還不大聲唱達爾文假設生命是戰場 就讓我基因不投降把傷痕裝滿手掌 把鼓聲裝滿心臟 把歌聲裝滿肺活量夢想永遠是逆光 只有剪影的模樣會有什麼細節 什麼體驗 不要只猜想就放肆愛放肆追 放肆去闖 放肆的大鬧一場不能原諒 如果很多年後 我還是這樣就放肆愛放肆追 放肆去闖 放肆是我的信仰再不去闖 夢想永遠只會 是一個夢想就放肆愛放肆追 放肆去闖 放肆的大鬧一場不能原諒 如果很多年後 我還是這樣就放肆愛放肆追 放肆去闖 放肆是我的信仰再不去闖 夢想永遠只會 是一個夢想是一個夢想\n",
      "相似度： 0.92244804\n",
      "\n",
      "相似歌詞:   加油！\n",
      "TF-IDF top 10:  ['我們', '加油', '陽光', '美好', '發現', '愛的', '剛升職', '擁抱', '什麼', '輕易']\n",
      "最近你好嗎少了一點微笑說的話有點少最近我也不好全世界都在逆轉人開始反向思考發現你愛的人到處跑昨晚剛升職 今天被炒莫名其妙 誰會知道是不是上天開的玩笑地震時 你想和誰擁抱什麼是生命中的美好輕易放掉 卻不知道幸福就在下一個轉角說一聲加油 一切更美好所有的悲傷 請往邊靠曾經流過的淚濕了傷口就讓陽光曬乾而褪這一種加油 人人都需要手牽手我們一起賽跑說好不見不散每分每秒守候你到老 The beat goes on 時間它一直走  就像是Life goes on 這過程或許痛不管順流或逆流 你總得抬起頭讓我們一起走 走過艱難和困惑發現你愛的人到處跑昨晚剛升職 今天被炒莫名其妙 誰會知道是不是上天開的玩笑地震時 你想和誰擁抱什麼是生命中的美好輕易放掉 卻不知道幸福就在下一個轉角說一聲加油 一切更美好所有的悲傷 請往邊靠曾經流過的淚濕了傷口就讓陽光曬乾而褪這一種加油 人人都需要手牽手我們一起賽跑說好不見不散每分每秒守候你到老 關關是難關 但我們關關過雨後天晴的陽光在天空閃閃爍出現了彩虹 忽然間我們才懂如果這是一場馬拉松 那我們一起加油\n",
      "相似度： 0.91680175\n",
      "\n",
      "相似歌詞:   野蠻遊戲\n",
      "TF-IDF top 10:  ['分不清楚', '傻傻', '野蠻', '遊戲', '離勝利', '已經', '老虎', '老鼠', '滿臉', '失敗']\n",
      "老虎　老鼠　傻傻分不清楚　滿臉　泥土　失敗的被俘虜　小賭　豪賭　想愛就別怕苦　看不　清楚　遲早粉身碎骨不知不覺其實妳已上線感情的世界　戰火連天如果不想每一天以淚洗面提高警覺快張大妳的雙眼偽善的臉妳要能懂得分辨越是危險　顏色越是鮮豔寬大的肩　可能會崩潰放電的眼　常常會漏電 野蠻遊戲　LOVE　沒人被赦免　野蠻遊戲　NO　不同情可憐　野蠻遊戲　YOU　快勇往直前　受傷在所難免　都值得紀念 等到妳遇見完美的人選　離勝利那天已經不遠 敵人不會　乖乖等著屈服  太輕易認輸很難得到幸福有人微笑　就有人會哭義無反顧是妳唯一戰術不要害怕路上有人會攔阻老天故意要讓妳覺得辛苦永遠記得　要自我保護不要害怕　暫時的孤獨 離勝利那天已經不遠 老虎　老鼠　傻傻分不清楚滿臉　泥土　失敗的被俘虜 離勝利那天已經很遠 老虎　老鼠　傻傻分不清楚老虎　老鼠　傻傻分不清楚\n",
      "相似度： 0.90511274\n"
     ]
    }
   ],
   "source": [
    "names, lyrics, top10 = [], [], []\n",
    "for n, line, ten in zip(list(df_select['Name']), list(df_select['Lyric']), list(df_select['top_10'])):\n",
    "    names.append(n)\n",
    "    lyrics.append(line)\n",
    "    top10.append(ten)\n",
    "\n",
    "for lyric in sims[:5]:\n",
    "    print(\"\\n相似歌詞: \",  names[lyric[0]])\n",
    "    print(\"TF-IDF top 10: \", top10[lyric[0]])\n",
    "    print(lyrics[lyric[0]])\n",
    "    print(\"相似度：\",  lyric[1])"
   ]
  },
  {
   "cell_type": "code",
   "execution_count": null,
   "id": "1819e5dc",
   "metadata": {},
   "outputs": [],
   "source": []
  },
  {
   "cell_type": "code",
   "execution_count": null,
   "id": "c3fadb84",
   "metadata": {},
   "outputs": [],
   "source": []
  },
  {
   "cell_type": "code",
   "execution_count": null,
   "id": "4f14c104",
   "metadata": {},
   "outputs": [],
   "source": []
  }
 ],
 "metadata": {
  "kernelspec": {
   "display_name": "Python 3 (ipykernel)",
   "language": "python",
   "name": "python3"
  },
  "language_info": {
   "codemirror_mode": {
    "name": "ipython",
    "version": 3
   },
   "file_extension": ".py",
   "mimetype": "text/x-python",
   "name": "python",
   "nbconvert_exporter": "python",
   "pygments_lexer": "ipython3",
   "version": "3.7.11"
  }
 },
 "nbformat": 4,
 "nbformat_minor": 5
}
