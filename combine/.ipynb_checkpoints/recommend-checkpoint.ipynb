{
 "cells": [
  {
   "cell_type": "code",
   "execution_count": 1,
   "id": "cd9a9edf",
   "metadata": {},
   "outputs": [],
   "source": [
    "from sklearn.datasets import load_files\n",
    "from sklearn.feature_extraction.text import TfidfVectorizer\n",
    "from sklearn.linear_model import LogisticRegression\n",
    "import os\n",
    "from gensim import corpora, models, similarities\n",
    "import joblib\n",
    "import pickle\n",
    "import numpy as np\n",
    "import jieba.analyse\n",
    "import jieba\n",
    "import codecs\n",
    "import pandas as pd\n",
    "import re"
   ]
  },
  {
   "cell_type": "markdown",
   "id": "91f67ce0",
   "metadata": {},
   "source": [
    "# Load lyrics data"
   ]
  },
  {
   "cell_type": "code",
   "execution_count": 2,
   "id": "109d479a",
   "metadata": {},
   "outputs": [
    {
     "data": {
      "text/html": [
       "<div>\n",
       "<style scoped>\n",
       "    .dataframe tbody tr th:only-of-type {\n",
       "        vertical-align: middle;\n",
       "    }\n",
       "\n",
       "    .dataframe tbody tr th {\n",
       "        vertical-align: top;\n",
       "    }\n",
       "\n",
       "    .dataframe thead th {\n",
       "        text-align: right;\n",
       "    }\n",
       "</style>\n",
       "<table border=\"1\" class=\"dataframe\">\n",
       "  <thead>\n",
       "    <tr style=\"text-align: right;\">\n",
       "      <th></th>\n",
       "      <th>Singer</th>\n",
       "      <th>Name</th>\n",
       "      <th>Lyric</th>\n",
       "      <th>Category</th>\n",
       "      <th>seg_text</th>\n",
       "      <th>remove_synonym</th>\n",
       "      <th>top_10</th>\n",
       "    </tr>\n",
       "  </thead>\n",
       "  <tbody>\n",
       "    <tr>\n",
       "      <th>0</th>\n",
       "      <td>A-Lin</td>\n",
       "      <td>One Life</td>\n",
       "      <td>白雲撞進藍天 激起昨天畫面我想起你的臉好久不見 在遠方的My Friend不論晴天雨天 也會...</td>\n",
       "      <td>友情</td>\n",
       "      <td>白雲撞, 進藍天, 激起, 昨天, 畫面, 想起, 臉, 好久, 不見, 遠方, MyFri...</td>\n",
       "      <td>白雲撞 進藍天 激起 昨天 畫面 想起 臉 好久 不見 遠處 MyFriend 晴天 雨天 ...</td>\n",
       "      <td>['Life', '我們', '一天', '期待', '哪邊', '邊要', '出現', '...</td>\n",
       "    </tr>\n",
       "    <tr>\n",
       "      <th>1</th>\n",
       "      <td>A-Lin</td>\n",
       "      <td>最好的朋友在身邊</td>\n",
       "      <td>一起笑一起哭一起鬧久別的回憶又浮現一點點一天天一年年最好的朋友在身邊一起走一起跑一起跳相聚到...</td>\n",
       "      <td>友情</td>\n",
       "      <td>一起, 笑, 一起, 哭, 一起, 鬧久別, 回憶, 浮現, 一點點, 一天天, 一年, 年...</td>\n",
       "      <td>一起 笑 一起 哭 一起 鬧久別 回憶 浮現 一些 一天天 一年 年 最好 朋友 身邊 一起...</td>\n",
       "      <td>['一起', '一天天', '永在', '鬧久別', '回憶', '浮現', '一點點', ...</td>\n",
       "    </tr>\n",
       "    <tr>\n",
       "      <th>2</th>\n",
       "      <td>A-Lin</td>\n",
       "      <td>愛的可能</td>\n",
       "      <td>你出現我身邊 像個奇蹟發生沒想到會是你 讓我如此失魂我心中的感覺是這樣陌生快樂的牽掛在相聚的...</td>\n",
       "      <td>友情</td>\n",
       "      <td>出現, 身邊, 蹟, 發生, 想到, 失魂, 心中, 感覺, 陌生, 快樂, 牽掛, 相聚,...</td>\n",
       "      <td>出現 身邊 蹟 發生 想 失魂 心中 感覺 陌生 快樂 牽掛 相見 每一分 曾以 見過 所有...</td>\n",
       "      <td>['我會', '不會', '記得', '孤單', '時候', '因為', '還有', '我的...</td>\n",
       "    </tr>\n",
       "    <tr>\n",
       "      <th>3</th>\n",
       "      <td>A-Lin</td>\n",
       "      <td>太太太耐斯</td>\n",
       "      <td>孩子還沒睡 拜託別鬧手遊聲太吵 狗狗在叫碗盤在洗碗槽 主婦的煩惱惱公不瞭 他先洗澡奶瓶把香水...</td>\n",
       "      <td>反抗反駁反諷</td>\n",
       "      <td>孩子, 還沒, 睡, 拜, 託, 別鬧, 手遊聲, 太吵, 狗狗, 碗, 盤, 洗碗, 槽,...</td>\n",
       "      <td>孩子 還沒 睡 拜 託 別鬧 手遊聲 太吵 狗狗 碗 盤 洗碗 槽 主婦 煩惱 惱公 瞭 先...</td>\n",
       "      <td>['太太', '耐斯', '什麼', '超過', '太過', '發脾氣', '心軟', '忘...</td>\n",
       "    </tr>\n",
       "    <tr>\n",
       "      <th>4</th>\n",
       "      <td>A-Lin</td>\n",
       "      <td>抱歉 我不抱歉</td>\n",
       "      <td>恨 什麼叫恨 這個單字 好陌生我只記得 一路走來 愛的人就算他們 多可恨等 雖然溫柔 還打不...</td>\n",
       "      <td>反抗反駁反諷</td>\n",
       "      <td>恨, 恨, 單字, 好, 陌生, 只, 記得, 一路, 走來, 愛的, 人, 可恨, 溫柔,...</td>\n",
       "      <td>恨 恨 單字 好 陌生 只 記得 一路 走過來 愛的 人 可恨 溫柔 還打 不開 一些 門雖...</td>\n",
       "      <td>['抱歉', '他們', '每枝', '什麼', '我們', '每個', '每張', '太真...</td>\n",
       "    </tr>\n",
       "    <tr>\n",
       "      <th>...</th>\n",
       "      <td>...</td>\n",
       "      <td>...</td>\n",
       "      <td>...</td>\n",
       "      <td>...</td>\n",
       "      <td>...</td>\n",
       "      <td>...</td>\n",
       "      <td>...</td>\n",
       "    </tr>\n",
       "    <tr>\n",
       "      <th>2201</th>\n",
       "      <td>陳奕迅</td>\n",
       "      <td>黑暗中漫舞</td>\n",
       "      <td>為何未能學會起舞便已抱緊你誰料到資質不配合你左腳舉起了便要別離為何未能讓我衰老便要放開你陪你...</td>\n",
       "      <td>離別</td>\n",
       "      <td>未能, 學會, 起舞, 已, 抱, 緊, 料到, 資質, 配合, 左腳, 舉起, 別離, 未...</td>\n",
       "      <td>未能 學 起舞 已經 抱 緊 料到 資質 配合 左腳 舉起 別離 未能 衰老 放開 陪伴 跳...</td>\n",
       "      <td>['為何', '未能', '左腳', '美不美', '捱到', '學會', '資質', '舉...</td>\n",
       "    </tr>\n",
       "    <tr>\n",
       "      <th>2202</th>\n",
       "      <td>陳奕迅</td>\n",
       "      <td>傷信</td>\n",
       "      <td>重讀著你的告別信　抑壓了暗湧雖不信寫的話　竟可以這麼重但再哭亦無用 徐徐又當這信是你　緊貼我...</td>\n",
       "      <td>離別</td>\n",
       "      <td>重讀, 告別, 信, 抑壓, 暗湧, 雖不信, 寫, 話, 重, 再, 哭, 亦, 無用, ...</td>\n",
       "      <td>重讀 告別 信 抑壓 暗湧 雖不信 寫 話 重 再 哭 亦 無用 徐徐 又當 這信 緊貼 抱...</td>\n",
       "      <td>['抑壓', '怎麼', '重讀', '告別', '暗湧', '雖不信', '這麼', '無...</td>\n",
       "    </tr>\n",
       "    <tr>\n",
       "      <th>2203</th>\n",
       "      <td>陳奕迅</td>\n",
       "      <td>歲月如歌</td>\n",
       "      <td>愛上了　看見你　如何不懂謙卑去講心中理想　不會俗氣猶如看得見晨曦　才能歡天喜地抱著你　我每次...</td>\n",
       "      <td>離別</td>\n",
       "      <td>愛上, 懂謙卑, 去講, 心中, 理想, 俗氣, 猶如, 晨曦, 歡天, 喜地, 抱, 每次...</td>\n",
       "      <td>愛上 懂謙卑 去講 心中 夢想 俗氣 猶如 晨曦 歡天 喜地 抱 每次 回來 驚喜 也許 一...</td>\n",
       "      <td>['也許', '愛上', '看見', '懂謙卑', '去講', '不會', '俗氣', '猶...</td>\n",
       "    </tr>\n",
       "    <tr>\n",
       "      <th>2204</th>\n",
       "      <td>陳奕迅</td>\n",
       "      <td>遇見了你(國)</td>\n",
       "      <td>遇見了你　讓生命美好我看見繁華的春天愛情如陽光閃耀我給你我的愛離開了我　你默默低頭我看見往事...</td>\n",
       "      <td>離別</td>\n",
       "      <td>遇見, 生命, 美好, 看見, 繁華, 春天, 愛情, 如陽光, 閃耀, 我給, 愛離開, ...</td>\n",
       "      <td>遇到 生命 美好 看見 繁華 春天 愛情 如陽光 閃耀 我給 愛離開 靜靜 低頭 往事 如雲...</td>\n",
       "      <td>['離開', '我給', '帶著', '愛帶', '飛到', '邊到', '一個', '傷終...</td>\n",
       "    </tr>\n",
       "    <tr>\n",
       "      <th>2205</th>\n",
       "      <td>陳奕迅</td>\n",
       "      <td>遙遠的她</td>\n",
       "      <td>讓晚風輕輕吹送了落霞我已習慣每個傍晚去想她在遠方的她此刻可知道這段情在我心始終記掛在這半山那...</td>\n",
       "      <td>離別</td>\n",
       "      <td>晚風, 輕輕, 吹送, 落霞, 已, 習慣, 每個, 傍晚, 想, 遠方, 此刻, 知道, ...</td>\n",
       "      <td>晚風 輕輕 吹送 落霞 已經 習慣 每個 傍晚 想 遠處 此刻 知道 這段 情 我心 始終 ...</td>\n",
       "      <td>['熱情', '那管', '滄桑', '變化', '始終', '相約', '縱使', '相愛...</td>\n",
       "    </tr>\n",
       "  </tbody>\n",
       "</table>\n",
       "<p>2206 rows × 7 columns</p>\n",
       "</div>"
      ],
      "text/plain": [
       "     Singer       Name                                              Lyric  \\\n",
       "0     A-Lin   One Life  白雲撞進藍天 激起昨天畫面我想起你的臉好久不見 在遠方的My Friend不論晴天雨天 也會...   \n",
       "1     A-Lin   最好的朋友在身邊  一起笑一起哭一起鬧久別的回憶又浮現一點點一天天一年年最好的朋友在身邊一起走一起跑一起跳相聚到...   \n",
       "2     A-Lin       愛的可能  你出現我身邊 像個奇蹟發生沒想到會是你 讓我如此失魂我心中的感覺是這樣陌生快樂的牽掛在相聚的...   \n",
       "3     A-Lin      太太太耐斯  孩子還沒睡 拜託別鬧手遊聲太吵 狗狗在叫碗盤在洗碗槽 主婦的煩惱惱公不瞭 他先洗澡奶瓶把香水...   \n",
       "4     A-Lin    抱歉 我不抱歉  恨 什麼叫恨 這個單字 好陌生我只記得 一路走來 愛的人就算他們 多可恨等 雖然溫柔 還打不...   \n",
       "...     ...        ...                                                ...   \n",
       "2201    陳奕迅      黑暗中漫舞  為何未能學會起舞便已抱緊你誰料到資質不配合你左腳舉起了便要別離為何未能讓我衰老便要放開你陪你...   \n",
       "2202    陳奕迅         傷信  重讀著你的告別信　抑壓了暗湧雖不信寫的話　竟可以這麼重但再哭亦無用 徐徐又當這信是你　緊貼我...   \n",
       "2203    陳奕迅       歲月如歌  愛上了　看見你　如何不懂謙卑去講心中理想　不會俗氣猶如看得見晨曦　才能歡天喜地抱著你　我每次...   \n",
       "2204    陳奕迅    遇見了你(國)  遇見了你　讓生命美好我看見繁華的春天愛情如陽光閃耀我給你我的愛離開了我　你默默低頭我看見往事...   \n",
       "2205    陳奕迅       遙遠的她  讓晚風輕輕吹送了落霞我已習慣每個傍晚去想她在遠方的她此刻可知道這段情在我心始終記掛在這半山那...   \n",
       "\n",
       "     Category                                           seg_text  \\\n",
       "0          友情  白雲撞, 進藍天, 激起, 昨天, 畫面, 想起, 臉, 好久, 不見, 遠方, MyFri...   \n",
       "1          友情  一起, 笑, 一起, 哭, 一起, 鬧久別, 回憶, 浮現, 一點點, 一天天, 一年, 年...   \n",
       "2          友情  出現, 身邊, 蹟, 發生, 想到, 失魂, 心中, 感覺, 陌生, 快樂, 牽掛, 相聚,...   \n",
       "3      反抗反駁反諷  孩子, 還沒, 睡, 拜, 託, 別鬧, 手遊聲, 太吵, 狗狗, 碗, 盤, 洗碗, 槽,...   \n",
       "4      反抗反駁反諷  恨, 恨, 單字, 好, 陌生, 只, 記得, 一路, 走來, 愛的, 人, 可恨, 溫柔,...   \n",
       "...       ...                                                ...   \n",
       "2201       離別  未能, 學會, 起舞, 已, 抱, 緊, 料到, 資質, 配合, 左腳, 舉起, 別離, 未...   \n",
       "2202       離別  重讀, 告別, 信, 抑壓, 暗湧, 雖不信, 寫, 話, 重, 再, 哭, 亦, 無用, ...   \n",
       "2203       離別  愛上, 懂謙卑, 去講, 心中, 理想, 俗氣, 猶如, 晨曦, 歡天, 喜地, 抱, 每次...   \n",
       "2204       離別  遇見, 生命, 美好, 看見, 繁華, 春天, 愛情, 如陽光, 閃耀, 我給, 愛離開, ...   \n",
       "2205       離別  晚風, 輕輕, 吹送, 落霞, 已, 習慣, 每個, 傍晚, 想, 遠方, 此刻, 知道, ...   \n",
       "\n",
       "                                         remove_synonym  \\\n",
       "0     白雲撞 進藍天 激起 昨天 畫面 想起 臉 好久 不見 遠處 MyFriend 晴天 雨天 ...   \n",
       "1     一起 笑 一起 哭 一起 鬧久別 回憶 浮現 一些 一天天 一年 年 最好 朋友 身邊 一起...   \n",
       "2     出現 身邊 蹟 發生 想 失魂 心中 感覺 陌生 快樂 牽掛 相見 每一分 曾以 見過 所有...   \n",
       "3     孩子 還沒 睡 拜 託 別鬧 手遊聲 太吵 狗狗 碗 盤 洗碗 槽 主婦 煩惱 惱公 瞭 先...   \n",
       "4     恨 恨 單字 好 陌生 只 記得 一路 走過來 愛的 人 可恨 溫柔 還打 不開 一些 門雖...   \n",
       "...                                                 ...   \n",
       "2201  未能 學 起舞 已經 抱 緊 料到 資質 配合 左腳 舉起 別離 未能 衰老 放開 陪伴 跳...   \n",
       "2202  重讀 告別 信 抑壓 暗湧 雖不信 寫 話 重 再 哭 亦 無用 徐徐 又當 這信 緊貼 抱...   \n",
       "2203  愛上 懂謙卑 去講 心中 夢想 俗氣 猶如 晨曦 歡天 喜地 抱 每次 回來 驚喜 也許 一...   \n",
       "2204  遇到 生命 美好 看見 繁華 春天 愛情 如陽光 閃耀 我給 愛離開 靜靜 低頭 往事 如雲...   \n",
       "2205  晚風 輕輕 吹送 落霞 已經 習慣 每個 傍晚 想 遠處 此刻 知道 這段 情 我心 始終 ...   \n",
       "\n",
       "                                                 top_10  \n",
       "0     ['Life', '我們', '一天', '期待', '哪邊', '邊要', '出現', '...  \n",
       "1     ['一起', '一天天', '永在', '鬧久別', '回憶', '浮現', '一點點', ...  \n",
       "2     ['我會', '不會', '記得', '孤單', '時候', '因為', '還有', '我的...  \n",
       "3     ['太太', '耐斯', '什麼', '超過', '太過', '發脾氣', '心軟', '忘...  \n",
       "4     ['抱歉', '他們', '每枝', '什麼', '我們', '每個', '每張', '太真...  \n",
       "...                                                 ...  \n",
       "2201  ['為何', '未能', '左腳', '美不美', '捱到', '學會', '資質', '舉...  \n",
       "2202  ['抑壓', '怎麼', '重讀', '告別', '暗湧', '雖不信', '這麼', '無...  \n",
       "2203  ['也許', '愛上', '看見', '懂謙卑', '去講', '不會', '俗氣', '猶...  \n",
       "2204  ['離開', '我給', '帶著', '愛帶', '飛到', '邊到', '一個', '傷終...  \n",
       "2205  ['熱情', '那管', '滄桑', '變化', '始終', '相約', '縱使', '相愛...  \n",
       "\n",
       "[2206 rows x 7 columns]"
      ]
     },
     "execution_count": 2,
     "metadata": {},
     "output_type": "execute_result"
    }
   ],
   "source": [
    "df = pd.read_csv ('./data/lyric_df.csv')\n",
    "df"
   ]
  },
  {
   "cell_type": "markdown",
   "id": "e326f539",
   "metadata": {},
   "source": [
    "# Import testing lyric and preprocess"
   ]
  },
  {
   "cell_type": "code",
   "execution_count": 3,
   "id": "926aff35",
   "metadata": {},
   "outputs": [],
   "source": [
    "def remove_punctuation(line):\n",
    "    stopwords = [line.strip() for line in open('./data/stopwords.txt', 'r', encoding='utf-8').readlines()]\n",
    "    line = str(line)\n",
    "    if line.strip() == '':\n",
    "        return ''\n",
    "    re_han = re.compile(u\"[^a-zA-Z0-9\\u4E00-\\u9FA5]\")\n",
    "    line = re_han.sub('', line)\n",
    "    cut = [w for w in list(jieba.cut(line)) if w not in stopwords]\n",
    "    res = \" \".join(cut)\n",
    "    return res"
   ]
  },
  {
   "cell_type": "code",
   "execution_count": 4,
   "id": "f0700010",
   "metadata": {},
   "outputs": [
    {
     "name": "stderr",
     "output_type": "stream",
     "text": [
      "Building prefix dict from the default dictionary ...\n",
      "Loading model from cache /tmp/jieba.cache\n",
      "Loading model cost 1.017 seconds.\n",
      "Prefix dict has been built successfully.\n"
     ]
    }
   ],
   "source": [
    "test_lyric = \"過完整個夏天　憂傷並沒有好一些 開車行駛在公路無際無邊 有離開自己的感覺 唱不完一首歌　疲倦還剩下黑眼圈 感情的世界傷害在所難免 黃昏再美終要黑夜 依然記得從你口中說出再見堅決如鐵 昏暗中有種烈日灼身的錯覺 黃昏的地平線　劃出一句離別 愛情進入永夜 依然記得從你眼中滑落的淚傷心欲絕 混亂中有種熱淚燒傷的錯覺 黃昏的地平線　割斷幸福喜悅 相愛已經幻滅\"\n",
    "test_lyric_seg = remove_punctuation(test_lyric)"
   ]
  },
  {
   "cell_type": "markdown",
   "id": "e60121f7",
   "metadata": {},
   "source": [
    "# Get categories"
   ]
  },
  {
   "cell_type": "markdown",
   "id": "7709a672",
   "metadata": {},
   "source": [
    "## Load TfidfVectorizer and transform lyric to vector"
   ]
  },
  {
   "cell_type": "code",
   "execution_count": 5,
   "id": "5e36f5a6",
   "metadata": {},
   "outputs": [],
   "source": [
    "with open('./model/vectorizer.pickle', 'rb') as f:\n",
    "    vectorizer = pickle.load(f)"
   ]
  },
  {
   "cell_type": "code",
   "execution_count": 6,
   "id": "631c031d",
   "metadata": {},
   "outputs": [],
   "source": [
    "tmp = []\n",
    "tmp.append(test_lyric_seg)\n",
    "test_lyric_vec = vectorizer.transform(tmp)"
   ]
  },
  {
   "cell_type": "markdown",
   "id": "15841e95",
   "metadata": {},
   "source": [
    "## Load Logistic Regression Model"
   ]
  },
  {
   "cell_type": "code",
   "execution_count": 7,
   "id": "a7b88be5",
   "metadata": {},
   "outputs": [],
   "source": [
    "LR_model = joblib.load('./model/LR_model')"
   ]
  },
  {
   "cell_type": "markdown",
   "id": "f1d9ded7",
   "metadata": {},
   "source": [
    "## Predict category"
   ]
  },
  {
   "cell_type": "code",
   "execution_count": 8,
   "id": "9a38d23c",
   "metadata": {},
   "outputs": [
    {
     "data": {
      "text/plain": [
       "'愛情'"
      ]
     },
     "execution_count": 8,
     "metadata": {},
     "output_type": "execute_result"
    }
   ],
   "source": [
    "predictions = LR_model.predict(test_lyric_vec)\n",
    "predictions = predictions[0]\n",
    "predictions"
   ]
  },
  {
   "cell_type": "markdown",
   "id": "974129b5",
   "metadata": {},
   "source": [
    "# Find similar lyric"
   ]
  },
  {
   "cell_type": "code",
   "execution_count": 9,
   "id": "d53b621d",
   "metadata": {},
   "outputs": [],
   "source": [
    "if predictions == '愛情':\n",
    "    category = 'love'\n",
    "elif predictions == '勵志友情':\n",
    "    category = 'friendship'\n",
    "elif predictions == '悲傷離別':\n",
    "    category = 'sad'\n",
    "else:\n",
    "    category = 'fight'"
   ]
  },
  {
   "cell_type": "code",
   "execution_count": 10,
   "id": "e45fb8d4",
   "metadata": {},
   "outputs": [
    {
     "data": {
      "text/html": [
       "<div>\n",
       "<style scoped>\n",
       "    .dataframe tbody tr th:only-of-type {\n",
       "        vertical-align: middle;\n",
       "    }\n",
       "\n",
       "    .dataframe tbody tr th {\n",
       "        vertical-align: top;\n",
       "    }\n",
       "\n",
       "    .dataframe thead th {\n",
       "        text-align: right;\n",
       "    }\n",
       "</style>\n",
       "<table border=\"1\" class=\"dataframe\">\n",
       "  <thead>\n",
       "    <tr style=\"text-align: right;\">\n",
       "      <th></th>\n",
       "      <th>Singer</th>\n",
       "      <th>Name</th>\n",
       "      <th>Lyric</th>\n",
       "      <th>Category</th>\n",
       "      <th>seg_text</th>\n",
       "      <th>remove_synonym</th>\n",
       "      <th>top_10</th>\n",
       "    </tr>\n",
       "  </thead>\n",
       "  <tbody>\n",
       "    <tr>\n",
       "      <th>0</th>\n",
       "      <td>A-Lin</td>\n",
       "      <td>920</td>\n",
       "      <td>I Don't Know Why I Wanna Cry也許有這份愛在我心中竄動 Turni...</td>\n",
       "      <td>愛情</td>\n",
       "      <td>IDontKnowWhyIWannaCry, 許有, 這份, 愛, 在我心中, 竄動, Tu...</td>\n",
       "      <td>IDontKnowWhyIWannaCry 許有 這份 愛情 在我心中 竄動 Turning...</td>\n",
       "      <td>['Turning', 'Running', '在我心中', 'Know', '時候', '...</td>\n",
       "    </tr>\n",
       "    <tr>\n",
       "      <th>1</th>\n",
       "      <td>A-Lin</td>\n",
       "      <td>#愛</td>\n",
       "      <td>愛就是動詞 心動的進行式咚吱咚吱 掉個不停愛是疑問句 到底你是不是你是驚喜 或空歡喜那麼可以...</td>\n",
       "      <td>愛情</td>\n",
       "      <td>愛, 動詞, 心動, 進行式, 掉, 不停, 愛是, 疑, 問句, 是不是, 驚喜, 空歡,...</td>\n",
       "      <td>愛情 動詞 心動 進行式 掉 不停 愛是 疑 問句 是不是 驚喜 空歡 喜 想 加無論 哪字...</td>\n",
       "      <td>['百百種', '關鍵', '號是', '愛是', '愛情', '畫重點', '重點', '...</td>\n",
       "    </tr>\n",
       "    <tr>\n",
       "      <th>2</th>\n",
       "      <td>A-Lin</td>\n",
       "      <td>All In</td>\n",
       "      <td>沒有風 沒有夢 船無法遠行我只能 在霧裡 找翻雲覆雨愛上你 像困在孤島裡不愛你 我卻不如死去...</td>\n",
       "      <td>愛情</td>\n",
       "      <td>風, 夢, 船無法, 遠行, 只能, 霧裡, 找, 翻雲覆雨, 愛上, 困, 孤島裡, 愛,...</td>\n",
       "      <td>風 夢 船無法 遠行 只能 霧裡 找 翻雲覆雨 愛上 困 孤島裡 愛情 卻 死去 夢裡 焚燒...</td>\n",
       "      <td>['Baby', '清醒', '沒有', '夢境', '決定', '何必', '末班', '...</td>\n",
       "    </tr>\n",
       "    <tr>\n",
       "      <th>3</th>\n",
       "      <td>A-Lin</td>\n",
       "      <td>Don't Break My Heart</td>\n",
       "      <td>也許是我不懂的事太多也許是我的錯也許一切已是慢慢的錯過也許不必再說 從未想過你我會這樣結束心...</td>\n",
       "      <td>愛情</td>\n",
       "      <td>許是, 懂, 事太多, 許是, 錯, 也許, 已, 慢慢, 錯過, 也許, 再, 說, 未,...</td>\n",
       "      <td>許是 懂 事太多 許是 錯 也許 已經 慢慢 錯過 也許 再 說 未 想過 我會 結束 心中...</td>\n",
       "      <td>['總是', '許是', '也許', 'Don', 'break', 'my', 'hear...</td>\n",
       "    </tr>\n",
       "    <tr>\n",
       "      <th>4</th>\n",
       "      <td>A-Lin</td>\n",
       "      <td>Love will live forever</td>\n",
       "      <td>我們之間沒有距離連想法都這麼貼近心跳快蓋住了呼吸是你讓我毫不猶豫就算會有冰天雪地也要一起留下...</td>\n",
       "      <td>愛情</td>\n",
       "      <td>之間, 距, 離連, 想法, 貼, 心跳, 快蓋, 住, 呼吸, 猶豫, 冰天雪地, 一起,...</td>\n",
       "      <td>之間 距 離連 想法 貼 心跳 快蓋 住 呼吸 猶豫不決 冰天雪地 一起 留下 腳印 胸前 ...</td>\n",
       "      <td>['這裡', '你給', '勇氣', '領著', '飛行', 'MY', 'LOVE', '...</td>\n",
       "    </tr>\n",
       "    <tr>\n",
       "      <th>...</th>\n",
       "      <td>...</td>\n",
       "      <td>...</td>\n",
       "      <td>...</td>\n",
       "      <td>...</td>\n",
       "      <td>...</td>\n",
       "      <td>...</td>\n",
       "      <td>...</td>\n",
       "    </tr>\n",
       "    <tr>\n",
       "      <th>869</th>\n",
       "      <td>陳奕迅</td>\n",
       "      <td>親近</td>\n",
       "      <td>自有你於身邊從此修心也定性父母天職都要身兼確實需要有耐性其實疼愛你乃天性沒有緣爲何爲你拼命也...</td>\n",
       "      <td>愛情</td>\n",
       "      <td>自有, 身邊, 修心, 定性, 父母, 天職, 身兼, 確實, 需要, 耐性, 疼, 愛, ...</td>\n",
       "      <td>自有 身邊 修心 定性 父母 天職 身兼 確實 需要 耐性 疼 愛情 天性 緣 爲 爲 拼命...</td>\n",
       "      <td>['其實', '唯有', '乳燕', '明月照', '常念', '身邊', '修心', '天...</td>\n",
       "    </tr>\n",
       "    <tr>\n",
       "      <th>870</th>\n",
       "      <td>陳奕迅</td>\n",
       "      <td>戲迷情人</td>\n",
       "      <td>雨傘在打轉　色彩會兜圈　猜一個傷感雨天看過十多遍　差點會改編　倦了　夢中相見見證了我每個靜夜...</td>\n",
       "      <td>愛情</td>\n",
       "      <td>雨傘, 打轉, 色彩, 兜圈, 猜一個, 傷感, 雨天, 看過, 十多遍, 差點, 改, 編...</td>\n",
       "      <td>雨傘 打轉 色彩 兜圈 猜一個 傷感 雨天 看過 十多遍 差點 改 編倦 夢 中 相見 見證...</td>\n",
       "      <td>['看過', '見證', '每個', '靜夜', '悵惘', '還沒有', '獨自', '記...</td>\n",
       "    </tr>\n",
       "    <tr>\n",
       "      <th>871</th>\n",
       "      <td>陳奕迅</td>\n",
       "      <td>講男講女(duet with Rowena Cortes 露雲娜)</td>\n",
       "      <td>男共女的事　總有人偏私未花光心智　人便透支男共女的事　深究無意義或有可能慢慢地去摸索便成事戀...</td>\n",
       "      <td>愛情</td>\n",
       "      <td>男共女, 事, 總, 有人, 偏私, 未花光, 心智, 人, 透支, 男共女, 事, 深究,...</td>\n",
       "      <td>男共女 事 總是 有人 偏私 未花光 心智 人 透支 男共女 事 深究 無意 義或有 慢慢 ...</td>\n",
       "      <td>['如講', '起戀', '愛這課', '沒法', '各施', '每刻', '口耳', '男...</td>\n",
       "    </tr>\n",
       "    <tr>\n",
       "      <th>872</th>\n",
       "      <td>陳奕迅</td>\n",
       "      <td>醞釀</td>\n",
       "      <td>濃濃的情衷　空氣中發酵著　你應該早察覺是什麼滿滿的愛戀　已不容我辯駁　你是我最甜蜜的負荷愛情...</td>\n",
       "      <td>愛情</td>\n",
       "      <td>濃濃, 情衷, 空氣, 中, 發酵, 應該, 早察覺, 滿滿, 愛戀, 已, 不容, 辯駁,...</td>\n",
       "      <td>濃濃 情衷 空氣 中 發酵 應該 早察覺 滿滿 愛戀 已經 不容 辯駁 最 甜蜜 負荷 愛情...</td>\n",
       "      <td>['醞釀', '一圈', '慢慢', '昏眩', '每一秒', '濃濃', '情衷', '空...</td>\n",
       "    </tr>\n",
       "    <tr>\n",
       "      <th>873</th>\n",
       "      <td>陳奕迅</td>\n",
       "      <td>飄飄飄飄</td>\n",
       "      <td>遊戲人間　人間遊戲我往日未嘗認真對於一切也抱去玩的心理笑稱束綁只會教我飛不起無掛無牽　何等完...</td>\n",
       "      <td>愛情</td>\n",
       "      <td>遊戲, 人間, 人間, 遊戲, 往日, 未嘗, 認真, 抱, 玩, 心理, 笑, 稱束, 綁...</td>\n",
       "      <td>遊戲 人間 人間 遊戲 往日 未嘗 認真 抱 玩 心理 笑 稱束 綁 只會教 飛不起 無掛 ...</td>\n",
       "      <td>['人間', '認真', '遊戲', '飄飄飄飄', '進愛的', '海然', '以後離',...</td>\n",
       "    </tr>\n",
       "  </tbody>\n",
       "</table>\n",
       "<p>874 rows × 7 columns</p>\n",
       "</div>"
      ],
      "text/plain": [
       "    Singer                                Name  \\\n",
       "0    A-Lin                                 920   \n",
       "1    A-Lin                                  #愛   \n",
       "2    A-Lin                              All In   \n",
       "3    A-Lin                Don't Break My Heart   \n",
       "4    A-Lin              Love will live forever   \n",
       "..     ...                                 ...   \n",
       "869    陳奕迅                                  親近   \n",
       "870    陳奕迅                                戲迷情人   \n",
       "871    陳奕迅   講男講女(duet with Rowena Cortes 露雲娜)   \n",
       "872    陳奕迅                                  醞釀   \n",
       "873    陳奕迅                                飄飄飄飄   \n",
       "\n",
       "                                                 Lyric Category  \\\n",
       "0    I Don't Know Why I Wanna Cry也許有這份愛在我心中竄動 Turni...       愛情   \n",
       "1    愛就是動詞 心動的進行式咚吱咚吱 掉個不停愛是疑問句 到底你是不是你是驚喜 或空歡喜那麼可以...       愛情   \n",
       "2    沒有風 沒有夢 船無法遠行我只能 在霧裡 找翻雲覆雨愛上你 像困在孤島裡不愛你 我卻不如死去...       愛情   \n",
       "3    也許是我不懂的事太多也許是我的錯也許一切已是慢慢的錯過也許不必再說 從未想過你我會這樣結束心...       愛情   \n",
       "4    我們之間沒有距離連想法都這麼貼近心跳快蓋住了呼吸是你讓我毫不猶豫就算會有冰天雪地也要一起留下...       愛情   \n",
       "..                                                 ...      ...   \n",
       "869  自有你於身邊從此修心也定性父母天職都要身兼確實需要有耐性其實疼愛你乃天性沒有緣爲何爲你拼命也...       愛情   \n",
       "870  雨傘在打轉　色彩會兜圈　猜一個傷感雨天看過十多遍　差點會改編　倦了　夢中相見見證了我每個靜夜...       愛情   \n",
       "871  男共女的事　總有人偏私未花光心智　人便透支男共女的事　深究無意義或有可能慢慢地去摸索便成事戀...       愛情   \n",
       "872  濃濃的情衷　空氣中發酵著　你應該早察覺是什麼滿滿的愛戀　已不容我辯駁　你是我最甜蜜的負荷愛情...       愛情   \n",
       "873  遊戲人間　人間遊戲我往日未嘗認真對於一切也抱去玩的心理笑稱束綁只會教我飛不起無掛無牽　何等完...       愛情   \n",
       "\n",
       "                                              seg_text  \\\n",
       "0    IDontKnowWhyIWannaCry, 許有, 這份, 愛, 在我心中, 竄動, Tu...   \n",
       "1    愛, 動詞, 心動, 進行式, 掉, 不停, 愛是, 疑, 問句, 是不是, 驚喜, 空歡,...   \n",
       "2    風, 夢, 船無法, 遠行, 只能, 霧裡, 找, 翻雲覆雨, 愛上, 困, 孤島裡, 愛,...   \n",
       "3    許是, 懂, 事太多, 許是, 錯, 也許, 已, 慢慢, 錯過, 也許, 再, 說, 未,...   \n",
       "4    之間, 距, 離連, 想法, 貼, 心跳, 快蓋, 住, 呼吸, 猶豫, 冰天雪地, 一起,...   \n",
       "..                                                 ...   \n",
       "869  自有, 身邊, 修心, 定性, 父母, 天職, 身兼, 確實, 需要, 耐性, 疼, 愛, ...   \n",
       "870  雨傘, 打轉, 色彩, 兜圈, 猜一個, 傷感, 雨天, 看過, 十多遍, 差點, 改, 編...   \n",
       "871  男共女, 事, 總, 有人, 偏私, 未花光, 心智, 人, 透支, 男共女, 事, 深究,...   \n",
       "872  濃濃, 情衷, 空氣, 中, 發酵, 應該, 早察覺, 滿滿, 愛戀, 已, 不容, 辯駁,...   \n",
       "873  遊戲, 人間, 人間, 遊戲, 往日, 未嘗, 認真, 抱, 玩, 心理, 笑, 稱束, 綁...   \n",
       "\n",
       "                                        remove_synonym  \\\n",
       "0    IDontKnowWhyIWannaCry 許有 這份 愛情 在我心中 竄動 Turning...   \n",
       "1    愛情 動詞 心動 進行式 掉 不停 愛是 疑 問句 是不是 驚喜 空歡 喜 想 加無論 哪字...   \n",
       "2    風 夢 船無法 遠行 只能 霧裡 找 翻雲覆雨 愛上 困 孤島裡 愛情 卻 死去 夢裡 焚燒...   \n",
       "3    許是 懂 事太多 許是 錯 也許 已經 慢慢 錯過 也許 再 說 未 想過 我會 結束 心中...   \n",
       "4    之間 距 離連 想法 貼 心跳 快蓋 住 呼吸 猶豫不決 冰天雪地 一起 留下 腳印 胸前 ...   \n",
       "..                                                 ...   \n",
       "869  自有 身邊 修心 定性 父母 天職 身兼 確實 需要 耐性 疼 愛情 天性 緣 爲 爲 拼命...   \n",
       "870  雨傘 打轉 色彩 兜圈 猜一個 傷感 雨天 看過 十多遍 差點 改 編倦 夢 中 相見 見證...   \n",
       "871  男共女 事 總是 有人 偏私 未花光 心智 人 透支 男共女 事 深究 無意 義或有 慢慢 ...   \n",
       "872  濃濃 情衷 空氣 中 發酵 應該 早察覺 滿滿 愛戀 已經 不容 辯駁 最 甜蜜 負荷 愛情...   \n",
       "873  遊戲 人間 人間 遊戲 往日 未嘗 認真 抱 玩 心理 笑 稱束 綁 只會教 飛不起 無掛 ...   \n",
       "\n",
       "                                                top_10  \n",
       "0    ['Turning', 'Running', '在我心中', 'Know', '時候', '...  \n",
       "1    ['百百種', '關鍵', '號是', '愛是', '愛情', '畫重點', '重點', '...  \n",
       "2    ['Baby', '清醒', '沒有', '夢境', '決定', '何必', '末班', '...  \n",
       "3    ['總是', '許是', '也許', 'Don', 'break', 'my', 'hear...  \n",
       "4    ['這裡', '你給', '勇氣', '領著', '飛行', 'MY', 'LOVE', '...  \n",
       "..                                                 ...  \n",
       "869  ['其實', '唯有', '乳燕', '明月照', '常念', '身邊', '修心', '天...  \n",
       "870  ['看過', '見證', '每個', '靜夜', '悵惘', '還沒有', '獨自', '記...  \n",
       "871  ['如講', '起戀', '愛這課', '沒法', '各施', '每刻', '口耳', '男...  \n",
       "872  ['醞釀', '一圈', '慢慢', '昏眩', '每一秒', '濃濃', '情衷', '空...  \n",
       "873  ['人間', '認真', '遊戲', '飄飄飄飄', '進愛的', '海然', '以後離',...  \n",
       "\n",
       "[874 rows x 7 columns]"
      ]
     },
     "execution_count": 10,
     "metadata": {},
     "output_type": "execute_result"
    }
   ],
   "source": [
    "condition = df['Category'] == predictions\n",
    "df_select = df[condition]\n",
    "df_select = df_select.reset_index(drop = True)\n",
    "df_select"
   ]
  },
  {
   "cell_type": "code",
   "execution_count": 11,
   "id": "0dbd5cb0",
   "metadata": {},
   "outputs": [],
   "source": [
    "# 載入同義字\n",
    "word_net = []\n",
    "with open(\"data/synonyms.txt\", \"r\", encoding = \"utf-8\") as f1:\n",
    "    for line in f1:\n",
    "        word_net.append(line)\n",
    "\n",
    "word_net = sorted(set(word_net))\n",
    "synonyms_dic = {}\n",
    "\n",
    "for word in word_net:\n",
    "    word_s = word.split()\n",
    "    synonyms_dic[word_s[0]] = word_s[1]"
   ]
  },
  {
   "cell_type": "code",
   "execution_count": 12,
   "id": "d23fd4b3",
   "metadata": {},
   "outputs": [],
   "source": [
    "def synonyms(line):\n",
    "    line_words = line.split()\n",
    "    line_lyrics = \"\"\n",
    "    for line_word in line_words:\n",
    "        if line_word in synonyms_dic:\n",
    "            line_lyrics = line_lyrics + synonyms_dic[line_word] + ' '\n",
    "        else:\n",
    "            line_lyrics = line_lyrics + line_word + ' '\n",
    "    return line_lyrics"
   ]
  },
  {
   "cell_type": "code",
   "execution_count": 13,
   "id": "bc6a4a9e",
   "metadata": {},
   "outputs": [],
   "source": [
    "def getTopTen(line):\n",
    "    words = jieba.analyse.extract_tags(line, 10)\n",
    "    return words"
   ]
  },
  {
   "cell_type": "code",
   "execution_count": 14,
   "id": "4fc1cd2c",
   "metadata": {},
   "outputs": [],
   "source": [
    "doc = synonyms(test_lyric_seg)\n",
    "doc_top10 = getTopTen(doc)"
   ]
  },
  {
   "cell_type": "markdown",
   "id": "e7f07837",
   "metadata": {},
   "source": [
    "## Load LDA models"
   ]
  },
  {
   "cell_type": "code",
   "execution_count": 15,
   "id": "13135a3c",
   "metadata": {},
   "outputs": [
    {
     "name": "stdout",
     "output_type": "stream",
     "text": [
      "data/lyrics_love.dict\n"
     ]
    }
   ],
   "source": [
    "print(\"data/lyrics_{}.dict\".format(category))"
   ]
  },
  {
   "cell_type": "code",
   "execution_count": 16,
   "id": "c61ef993",
   "metadata": {},
   "outputs": [
    {
     "name": "stdout",
     "output_type": "stream",
     "text": [
      "Dictionary(17680 unique tokens: ['EveryTimeYouGiveMeHugMyBabeEveryTimeIGiveYouLoveMyBabe', 'FlyAway', 'IDontKnowWhyIWannaCry', 'IKnowThatYouKnowItIKnowHowToDoIDontKnowWhyIWannaCry', 'PeopleSay']...)\n",
      "Used files generated from first tutorial\n",
      "MmCorpus(874 documents, 17679 features, 47615 non-zero entries)\n"
     ]
    }
   ],
   "source": [
    "# 載入語料庫\n",
    "if (os.path.exists(\"data/lyrics_{}.dict\".format(category))):\n",
    "    dictionary = corpora.Dictionary.load(\"data/lyrics_{}.dict\".format(category)) # 建立Dictionary\n",
    "    print(dictionary)\n",
    "    corpus = corpora.MmCorpus(\"data/lyrics_{}.mm\".format(category)) # 將數據流的語料變為內容流的語料\n",
    "    print(\"Used files generated from first tutorial\")\n",
    "    print(corpus)\n",
    "else:\n",
    "    print(\"Please run first tutorial to generate data set\")"
   ]
  },
  {
   "cell_type": "code",
   "execution_count": 17,
   "id": "1ad712aa",
   "metadata": {},
   "outputs": [],
   "source": [
    "tfidf = models.TfidfModel(corpus)\n",
    "# 轉為向量表示\n",
    "corpus_tfidf = tfidf[corpus]"
   ]
  },
  {
   "cell_type": "code",
   "execution_count": 18,
   "id": "885fa34c",
   "metadata": {
    "scrolled": true
   },
   "outputs": [
    {
     "name": "stderr",
     "output_type": "stream",
     "text": [
      "WARNING:root:failed to load projection from model/lda_model_love.lda.projection: [Errno 2] No such file or directory: 'model/lda_model_love.lda.projection'\n"
     ]
    }
   ],
   "source": [
    "lda_model = models.LsiModel.load('model/lda_model_{}.lda'.format(category))\n",
    "vec_bow = dictionary.doc2bow(doc.split()) # 把doc語料庫轉為一個一個詞包\n",
    "vec_lsi = lda_model[vec_bow] # 用前面建好的 lsi 模型去計算這一篇歌詞 (input: 斷詞後的詞包、output: 20個主題成分)"
   ]
  },
  {
   "cell_type": "code",
   "execution_count": 19,
   "id": "4df8863f",
   "metadata": {},
   "outputs": [
    {
     "name": "stderr",
     "output_type": "stream",
     "text": [
      "WARNING:gensim.similarities.docsim:scanning corpus to determine the number of features (consider setting `num_features` explicitly)\n"
     ]
    }
   ],
   "source": [
    "index = similarities.MatrixSimilarity(lda_model[corpus])  # 建立索引\n",
    "sims = index[vec_lsi] \n",
    "sims = sorted(enumerate(sims), key = lambda item: -item[1])"
   ]
  },
  {
   "cell_type": "code",
   "execution_count": 20,
   "id": "55c0dc53",
   "metadata": {},
   "outputs": [
    {
     "name": "stdout",
     "output_type": "stream",
     "text": [
      "\n",
      "相似歌詞:   眼淚的地圖\n",
      "TF-IDF top 10:  ['地圖', '回憶', '愛過', '記錄', '眼淚', '幸福', '那麼', '不會', '沒有', '相愛或']\n",
      "如果村上春樹　筆觸不那麼孤獨看完了法國電影的下午　不會那麼多感觸如果那張地圖　沒有夾在你的書就不會想起那一次旅途　長途跋涉的幸福那年的夏天愛你有　一點盲目回憶的地圖　都是愛過的記錄　相愛或相處　分不清楚戀愛的幸福　讓我不怕迷路　你說我的糊塗　有你照顧如果回到最初　能不能修正錯誤也許分開讓我們都舒服　你可以一個人住  今年的夏天一切都　學會自助回憶的地圖　都是愛過的記錄　相愛或相處　分不清楚戀愛的幸福　沿著高速公路　會到哪裡結束回憶的地圖　都是愛過的記錄　越想要回顧　越是模糊眼淚的地圖　不適合兩人漫步　你說到此結束回憶的地圖　都是愛過的記錄　幸福的眉目　曾讓人羨慕眼淚的地圖　不適合投入閱讀　旅程不能耽誤回憶的地圖　都是愛過的記錄　不知道你有　什麼領悟眼淚的地圖　沒有我要去的國度　你在哪段旅途　誰的國度\n",
      "相似度： 0.9721801\n",
      "\n",
      "相似歌詞:   完整的我\n",
      "TF-IDF top 10:  ['一個', '沒有', '那麼', '人散', '渴望', '完整', '走一遍', '紙花', '滿天', '瞬間']\n",
      "最後一刻 紙花滿天的瞬間掏空的心 分給了萬千笑靨穿過每個期待 把呼喊聲走一遍回頭多希望你 在身邊不知不覺 繞過無數換日線也換走了 共度日常的時間是否該高興 靠近兒時的心願微笑進每張陌生的照片聚光燈下 眼前多虛幻看破翻騰擁擠人群中 孤獨驚心動魄舞台上的我 並不是完整的我如果沒有你 所有 華麗都顯得更寂寞  總在狂歡時刻 渴望有你的角落天地越遼闊 越空洞只是盼望 有一個人等著我那麼脆弱 被誰推著不停走那麼渺小 還是燃燒到尾奏全世界的手 都填不滿我胸口有一個空位只留在心中人們眼中的我 並不是完整的我如果沒有你 所有 璀璨都算不了什麼總在散場以後 渴望被擁抱的我哪怕燈熄了 人散了只願陪你 感傷同一個日落有天燈熄了 人散了最幸福是 還有一個人 等我\n",
      "相似度： 0.96385795\n",
      "\n",
      "相似歌詞:   致明日的舞\n",
      "TF-IDF top 10:  ['永遠', '搖曳裡', '曠野', '晚空要', '夢會', '跌痛', '教會', '記得', '心處', '悸動']\n",
      "躺於瘠土一片 若你沒法入眠 踮起腳尖舞擺裡兜兜轉 轉身去找光線 就快望見路中有霧一同探險 沿途遇到麥田如累了 坐低半天 有歌唱多遍搖曳裡 到曠野 到晚空要碰到 永遠青春的夢會跌痛 也會哭 教會我 要記得 心處的悸動隨傷疤 滲入你 栽種一彎笑容 um～我會與你抱擁 雨再降 也覺得不凍再穿過幽谷去 遇上萬呎巨人 嚇驚了嗎哪知會邀請你 坐於最寬肩膊 共舞著嗎跨出的步履如作畫 沿途靜聽山海清雅帶點耐性 再兜個圈嗎  搖曳裡 到曠野 到晚空要碰到 永遠青春的夢會跌痛 也會哭 教會我 要記得 心處的悸動隨傷疤 滲入你 栽種一彎笑容 wo～我會與你抱擁 雨再降 也當吹吹風還未到埗 我知道 忐忑的旅途唯願看盡 各種美好 如舞蹈～會更暖 會更光我與你 永遠一起守望會嘆氣 會怯慌 更看到 哪處可心安～成長的故事裡跟我一起盼望遠方眼見你已發光 這個你已叫天清朗再與你轉個圈 發覺你會更耐看\n",
      "相似度： 0.93203837\n",
      "\n",
      "相似歌詞:   相愛的方法\n",
      "TF-IDF top 10:  ['學習', '地去', '方法', '愛的', '遺憾', '傷口', '已經', '開花', '裡長', '許愛的']\n",
      "看吧 房間已空蕩 因為經過時光偶爾 沉默地回想 你的笑仍迴盪落幕的劇情還有溫度隔著無聲時光裡追逐各自的幸福 各自的一點領悟學習愛的方法 往往來自 懂了最深刻的遺憾傷口已經開花 才成就了祝福 新的故事裡長大也許愛的方法 就是學習 疼痛時才打開的窗原來曾經我們 都深深地愛過對方只是當時不懂 愛要慷慨地去接納我想 你都還好吧 像我現在一樣成長 才學會欣賞 曾不懂的美感記憶裡保留好的全部流過的淚才不會辜負各自的幸福 各自地去珍惜和領悟學習愛的方法 往往來自 懂了最深刻的遺憾傷口已經開花 才成就了祝福 新的故事裡長大  也許愛的方法 就是學習 疼痛時才打開的窗原來曾經我們都 深深地愛過對方只是當時不懂 愛要慷慨地去接納我是否也曾偷偷 回你心上在你轉身 幸福空檔忽然思念又難隱藏就這樣才明白一回真愛就像此刻我迎向 新的愛情熟悉的感動不免碰觸失去後學會了 相愛的方法學習愛的方法 往往來自 懂了最深刻的遺憾傷口已經開花 也成就了祝福 新的故事裡長大也許愛的方法 就是學習 疼痛時才打開的窗原來曾經我們都 深深地愛過對方只是當時不懂 愛要慷慨地去接納失去後才學會 這相愛的方法\n",
      "相似度： 0.9060761\n",
      "\n",
      "相似歌詞:   親一個吧(A-Lin+)\n",
      "TF-IDF top 10:  ['簡單', '行空', '迷戀', '愛的', '拋向異', '滿足', '天馬', '變得', '狂飆', '緊張']\n",
      "話題分岔也是分享蒐集每秒鐘有你的身旁愛是絕症的病種自從上癮你的吻沒解藥快求救我 迷戀失去控制所有荒唐要把無上限愛的力量 拋向異世界炫耀你 滿足天馬行空我的幻想讓簡單 變得不太簡單 幸福的存在感心跳狂飆超速緊張 親一個吧踩著冷戰散步爭吵你偏心退讓我放下驕傲如果眼淚還躲不掉那就要在你的心中拍下我最美的微笑  我 迷戀失去控制所有荒唐要把無上限愛的力量 拋向異世界炫耀你 滿足天馬行空我的幻想讓簡單 變得不太簡單 幸福的存在感心跳狂飆超速緊張 快樂悲傷默契擁抱 親一個吧如果眼淚還躲不掉那就要在你的心中拍下我最美的微笑我 迷戀失去控制所有荒唐要把無上限愛的力量 拋向異世界炫耀你 滿足天馬行空我的幻想讓簡單 變得不太簡單 幸福的存在感心跳狂飆超速緊張 快樂悲傷默契擁抱 come on baby難逃魔掌 親一個吧\n",
      "相似度： 0.8593798\n"
     ]
    }
   ],
   "source": [
    "names, lyrics, top10 = [], [], []\n",
    "for n, line, ten in zip(list(df_select['Name']), list(df_select['Lyric']), list(df_select['top_10'])):\n",
    "    names.append(n)\n",
    "    lyrics.append(line)\n",
    "    top10.append(ten)\n",
    "\n",
    "for lyric in sims[:5]:\n",
    "    print(\"\\n相似歌詞: \",  names[lyric[0]])\n",
    "    print(\"TF-IDF top 10: \", top10[lyric[0]])\n",
    "    print(lyrics[lyric[0]])\n",
    "    print(\"相似度：\",  lyric[1])"
   ]
  },
  {
   "cell_type": "code",
   "execution_count": null,
   "id": "104360a9",
   "metadata": {},
   "outputs": [],
   "source": []
  },
  {
   "cell_type": "code",
   "execution_count": null,
   "id": "a4a42158",
   "metadata": {},
   "outputs": [],
   "source": []
  },
  {
   "cell_type": "code",
   "execution_count": null,
   "id": "c44e30fe",
   "metadata": {},
   "outputs": [],
   "source": []
  }
 ],
 "metadata": {
  "kernelspec": {
   "display_name": "Python 3 (ipykernel)",
   "language": "python",
   "name": "python3"
  },
  "language_info": {
   "codemirror_mode": {
    "name": "ipython",
    "version": 3
   },
   "file_extension": ".py",
   "mimetype": "text/x-python",
   "name": "python",
   "nbconvert_exporter": "python",
   "pygments_lexer": "ipython3",
   "version": "3.7.11"
  }
 },
 "nbformat": 4,
 "nbformat_minor": 5
}
