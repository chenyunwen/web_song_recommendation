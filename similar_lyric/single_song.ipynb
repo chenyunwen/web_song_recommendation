{
 "cells": [
  {
   "cell_type": "markdown",
   "metadata": {},
   "source": [
    "## 從單首歌詞認識 jieba.analyse.extract_tags的用法"
   ]
  },
  {
   "cell_type": "code",
   "execution_count": 1,
   "metadata": {},
   "outputs": [],
   "source": [
    "import jieba.analyse"
   ]
  },
  {
   "cell_type": "code",
   "execution_count": 2,
   "metadata": {},
   "outputs": [],
   "source": [
    "jieba.set_dictionary(\"jieba_dict/dict.txt.big\")"
   ]
  },
  {
   "cell_type": "code",
   "execution_count": 3,
   "metadata": {},
   "outputs": [
    {
     "name": "stderr",
     "output_type": "stream",
     "text": [
      "Building prefix dict from /Users/youngmihuang/Desktop/PyLadies/jieba_dict/dict.txt.big ...\n",
      "Loading model from cache /var/folders/c6/vq7n4xz94bqdm56d8hb739kr0000gn/T/jieba.u61de2cbc86a45c8f420ba10366a9081d.cache\n",
      "Loading model cost 2.271 seconds.\n",
      "Prefix dict has been built succesfully.\n"
     ]
    },
    {
     "name": "stdout",
     "output_type": "stream",
     "text": [
      "不會,3290\n",
      "時間,2741\n",
      "歲月,2741\n",
      "回憶,2741\n",
      "一天,2715\n",
      "也許,2193\n",
      "終點,2193\n",
      "舉起,2193\n",
      "懷念,2193\n",
      "悠悠的,2169\n"
     ]
    }
   ],
   "source": [
    "# 把單首歌的tags取出來\n",
    "with open(\"lyrics/single_song.txt\", \"rb\") as f:\n",
    "    for line in f:\n",
    "        tags = jieba.analyse.extract_tags(line, topK= 10, withWeight=True)\n",
    "        for tag, weight in tags:\n",
    "            print(tag + \",\" + str(int(weight*10000)))\n",
    "f.close()"
   ]
  },
  {
   "cell_type": "markdown",
   "metadata": {},
   "source": [
    "## 斷詞前後差異"
   ]
  },
  {
   "cell_type": "code",
   "execution_count": 4,
   "metadata": {},
   "outputs": [
    {
     "name": "stdout",
     "output_type": "stream",
     "text": [
      "原歌詞(未斷詞):\n",
      "會不會 有一天 時間真的能倒退 退回 你的我的 回不去的 悠悠的歲月 也許會 有一天 世界真的有終點 也要和你舉起回憶釀的甜 和你再乾一杯 如果說 要我選出 代表青春 那個畫面 浮現了 那滴眼淚 那片藍天 那年畢業 那一張 邊哭邊笑 還要擁抱 是你的臉 想起來 可愛可憐 可歌可泣 可是多懷念 懷念總是 突然懷念 不談條件 當回憶 衝破考卷 衝出歲月 在我眼前 我和你 留著汗水 喝著汽水 在操場邊 說好了 無論如何 一起走到 未來的世界 現在就是 那個未來 那個世界 為什麼 你的身邊 我的身邊 不是同一邊 友情曾像 諾亞方舟 堅強誓言 只是我 望著海面 等著永遠 模糊了視線 會不會 有一天 時間真的能倒退 退回 你的我的 回不去的 悠悠的歲月 也許會 有一天 世界真的有終點 也要和你舉起回憶釀的甜 和你再乾一杯 這些年 買了四輪 買了手錶 買了單眼 卻發現 追不到的 停不了的 還是那些 人生是 只有認命 只能宿命 只好宿醉 只剩下 高的笑點 低的哭點 卻沒成熟點 成熟就是 幻想幻滅 一場磨鍊 為什麼 只有夢想 越磨越小 小到不見 有時候 好想流淚 好想流淚 卻沒眼淚 期待會 你會不會 他會不會 開個同學會 他在等你 你在等我 我在等誰 又是誰 孩子沒睡 電話沒電 心情沒準備 天空不斷 黑了又亮 亮了又黑 那光陰 滄海桑田 遠走高飛 再沒力氣追 會不會 有一天 時間真的能倒退 退回 你的我的 回不去的 悠悠的歲月 也許會 有一天 世界真的有終點 也要和你舉起回憶釀的甜 和你再乾一杯 會不會 有一天 時間真的能倒退 退回 你的我的 回不去的 悠悠的歲月 也許會 有一天 世界真的有終點 也要和你舉起回憶釀的甜 和你再乾一杯 終究會 有一天 我們都變成昨天 是你 陪我走過 一生一回 匆匆的人間 有一天 就是今天 今天就是有一天 說出一直沒說 對你的感謝 和你再乾一杯 再乾一杯永遠 喝了就能萬歲 歲歲和年年 時間都停了 他們都回來了 懷念的人阿 等你的來到\n",
      "--------------------------------------------------------------------------------------------------------------------\n",
      "原歌詞(有斷詞):\n",
      "會 不會   有 一天   時間 真的 能 倒退   退回   你 的 我 的   回不去 的   悠悠的 歲月   也許 會   有 一天   世界 真的 有 終點   也 要 和 你 舉起 回憶 釀 的 甜   和 你 再 乾 一杯   如果說   要 我 選出   代表 青春   那個 畫面   浮現 了   那滴 眼淚   那片 藍天   那年 畢業   那 一張   邊哭邊 笑   還要 擁抱   是 你 的 臉   想 起來   可愛 可憐   可歌可泣   可是 多 懷念   懷念 總是   突然 懷念   不談 條件   當 回憶   衝破 考卷   衝出 歲月   在 我 眼前   我 和 你   留著 汗水   喝著 汽水   在 操場 邊   說好 了   無論如何   一起 走 到   未來 的 世界   現在 就是   那個 未來   那個 世界   為 什麼   你 的 身邊   我 的 身邊   不是 同 一邊   友情 曾 像   諾亞方舟   堅強 誓言   只是 我   望著 海面   等 著 永遠   模糊 了 視線   會 不會   有 一天   時間 真的 能 倒退   退回   你 的 我 的   回不去 的   悠悠的 歲月   也許 會   有 一天   世界 真的 有 終點   也 要 和 你 舉起 回憶 釀 的 甜   和 你 再 乾 一杯   這些 年   買 了 四輪   買 了 手錶   買 了 單眼   卻 發現   追 不到 的   停 不了 的   還是 那些   人生 是   只有 認命   只能 宿命   只好 宿醉   只 剩下   高 的 笑點   低 的 哭點   卻 沒成 熟點   成熟 就是   幻想 幻滅   一場 磨鍊   為 什麼   只有 夢想   越磨 越 小   小到 不見   有時候   好 想 流淚   好 想 流淚   卻 沒 眼淚   期待 會   你 會 不會   他會 不會   開個 同學會   他 在 等 你   你 在 等 我   我 在 等 誰   又 是 誰   孩子 沒睡   電話 沒電   心情 沒 準備   天空 不斷   黑 了 又 亮   亮 了 又 黑   那 光陰   滄海桑田   遠走高飛   再 沒 力氣 追   會 不會   有 一天   時間 真的 能 倒退   退回   你 的 我 的   回不去 的   悠悠的 歲月   也許 會   有 一天   世界 真的 有 終點   也 要 和 你 舉起 回憶 釀 的 甜   和 你 再 乾 一杯   會 不會   有 一天   時間 真的 能 倒退   退回   你 的 我 的   回不去 的   悠悠的 歲月   也許 會   有 一天   世界 真的 有 終點   也 要 和 你 舉起 回憶 釀 的 甜   和 你 再 乾 一杯   終究會   有 一天   我們 都 變成 昨天   是 你   陪 我 走過   一生 一回   匆匆 的 人間   有 一天   就是 今天   今天 就是 有 一天   說出 一直 沒說   對 你 的 感謝   和 你 再 乾 一杯   再 乾 一杯 永遠   喝 了 就 能 萬歲   歲 歲 和 年 年   時間 都 停 了   他們 都 回來 了   懷念 的 人 阿   等 你 的 來到\n"
     ]
    }
   ],
   "source": [
    "with open(\"lyrics/single_song.txt\", \"r\") as wf:\n",
    "    for word in wf:\n",
    "        words = jieba.cut(word)\n",
    "        print(\"原歌詞(未斷詞):\")\n",
    "        print(word)\n",
    "        print(\"--------------------------------------------------------------------------------------------------------------------\")\n",
    "        print(\"原歌詞(有斷詞):\")\n",
    "        print(\" \".join(words))"
   ]
  }
 ],
 "metadata": {
  "kernelspec": {
   "display_name": "pyenv3",
   "language": "python",
   "name": "pyenv3"
  },
  "language_info": {
   "codemirror_mode": {
    "name": "ipython",
    "version": 3
   },
   "file_extension": ".py",
   "mimetype": "text/x-python",
   "name": "python",
   "nbconvert_exporter": "python",
   "pygments_lexer": "ipython3",
   "version": "3.6.3"
  }
 },
 "nbformat": 4,
 "nbformat_minor": 2
}
