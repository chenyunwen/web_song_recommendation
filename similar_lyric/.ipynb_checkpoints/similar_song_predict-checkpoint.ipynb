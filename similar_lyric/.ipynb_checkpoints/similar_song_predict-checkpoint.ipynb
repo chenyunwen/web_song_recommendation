{
 "cells": [
  {
   "cell_type": "code",
   "execution_count": 1,
   "id": "782f1918",
   "metadata": {},
   "outputs": [],
   "source": [
    "import matplotlib.pyplot as plt\n",
    "import numpy as np\n",
    "import jieba.analyse\n",
    "import jieba\n",
    "import codecs\n",
    "import pandas as pd\n",
    "import re"
   ]
  },
  {
   "cell_type": "markdown",
   "id": "2b8504fa",
   "metadata": {},
   "source": [
    "# Load lyric data base"
   ]
  },
  {
   "cell_type": "code",
   "execution_count": 38,
   "id": "789e8440",
   "metadata": {},
   "outputs": [
    {
     "data": {
      "text/html": [
       "<div>\n",
       "<style scoped>\n",
       "    .dataframe tbody tr th:only-of-type {\n",
       "        vertical-align: middle;\n",
       "    }\n",
       "\n",
       "    .dataframe tbody tr th {\n",
       "        vertical-align: top;\n",
       "    }\n",
       "\n",
       "    .dataframe thead th {\n",
       "        text-align: right;\n",
       "    }\n",
       "</style>\n",
       "<table border=\"1\" class=\"dataframe\">\n",
       "  <thead>\n",
       "    <tr style=\"text-align: right;\">\n",
       "      <th></th>\n",
       "      <th>Singer</th>\n",
       "      <th>Name</th>\n",
       "      <th>Lyric</th>\n",
       "      <th>Category</th>\n",
       "      <th>seg_text</th>\n",
       "      <th>remove_synonym</th>\n",
       "      <th>top_10</th>\n",
       "    </tr>\n",
       "  </thead>\n",
       "  <tbody>\n",
       "    <tr>\n",
       "      <th>0</th>\n",
       "      <td>A-Lin</td>\n",
       "      <td>One Life</td>\n",
       "      <td>白雲撞進藍天 激起昨天畫面我想起你的臉好久不見 在遠方的My Friend不論晴天雨天 也會...</td>\n",
       "      <td>友情</td>\n",
       "      <td>白雲撞, 進藍天, 激起, 昨天, 畫面, 想起, 臉, 好久, 不見, 遠方, MyFri...</td>\n",
       "      <td>白雲撞 進藍天 激起 昨天 畫面 想起 臉 好久 不見 遠處 MyFriend 晴天 雨天 ...</td>\n",
       "      <td>['Life', '我們', '一天', '期待', '哪邊', '邊要', '出現', '...</td>\n",
       "    </tr>\n",
       "    <tr>\n",
       "      <th>1</th>\n",
       "      <td>A-Lin</td>\n",
       "      <td>最好的朋友在身邊</td>\n",
       "      <td>一起笑一起哭一起鬧久別的回憶又浮現一點點一天天一年年最好的朋友在身邊一起走一起跑一起跳相聚到...</td>\n",
       "      <td>友情</td>\n",
       "      <td>一起, 笑, 一起, 哭, 一起, 鬧久別, 回憶, 浮現, 一點點, 一天天, 一年, 年...</td>\n",
       "      <td>一起 笑 一起 哭 一起 鬧久別 回憶 浮現 一些 一天天 一年 年 最好 朋友 身邊 一起...</td>\n",
       "      <td>['一起', '一天天', '永在', '鬧久別', '回憶', '浮現', '一點點', ...</td>\n",
       "    </tr>\n",
       "    <tr>\n",
       "      <th>2</th>\n",
       "      <td>A-Lin</td>\n",
       "      <td>愛的可能</td>\n",
       "      <td>你出現我身邊 像個奇蹟發生沒想到會是你 讓我如此失魂我心中的感覺是這樣陌生快樂的牽掛在相聚的...</td>\n",
       "      <td>友情</td>\n",
       "      <td>出現, 身邊, 蹟, 發生, 想到, 失魂, 心中, 感覺, 陌生, 快樂, 牽掛, 相聚,...</td>\n",
       "      <td>出現 身邊 蹟 發生 想 失魂 心中 感覺 陌生 快樂 牽掛 相見 每一分 曾以 見過 所有...</td>\n",
       "      <td>['我會', '不會', '記得', '孤單', '時候', '因為', '還有', '我的...</td>\n",
       "    </tr>\n",
       "    <tr>\n",
       "      <th>3</th>\n",
       "      <td>A-Lin</td>\n",
       "      <td>太太太耐斯</td>\n",
       "      <td>孩子還沒睡 拜託別鬧手遊聲太吵 狗狗在叫碗盤在洗碗槽 主婦的煩惱惱公不瞭 他先洗澡奶瓶把香水...</td>\n",
       "      <td>反抗反駁反諷</td>\n",
       "      <td>孩子, 還沒, 睡, 拜, 託, 別鬧, 手遊聲, 太吵, 狗狗, 碗, 盤, 洗碗, 槽,...</td>\n",
       "      <td>孩子 還沒 睡 拜 託 別鬧 手遊聲 太吵 狗狗 碗 盤 洗碗 槽 主婦 煩惱 惱公 瞭 先...</td>\n",
       "      <td>['太太', '耐斯', '什麼', '超過', '太過', '發脾氣', '心軟', '忘...</td>\n",
       "    </tr>\n",
       "    <tr>\n",
       "      <th>4</th>\n",
       "      <td>A-Lin</td>\n",
       "      <td>抱歉 我不抱歉</td>\n",
       "      <td>恨 什麼叫恨 這個單字 好陌生我只記得 一路走來 愛的人就算他們 多可恨等 雖然溫柔 還打不...</td>\n",
       "      <td>反抗反駁反諷</td>\n",
       "      <td>恨, 恨, 單字, 好, 陌生, 只, 記得, 一路, 走來, 愛的, 人, 可恨, 溫柔,...</td>\n",
       "      <td>恨 恨 單字 好 陌生 只 記得 一路 走過來 愛的 人 可恨 溫柔 還打 不開 一些 門雖...</td>\n",
       "      <td>['抱歉', '他們', '每枝', '什麼', '我們', '每個', '每張', '太真...</td>\n",
       "    </tr>\n",
       "    <tr>\n",
       "      <th>...</th>\n",
       "      <td>...</td>\n",
       "      <td>...</td>\n",
       "      <td>...</td>\n",
       "      <td>...</td>\n",
       "      <td>...</td>\n",
       "      <td>...</td>\n",
       "      <td>...</td>\n",
       "    </tr>\n",
       "    <tr>\n",
       "      <th>2201</th>\n",
       "      <td>陳奕迅</td>\n",
       "      <td>黑暗中漫舞</td>\n",
       "      <td>為何未能學會起舞便已抱緊你誰料到資質不配合你左腳舉起了便要別離為何未能讓我衰老便要放開你陪你...</td>\n",
       "      <td>離別</td>\n",
       "      <td>未能, 學會, 起舞, 已, 抱, 緊, 料到, 資質, 配合, 左腳, 舉起, 別離, 未...</td>\n",
       "      <td>未能 學 起舞 已經 抱 緊 料到 資質 配合 左腳 舉起 別離 未能 衰老 放開 陪伴 跳...</td>\n",
       "      <td>['為何', '未能', '左腳', '美不美', '捱到', '學會', '資質', '舉...</td>\n",
       "    </tr>\n",
       "    <tr>\n",
       "      <th>2202</th>\n",
       "      <td>陳奕迅</td>\n",
       "      <td>傷信</td>\n",
       "      <td>重讀著你的告別信　抑壓了暗湧雖不信寫的話　竟可以這麼重但再哭亦無用 徐徐又當這信是你　緊貼我...</td>\n",
       "      <td>離別</td>\n",
       "      <td>重讀, 告別, 信, 抑壓, 暗湧, 雖不信, 寫, 話, 重, 再, 哭, 亦, 無用, ...</td>\n",
       "      <td>重讀 告別 信 抑壓 暗湧 雖不信 寫 話 重 再 哭 亦 無用 徐徐 又當 這信 緊貼 抱...</td>\n",
       "      <td>['抑壓', '怎麼', '重讀', '告別', '暗湧', '雖不信', '這麼', '無...</td>\n",
       "    </tr>\n",
       "    <tr>\n",
       "      <th>2203</th>\n",
       "      <td>陳奕迅</td>\n",
       "      <td>歲月如歌</td>\n",
       "      <td>愛上了　看見你　如何不懂謙卑去講心中理想　不會俗氣猶如看得見晨曦　才能歡天喜地抱著你　我每次...</td>\n",
       "      <td>離別</td>\n",
       "      <td>愛上, 懂謙卑, 去講, 心中, 理想, 俗氣, 猶如, 晨曦, 歡天, 喜地, 抱, 每次...</td>\n",
       "      <td>愛上 懂謙卑 去講 心中 夢想 俗氣 猶如 晨曦 歡天 喜地 抱 每次 回來 驚喜 也許 一...</td>\n",
       "      <td>['也許', '愛上', '看見', '懂謙卑', '去講', '不會', '俗氣', '猶...</td>\n",
       "    </tr>\n",
       "    <tr>\n",
       "      <th>2204</th>\n",
       "      <td>陳奕迅</td>\n",
       "      <td>遇見了你(國)</td>\n",
       "      <td>遇見了你　讓生命美好我看見繁華的春天愛情如陽光閃耀我給你我的愛離開了我　你默默低頭我看見往事...</td>\n",
       "      <td>離別</td>\n",
       "      <td>遇見, 生命, 美好, 看見, 繁華, 春天, 愛情, 如陽光, 閃耀, 我給, 愛離開, ...</td>\n",
       "      <td>遇到 生命 美好 看見 繁華 春天 愛情 如陽光 閃耀 我給 愛離開 靜靜 低頭 往事 如雲...</td>\n",
       "      <td>['離開', '我給', '帶著', '愛帶', '飛到', '邊到', '一個', '傷終...</td>\n",
       "    </tr>\n",
       "    <tr>\n",
       "      <th>2205</th>\n",
       "      <td>陳奕迅</td>\n",
       "      <td>遙遠的她</td>\n",
       "      <td>讓晚風輕輕吹送了落霞我已習慣每個傍晚去想她在遠方的她此刻可知道這段情在我心始終記掛在這半山那...</td>\n",
       "      <td>離別</td>\n",
       "      <td>晚風, 輕輕, 吹送, 落霞, 已, 習慣, 每個, 傍晚, 想, 遠方, 此刻, 知道, ...</td>\n",
       "      <td>晚風 輕輕 吹送 落霞 已經 習慣 每個 傍晚 想 遠處 此刻 知道 這段 情 我心 始終 ...</td>\n",
       "      <td>['熱情', '那管', '滄桑', '變化', '始終', '相約', '縱使', '相愛...</td>\n",
       "    </tr>\n",
       "  </tbody>\n",
       "</table>\n",
       "<p>2206 rows × 7 columns</p>\n",
       "</div>"
      ],
      "text/plain": [
       "     Singer       Name                                              Lyric  \\\n",
       "0     A-Lin   One Life  白雲撞進藍天 激起昨天畫面我想起你的臉好久不見 在遠方的My Friend不論晴天雨天 也會...   \n",
       "1     A-Lin   最好的朋友在身邊  一起笑一起哭一起鬧久別的回憶又浮現一點點一天天一年年最好的朋友在身邊一起走一起跑一起跳相聚到...   \n",
       "2     A-Lin       愛的可能  你出現我身邊 像個奇蹟發生沒想到會是你 讓我如此失魂我心中的感覺是這樣陌生快樂的牽掛在相聚的...   \n",
       "3     A-Lin      太太太耐斯  孩子還沒睡 拜託別鬧手遊聲太吵 狗狗在叫碗盤在洗碗槽 主婦的煩惱惱公不瞭 他先洗澡奶瓶把香水...   \n",
       "4     A-Lin    抱歉 我不抱歉  恨 什麼叫恨 這個單字 好陌生我只記得 一路走來 愛的人就算他們 多可恨等 雖然溫柔 還打不...   \n",
       "...     ...        ...                                                ...   \n",
       "2201    陳奕迅      黑暗中漫舞  為何未能學會起舞便已抱緊你誰料到資質不配合你左腳舉起了便要別離為何未能讓我衰老便要放開你陪你...   \n",
       "2202    陳奕迅         傷信  重讀著你的告別信　抑壓了暗湧雖不信寫的話　竟可以這麼重但再哭亦無用 徐徐又當這信是你　緊貼我...   \n",
       "2203    陳奕迅       歲月如歌  愛上了　看見你　如何不懂謙卑去講心中理想　不會俗氣猶如看得見晨曦　才能歡天喜地抱著你　我每次...   \n",
       "2204    陳奕迅    遇見了你(國)  遇見了你　讓生命美好我看見繁華的春天愛情如陽光閃耀我給你我的愛離開了我　你默默低頭我看見往事...   \n",
       "2205    陳奕迅       遙遠的她  讓晚風輕輕吹送了落霞我已習慣每個傍晚去想她在遠方的她此刻可知道這段情在我心始終記掛在這半山那...   \n",
       "\n",
       "     Category                                           seg_text  \\\n",
       "0          友情  白雲撞, 進藍天, 激起, 昨天, 畫面, 想起, 臉, 好久, 不見, 遠方, MyFri...   \n",
       "1          友情  一起, 笑, 一起, 哭, 一起, 鬧久別, 回憶, 浮現, 一點點, 一天天, 一年, 年...   \n",
       "2          友情  出現, 身邊, 蹟, 發生, 想到, 失魂, 心中, 感覺, 陌生, 快樂, 牽掛, 相聚,...   \n",
       "3      反抗反駁反諷  孩子, 還沒, 睡, 拜, 託, 別鬧, 手遊聲, 太吵, 狗狗, 碗, 盤, 洗碗, 槽,...   \n",
       "4      反抗反駁反諷  恨, 恨, 單字, 好, 陌生, 只, 記得, 一路, 走來, 愛的, 人, 可恨, 溫柔,...   \n",
       "...       ...                                                ...   \n",
       "2201       離別  未能, 學會, 起舞, 已, 抱, 緊, 料到, 資質, 配合, 左腳, 舉起, 別離, 未...   \n",
       "2202       離別  重讀, 告別, 信, 抑壓, 暗湧, 雖不信, 寫, 話, 重, 再, 哭, 亦, 無用, ...   \n",
       "2203       離別  愛上, 懂謙卑, 去講, 心中, 理想, 俗氣, 猶如, 晨曦, 歡天, 喜地, 抱, 每次...   \n",
       "2204       離別  遇見, 生命, 美好, 看見, 繁華, 春天, 愛情, 如陽光, 閃耀, 我給, 愛離開, ...   \n",
       "2205       離別  晚風, 輕輕, 吹送, 落霞, 已, 習慣, 每個, 傍晚, 想, 遠方, 此刻, 知道, ...   \n",
       "\n",
       "                                         remove_synonym  \\\n",
       "0     白雲撞 進藍天 激起 昨天 畫面 想起 臉 好久 不見 遠處 MyFriend 晴天 雨天 ...   \n",
       "1     一起 笑 一起 哭 一起 鬧久別 回憶 浮現 一些 一天天 一年 年 最好 朋友 身邊 一起...   \n",
       "2     出現 身邊 蹟 發生 想 失魂 心中 感覺 陌生 快樂 牽掛 相見 每一分 曾以 見過 所有...   \n",
       "3     孩子 還沒 睡 拜 託 別鬧 手遊聲 太吵 狗狗 碗 盤 洗碗 槽 主婦 煩惱 惱公 瞭 先...   \n",
       "4     恨 恨 單字 好 陌生 只 記得 一路 走過來 愛的 人 可恨 溫柔 還打 不開 一些 門雖...   \n",
       "...                                                 ...   \n",
       "2201  未能 學 起舞 已經 抱 緊 料到 資質 配合 左腳 舉起 別離 未能 衰老 放開 陪伴 跳...   \n",
       "2202  重讀 告別 信 抑壓 暗湧 雖不信 寫 話 重 再 哭 亦 無用 徐徐 又當 這信 緊貼 抱...   \n",
       "2203  愛上 懂謙卑 去講 心中 夢想 俗氣 猶如 晨曦 歡天 喜地 抱 每次 回來 驚喜 也許 一...   \n",
       "2204  遇到 生命 美好 看見 繁華 春天 愛情 如陽光 閃耀 我給 愛離開 靜靜 低頭 往事 如雲...   \n",
       "2205  晚風 輕輕 吹送 落霞 已經 習慣 每個 傍晚 想 遠處 此刻 知道 這段 情 我心 始終 ...   \n",
       "\n",
       "                                                 top_10  \n",
       "0     ['Life', '我們', '一天', '期待', '哪邊', '邊要', '出現', '...  \n",
       "1     ['一起', '一天天', '永在', '鬧久別', '回憶', '浮現', '一點點', ...  \n",
       "2     ['我會', '不會', '記得', '孤單', '時候', '因為', '還有', '我的...  \n",
       "3     ['太太', '耐斯', '什麼', '超過', '太過', '發脾氣', '心軟', '忘...  \n",
       "4     ['抱歉', '他們', '每枝', '什麼', '我們', '每個', '每張', '太真...  \n",
       "...                                                 ...  \n",
       "2201  ['為何', '未能', '左腳', '美不美', '捱到', '學會', '資質', '舉...  \n",
       "2202  ['抑壓', '怎麼', '重讀', '告別', '暗湧', '雖不信', '這麼', '無...  \n",
       "2203  ['也許', '愛上', '看見', '懂謙卑', '去講', '不會', '俗氣', '猶...  \n",
       "2204  ['離開', '我給', '帶著', '愛帶', '飛到', '邊到', '一個', '傷終...  \n",
       "2205  ['熱情', '那管', '滄桑', '變化', '始終', '相約', '縱使', '相愛...  \n",
       "\n",
       "[2206 rows x 7 columns]"
      ]
     },
     "execution_count": 38,
     "metadata": {},
     "output_type": "execute_result"
    }
   ],
   "source": [
    "df = pd.read_csv ('./data/lyric_df.csv')\n",
    "df"
   ]
  },
  {
   "cell_type": "markdown",
   "id": "1b9d32d7",
   "metadata": {},
   "source": [
    "# Import testing lyric and preprocess"
   ]
  },
  {
   "cell_type": "code",
   "execution_count": 22,
   "id": "c6a2d535",
   "metadata": {},
   "outputs": [],
   "source": [
    "def remove_punctuation(line):\n",
    "    stopwords = [line.strip() for line in open('./data/stopwords.txt', 'r', encoding='utf-8').readlines()]\n",
    "    line = str(line)\n",
    "    if line.strip() == '':\n",
    "        return ''\n",
    "    re_han = re.compile(u\"[^a-zA-Z0-9\\u4E00-\\u9FA5]\")\n",
    "    line = re_han.sub('', line)\n",
    "    cut = [w for w in list(jieba.cut(line)) if w not in stopwords]\n",
    "    res = \", \".join(cut)\n",
    "    return res"
   ]
  },
  {
   "cell_type": "code",
   "execution_count": 3,
   "id": "8f3b798f",
   "metadata": {},
   "outputs": [],
   "source": [
    "# 載入同義字\n",
    "word_net = []\n",
    "with open(\"data/synonyms.txt\", \"r\", encoding = \"utf-8\") as f1:\n",
    "    for line in f1:\n",
    "        word_net.append(line)\n",
    "\n",
    "word_net = sorted(set(word_net))\n",
    "synonyms_dic = {}\n",
    "\n",
    "for word in word_net:\n",
    "    word_s = word.split()\n",
    "    synonyms_dic[word_s[0]] = word_s[1]"
   ]
  },
  {
   "cell_type": "code",
   "execution_count": 23,
   "id": "3f2ad0ad",
   "metadata": {},
   "outputs": [],
   "source": [
    "def synonyms(line):\n",
    "    line_words = line.split(\", \")\n",
    "    line_lyrics = \"\"\n",
    "    for line_word in line_words:\n",
    "        if line_word in synonyms_dic:\n",
    "            line_lyrics = line_lyrics + synonyms_dic[line_word] + ' '\n",
    "        else:\n",
    "            line_lyrics = line_lyrics + line_word + ' '\n",
    "    return line_lyrics"
   ]
  },
  {
   "cell_type": "code",
   "execution_count": 24,
   "id": "dd6aee9a",
   "metadata": {},
   "outputs": [],
   "source": [
    "def getTopTen(line):\n",
    "    words = jieba.analyse.extract_tags(line, 10)\n",
    "    return words"
   ]
  },
  {
   "cell_type": "code",
   "execution_count": 25,
   "id": "ceaf4ff4",
   "metadata": {},
   "outputs": [],
   "source": [
    "test_lyric = \"過完整個夏天　憂傷並沒有好一些 開車行駛在公路無際無邊 有離開自己的感覺 唱不完一首歌　疲倦還剩下黑眼圈 感情的世界傷害在所難免 黃昏再美終要黑夜 依然記得從你口中說出再見堅決如鐵 昏暗中有種烈日灼身的錯覺 黃昏的地平線　劃出一句離別 愛情進入永夜 依然記得從你眼中滑落的淚傷心欲絕 混亂中有種熱淚燒傷的錯覺 黃昏的地平線　割斷幸福喜悅 相愛已經幻滅\"\n",
    "test_lyric_seg = remove_punctuation(test_lyric)\n",
    "doc = synonyms(test_lyric_seg)\n",
    "doc_top10 = getTopTen(doc)"
   ]
  },
  {
   "cell_type": "markdown",
   "id": "dcbf3e25",
   "metadata": {},
   "source": [
    "# Load LSI and LDA models"
   ]
  },
  {
   "cell_type": "markdown",
   "id": "a57a0fb6",
   "metadata": {},
   "source": [
    "## 載入語料庫"
   ]
  },
  {
   "cell_type": "code",
   "execution_count": 7,
   "id": "8fe876f4",
   "metadata": {},
   "outputs": [],
   "source": [
    "import os\n",
    "from gensim import corpora, models, similarities"
   ]
  },
  {
   "cell_type": "code",
   "execution_count": 8,
   "id": "d7cdd9d2",
   "metadata": {},
   "outputs": [
    {
     "name": "stdout",
     "output_type": "stream",
     "text": [
      "Dictionary(38350 unique tokens: ['MyFriend', 'OneLife', '一些', '一天', '一起']...)\n",
      "Used files generated from first tutorial\n",
      "MmCorpus(2206 documents, 38350 features, 131142 non-zero entries)\n"
     ]
    }
   ],
   "source": [
    "# 載入語料庫\n",
    "if (os.path.exists(\"data/lyrics.dict\")):\n",
    "    dictionary = corpora.Dictionary.load(\"data/lyrics.dict\") # 建立Dictionary\n",
    "    print(dictionary)\n",
    "    corpus = corpora.MmCorpus(\"data/lyrics.mm\") # 將數據流的語料變為內容流的語料\n",
    "    print(\"Used files generated from first tutorial\")\n",
    "    print(corpus)\n",
    "else:\n",
    "    print(\"Please run first tutorial to generate data set\")"
   ]
  },
  {
   "cell_type": "markdown",
   "id": "0550985f",
   "metadata": {},
   "source": [
    "## 建立TF-IDF模型"
   ]
  },
  {
   "cell_type": "code",
   "execution_count": 9,
   "id": "0f856bea",
   "metadata": {},
   "outputs": [],
   "source": [
    "tfidf = models.TfidfModel(corpus)\n",
    "# 轉為向量表示\n",
    "corpus_tfidf = tfidf[corpus]"
   ]
  },
  {
   "cell_type": "markdown",
   "id": "87630299",
   "metadata": {},
   "source": [
    "## LSI"
   ]
  },
  {
   "cell_type": "code",
   "execution_count": 31,
   "id": "f214d38b",
   "metadata": {},
   "outputs": [],
   "source": [
    "lsi_model = models.LsiModel.load('model/lsi_model.lsi')\n",
    "vec_bow = dictionary.doc2bow(doc.split()) # 把doc語料庫轉為一個一個詞包\n",
    "vec_lsi = lsi_model[vec_bow] # 用前面建好的 lsi 模型去計算這一篇歌詞 (input: 斷詞後的詞包、output: 20個主題成分)"
   ]
  },
  {
   "cell_type": "code",
   "execution_count": 34,
   "id": "bc5fca63",
   "metadata": {},
   "outputs": [],
   "source": [
    "index = similarities.MatrixSimilarity(lsi_model[corpus])  # 建立索引\n",
    "sims = index[vec_lsi] \n",
    "sims = sorted(enumerate(sims), key = lambda item: -item[1])"
   ]
  },
  {
   "cell_type": "code",
   "execution_count": 39,
   "id": "317e93c3",
   "metadata": {},
   "outputs": [
    {
     "name": "stdout",
     "output_type": "stream",
     "text": [
      "\n",
      "相似歌詞:   Baby Song\n",
      "TF-IDF top 10:  ['進風裡', '我們', '小小的', '像顆', '裡面', '一個', '無窮', '夢裡', '那麼', '通透']\n",
      "你的眼睛 像顆水晶通透裡面有一個無窮無盡的宇宙小小的你 在你小小的夢裡把我所有大大的事情都吹進風裡我為我將 對你撒的謊先跟你道歉當你發現黑白不是那麼的分明世界 不是那麼的公平別太失望 我講的是個夢想不用太聽我們的話不要讓 任何人告訴你你該怎樣對待世界或它該怎對你  要跟現在一樣隨心讓你的眼睛和心依然純淨可惜 世界不及你好原諒我們 我們都還在找而時間它只負責流動不負責育你成長不過你只需要 傾聽傾聽你的心你的眼睛 像顆水晶通透裡面有一個無窮無盡的宇宙小小的你 在你小小的夢裡把我所有大大的事情 都吹進風裡都吹進風裡\n",
      "相似度： 0.999207\n",
      "\n",
      "相似歌詞:   心的距離\n",
      "TF-IDF top 10:  ['我忘記', '時間', '沒有', '機會', '哪個', '邊緣', '空間裡', '不斷', '怎麼', '直線']\n",
      "看前面　我忘記了是哪個夏天你輕靠著我　飄散而過的落葉為了誓言　讓時間延伸就像永遠遲鈍如我　也感覺到的邊緣在思念的空間裡不斷徘徊那距離卻越明顯持續的提醒我　現實的界限 又一遍　我忘記了是哪些時間　你言詞閃爍　原因當然不明顯　試著看見　讓時間倒轉回到從前　認真如我　有抓不到的邊緣 　在想像的空間裡不斷徘徊　那畫面永遠明確　就算是閉上眼　也無法否決 我怎麼會讓自己捨身不斷涉險　你怎麼會對我的心不斷的拒絕  　愛失去你的包圍　每次退後又錯過你的世界一點 　我沒有辦法清醒應付新的對決　你卻輕易讓我的心委屈到極限　愛有了你　卻失去了我的一切　衡量你的心直線到我之間　沒有跨越的機會 沒有跨越的機會衡量你的心直線到我之間沒有跨越的機會看前面　我忘記了是哪個夏天\n",
      "相似度： 0.9989911\n",
      "\n",
      "相似歌詞:   掉了\n",
      "TF-IDF top 10:  ['沒有', '笑靨', '眼淚', '出現', '瞬間', '顏色結', '回憶', '敵人', '節掉', '對白']\n",
      "心疼的玫瑰 半夜還開著找不到匆匆掉落的花蕊回到現場卻 已來不及等待任何回音都不可得微弱的風箏 冬天裡飄著回不去手中纏線的那個沒有藍天 又何必去飛怎麼適合黑色笑靨掉了雪白眼淚掉了該出現的所有表情瞬間掉了瞳孔沒有顏色結了冰的長河回憶是最可怕的敵人故事情節掉了主角對白掉了該屬於劇中的對角戲也掉了胸口沒有快樂斷了翅的白鴿  不枯萎的藉口全掉了曾經唱過的 歌分享過的笑聲在心中不斷拉扯想念不能承認 偷偷擦去淚痕冬天過了還是會很冷黑色笑靨掉了雪白眼淚掉了該出現的所有表情瞬間掉了瞳孔沒有顏色結了冰的長河回憶是最可怕的敵人故事情節掉了主角對白掉了該屬於劇中的對角戲也掉了胸口沒有快樂斷了翅的白鴿不枯萎的藉口全~ 掉了\n",
      "相似度： 0.998854\n",
      "\n",
      "相似歌詞:   千尋\n",
      "TF-IDF top 10:  ['眼裡', '我願意', '千萬個', '寫下', '耳語', '為名', '守護', '一顆', '愛最', '化為']\n",
      "多少回憶 伏筆為你化作紋理 刻在掌心百轉千回 多少顛沛流離才讓思念 擁抱背影用至死不渝 寫下耳語以天地為名 守護一顆心如果愛最後 化為灰燼換我 做你眼裡的 光影我願意 在千萬個朝夕裡尋覓等光陰 重逢在你眼裡用一生 交換 一秒的相遇能成全 就不可惜我願意 在千萬個往昔裡沉溺等淚滴 暈開笑意  要有多幸運 才能允許永遠受困 你心底用至死不渝 寫下耳語以天地為名 守護一顆心如果愛最後 化為灰燼換我 做你眼裡的 光影我願意 在千萬個朝夕裡尋覓等光陰 重逢在你眼裡用一生 交換 一秒的相遇能成全 就不可惜我願意 在千萬個往昔裡沉溺等淚滴 暈開笑意要有多幸運 才能允許永遠受困 你心底為你追尋 千萬里\n",
      "相似度： 0.9986873\n",
      "\n",
      "相似歌詞:   最重要的小事\n",
      "TF-IDF top 10:  ['分分秒秒', '紛紛', '擾擾', '喧喧鬧', '什麼', '真實', '活過', '一輩子', '守護', '最小']\n",
      "我 走過動盪日子 追過夢的放肆 穿過多少生死卻 假裝若無其事 穿過半個城市 只想看你樣子這一刻 最重要的事是屬於你 最小的事世界紛紛擾擾喧喧鬧鬧 什麼是真實為你跌跌撞撞傻傻笑笑 買一杯果汁就算庸庸碌碌匆匆忙忙 活過一輩子也要分分秒秒年年日日 全心守護你最小的事我 就算壯烈前世 征服滾滾亂世 萬人為我寫詩而 幸福卻是此時 靜靜幫你提著 哈囉凱蒂袋子這一刻 最重要的事  是屬於你 最小的事世界紛紛擾擾喧喧鬧鬧 什麼是真實為你跌跌撞撞傻傻笑笑 買一杯果汁就算庸庸碌碌匆匆忙忙 活過一輩子也要分分秒秒年年日日 全心守護你最小的事你 笑得像個孩子 每個平凡小事 變成永恆故事世界紛紛擾擾喧喧鬧鬧 什麼是真實為你跌跌撞撞傻傻笑笑 買一杯果汁就算庸庸碌碌匆匆忙忙 活過一輩子也要分分秒秒年年日日 全心守護你最小的事最重要的事 oh...\n",
      "相似度： 0.99855715\n"
     ]
    }
   ],
   "source": [
    "names, lyrics, top10 = [], [], []\n",
    "for n, line, ten in zip(list(df['Name']), list(df['Lyric']), list(df['top_10'])):\n",
    "    names.append(n)\n",
    "    lyrics.append(line)\n",
    "    top10.append(ten)\n",
    "\n",
    "for lyric in sims[:5]:\n",
    "    print(\"\\n相似歌詞: \",  names[lyric[0]])\n",
    "    print(\"TF-IDF top 10: \", top10[lyric[0]])\n",
    "    print(lyrics[lyric[0]])\n",
    "    print(\"相似度：\",  lyric[1])"
   ]
  },
  {
   "cell_type": "markdown",
   "id": "753fcdc0",
   "metadata": {},
   "source": [
    "## LDA"
   ]
  },
  {
   "cell_type": "code",
   "execution_count": 40,
   "id": "42bb9423",
   "metadata": {},
   "outputs": [
    {
     "name": "stderr",
     "output_type": "stream",
     "text": [
      "WARNING:root:failed to load projection from model/lda_model.lda.projection: [Errno 2] No such file or directory: 'model/lda_model.lda.projection'\n"
     ]
    }
   ],
   "source": [
    "lda_model = models.LsiModel.load('model/lda_model.lda')\n",
    "vec_bow = dictionary.doc2bow(doc.split()) # 把doc語料庫轉為一個一個詞包\n",
    "vec_lsi = lda_model[vec_bow] # 用前面建好的 lsi 模型去計算這一篇歌詞 (input: 斷詞後的詞包、output: 20個主題成分)"
   ]
  },
  {
   "cell_type": "code",
   "execution_count": 41,
   "id": "4276fdb4",
   "metadata": {},
   "outputs": [
    {
     "name": "stderr",
     "output_type": "stream",
     "text": [
      "WARNING:gensim.similarities.docsim:scanning corpus to determine the number of features (consider setting `num_features` explicitly)\n"
     ]
    }
   ],
   "source": [
    "index = similarities.MatrixSimilarity(lda_model[corpus])  # 建立索引\n",
    "sims = index[vec_lsi] \n",
    "sims = sorted(enumerate(sims), key = lambda item: -item[1])"
   ]
  },
  {
   "cell_type": "code",
   "execution_count": 42,
   "id": "d7d1ee3a",
   "metadata": {},
   "outputs": [
    {
     "name": "stdout",
     "output_type": "stream",
     "text": [
      "\n",
      "相似歌詞:   Show The World\n",
      "TF-IDF top 10:  ['Go', 'world', 'Show', 'Goal', 'Let', '機會', '越過', '攔截', '歡呼將', '殲滅']\n",
      "Go Go Go 機會就近在眼前越過那些狂野攔截Go Go Go 歡呼將殲滅疲倦瞬間移動如同閃電Goal Let's Go! 情勢多惡劣危險兄弟就是最強防線 Wo~~Goal Let's Go! 對平凡極度厭倦跳入一個傳奇裡面  昔日的追風少年 不乾的熱血脫下白襯衫 心才被看見熱愛不止于球場 在生活蔓延越激烈越熱切 敢上就敢對決Go Go GoShow the world 我的火光 我的信仰Show the world 持續補強 急速成長Show the world 我的渴望 我的戰場Show the world 誰在雲上 誰會稱王\n",
      "相似度： 0.9941994\n",
      "\n",
      "相似歌詞:   心腹\n",
      "TF-IDF top 10:  ['Ba', '記住', 'BaDa', '通向', '一個', '距離', 'lovin', '心腹', '溶化', '假期']\n",
      "口　通向腹　通向心　通向彼此憶記每幕都這麼美他　邀約她　邀約他　吃著早餐等你我在餐廳識你記住溶化的距離　記住相通的天地BaDa Ba Ba Ba每場痛快歷奇記住完美的假期　記住一起的滋味BaDa Ba Ba Ba耳目心腹手口鼻結伴分享色香味BaDa Ba Ba Ba Ba一班好友　叫做手足嗎　心腹嗎一餐歡宴　熟人要有吧　送暖遞茶一口小吃　會直通心嗎一番體貼　一點親切　未來也有吧　至老掉牙給我一個包　你一個包你跟我不結交　也可吃飽最好笑的笑話　卻不會包最好你跟我可以緊靠說著笑著吃包包你　逐條味蕾末梢馬上化做快樂氣泡　飛上月球做巢口　通向腹　通向心　通向彼此憶記以食譜寫週記記住溶化的距離　記住相通的天地BaDa Ba Ba Ba每場痛快歷奇記住完美的假期　記住一起的滋味BaDa Ba Ba Ba每啖都想分給你  BaDa Ba Ba Ba一班好友　叫做手足嗎　心腹嗎一餐歡宴　熟人要有吧　送暖遞茶一口小吃　會直通心嗎一番體貼　一點親切　未來也有吧　至老掉牙給我一個包　你一個包你跟我不結交　也可吃飽最好笑的笑話　卻不會包最好你跟我可以緊靠說著笑著吃包包你　逐條味蕾末梢馬上化做快樂氣泡　飛上月球做巢記住溶化的距離　記住相通的天地BaDa Ba Ba Ba友誼永固傳奇記住完美的假期　記住一起的滋味BaDa Ba Ba Ba見面怎麼都不膩記住年少的好奇　記住青春的品味BaDa Ba Ba Ba以濃淡計日期記住時間的詭祕　記住光陰的旖旎BaDa Ba Ba Ba帶著心腹心足地每日分享色香味I'm lovin' itI'm lovin' itBaDa Ba Ba BaI'm lovin' it\n",
      "相似度： 0.9938713\n",
      "\n",
      "相似歌詞:   還我\n",
      "TF-IDF top 10:  ['承諾', '什麼', '退還', '償還', '還給', '愧疚', '清掉', '應該', '還你', '過的']\n",
      "用你吻過的嘴 吞下自己的淚這樣應該算是兩不相欠你殘留的氣味 讓寂寞去溶解慢慢迎接沒關聯的明天還你 相信過的承諾 美麗過的美夢心突然好空 有沒有什麼要還我被退還的以後 被償還的愧疚我都不要了 請把快樂還我還原每個從前 清掉你的細節還給自己沒愛過的昨天曾奉陪的時間 拿時間來銷毀可是回憶應該放誰那邊  還你 相信過的承諾 美麗過的美夢心突然好空 有沒有什麼要還我被退還的以後 被償還的愧疚我都不要了 請把快樂還我還我 你沒收的承諾 你捲走的美夢我心裡好空 為什麼你還不還我被退還的以後 被償還的愧疚我都不要了 請把我還給我還原每個從前 清掉你的細節還給自己沒愛過的昨天\n",
      "相似度： 0.992437\n",
      "\n",
      "相似歌詞:   那時候的樹\n",
      "TF-IDF top 10:  ['樹下', '美麗', '我們', '回憶', '雙眼', '改變', '擁抱', '記住', '當時', '一切']\n",
      "記憶中隱隱浮現 沒完沒了的夏天多少個夜晚坐看流星脫隊  我們常牽著時間 散步到樹下談天有時候燕鳥還會跑來湊嘴 看 那條路   重建了  那棵樹   不見了 那個我   長大了  那回憶   消失了 這世界   進步了   那美好 怎麼被遺忘了  樹下曾有的一切   是我美麗的童年 遺憾在我的雙眼   凝望這樣的改變  樹下擁抱的一切   有你美麗的從前 記住當時的笑臉 珍惜會走的更遠 曾經原始的氣味 變鋼筋水泥的街大自然成為商品 任君挑選  打著浪的海岸線 變作華麗的宮殿忘了天空是保護你的屋簷  聽 那片地   心跳著  那棵樹   歎息著   那個你   懂事了  那回憶   呼喊著 這世界   捨棄的  那美好 讓我牢牢記著  樹下曾有的一切   是我美麗的童年 遺憾在我的雙眼   凝望這樣的改變  樹下擁抱的一切   有你美麗的從前 記住當時的笑臉  珍惜會走的更遠  能不能   先耕種  再想收穫  能不能   回想起  遺失的夢   我們不能砍掉回憶 再說重來  樹下擁抱的一切 是我美麗的昨天 期盼在我的雙眼   我們能改變世界  樹下曾有的一切 有你美麗的明天 記住當時的笑臉   珍惜會走的更遠  走的更遠   走的更遠  走的更遠 走的更遠\n",
      "相似度： 0.99144\n",
      "\n",
      "相似歌詞:   我不快樂\n",
      "TF-IDF top 10:  ['不快', '什麼', '一種', '念頭', '覺得', '愛我', '整個', '實不多', '能習慣', '沈默']\n",
      "整個世界都在變　你是不是也變了如果一切重新來過　還會不會再犯錯你有多久沒有好好的看我　問問我想要什麼我要的其實不多　但最近我很不快樂如果能習慣沈默　我或許就不難過如果不是真的愛過　我又何必太執著為何你從不懂我想些什麼　你只是太愛閃躲我要的其實不多　但最近我總覺得不快樂　我很不快樂　有一種想哭的念頭卻又說不出那是什麼　我就是覺得不快樂　我很不快樂　寂寞好像有填不完的缺口你說你愛我　卻只是很少過問我的感受  如果能習慣沈默　我或許就不難過如果不想再挽回什麼　我又何必太執著為何你從不懂我想些什麼　你只是太愛閃躲我心裡有個角落　你從不曾在意過不快樂　我很不快樂　有一種想哭的念頭卻說不出那是什麼　我就是覺得不快樂我很不快樂　我心好像有填不完的缺口如果你愛我　你怎能從不過問我的感受不快樂　我很不快樂　有一種想哭的念頭卻又說不出那是什麼　我就是覺得不快樂　我很不快樂　為什麼愛情會這樣的寂寞你總說愛我　可是又從不走進我的生活整個世界都在變　我是不是也變了\n",
      "相似度： 0.99080235\n"
     ]
    }
   ],
   "source": [
    "names, lyrics, top10 = [], [], []\n",
    "for n, line, ten in zip(list(df['Name']), list(df['Lyric']), list(df['top_10'])):\n",
    "    names.append(n)\n",
    "    lyrics.append(line)\n",
    "    top10.append(ten)\n",
    "\n",
    "for lyric in sims[:5]:\n",
    "    print(\"\\n相似歌詞: \",  names[lyric[0]])\n",
    "    print(\"TF-IDF top 10: \", top10[lyric[0]])\n",
    "    print(lyrics[lyric[0]])\n",
    "    print(\"相似度：\",  lyric[1])"
   ]
  },
  {
   "cell_type": "code",
   "execution_count": null,
   "id": "67db4b88",
   "metadata": {},
   "outputs": [],
   "source": []
  }
 ],
 "metadata": {
  "kernelspec": {
   "display_name": "Python 3 (ipykernel)",
   "language": "python",
   "name": "python3"
  },
  "language_info": {
   "codemirror_mode": {
    "name": "ipython",
    "version": 3
   },
   "file_extension": ".py",
   "mimetype": "text/x-python",
   "name": "python",
   "nbconvert_exporter": "python",
   "pygments_lexer": "ipython3",
   "version": "3.7.11"
  }
 },
 "nbformat": 4,
 "nbformat_minor": 5
}
