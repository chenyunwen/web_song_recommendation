{
 "cells": [
  {
   "cell_type": "code",
   "execution_count": 1,
   "id": "558ebb6c",
   "metadata": {
    "scrolled": false
   },
   "outputs": [
    {
     "name": "stderr",
     "output_type": "stream",
     "text": [
      "2022-01-06 23:26:32.463615: W tensorflow/stream_executor/platform/default/dso_loader.cc:64] Could not load dynamic library 'libcudart.so.11.0'; dlerror: libcudart.so.11.0: cannot open shared object file: No such file or directory\n",
      "2022-01-06 23:26:32.463755: I tensorflow/stream_executor/cuda/cudart_stub.cc:29] Ignore above cudart dlerror if you do not have a GPU set up on your machine.\n"
     ]
    }
   ],
   "source": [
    "import pandas as pd\n",
    "import matplotlib\n",
    "import numpy as np\n",
    "import matplotlib.pyplot as plt\n",
    "import jieba\n",
    "import re\n",
    "import tensorflow as tf\n",
    "from sklearn.model_selection import train_test_split\n",
    "import seaborn as sns\n",
    "from sklearn import metrics\n",
    "from sklearn.preprocessing import LabelEncoder,OneHotEncoder\n",
    "from keras.models import Model\n",
    "from keras.layers import LSTM, Activation, Dense, Dropout, Input, Embedding, Bidirectional\n",
    "from tensorflow.keras import optimizers\n",
    "from keras.preprocessing.text import Tokenizer\n",
    "from keras.preprocessing import sequence\n",
    "from keras.callbacks import EarlyStopping"
   ]
  },
  {
   "cell_type": "code",
   "execution_count": 2,
   "id": "7b2fedef",
   "metadata": {},
   "outputs": [
    {
     "name": "stdout",
     "output_type": "stream",
     "text": [
      "2.7.0\n"
     ]
    }
   ],
   "source": [
    "print(tf.version.VERSION)"
   ]
  },
  {
   "cell_type": "markdown",
   "id": "e13223cc",
   "metadata": {},
   "source": [
    "# Import data"
   ]
  },
  {
   "cell_type": "code",
   "execution_count": 3,
   "id": "b96c7955",
   "metadata": {},
   "outputs": [
    {
     "name": "stdout",
     "output_type": "stream",
     "text": [
      "\u001b[32mTotal number of data: 2206\u001b[0m\n"
     ]
    },
    {
     "data": {
      "text/html": [
       "<div>\n",
       "<style scoped>\n",
       "    .dataframe tbody tr th:only-of-type {\n",
       "        vertical-align: middle;\n",
       "    }\n",
       "\n",
       "    .dataframe tbody tr th {\n",
       "        vertical-align: top;\n",
       "    }\n",
       "\n",
       "    .dataframe thead th {\n",
       "        text-align: right;\n",
       "    }\n",
       "</style>\n",
       "<table border=\"1\" class=\"dataframe\">\n",
       "  <thead>\n",
       "    <tr style=\"text-align: right;\">\n",
       "      <th></th>\n",
       "      <th>Singer</th>\n",
       "      <th>Name</th>\n",
       "      <th>Lyric</th>\n",
       "      <th>Category</th>\n",
       "    </tr>\n",
       "  </thead>\n",
       "  <tbody>\n",
       "    <tr>\n",
       "      <th>0</th>\n",
       "      <td>A-Lin</td>\n",
       "      <td>One Life</td>\n",
       "      <td>白雲撞進藍天 激起昨天畫面我想起你的臉好久不見 在遠方的My Friend不論晴天雨天 也會...</td>\n",
       "      <td>友情</td>\n",
       "    </tr>\n",
       "    <tr>\n",
       "      <th>1</th>\n",
       "      <td>A-Lin</td>\n",
       "      <td>最好的朋友在身邊</td>\n",
       "      <td>一起笑一起哭一起鬧久別的回憶又浮現一點點一天天一年年最好的朋友在身邊一起走一起跑一起跳相聚到...</td>\n",
       "      <td>友情</td>\n",
       "    </tr>\n",
       "    <tr>\n",
       "      <th>2</th>\n",
       "      <td>A-Lin</td>\n",
       "      <td>愛的可能</td>\n",
       "      <td>你出現我身邊 像個奇蹟發生沒想到會是你 讓我如此失魂我心中的感覺是這樣陌生快樂的牽掛在相聚的...</td>\n",
       "      <td>友情</td>\n",
       "    </tr>\n",
       "    <tr>\n",
       "      <th>3</th>\n",
       "      <td>A-Lin</td>\n",
       "      <td>太太太耐斯</td>\n",
       "      <td>孩子還沒睡 拜託別鬧手遊聲太吵 狗狗在叫碗盤在洗碗槽 主婦的煩惱惱公不瞭 他先洗澡奶瓶把香水...</td>\n",
       "      <td>反抗反駁反諷</td>\n",
       "    </tr>\n",
       "    <tr>\n",
       "      <th>4</th>\n",
       "      <td>A-Lin</td>\n",
       "      <td>抱歉 我不抱歉</td>\n",
       "      <td>恨 什麼叫恨 這個單字 好陌生我只記得 一路走來 愛的人就算他們 多可恨等 雖然溫柔 還打不...</td>\n",
       "      <td>反抗反駁反諷</td>\n",
       "    </tr>\n",
       "    <tr>\n",
       "      <th>...</th>\n",
       "      <td>...</td>\n",
       "      <td>...</td>\n",
       "      <td>...</td>\n",
       "      <td>...</td>\n",
       "    </tr>\n",
       "    <tr>\n",
       "      <th>2202</th>\n",
       "      <td>陳奕迅</td>\n",
       "      <td>黑暗中漫舞</td>\n",
       "      <td>為何未能學會起舞便已抱緊你誰料到資質不配合你左腳舉起了便要別離為何未能讓我衰老便要放開你陪你...</td>\n",
       "      <td>離別</td>\n",
       "    </tr>\n",
       "    <tr>\n",
       "      <th>2203</th>\n",
       "      <td>陳奕迅</td>\n",
       "      <td>傷信</td>\n",
       "      <td>重讀著你的告別信　抑壓了暗湧雖不信寫的話　竟可以這麼重但再哭亦無用 徐徐又當這信是你　緊貼我...</td>\n",
       "      <td>離別</td>\n",
       "    </tr>\n",
       "    <tr>\n",
       "      <th>2204</th>\n",
       "      <td>陳奕迅</td>\n",
       "      <td>歲月如歌</td>\n",
       "      <td>愛上了　看見你　如何不懂謙卑去講心中理想　不會俗氣猶如看得見晨曦　才能歡天喜地抱著你　我每次...</td>\n",
       "      <td>離別</td>\n",
       "    </tr>\n",
       "    <tr>\n",
       "      <th>2205</th>\n",
       "      <td>陳奕迅</td>\n",
       "      <td>遇見了你(國)</td>\n",
       "      <td>遇見了你　讓生命美好我看見繁華的春天愛情如陽光閃耀我給你我的愛離開了我　你默默低頭我看見往事...</td>\n",
       "      <td>離別</td>\n",
       "    </tr>\n",
       "    <tr>\n",
       "      <th>2206</th>\n",
       "      <td>陳奕迅</td>\n",
       "      <td>遙遠的她</td>\n",
       "      <td>讓晚風輕輕吹送了落霞我已習慣每個傍晚去想她在遠方的她此刻可知道這段情在我心始終記掛在這半山那...</td>\n",
       "      <td>離別</td>\n",
       "    </tr>\n",
       "  </tbody>\n",
       "</table>\n",
       "<p>2206 rows × 4 columns</p>\n",
       "</div>"
      ],
      "text/plain": [
       "     Singer       Name                                              Lyric  \\\n",
       "0     A-Lin   One Life  白雲撞進藍天 激起昨天畫面我想起你的臉好久不見 在遠方的My Friend不論晴天雨天 也會...   \n",
       "1     A-Lin   最好的朋友在身邊  一起笑一起哭一起鬧久別的回憶又浮現一點點一天天一年年最好的朋友在身邊一起走一起跑一起跳相聚到...   \n",
       "2     A-Lin       愛的可能  你出現我身邊 像個奇蹟發生沒想到會是你 讓我如此失魂我心中的感覺是這樣陌生快樂的牽掛在相聚的...   \n",
       "3     A-Lin      太太太耐斯  孩子還沒睡 拜託別鬧手遊聲太吵 狗狗在叫碗盤在洗碗槽 主婦的煩惱惱公不瞭 他先洗澡奶瓶把香水...   \n",
       "4     A-Lin    抱歉 我不抱歉  恨 什麼叫恨 這個單字 好陌生我只記得 一路走來 愛的人就算他們 多可恨等 雖然溫柔 還打不...   \n",
       "...     ...        ...                                                ...   \n",
       "2202    陳奕迅      黑暗中漫舞  為何未能學會起舞便已抱緊你誰料到資質不配合你左腳舉起了便要別離為何未能讓我衰老便要放開你陪你...   \n",
       "2203    陳奕迅         傷信  重讀著你的告別信　抑壓了暗湧雖不信寫的話　竟可以這麼重但再哭亦無用 徐徐又當這信是你　緊貼我...   \n",
       "2204    陳奕迅       歲月如歌  愛上了　看見你　如何不懂謙卑去講心中理想　不會俗氣猶如看得見晨曦　才能歡天喜地抱著你　我每次...   \n",
       "2205    陳奕迅    遇見了你(國)  遇見了你　讓生命美好我看見繁華的春天愛情如陽光閃耀我給你我的愛離開了我　你默默低頭我看見往事...   \n",
       "2206    陳奕迅       遙遠的她  讓晚風輕輕吹送了落霞我已習慣每個傍晚去想她在遠方的她此刻可知道這段情在我心始終記掛在這半山那...   \n",
       "\n",
       "     Category  \n",
       "0          友情  \n",
       "1          友情  \n",
       "2          友情  \n",
       "3      反抗反駁反諷  \n",
       "4      反抗反駁反諷  \n",
       "...       ...  \n",
       "2202       離別  \n",
       "2203       離別  \n",
       "2204       離別  \n",
       "2205       離別  \n",
       "2206       離別  \n",
       "\n",
       "[2206 rows x 4 columns]"
      ]
     },
     "execution_count": 3,
     "metadata": {},
     "output_type": "execute_result"
    }
   ],
   "source": [
    "df = pd.read_csv('./data/merged.csv')\n",
    "df = df[['Singer', 'Name', 'Lyric', 'Category']].astype(str)\n",
    "df.drop(df[df.Singer == 'nan'].index, inplace=True)\n",
    "df.drop(df[df.Name == 'Name'].index, inplace=True)\n",
    "print(\"\\033[32mTotal number of data: %d\\033[0m\" %len(df))\n",
    "df"
   ]
  },
  {
   "cell_type": "code",
   "execution_count": 4,
   "id": "bdd11ef1",
   "metadata": {},
   "outputs": [
    {
     "data": {
      "text/html": [
       "<div>\n",
       "<style scoped>\n",
       "    .dataframe tbody tr th:only-of-type {\n",
       "        vertical-align: middle;\n",
       "    }\n",
       "\n",
       "    .dataframe tbody tr th {\n",
       "        vertical-align: top;\n",
       "    }\n",
       "\n",
       "    .dataframe thead th {\n",
       "        text-align: right;\n",
       "    }\n",
       "</style>\n",
       "<table border=\"1\" class=\"dataframe\">\n",
       "  <thead>\n",
       "    <tr style=\"text-align: right;\">\n",
       "      <th></th>\n",
       "      <th>Category</th>\n",
       "      <th>count</th>\n",
       "    </tr>\n",
       "  </thead>\n",
       "  <tbody>\n",
       "    <tr>\n",
       "      <th>0</th>\n",
       "      <td>愛情</td>\n",
       "      <td>874</td>\n",
       "    </tr>\n",
       "    <tr>\n",
       "      <th>1</th>\n",
       "      <td>想法表達</td>\n",
       "      <td>405</td>\n",
       "    </tr>\n",
       "    <tr>\n",
       "      <th>2</th>\n",
       "      <td>悲傷</td>\n",
       "      <td>216</td>\n",
       "    </tr>\n",
       "    <tr>\n",
       "      <th>3</th>\n",
       "      <td>反抗反駁反諷</td>\n",
       "      <td>206</td>\n",
       "    </tr>\n",
       "    <tr>\n",
       "      <th>4</th>\n",
       "      <td>勵志</td>\n",
       "      <td>167</td>\n",
       "    </tr>\n",
       "    <tr>\n",
       "      <th>5</th>\n",
       "      <td>嗨歌</td>\n",
       "      <td>125</td>\n",
       "    </tr>\n",
       "    <tr>\n",
       "      <th>6</th>\n",
       "      <td>離別</td>\n",
       "      <td>76</td>\n",
       "    </tr>\n",
       "    <tr>\n",
       "      <th>7</th>\n",
       "      <td>友情</td>\n",
       "      <td>42</td>\n",
       "    </tr>\n",
       "    <tr>\n",
       "      <th>8</th>\n",
       "      <td>特殊主題</td>\n",
       "      <td>39</td>\n",
       "    </tr>\n",
       "    <tr>\n",
       "      <th>9</th>\n",
       "      <td>親情</td>\n",
       "      <td>33</td>\n",
       "    </tr>\n",
       "    <tr>\n",
       "      <th>10</th>\n",
       "      <td>感謝</td>\n",
       "      <td>23</td>\n",
       "    </tr>\n",
       "  </tbody>\n",
       "</table>\n",
       "</div>"
      ],
      "text/plain": [
       "   Category  count\n",
       "0        愛情    874\n",
       "1      想法表達    405\n",
       "2        悲傷    216\n",
       "3    反抗反駁反諷    206\n",
       "4        勵志    167\n",
       "5        嗨歌    125\n",
       "6        離別     76\n",
       "7        友情     42\n",
       "8      特殊主題     39\n",
       "9        親情     33\n",
       "10       感謝     23"
      ]
     },
     "execution_count": 4,
     "metadata": {},
     "output_type": "execute_result"
    }
   ],
   "source": [
    "d = {'Category': df['Category'].value_counts().index, 'count': df['Category'].value_counts()}\n",
    "df_cat = pd.DataFrame(data = d).reset_index(drop = True)\n",
    "df_cat"
   ]
  },
  {
   "cell_type": "code",
   "execution_count": 5,
   "id": "b804c157",
   "metadata": {
    "scrolled": true
   },
   "outputs": [
    {
     "data": {
      "text/html": [
       "<div>\n",
       "<style scoped>\n",
       "    .dataframe tbody tr th:only-of-type {\n",
       "        vertical-align: middle;\n",
       "    }\n",
       "\n",
       "    .dataframe tbody tr th {\n",
       "        vertical-align: top;\n",
       "    }\n",
       "\n",
       "    .dataframe thead th {\n",
       "        text-align: right;\n",
       "    }\n",
       "</style>\n",
       "<table border=\"1\" class=\"dataframe\">\n",
       "  <thead>\n",
       "    <tr style=\"text-align: right;\">\n",
       "      <th></th>\n",
       "      <th>Singer</th>\n",
       "      <th>Name</th>\n",
       "      <th>Lyric</th>\n",
       "      <th>Category</th>\n",
       "    </tr>\n",
       "  </thead>\n",
       "  <tbody>\n",
       "    <tr>\n",
       "      <th>0</th>\n",
       "      <td>A-Lin</td>\n",
       "      <td>One Life</td>\n",
       "      <td>白雲撞進藍天 激起昨天畫面我想起你的臉好久不見 在遠方的My Friend不論晴天雨天 也會...</td>\n",
       "      <td>勵志友情</td>\n",
       "    </tr>\n",
       "    <tr>\n",
       "      <th>1</th>\n",
       "      <td>A-Lin</td>\n",
       "      <td>最好的朋友在身邊</td>\n",
       "      <td>一起笑一起哭一起鬧久別的回憶又浮現一點點一天天一年年最好的朋友在身邊一起走一起跑一起跳相聚到...</td>\n",
       "      <td>勵志友情</td>\n",
       "    </tr>\n",
       "    <tr>\n",
       "      <th>2</th>\n",
       "      <td>A-Lin</td>\n",
       "      <td>愛的可能</td>\n",
       "      <td>你出現我身邊 像個奇蹟發生沒想到會是你 讓我如此失魂我心中的感覺是這樣陌生快樂的牽掛在相聚的...</td>\n",
       "      <td>勵志友情</td>\n",
       "    </tr>\n",
       "    <tr>\n",
       "      <th>3</th>\n",
       "      <td>A-Lin</td>\n",
       "      <td>太太太耐斯</td>\n",
       "      <td>孩子還沒睡 拜託別鬧手遊聲太吵 狗狗在叫碗盤在洗碗槽 主婦的煩惱惱公不瞭 他先洗澡奶瓶把香水...</td>\n",
       "      <td>反抗反駁反諷</td>\n",
       "    </tr>\n",
       "    <tr>\n",
       "      <th>4</th>\n",
       "      <td>A-Lin</td>\n",
       "      <td>抱歉 我不抱歉</td>\n",
       "      <td>恨 什麼叫恨 這個單字 好陌生我只記得 一路走來 愛的人就算他們 多可恨等 雖然溫柔 還打不...</td>\n",
       "      <td>反抗反駁反諷</td>\n",
       "    </tr>\n",
       "    <tr>\n",
       "      <th>...</th>\n",
       "      <td>...</td>\n",
       "      <td>...</td>\n",
       "      <td>...</td>\n",
       "      <td>...</td>\n",
       "    </tr>\n",
       "    <tr>\n",
       "      <th>2202</th>\n",
       "      <td>陳奕迅</td>\n",
       "      <td>黑暗中漫舞</td>\n",
       "      <td>為何未能學會起舞便已抱緊你誰料到資質不配合你左腳舉起了便要別離為何未能讓我衰老便要放開你陪你...</td>\n",
       "      <td>悲傷離別</td>\n",
       "    </tr>\n",
       "    <tr>\n",
       "      <th>2203</th>\n",
       "      <td>陳奕迅</td>\n",
       "      <td>傷信</td>\n",
       "      <td>重讀著你的告別信　抑壓了暗湧雖不信寫的話　竟可以這麼重但再哭亦無用 徐徐又當這信是你　緊貼我...</td>\n",
       "      <td>悲傷離別</td>\n",
       "    </tr>\n",
       "    <tr>\n",
       "      <th>2204</th>\n",
       "      <td>陳奕迅</td>\n",
       "      <td>歲月如歌</td>\n",
       "      <td>愛上了　看見你　如何不懂謙卑去講心中理想　不會俗氣猶如看得見晨曦　才能歡天喜地抱著你　我每次...</td>\n",
       "      <td>悲傷離別</td>\n",
       "    </tr>\n",
       "    <tr>\n",
       "      <th>2205</th>\n",
       "      <td>陳奕迅</td>\n",
       "      <td>遇見了你(國)</td>\n",
       "      <td>遇見了你　讓生命美好我看見繁華的春天愛情如陽光閃耀我給你我的愛離開了我　你默默低頭我看見往事...</td>\n",
       "      <td>悲傷離別</td>\n",
       "    </tr>\n",
       "    <tr>\n",
       "      <th>2206</th>\n",
       "      <td>陳奕迅</td>\n",
       "      <td>遙遠的她</td>\n",
       "      <td>讓晚風輕輕吹送了落霞我已習慣每個傍晚去想她在遠方的她此刻可知道這段情在我心始終記掛在這半山那...</td>\n",
       "      <td>悲傷離別</td>\n",
       "    </tr>\n",
       "  </tbody>\n",
       "</table>\n",
       "<p>2206 rows × 4 columns</p>\n",
       "</div>"
      ],
      "text/plain": [
       "     Singer       Name                                              Lyric  \\\n",
       "0     A-Lin   One Life  白雲撞進藍天 激起昨天畫面我想起你的臉好久不見 在遠方的My Friend不論晴天雨天 也會...   \n",
       "1     A-Lin   最好的朋友在身邊  一起笑一起哭一起鬧久別的回憶又浮現一點點一天天一年年最好的朋友在身邊一起走一起跑一起跳相聚到...   \n",
       "2     A-Lin       愛的可能  你出現我身邊 像個奇蹟發生沒想到會是你 讓我如此失魂我心中的感覺是這樣陌生快樂的牽掛在相聚的...   \n",
       "3     A-Lin      太太太耐斯  孩子還沒睡 拜託別鬧手遊聲太吵 狗狗在叫碗盤在洗碗槽 主婦的煩惱惱公不瞭 他先洗澡奶瓶把香水...   \n",
       "4     A-Lin    抱歉 我不抱歉  恨 什麼叫恨 這個單字 好陌生我只記得 一路走來 愛的人就算他們 多可恨等 雖然溫柔 還打不...   \n",
       "...     ...        ...                                                ...   \n",
       "2202    陳奕迅      黑暗中漫舞  為何未能學會起舞便已抱緊你誰料到資質不配合你左腳舉起了便要別離為何未能讓我衰老便要放開你陪你...   \n",
       "2203    陳奕迅         傷信  重讀著你的告別信　抑壓了暗湧雖不信寫的話　竟可以這麼重但再哭亦無用 徐徐又當這信是你　緊貼我...   \n",
       "2204    陳奕迅       歲月如歌  愛上了　看見你　如何不懂謙卑去講心中理想　不會俗氣猶如看得見晨曦　才能歡天喜地抱著你　我每次...   \n",
       "2205    陳奕迅    遇見了你(國)  遇見了你　讓生命美好我看見繁華的春天愛情如陽光閃耀我給你我的愛離開了我　你默默低頭我看見往事...   \n",
       "2206    陳奕迅       遙遠的她  讓晚風輕輕吹送了落霞我已習慣每個傍晚去想她在遠方的她此刻可知道這段情在我心始終記掛在這半山那...   \n",
       "\n",
       "     Category  \n",
       "0        勵志友情  \n",
       "1        勵志友情  \n",
       "2        勵志友情  \n",
       "3      反抗反駁反諷  \n",
       "4      反抗反駁反諷  \n",
       "...       ...  \n",
       "2202     悲傷離別  \n",
       "2203     悲傷離別  \n",
       "2204     悲傷離別  \n",
       "2205     悲傷離別  \n",
       "2206     悲傷離別  \n",
       "\n",
       "[2206 rows x 4 columns]"
      ]
     },
     "execution_count": 5,
     "metadata": {},
     "output_type": "execute_result"
    }
   ],
   "source": [
    "df.loc[df.Category == '勵志','Category'] = '勵志友情'\n",
    "df.loc[df.Category == '友情','Category'] = '勵志友情'\n",
    "df.loc[df.Category == '悲傷','Category'] = '悲傷離別'\n",
    "df.loc[df.Category == '離別','Category'] = '悲傷離別'\n",
    "df.loc[df.Category == '特殊主題','Category'] = '其他'\n",
    "df.loc[df.Category == '嗨歌','Category'] = '其他'\n",
    "df.loc[df.Category == '親情','Category'] = '其他'\n",
    "df.loc[df.Category == '感謝','Category'] = '想法表達'\n",
    "df"
   ]
  },
  {
   "cell_type": "code",
   "execution_count": 6,
   "id": "bf9ee61d",
   "metadata": {},
   "outputs": [
    {
     "data": {
      "text/html": [
       "<div>\n",
       "<style scoped>\n",
       "    .dataframe tbody tr th:only-of-type {\n",
       "        vertical-align: middle;\n",
       "    }\n",
       "\n",
       "    .dataframe tbody tr th {\n",
       "        vertical-align: top;\n",
       "    }\n",
       "\n",
       "    .dataframe thead th {\n",
       "        text-align: right;\n",
       "    }\n",
       "</style>\n",
       "<table border=\"1\" class=\"dataframe\">\n",
       "  <thead>\n",
       "    <tr style=\"text-align: right;\">\n",
       "      <th></th>\n",
       "      <th>Category</th>\n",
       "      <th>count</th>\n",
       "    </tr>\n",
       "  </thead>\n",
       "  <tbody>\n",
       "    <tr>\n",
       "      <th>0</th>\n",
       "      <td>愛情</td>\n",
       "      <td>874</td>\n",
       "    </tr>\n",
       "    <tr>\n",
       "      <th>1</th>\n",
       "      <td>想法表達</td>\n",
       "      <td>428</td>\n",
       "    </tr>\n",
       "    <tr>\n",
       "      <th>2</th>\n",
       "      <td>悲傷離別</td>\n",
       "      <td>292</td>\n",
       "    </tr>\n",
       "    <tr>\n",
       "      <th>3</th>\n",
       "      <td>勵志友情</td>\n",
       "      <td>209</td>\n",
       "    </tr>\n",
       "    <tr>\n",
       "      <th>4</th>\n",
       "      <td>反抗反駁反諷</td>\n",
       "      <td>206</td>\n",
       "    </tr>\n",
       "    <tr>\n",
       "      <th>5</th>\n",
       "      <td>其他</td>\n",
       "      <td>197</td>\n",
       "    </tr>\n",
       "  </tbody>\n",
       "</table>\n",
       "</div>"
      ],
      "text/plain": [
       "  Category  count\n",
       "0       愛情    874\n",
       "1     想法表達    428\n",
       "2     悲傷離別    292\n",
       "3     勵志友情    209\n",
       "4   反抗反駁反諷    206\n",
       "5       其他    197"
      ]
     },
     "execution_count": 6,
     "metadata": {},
     "output_type": "execute_result"
    }
   ],
   "source": [
    "d = {'Category': df['Category'].value_counts().index, 'count': df['Category'].value_counts()}\n",
    "df_cat = pd.DataFrame(data = d).reset_index(drop = True)\n",
    "df_cat"
   ]
  },
  {
   "cell_type": "markdown",
   "id": "55d06f70",
   "metadata": {},
   "source": [
    "# Preprocessing"
   ]
  },
  {
   "cell_type": "code",
   "execution_count": 7,
   "id": "79c242cd",
   "metadata": {},
   "outputs": [],
   "source": [
    "condition = df['Category'] == '愛情'\n",
    "df_select = df[condition].sample(200)\n",
    "condition = df['Category'] == '想法表達'\n",
    "df_tmp = df[condition].sample(0)\n",
    "df_select = pd.concat([df_select, df_tmp])\n",
    "condition = df['Category'] == '勵志友情'\n",
    "df_tmp = df[condition].sample(200)\n",
    "df_select = pd.concat([df_select, df_tmp])\n",
    "condition = df['Category'] == '悲傷離別'\n",
    "df_tmp = df[condition].sample(200)\n",
    "df_select = pd.concat([df_select, df_tmp])\n",
    "condition = df['Category'] == '反抗反駁反諷'\n",
    "df_tmp = df[condition].sample(200)\n",
    "df_select = pd.concat([df_select, df_tmp])\n",
    "\n",
    "df_select = df_select.reset_index(drop=True)"
   ]
  },
  {
   "cell_type": "code",
   "execution_count": 8,
   "id": "87490293",
   "metadata": {},
   "outputs": [],
   "source": [
    "categories = list(df_select['Category'].value_counts().index)\n",
    "cat_to_id = dict(zip(categories, range(len(categories))))\n",
    "def label_to_id(line):\n",
    "    line = str(line)\n",
    "    return cat_to_id[line]"
   ]
  },
  {
   "cell_type": "code",
   "execution_count": 9,
   "id": "5b6256c3",
   "metadata": {},
   "outputs": [],
   "source": [
    "def remove_punctuation(line):\n",
    "    stopwords = [line.strip() for line in open('./data/stopwords.txt', 'r', encoding='utf-8').readlines()]\n",
    "    line = str(line)\n",
    "    if line.strip() == '':\n",
    "        return ''\n",
    "    re_han = re.compile(u\"[^a-zA-Z0-9\\u4E00-\\u9FA5]\")\n",
    "    line = re_han.sub('', line)\n",
    "    cut = [w for w in list(jieba.cut(line)) if w not in stopwords]\n",
    "    res = \", \".join(cut)\n",
    "    return res"
   ]
  },
  {
   "cell_type": "code",
   "execution_count": 10,
   "id": "599f9c43",
   "metadata": {},
   "outputs": [],
   "source": [
    "def count_words(line):\n",
    "    line_list = line.split(', ')\n",
    "    return len(line_list)"
   ]
  },
  {
   "cell_type": "code",
   "execution_count": 11,
   "id": "f090a6b3",
   "metadata": {
    "scrolled": true
   },
   "outputs": [
    {
     "name": "stderr",
     "output_type": "stream",
     "text": [
      "Building prefix dict from the default dictionary ...\n",
      "Loading model from cache /tmp/jieba.cache\n",
      "Loading model cost 1.277 seconds.\n",
      "Prefix dict has been built successfully.\n"
     ]
    }
   ],
   "source": [
    "df_select['y'] = df_select['Category'].apply(label_to_id)\n",
    "df_select['seg_text'] = df_select['Lyric'].apply(remove_punctuation)\n",
    "df_select['word_num'] = df_select['seg_text'].apply(count_words)"
   ]
  },
  {
   "cell_type": "code",
   "execution_count": 12,
   "id": "3f3f3e6c",
   "metadata": {},
   "outputs": [
    {
     "data": {
      "text/html": [
       "<div>\n",
       "<style scoped>\n",
       "    .dataframe tbody tr th:only-of-type {\n",
       "        vertical-align: middle;\n",
       "    }\n",
       "\n",
       "    .dataframe tbody tr th {\n",
       "        vertical-align: top;\n",
       "    }\n",
       "\n",
       "    .dataframe thead th {\n",
       "        text-align: right;\n",
       "    }\n",
       "</style>\n",
       "<table border=\"1\" class=\"dataframe\">\n",
       "  <thead>\n",
       "    <tr style=\"text-align: right;\">\n",
       "      <th></th>\n",
       "      <th>Singer</th>\n",
       "      <th>Name</th>\n",
       "      <th>Lyric</th>\n",
       "      <th>Category</th>\n",
       "      <th>y</th>\n",
       "      <th>seg_text</th>\n",
       "      <th>word_num</th>\n",
       "    </tr>\n",
       "  </thead>\n",
       "  <tbody>\n",
       "    <tr>\n",
       "      <th>0</th>\n",
       "      <td>蘇打綠</td>\n",
       "      <td>我賴你</td>\n",
       "      <td>我只想懶懶地懶懶地黏著你賴著你 賴著你 愛著你我不要天 我也不要地懶在這裡 爛在這裡 一生一...</td>\n",
       "      <td>愛情</td>\n",
       "      <td>0</td>\n",
       "      <td>只, 想, 懶, 懶, 懶, 懶地, 黏著, 賴著, 賴著, 愛著, 天, 地懶, 這裡爛,...</td>\n",
       "      <td>47</td>\n",
       "    </tr>\n",
       "    <tr>\n",
       "      <th>1</th>\n",
       "      <td>陳奕迅</td>\n",
       "      <td>我杯茶(featuring莫文蔚)</td>\n",
       "      <td>一束花要贈與她 美吧 (算吧)魂遊在漫步 仿似天永不倒下他跟她說爛笑話 笑吧 (笑話)誰又知...</td>\n",
       "      <td>愛情</td>\n",
       "      <td>0</td>\n",
       "      <td>一束花, 贈, 美, 算, 魂遊, 漫步, 仿似, 天, 永不倒, 下, 說爛, 笑, 話,...</td>\n",
       "      <td>156</td>\n",
       "    </tr>\n",
       "    <tr>\n",
       "      <th>2</th>\n",
       "      <td>陳奕迅</td>\n",
       "      <td>收心操</td>\n",
       "      <td>收心操年紀也不小愛著你再也不想討價還價我想我快要變成你家的貓看不出當年浪子那金不換週末窩在家...</td>\n",
       "      <td>愛情</td>\n",
       "      <td>0</td>\n",
       "      <td>收心操, 年紀, 不小, 愛著, 再也, 不想, 討價, 還價, 想, 變成, 你家, 的貓...</td>\n",
       "      <td>154</td>\n",
       "    </tr>\n",
       "    <tr>\n",
       "      <th>3</th>\n",
       "      <td>田馥甄</td>\n",
       "      <td>餘波蕩漾</td>\n",
       "      <td>不是你　我不會懂世界　有多大那一片薰衣草的海浪在回憶中餘波蕩樣感受風　的溫差和人世　的無常一...</td>\n",
       "      <td>愛情</td>\n",
       "      <td>0</td>\n",
       "      <td>懂, 世界, 一片, 薰衣草, 海浪, 回憶, 中餘波, 蕩, 樣, 感受, 風, 溫差, ...</td>\n",
       "      <td>115</td>\n",
       "    </tr>\n",
       "    <tr>\n",
       "      <th>4</th>\n",
       "      <td>蔡依林</td>\n",
       "      <td>熱冬(Hot Winter)</td>\n",
       "      <td>HOT HOT HOT HOT氣候暖化我的心卻在冬眠桃花少到比北極熊還可憐周末夜沒有半通手機...</td>\n",
       "      <td>愛情</td>\n",
       "      <td>0</td>\n",
       "      <td>HOTHOTHOTHOT, 氣候, 暖化, 心, 卻, 冬眠, 桃花, 少到, 比北極, 熊...</td>\n",
       "      <td>110</td>\n",
       "    </tr>\n",
       "    <tr>\n",
       "      <th>...</th>\n",
       "      <td>...</td>\n",
       "      <td>...</td>\n",
       "      <td>...</td>\n",
       "      <td>...</td>\n",
       "      <td>...</td>\n",
       "      <td>...</td>\n",
       "      <td>...</td>\n",
       "    </tr>\n",
       "    <tr>\n",
       "      <th>795</th>\n",
       "      <td>鄧紫棋</td>\n",
       "      <td>差不多姑娘</td>\n",
       "      <td>差不多的姑娘追逐差不多的漂亮她們差不多的願望牽著她們鼻子方向我回到差不多的家躺在差不多的沙發...</td>\n",
       "      <td>反抗反駁反諷</td>\n",
       "      <td>3</td>\n",
       "      <td>姑娘, 追逐, 漂亮, 願望, 牽著, 鼻子, 方向, 回到, 家, 躺, 沙發, 微博, ...</td>\n",
       "      <td>170</td>\n",
       "    </tr>\n",
       "    <tr>\n",
       "      <th>796</th>\n",
       "      <td>陳奕迅</td>\n",
       "      <td>傅科擺</td>\n",
       "      <td>還搖晃 無風不起浪別詢問 多少海拔蕩下去 什麼也不要想任命運 去興風作浪我寧願 我誰都不像裝...</td>\n",
       "      <td>反抗反駁反諷</td>\n",
       "      <td>3</td>\n",
       "      <td>還搖晃, 無風, 浪別, 詢問, 海拔, 蕩, 下去, 想, 任命, 運去, 興風, 作浪,...</td>\n",
       "      <td>142</td>\n",
       "    </tr>\n",
       "    <tr>\n",
       "      <th>797</th>\n",
       "      <td>陳奕迅</td>\n",
       "      <td>斯德哥爾摩情人</td>\n",
       "      <td>逃避分開的孤獨 情願一起不舒服其實你那佔有欲 咬噬我血肉 怕我也有份教育未能做空虛的枯木 滯...</td>\n",
       "      <td>反抗反駁反諷</td>\n",
       "      <td>3</td>\n",
       "      <td>逃避, 分開, 孤, 獨情, 願, 一起, 舒服, 佔, 欲, 咬噬, 血肉, 有份, 教育...</td>\n",
       "      <td>248</td>\n",
       "    </tr>\n",
       "    <tr>\n",
       "      <th>798</th>\n",
       "      <td>蕭敬騰</td>\n",
       "      <td>美麗，醜與我</td>\n",
       "      <td>美麗的是不是掩蓋著醜陋醜陋的是否能將永恆解鎖或許答案不只是美麗與否還有一個我 還有一個我我怎...</td>\n",
       "      <td>反抗反駁反諷</td>\n",
       "      <td>3</td>\n",
       "      <td>美麗, 是不是, 掩蓋著, 醜陋, 醜陋, 是否, 將永恆, 解鎖, 答案, 美麗, 否, ...</td>\n",
       "      <td>51</td>\n",
       "    </tr>\n",
       "    <tr>\n",
       "      <th>799</th>\n",
       "      <td>A-Lin</td>\n",
       "      <td>假娃娃</td>\n",
       "      <td>鏡子裡的洋娃娃好像認識她　卻不瞭解她在美麗的包裝下有一顆心　無力在掙扎她　為愛　走進一座象牙...</td>\n",
       "      <td>反抗反駁反諷</td>\n",
       "      <td>3</td>\n",
       "      <td>鏡子裡, 洋娃娃, 好像, 認識, 卻, 瞭解, 美麗, 包裝, 下, 一顆, 心無力, 掙...</td>\n",
       "      <td>132</td>\n",
       "    </tr>\n",
       "  </tbody>\n",
       "</table>\n",
       "<p>800 rows × 7 columns</p>\n",
       "</div>"
      ],
      "text/plain": [
       "    Singer                Name  \\\n",
       "0      蘇打綠                 我賴你   \n",
       "1      陳奕迅   我杯茶(featuring莫文蔚)   \n",
       "2      陳奕迅                 收心操   \n",
       "3      田馥甄                餘波蕩漾   \n",
       "4      蔡依林      熱冬(Hot Winter)   \n",
       "..     ...                 ...   \n",
       "795    鄧紫棋               差不多姑娘   \n",
       "796    陳奕迅                 傅科擺   \n",
       "797    陳奕迅             斯德哥爾摩情人   \n",
       "798    蕭敬騰              美麗，醜與我   \n",
       "799  A-Lin                 假娃娃   \n",
       "\n",
       "                                                 Lyric Category  y  \\\n",
       "0    我只想懶懶地懶懶地黏著你賴著你 賴著你 愛著你我不要天 我也不要地懶在這裡 爛在這裡 一生一...       愛情  0   \n",
       "1    一束花要贈與她 美吧 (算吧)魂遊在漫步 仿似天永不倒下他跟她說爛笑話 笑吧 (笑話)誰又知...       愛情  0   \n",
       "2    收心操年紀也不小愛著你再也不想討價還價我想我快要變成你家的貓看不出當年浪子那金不換週末窩在家...       愛情  0   \n",
       "3    不是你　我不會懂世界　有多大那一片薰衣草的海浪在回憶中餘波蕩樣感受風　的溫差和人世　的無常一...       愛情  0   \n",
       "4    HOT HOT HOT HOT氣候暖化我的心卻在冬眠桃花少到比北極熊還可憐周末夜沒有半通手機...       愛情  0   \n",
       "..                                                 ...      ... ..   \n",
       "795  差不多的姑娘追逐差不多的漂亮她們差不多的願望牽著她們鼻子方向我回到差不多的家躺在差不多的沙發...   反抗反駁反諷  3   \n",
       "796  還搖晃 無風不起浪別詢問 多少海拔蕩下去 什麼也不要想任命運 去興風作浪我寧願 我誰都不像裝...   反抗反駁反諷  3   \n",
       "797  逃避分開的孤獨 情願一起不舒服其實你那佔有欲 咬噬我血肉 怕我也有份教育未能做空虛的枯木 滯...   反抗反駁反諷  3   \n",
       "798  美麗的是不是掩蓋著醜陋醜陋的是否能將永恆解鎖或許答案不只是美麗與否還有一個我 還有一個我我怎...   反抗反駁反諷  3   \n",
       "799  鏡子裡的洋娃娃好像認識她　卻不瞭解她在美麗的包裝下有一顆心　無力在掙扎她　為愛　走進一座象牙...   反抗反駁反諷  3   \n",
       "\n",
       "                                              seg_text  word_num  \n",
       "0    只, 想, 懶, 懶, 懶, 懶地, 黏著, 賴著, 賴著, 愛著, 天, 地懶, 這裡爛,...        47  \n",
       "1    一束花, 贈, 美, 算, 魂遊, 漫步, 仿似, 天, 永不倒, 下, 說爛, 笑, 話,...       156  \n",
       "2    收心操, 年紀, 不小, 愛著, 再也, 不想, 討價, 還價, 想, 變成, 你家, 的貓...       154  \n",
       "3    懂, 世界, 一片, 薰衣草, 海浪, 回憶, 中餘波, 蕩, 樣, 感受, 風, 溫差, ...       115  \n",
       "4    HOTHOTHOTHOT, 氣候, 暖化, 心, 卻, 冬眠, 桃花, 少到, 比北極, 熊...       110  \n",
       "..                                                 ...       ...  \n",
       "795  姑娘, 追逐, 漂亮, 願望, 牽著, 鼻子, 方向, 回到, 家, 躺, 沙發, 微博, ...       170  \n",
       "796  還搖晃, 無風, 浪別, 詢問, 海拔, 蕩, 下去, 想, 任命, 運去, 興風, 作浪,...       142  \n",
       "797  逃避, 分開, 孤, 獨情, 願, 一起, 舒服, 佔, 欲, 咬噬, 血肉, 有份, 教育...       248  \n",
       "798  美麗, 是不是, 掩蓋著, 醜陋, 醜陋, 是否, 將永恆, 解鎖, 答案, 美麗, 否, ...        51  \n",
       "799  鏡子裡, 洋娃娃, 好像, 認識, 卻, 瞭解, 美麗, 包裝, 下, 一顆, 心無力, 掙...       132  \n",
       "\n",
       "[800 rows x 7 columns]"
      ]
     },
     "execution_count": 12,
     "metadata": {},
     "output_type": "execute_result"
    }
   ],
   "source": [
    "df_select"
   ]
  },
  {
   "cell_type": "code",
   "execution_count": 13,
   "id": "c0ac3d90",
   "metadata": {},
   "outputs": [
    {
     "data": {
      "text/plain": [
       "109.22375"
      ]
     },
     "execution_count": 13,
     "metadata": {},
     "output_type": "execute_result"
    }
   ],
   "source": [
    "df_select[\"word_num\"].mean()"
   ]
  },
  {
   "cell_type": "code",
   "execution_count": 14,
   "id": "53885b75",
   "metadata": {
    "scrolled": true
   },
   "outputs": [
    {
     "data": {
      "text/html": [
       "<div>\n",
       "<style scoped>\n",
       "    .dataframe tbody tr th:only-of-type {\n",
       "        vertical-align: middle;\n",
       "    }\n",
       "\n",
       "    .dataframe tbody tr th {\n",
       "        vertical-align: top;\n",
       "    }\n",
       "\n",
       "    .dataframe thead th {\n",
       "        text-align: right;\n",
       "    }\n",
       "</style>\n",
       "<table border=\"1\" class=\"dataframe\">\n",
       "  <thead>\n",
       "    <tr style=\"text-align: right;\">\n",
       "      <th></th>\n",
       "      <th>Category</th>\n",
       "      <th>count</th>\n",
       "    </tr>\n",
       "  </thead>\n",
       "  <tbody>\n",
       "    <tr>\n",
       "      <th>0</th>\n",
       "      <td>愛情</td>\n",
       "      <td>200</td>\n",
       "    </tr>\n",
       "    <tr>\n",
       "      <th>1</th>\n",
       "      <td>勵志友情</td>\n",
       "      <td>200</td>\n",
       "    </tr>\n",
       "    <tr>\n",
       "      <th>2</th>\n",
       "      <td>悲傷離別</td>\n",
       "      <td>200</td>\n",
       "    </tr>\n",
       "    <tr>\n",
       "      <th>3</th>\n",
       "      <td>反抗反駁反諷</td>\n",
       "      <td>200</td>\n",
       "    </tr>\n",
       "  </tbody>\n",
       "</table>\n",
       "</div>"
      ],
      "text/plain": [
       "  Category  count\n",
       "0       愛情    200\n",
       "1     勵志友情    200\n",
       "2     悲傷離別    200\n",
       "3   反抗反駁反諷    200"
      ]
     },
     "execution_count": 14,
     "metadata": {},
     "output_type": "execute_result"
    }
   ],
   "source": [
    "d = {'Category': df_select['Category'].value_counts().index, 'count': df_select['Category'].value_counts()}\n",
    "df_cat = pd.DataFrame(data = d).reset_index(drop = True)\n",
    "df_cat"
   ]
  },
  {
   "cell_type": "markdown",
   "id": "75bfde4e",
   "metadata": {},
   "source": [
    "# Get train / val / test"
   ]
  },
  {
   "cell_type": "code",
   "execution_count": 15,
   "id": "bf8d8d8c",
   "metadata": {},
   "outputs": [],
   "source": [
    "from gensim.models.doc2vec import TaggedDocument\n",
    "import collections"
   ]
  },
  {
   "cell_type": "code",
   "execution_count": 16,
   "id": "cacbc872",
   "metadata": {},
   "outputs": [
    {
     "data": {
      "text/html": [
       "<div>\n",
       "<style scoped>\n",
       "    .dataframe tbody tr th:only-of-type {\n",
       "        vertical-align: middle;\n",
       "    }\n",
       "\n",
       "    .dataframe tbody tr th {\n",
       "        vertical-align: top;\n",
       "    }\n",
       "\n",
       "    .dataframe thead th {\n",
       "        text-align: right;\n",
       "    }\n",
       "</style>\n",
       "<table border=\"1\" class=\"dataframe\">\n",
       "  <thead>\n",
       "    <tr style=\"text-align: right;\">\n",
       "      <th></th>\n",
       "      <th>Singer</th>\n",
       "      <th>Name</th>\n",
       "      <th>Lyric</th>\n",
       "      <th>Category</th>\n",
       "      <th>y</th>\n",
       "      <th>seg_text</th>\n",
       "      <th>word_num</th>\n",
       "    </tr>\n",
       "  </thead>\n",
       "  <tbody>\n",
       "    <tr>\n",
       "      <th>0</th>\n",
       "      <td>陳奕迅</td>\n",
       "      <td>人來人往</td>\n",
       "      <td>朋友已走　剛升職的你舉杯到凌晨還未夠　用盡心機拉我手纏在我頸背後　說你男友有事忙是借口　說到...</td>\n",
       "      <td>愛情</td>\n",
       "      <td>0</td>\n",
       "      <td>朋友, 已, 走, 剛升職, 舉杯, 凌晨, 還未夠, 盡心, 機拉, 手, 纏, 頸, 背...</td>\n",
       "      <td>141</td>\n",
       "    </tr>\n",
       "    <tr>\n",
       "      <th>1</th>\n",
       "      <td>蔡依林</td>\n",
       "      <td>迷幻(Fantasy)</td>\n",
       "      <td>你本來就名為快樂 自然的角色你應該看清楚自己 多麼地難得愛若虛假 終將褪色你是陽光和雨交界 ...</td>\n",
       "      <td>愛情</td>\n",
       "      <td>0</td>\n",
       "      <td>本來, 名為, 快樂, 自然, 角色, 應該, 看清楚, 多麼, 地難, 愛若虛假, 終將,...</td>\n",
       "      <td>131</td>\n",
       "    </tr>\n",
       "    <tr>\n",
       "      <th>2</th>\n",
       "      <td>陳奕迅</td>\n",
       "      <td>跳蚤市場</td>\n",
       "      <td>激情不再精彩你將它往外甩搞不好有人將它撿起來還天啊地啊將它捧著每天拜一拜你現在的最愛曾經給誰...</td>\n",
       "      <td>反抗反駁反諷</td>\n",
       "      <td>3</td>\n",
       "      <td>激情, 精彩, 你將, 往外, 甩, 搞不好, 有人, 將它, 撿, 還天, 將它, 捧, ...</td>\n",
       "      <td>111</td>\n",
       "    </tr>\n",
       "    <tr>\n",
       "      <th>3</th>\n",
       "      <td>張惠妹</td>\n",
       "      <td>兩端(張惠妹+蒲巴甲)</td>\n",
       "      <td>聽見遙遠的聲音　陌生卻又熟悉　傳遞在夜的風裡 當我在熱鬧節慶　背著煙花哭泣　遠方的你是否嘆息...</td>\n",
       "      <td>愛情</td>\n",
       "      <td>0</td>\n",
       "      <td>聽見, 遙遠, 聲音, 陌生, 卻, 熟悉, 傳遞, 夜, 風裡當, 熱鬧, 節慶, 背著,...</td>\n",
       "      <td>134</td>\n",
       "    </tr>\n",
       "    <tr>\n",
       "      <th>4</th>\n",
       "      <td>蔡依林</td>\n",
       "      <td>天空</td>\n",
       "      <td>聽著自己的心跳　沒有規則地跳躍　我安靜地在思考　並不想被誰打擾　我們曾緊緊擁抱　卻又輕易地放...</td>\n",
       "      <td>悲傷離別</td>\n",
       "      <td>2</td>\n",
       "      <td>聽著, 心跳, 規則, 跳, 躍我安靜, 思考, 不想, 打擾, 曾, 緊緊, 擁抱, 卻,...</td>\n",
       "      <td>64</td>\n",
       "    </tr>\n",
       "    <tr>\n",
       "      <th>...</th>\n",
       "      <td>...</td>\n",
       "      <td>...</td>\n",
       "      <td>...</td>\n",
       "      <td>...</td>\n",
       "      <td>...</td>\n",
       "      <td>...</td>\n",
       "      <td>...</td>\n",
       "    </tr>\n",
       "    <tr>\n",
       "      <th>795</th>\n",
       "      <td>SHE</td>\n",
       "      <td>青春是</td>\n",
       "      <td>青春是道情不自禁燦爛的陽光一雙渴望翻山越嶺透明的翅膀迫不及待要在蔚藍天空裡奔向 我的愛 我的...</td>\n",
       "      <td>勵志友情</td>\n",
       "      <td>1</td>\n",
       "      <td>青春, 道, 情不自禁, 燦爛, 陽光, 一雙, 渴望, 翻, 山越, 嶺, 透明, 翅膀,...</td>\n",
       "      <td>88</td>\n",
       "    </tr>\n",
       "    <tr>\n",
       "      <th>796</th>\n",
       "      <td>張惠妹</td>\n",
       "      <td>姊妹</td>\n",
       "      <td>春天風會笑　唱來歌聲俏　你就像隻快樂鳥夏天日頭炎　綠野在燃燒　你讓世界更美好記得你的笑　記得...</td>\n",
       "      <td>勵志友情</td>\n",
       "      <td>1</td>\n",
       "      <td>春天, 風會, 笑, 唱, 歌聲, 俏, 隻, 快樂鳥, 夏天, 日頭炎, 綠野, 燃燒, ...</td>\n",
       "      <td>59</td>\n",
       "    </tr>\n",
       "    <tr>\n",
       "      <th>797</th>\n",
       "      <td>A-Lin</td>\n",
       "      <td>難得</td>\n",
       "      <td>我還記得 我挽著你的手天冷時候 一起躲在棉被中那時我們不害怕犯錯那時以為天空多遼闊朋友都說 ...</td>\n",
       "      <td>愛情</td>\n",
       "      <td>0</td>\n",
       "      <td>還記, 挽著, 手天, 冷時候, 一起, 躲, 棉被, 中, 害怕, 犯錯, 天空, 遼闊,...</td>\n",
       "      <td>103</td>\n",
       "    </tr>\n",
       "    <tr>\n",
       "      <th>798</th>\n",
       "      <td>鄧紫棋</td>\n",
       "      <td>瞬間</td>\n",
       "      <td>時間一去不返 回憶總會消散猛然回頭一看 我們快樂但短暫花曾開得燦爛 笑曾點亮夜晚然而雙眼一眨...</td>\n",
       "      <td>勵志友情</td>\n",
       "      <td>1</td>\n",
       "      <td>時間, 一去不返, 回憶, 總會, 消散, 回頭, 一看, 快樂, 短, 暫花, 曾, 開得...</td>\n",
       "      <td>97</td>\n",
       "    </tr>\n",
       "    <tr>\n",
       "      <th>799</th>\n",
       "      <td>陳奕迅</td>\n",
       "      <td>美麗有罪</td>\n",
       "      <td>藏頭露尾　設計太卑鄙裝作收進地牢故意洩露香味床頭玩到尾　吋吋是禁地明知道兇案現場亦睡在原地　...</td>\n",
       "      <td>反抗反駁反諷</td>\n",
       "      <td>3</td>\n",
       "      <td>藏頭, 露尾, 設計, 太, 卑鄙, 裝作, 收進, 地牢, 洩露, 香味, 床頭, 玩, ...</td>\n",
       "      <td>110</td>\n",
       "    </tr>\n",
       "  </tbody>\n",
       "</table>\n",
       "<p>800 rows × 7 columns</p>\n",
       "</div>"
      ],
      "text/plain": [
       "    Singer          Name                                              Lyric  \\\n",
       "0      陳奕迅          人來人往  朋友已走　剛升職的你舉杯到凌晨還未夠　用盡心機拉我手纏在我頸背後　說你男友有事忙是借口　說到...   \n",
       "1      蔡依林   迷幻(Fantasy)  你本來就名為快樂 自然的角色你應該看清楚自己 多麼地難得愛若虛假 終將褪色你是陽光和雨交界 ...   \n",
       "2      陳奕迅          跳蚤市場  激情不再精彩你將它往外甩搞不好有人將它撿起來還天啊地啊將它捧著每天拜一拜你現在的最愛曾經給誰...   \n",
       "3      張惠妹   兩端(張惠妹+蒲巴甲)  聽見遙遠的聲音　陌生卻又熟悉　傳遞在夜的風裡 當我在熱鬧節慶　背著煙花哭泣　遠方的你是否嘆息...   \n",
       "4      蔡依林            天空  聽著自己的心跳　沒有規則地跳躍　我安靜地在思考　並不想被誰打擾　我們曾緊緊擁抱　卻又輕易地放...   \n",
       "..     ...           ...                                                ...   \n",
       "795    SHE           青春是  青春是道情不自禁燦爛的陽光一雙渴望翻山越嶺透明的翅膀迫不及待要在蔚藍天空裡奔向 我的愛 我的...   \n",
       "796    張惠妹            姊妹  春天風會笑　唱來歌聲俏　你就像隻快樂鳥夏天日頭炎　綠野在燃燒　你讓世界更美好記得你的笑　記得...   \n",
       "797  A-Lin            難得  我還記得 我挽著你的手天冷時候 一起躲在棉被中那時我們不害怕犯錯那時以為天空多遼闊朋友都說 ...   \n",
       "798    鄧紫棋            瞬間  時間一去不返 回憶總會消散猛然回頭一看 我們快樂但短暫花曾開得燦爛 笑曾點亮夜晚然而雙眼一眨...   \n",
       "799    陳奕迅          美麗有罪  藏頭露尾　設計太卑鄙裝作收進地牢故意洩露香味床頭玩到尾　吋吋是禁地明知道兇案現場亦睡在原地　...   \n",
       "\n",
       "    Category  y                                           seg_text  word_num  \n",
       "0         愛情  0  朋友, 已, 走, 剛升職, 舉杯, 凌晨, 還未夠, 盡心, 機拉, 手, 纏, 頸, 背...       141  \n",
       "1         愛情  0  本來, 名為, 快樂, 自然, 角色, 應該, 看清楚, 多麼, 地難, 愛若虛假, 終將,...       131  \n",
       "2     反抗反駁反諷  3  激情, 精彩, 你將, 往外, 甩, 搞不好, 有人, 將它, 撿, 還天, 將它, 捧, ...       111  \n",
       "3         愛情  0  聽見, 遙遠, 聲音, 陌生, 卻, 熟悉, 傳遞, 夜, 風裡當, 熱鬧, 節慶, 背著,...       134  \n",
       "4       悲傷離別  2  聽著, 心跳, 規則, 跳, 躍我安靜, 思考, 不想, 打擾, 曾, 緊緊, 擁抱, 卻,...        64  \n",
       "..       ... ..                                                ...       ...  \n",
       "795     勵志友情  1  青春, 道, 情不自禁, 燦爛, 陽光, 一雙, 渴望, 翻, 山越, 嶺, 透明, 翅膀,...        88  \n",
       "796     勵志友情  1  春天, 風會, 笑, 唱, 歌聲, 俏, 隻, 快樂鳥, 夏天, 日頭炎, 綠野, 燃燒, ...        59  \n",
       "797       愛情  0  還記, 挽著, 手天, 冷時候, 一起, 躲, 棉被, 中, 害怕, 犯錯, 天空, 遼闊,...       103  \n",
       "798     勵志友情  1  時間, 一去不返, 回憶, 總會, 消散, 回頭, 一看, 快樂, 短, 暫花, 曾, 開得...        97  \n",
       "799   反抗反駁反諷  3  藏頭, 露尾, 設計, 太, 卑鄙, 裝作, 收進, 地牢, 洩露, 香味, 床頭, 玩, ...       110  \n",
       "\n",
       "[800 rows x 7 columns]"
      ]
     },
     "execution_count": 16,
     "metadata": {},
     "output_type": "execute_result"
    }
   ],
   "source": [
    "from sklearn.utils import shuffle\n",
    "\n",
    "np.random.seed(1234)\n",
    "\n",
    "df = shuffle(df_select)\n",
    "df.reset_index(drop = True, inplace = True)\n",
    "df"
   ]
  },
  {
   "cell_type": "code",
   "execution_count": 17,
   "id": "a5ee0819",
   "metadata": {},
   "outputs": [],
   "source": [
    "# 分割訓練集和測試集\n",
    "train, test = train_test_split(df, test_size = 0.2, random_state = 27, stratify = df.Category.values)\n",
    "train, val = train_test_split(train, test_size = 0.125, random_state = 27, stratify = train.Category.values)"
   ]
  },
  {
   "cell_type": "code",
   "execution_count": 18,
   "id": "473f2fe6",
   "metadata": {},
   "outputs": [],
   "source": [
    "# 對標籤進行編碼\n",
    "train_y = train.y\n",
    "val_y = val.y\n",
    "test_y = test.y\n",
    "le = LabelEncoder()\n",
    "train_y = le.fit_transform(train_y).reshape(-1, 1)\n",
    "val_y = le.transform(val_y).reshape(-1, 1)\n",
    "test_y = le.transform(test_y).reshape(-1, 1)\n",
    "\n",
    "# 將標籤編碼轉成onehot\n",
    "ohe = OneHotEncoder()\n",
    "train_y = ohe.fit_transform(train_y).toarray()\n",
    "val_y = ohe.transform(val_y).toarray()\n",
    "test_y = ohe.transform(test_y).toarray()"
   ]
  },
  {
   "cell_type": "code",
   "execution_count": 19,
   "id": "2f1f556c",
   "metadata": {
    "scrolled": true
   },
   "outputs": [],
   "source": [
    "## 使用Tokenizer對詞組進行編碼，編號是根據詞頻，詞頻越大，編號越小\n",
    "max_words = 7000\n",
    "max_len = 120\n",
    "tok = Tokenizer(num_words = max_words)  ## 使用的最大词语数为5000\n",
    "tok.fit_on_texts(train.seg_text)"
   ]
  },
  {
   "cell_type": "code",
   "execution_count": 20,
   "id": "d118694f",
   "metadata": {},
   "outputs": [
    {
     "name": "stdout",
     "output_type": "stream",
     "text": [
      "(560, 120)\n",
      "(80, 120)\n",
      "(160, 120)\n"
     ]
    }
   ],
   "source": [
    "# 將數據轉換成序列\n",
    "train_seq = tok.texts_to_sequences(train.seg_text)\n",
    "val_seq = tok.texts_to_sequences(val.seg_text)\n",
    "test_seq = tok.texts_to_sequences(test.seg_text)\n",
    "# 將序列調整為一樣長度 (padding)\n",
    "train_seq_mat = sequence.pad_sequences(train_seq, maxlen = max_len)\n",
    "val_seq_mat = sequence.pad_sequences(val_seq, maxlen = max_len)\n",
    "test_seq_mat = sequence.pad_sequences(test_seq, maxlen = max_len)\n",
    "\n",
    "print(train_seq_mat.shape)\n",
    "print(val_seq_mat.shape)\n",
    "print(test_seq_mat.shape)"
   ]
  },
  {
   "cell_type": "markdown",
   "id": "d1445d28",
   "metadata": {},
   "source": [
    "# Build Model"
   ]
  },
  {
   "cell_type": "markdown",
   "id": "6d187423",
   "metadata": {},
   "source": [
    "## Define Attention Layer"
   ]
  },
  {
   "cell_type": "code",
   "execution_count": 21,
   "id": "8765e7ec",
   "metadata": {},
   "outputs": [],
   "source": [
    "from tensorflow.python.keras.layers import Layer\n",
    "from keras import backend as K"
   ]
  },
  {
   "cell_type": "code",
   "execution_count": 22,
   "id": "8136ec26",
   "metadata": {
    "scrolled": true
   },
   "outputs": [],
   "source": [
    "class AttentionLayer(Layer):\n",
    "    def __init__(self, attention_size=None, **kwargs):\n",
    "        self.attention_size = attention_size\n",
    "        super(AttentionLayer, self).__init__(**kwargs)\n",
    "        \n",
    "    def get_config(self):\n",
    "        config = super().get_config()\n",
    "        config['attention_size'] = self.attention_size\n",
    "        return config\n",
    "        \n",
    "    def build(self, input_shape):\n",
    "        assert len(input_shape) == 3\n",
    "        \n",
    "        self.time_steps = input_shape[1]\n",
    "        hidden_size = input_shape[2]\n",
    "        if self.attention_size is None:\n",
    "            self.attention_size = hidden_size\n",
    "            \n",
    "        self.W = self.add_weight(name='att_weight', shape=(hidden_size, self.attention_size),\n",
    "                                initializer='uniform', trainable=True)\n",
    "        self.b = self.add_weight(name='att_bias', shape=(self.attention_size,),\n",
    "                                initializer='uniform', trainable=True)\n",
    "        self.V = self.add_weight(name='att_var', shape=(self.attention_size,),\n",
    "                                initializer='uniform', trainable=True)\n",
    "        super(AttentionLayer, self).build(input_shape)\n",
    "    \n",
    "    def call(self, inputs):\n",
    "        self.V = K.reshape(self.V, (-1, 1))\n",
    "        H = K.tanh(K.dot(inputs, self.W) + self.b)\n",
    "        score = K.softmax(K.dot(H, self.V), axis=1)\n",
    "        outputs = K.sum(score * inputs, axis=1)\n",
    "        return outputs\n",
    "    \n",
    "    def compute_output_shape(self, input_shape):\n",
    "        return input_shape[0], input_shape[2]"
   ]
  },
  {
   "cell_type": "markdown",
   "id": "847c4dbc",
   "metadata": {},
   "source": [
    "## Define Model"
   ]
  },
  {
   "cell_type": "code",
   "execution_count": 23,
   "id": "f9379cab",
   "metadata": {
    "scrolled": true
   },
   "outputs": [
    {
     "name": "stderr",
     "output_type": "stream",
     "text": [
      "2022-01-06 23:26:55.408659: W tensorflow/stream_executor/platform/default/dso_loader.cc:64] Could not load dynamic library 'libcuda.so.1'; dlerror: libcuda.so.1: cannot open shared object file: No such file or directory\n",
      "2022-01-06 23:26:55.408826: W tensorflow/stream_executor/cuda/cuda_driver.cc:269] failed call to cuInit: UNKNOWN ERROR (303)\n",
      "2022-01-06 23:26:55.408903: I tensorflow/stream_executor/cuda/cuda_diagnostics.cc:156] kernel driver does not appear to be running on this host (67-0459790-H1): /proc/driver/nvidia/version does not exist\n"
     ]
    },
    {
     "name": "stdout",
     "output_type": "stream",
     "text": [
      "WARNING:tensorflow:The following Variables were used in a Lambda layer's call (tf.__operators__.add), but are not present in its tracked objects:   <tf.Variable 'attention_layer/att_bias:0' shape=(128,) dtype=float32>. This is a strong indication that the Lambda layer should be rewritten as a subclassed Layer.\n"
     ]
    },
    {
     "name": "stderr",
     "output_type": "stream",
     "text": [
      "2022-01-06 23:26:55.409450: I tensorflow/core/platform/cpu_feature_guard.cc:151] This TensorFlow binary is optimized with oneAPI Deep Neural Network Library (oneDNN) to use the following CPU instructions in performance-critical operations:  AVX2 FMA\n",
      "To enable them in other operations, rebuild TensorFlow with the appropriate compiler flags.\n"
     ]
    }
   ],
   "source": [
    "## 定義Bi-LSTM+Attention模型\n",
    "inputs = Input(name = 'inputs',shape = [max_len])\n",
    "## Embedding(詞彙表大小, batch size, 歌詞長度)\n",
    "layer = Embedding(max_words + 1, 128, input_length=max_len)(inputs)\n",
    "layer = Bidirectional(LSTM(128, dropout = 0.2, return_sequences=True), merge_mode = 'concat')(layer)\n",
    "layer = AttentionLayer(attention_size = 128)(layer)\n",
    "layer = Dense(128, activation = \"relu\", name = \"FC1\")(layer)\n",
    "layer = Dropout(0.4)(layer)\n",
    "layer = Dense(len(categories), activation = \"softmax\", name = \"FC2\")(layer)\n",
    "model_BiLSTM_Att = Model(inputs = inputs, outputs = layer)"
   ]
  },
  {
   "cell_type": "code",
   "execution_count": 24,
   "id": "c6e2f256",
   "metadata": {},
   "outputs": [],
   "source": [
    "## 定義Bi-LSTM模型\n",
    "inputs = Input(name = 'inputs',shape = [max_len])\n",
    "## Embedding(詞彙表大小, batch size, 歌詞長度)\n",
    "layer = Embedding(max_words + 1, 128, input_length=max_len)(inputs)\n",
    "layer = Bidirectional(LSTM(128, dropout = 0.2), merge_mode = 'concat')(layer)\n",
    "layer = Dense(128, activation = \"relu\", name = \"FC1\")(layer)\n",
    "layer = Dropout(0.4)(layer)\n",
    "layer = Dense(len(categories), activation = \"softmax\", name = \"FC2\")(layer)\n",
    "model_BiLSTM = Model(inputs = inputs, outputs = layer)"
   ]
  },
  {
   "cell_type": "code",
   "execution_count": 25,
   "id": "fd405ea8",
   "metadata": {},
   "outputs": [
    {
     "name": "stdout",
     "output_type": "stream",
     "text": [
      "WARNING:tensorflow:The following Variables were used in a Lambda layer's call (tf.__operators__.add_1), but are not present in its tracked objects:   <tf.Variable 'attention_layer_1/att_bias:0' shape=(128,) dtype=float32>. This is a strong indication that the Lambda layer should be rewritten as a subclassed Layer.\n"
     ]
    }
   ],
   "source": [
    "## 定義LSTM+Attention模型\n",
    "inputs = Input(name = 'inputs',shape = [max_len])\n",
    "## Embedding(詞彙表大小, batch size, 歌詞長度)\n",
    "layer = Embedding(max_words + 1, 128, input_length=max_len)(inputs)\n",
    "layer = LSTM(128, dropout = 0.2, return_sequences=True)(layer)\n",
    "layer = AttentionLayer(attention_size = 128)(layer)\n",
    "layer = Dense(128, activation = \"relu\", name = \"FC1\")(layer)\n",
    "layer = Dropout(0.4)(layer)\n",
    "layer = Dense(len(categories), activation = \"softmax\", name = \"FC2\")(layer)\n",
    "model_LSTM_Att = Model(inputs = inputs, outputs = layer)"
   ]
  },
  {
   "cell_type": "code",
   "execution_count": 26,
   "id": "fa38ddb3",
   "metadata": {},
   "outputs": [],
   "source": [
    "## 定義LSTM模型\n",
    "inputs = Input(name = 'inputs',shape = [max_len])\n",
    "## Embedding(詞彙表大小, batch size, 歌詞長度)\n",
    "layer = Embedding(max_words + 1, 128, input_length=max_len)(inputs)\n",
    "layer = LSTM(128, dropout = 0.2)(layer)\n",
    "layer = Dense(128, activation = \"relu\", name = \"FC1\")(layer)\n",
    "layer = Dropout(0.4)(layer)\n",
    "layer = Dense(len(categories), activation = \"softmax\", name = \"FC2\")(layer)\n",
    "model_LSTM = Model(inputs = inputs, outputs = layer)"
   ]
  },
  {
   "cell_type": "code",
   "execution_count": 27,
   "id": "91a3955b",
   "metadata": {
    "scrolled": true
   },
   "outputs": [
    {
     "name": "stderr",
     "output_type": "stream",
     "text": [
      "/home/vivian/miniconda3/envs/tf2/lib/python3.7/site-packages/keras/optimizer_v2/adam.py:105: UserWarning: The `lr` argument is deprecated, use `learning_rate` instead.\n",
      "  super(Adam, self).__init__(name, **kwargs)\n"
     ]
    }
   ],
   "source": [
    "# optimizer = optimizers.RMSprop(lr = 0.0001, decay = 1e-6)\n",
    "optimizer = optimizers.Adam(lr = 0.0001, decay = 1e-6)\n",
    "model_BiLSTM_Att.compile(loss = \"categorical_crossentropy\", optimizer = optimizer ,metrics = [\"accuracy\"])\n",
    "model_BiLSTM.compile(loss = \"categorical_crossentropy\", optimizer = optimizer ,metrics = [\"accuracy\"])\n",
    "model_LSTM_Att.compile(loss = \"categorical_crossentropy\", optimizer = optimizer ,metrics = [\"accuracy\"])\n",
    "model_LSTM.compile(loss = \"categorical_crossentropy\", optimizer = optimizer ,metrics = [\"accuracy\"])"
   ]
  },
  {
   "cell_type": "code",
   "execution_count": 28,
   "id": "c4639029",
   "metadata": {},
   "outputs": [
    {
     "name": "stdout",
     "output_type": "stream",
     "text": [
      "Epoch 1/10\n",
      "70/70 [==============================] - 26s 294ms/step - loss: 1.3860 - accuracy: 0.2589 - val_loss: 1.3844 - val_accuracy: 0.3375\n",
      "Epoch 2/10\n",
      "70/70 [==============================] - 18s 251ms/step - loss: 1.3832 - accuracy: 0.3411 - val_loss: 1.3820 - val_accuracy: 0.3250\n",
      "Epoch 3/10\n",
      "70/70 [==============================] - 23s 319ms/step - loss: 1.3784 - accuracy: 0.3911 - val_loss: 1.3778 - val_accuracy: 0.3375\n",
      "Epoch 4/10\n",
      "70/70 [==============================] - 23s 323ms/step - loss: 1.3676 - accuracy: 0.3875 - val_loss: 1.3624 - val_accuracy: 0.3500\n",
      "Epoch 5/10\n",
      "70/70 [==============================] - 45s 655ms/step - loss: 1.1910 - accuracy: 0.4446 - val_loss: 1.3524 - val_accuracy: 0.3625\n",
      "Epoch 6/10\n",
      "70/70 [==============================] - 36s 516ms/step - loss: 0.9486 - accuracy: 0.5232 - val_loss: 1.4690 - val_accuracy: 0.3750\n",
      "Epoch 7/10\n",
      "70/70 [==============================] - 20s 281ms/step - loss: 0.8453 - accuracy: 0.5839 - val_loss: 1.4992 - val_accuracy: 0.3625\n",
      "Epoch 8/10\n",
      "70/70 [==============================] - 24s 344ms/step - loss: 0.6897 - accuracy: 0.6821 - val_loss: 1.6288 - val_accuracy: 0.3750\n",
      "Epoch 9/10\n",
      "70/70 [==============================] - 42s 603ms/step - loss: 0.5384 - accuracy: 0.7429 - val_loss: 1.6652 - val_accuracy: 0.4250\n",
      "Epoch 10/10\n",
      "70/70 [==============================] - 36s 514ms/step - loss: 0.4248 - accuracy: 0.8143 - val_loss: 1.9875 - val_accuracy: 0.4000\n"
     ]
    }
   ],
   "source": [
    "model_BiLSTM_Att_history = model_BiLSTM_Att.fit(train_seq_mat, train_y, batch_size = 8, epochs = 10, \n",
    "                                                validation_data = (val_seq_mat, val_y))"
   ]
  },
  {
   "cell_type": "code",
   "execution_count": 29,
   "id": "708d4edd",
   "metadata": {},
   "outputs": [
    {
     "name": "stdout",
     "output_type": "stream",
     "text": [
      "Epoch 1/10\n",
      "70/70 [==============================] - 21s 234ms/step - loss: 1.3883 - accuracy: 0.2589 - val_loss: 1.3850 - val_accuracy: 0.2375\n",
      "Epoch 2/10\n",
      "70/70 [==============================] - 15s 210ms/step - loss: 1.3758 - accuracy: 0.3411 - val_loss: 1.3816 - val_accuracy: 0.2625\n",
      "Epoch 3/10\n",
      "70/70 [==============================] - 15s 209ms/step - loss: 1.3571 - accuracy: 0.3804 - val_loss: 1.3631 - val_accuracy: 0.3625\n",
      "Epoch 4/10\n",
      "70/70 [==============================] - 15s 209ms/step - loss: 1.2348 - accuracy: 0.5714 - val_loss: 1.2978 - val_accuracy: 0.4000\n",
      "Epoch 5/10\n",
      "70/70 [==============================] - 15s 210ms/step - loss: 0.9725 - accuracy: 0.6304 - val_loss: 1.3791 - val_accuracy: 0.3375\n",
      "Epoch 6/10\n",
      "70/70 [==============================] - 14s 206ms/step - loss: 0.6042 - accuracy: 0.8018 - val_loss: 1.2434 - val_accuracy: 0.4000\n",
      "Epoch 7/10\n",
      "70/70 [==============================] - 15s 215ms/step - loss: 0.3981 - accuracy: 0.8875 - val_loss: 1.6563 - val_accuracy: 0.4125\n",
      "Epoch 8/10\n",
      "70/70 [==============================] - 15s 213ms/step - loss: 0.2484 - accuracy: 0.9482 - val_loss: 1.6143 - val_accuracy: 0.4125\n",
      "Epoch 9/10\n",
      "70/70 [==============================] - 15s 208ms/step - loss: 0.1516 - accuracy: 0.9714 - val_loss: 1.5242 - val_accuracy: 0.4625\n",
      "Epoch 10/10\n",
      "70/70 [==============================] - 15s 210ms/step - loss: 0.0881 - accuracy: 0.9839 - val_loss: 1.8923 - val_accuracy: 0.4125\n"
     ]
    }
   ],
   "source": [
    "model_BiLSTM_history = model_BiLSTM.fit(train_seq_mat, train_y, batch_size = 8, epochs = 10, \n",
    "                                                validation_data = (val_seq_mat, val_y))"
   ]
  },
  {
   "cell_type": "code",
   "execution_count": 30,
   "id": "5a2271f1",
   "metadata": {},
   "outputs": [
    {
     "name": "stdout",
     "output_type": "stream",
     "text": [
      "Epoch 1/10\n",
      "70/70 [==============================] - 13s 151ms/step - loss: 1.3858 - accuracy: 0.2339 - val_loss: 1.3793 - val_accuracy: 0.3125\n",
      "Epoch 2/10\n",
      "70/70 [==============================] - 12s 171ms/step - loss: 1.3744 - accuracy: 0.3679 - val_loss: 1.3705 - val_accuracy: 0.3375\n",
      "Epoch 3/10\n",
      "70/70 [==============================] - 11s 160ms/step - loss: 1.2720 - accuracy: 0.4732 - val_loss: 1.3138 - val_accuracy: 0.4000\n",
      "Epoch 4/10\n",
      "70/70 [==============================] - 12s 166ms/step - loss: 1.0353 - accuracy: 0.5554 - val_loss: 1.3667 - val_accuracy: 0.3000\n",
      "Epoch 5/10\n",
      "70/70 [==============================] - 11s 152ms/step - loss: 0.8904 - accuracy: 0.5732 - val_loss: 1.4870 - val_accuracy: 0.4125\n",
      "Epoch 6/10\n",
      "70/70 [==============================] - 10s 147ms/step - loss: 0.7196 - accuracy: 0.6839 - val_loss: 1.6672 - val_accuracy: 0.3375\n",
      "Epoch 7/10\n",
      "70/70 [==============================] - 10s 147ms/step - loss: 0.5388 - accuracy: 0.8018 - val_loss: 1.9949 - val_accuracy: 0.3750\n",
      "Epoch 8/10\n",
      "70/70 [==============================] - 11s 151ms/step - loss: 0.4054 - accuracy: 0.9054 - val_loss: 1.9582 - val_accuracy: 0.3375\n",
      "Epoch 9/10\n",
      "70/70 [==============================] - 11s 160ms/step - loss: 0.5494 - accuracy: 0.7929 - val_loss: 1.6799 - val_accuracy: 0.4375\n",
      "Epoch 10/10\n",
      "70/70 [==============================] - 12s 173ms/step - loss: 0.3683 - accuracy: 0.8946 - val_loss: 1.9380 - val_accuracy: 0.3750\n"
     ]
    }
   ],
   "source": [
    "model_LSTM_Att_history = model_LSTM_Att.fit(train_seq_mat, train_y, batch_size = 8, epochs = 10, \n",
    "                                                validation_data = (val_seq_mat, val_y))"
   ]
  },
  {
   "cell_type": "code",
   "execution_count": 31,
   "id": "e0ae1e38",
   "metadata": {},
   "outputs": [
    {
     "name": "stdout",
     "output_type": "stream",
     "text": [
      "Epoch 1/10\n",
      "70/70 [==============================] - 18s 214ms/step - loss: 1.3864 - accuracy: 0.2429 - val_loss: 1.3857 - val_accuracy: 0.2500\n",
      "Epoch 2/10\n",
      "70/70 [==============================] - 13s 183ms/step - loss: 1.3740 - accuracy: 0.4589 - val_loss: 1.3791 - val_accuracy: 0.2625\n",
      "Epoch 3/10\n",
      "70/70 [==============================] - 25s 356ms/step - loss: 1.2904 - accuracy: 0.6589 - val_loss: 1.3156 - val_accuracy: 0.4000\n",
      "Epoch 4/10\n",
      "70/70 [==============================] - 29s 415ms/step - loss: 0.9511 - accuracy: 0.6089 - val_loss: 1.2496 - val_accuracy: 0.4625\n",
      "Epoch 5/10\n",
      "70/70 [==============================] - 22s 313ms/step - loss: 0.5866 - accuracy: 0.8125 - val_loss: 1.2718 - val_accuracy: 0.4125\n",
      "Epoch 6/10\n",
      "70/70 [==============================] - 11s 153ms/step - loss: 0.4493 - accuracy: 0.8571 - val_loss: 1.3240 - val_accuracy: 0.4000\n",
      "Epoch 7/10\n",
      "70/70 [==============================] - 11s 155ms/step - loss: 0.2373 - accuracy: 0.9536 - val_loss: 1.4707 - val_accuracy: 0.4000\n",
      "Epoch 8/10\n",
      "70/70 [==============================] - 12s 168ms/step - loss: 0.1103 - accuracy: 0.9786 - val_loss: 1.6821 - val_accuracy: 0.4250\n",
      "Epoch 9/10\n",
      "70/70 [==============================] - 11s 164ms/step - loss: 0.0879 - accuracy: 0.9786 - val_loss: 1.4228 - val_accuracy: 0.4250\n",
      "Epoch 10/10\n",
      "70/70 [==============================] - 10s 146ms/step - loss: 0.0433 - accuracy: 0.9964 - val_loss: 1.7101 - val_accuracy: 0.3875\n"
     ]
    }
   ],
   "source": [
    "model_LSTM_history = model_LSTM.fit(train_seq_mat, train_y, batch_size = 8, epochs = 10, \n",
    "                                                validation_data = (val_seq_mat, val_y))"
   ]
  },
  {
   "cell_type": "code",
   "execution_count": 32,
   "id": "a1fb2d2b",
   "metadata": {
    "scrolled": true
   },
   "outputs": [],
   "source": [
    "# model_BiLSTM_Att.save('./model/model_BiLSTM_Att.h5')\n",
    "# model_BiLSTM.save('./model/model_BiLSTM.h5')\n",
    "# model_LSTM_Att.save('./model/model_LSTM_Att.h5')\n",
    "# model_LSTM.save('./model/model_LSTM.h5')"
   ]
  },
  {
   "cell_type": "code",
   "execution_count": 33,
   "id": "1d6e44b4",
   "metadata": {},
   "outputs": [
    {
     "data": {
      "image/png": "[encoded data removed]",
      "text/plain": [
       "<Figure size 432x288 with 1 Axes>"
      ]
     },
     "metadata": {
      "needs_background": "light"
     },
     "output_type": "display_data"
    },
    {
     "data": {
      "image/png": "[encoded data removed]",
      "text/plain": [
       "<Figure size 432x288 with 1 Axes>"
      ]
     },
     "metadata": {
      "needs_background": "light"
     },
     "output_type": "display_data"
    }
   ],
   "source": [
    "from matplotlib import pyplot as plt\n",
    "plt.plot(model_BiLSTM_Att_history.history['loss'])\n",
    "plt.plot(model_BiLSTM_Att_history.history['val_loss'])\n",
    "plt.title('Bi-LSTM+Attention model loss', size = 14)\n",
    "plt.ylabel('loss', size = 12)\n",
    "plt.xlabel('epoch', size = 12)\n",
    "plt.legend(['train', 'val'], loc='upper left')\n",
    "plt.show()\n",
    "\n",
    "plt.plot(model_BiLSTM_Att_history.history['accuracy'])\n",
    "plt.plot(model_BiLSTM_Att_history.history['val_accuracy'])\n",
    "plt.title('Bi-LSTM+Attention model accuracy', size = 14)\n",
    "plt.ylabel('accuracy', size = 12)\n",
    "plt.xlabel('epoch', size = 12)\n",
    "plt.legend(['train', 'val'], loc='upper left')\n",
    "plt.show()"
   ]
  },
  {
   "cell_type": "code",
   "execution_count": 34,
   "id": "939dfdc1",
   "metadata": {},
   "outputs": [
    {
     "data": {
      "image/png": "[encoded data removed]",
      "text/plain": [
       "<Figure size 432x288 with 1 Axes>"
      ]
     },
     "metadata": {
      "needs_background": "light"
     },
     "output_type": "display_data"
    },
    {
     "data": {
      "image/png": "[encoded data removed]",
      "text/plain": [
       "<Figure size 432x288 with 1 Axes>"
      ]
     },
     "metadata": {
      "needs_background": "light"
     },
     "output_type": "display_data"
    }
   ],
   "source": [
    "from matplotlib import pyplot as plt\n",
    "plt.plot(model_BiLSTM_history.history['loss'])\n",
    "plt.plot(model_BiLSTM_history.history['val_loss'])\n",
    "plt.title('Bi-LSTM model loss', size = 14)\n",
    "plt.ylabel('loss', size = 12)\n",
    "plt.xlabel('epoch', size = 12)\n",
    "plt.legend(['train', 'val'], loc='upper left')\n",
    "plt.show()\n",
    "\n",
    "plt.plot(model_BiLSTM_history.history['accuracy'])\n",
    "plt.plot(model_BiLSTM_history.history['val_accuracy'])\n",
    "plt.title('Bi-LSTM model accuracy', size = 14)\n",
    "plt.ylabel('accuracy', size = 12)\n",
    "plt.xlabel('epoch', size = 12)\n",
    "plt.legend(['train', 'val'], loc='upper left')\n",
    "plt.show()"
   ]
  },
  {
   "cell_type": "code",
   "execution_count": 35,
   "id": "43803698",
   "metadata": {},
   "outputs": [
    {
     "data": {
      "image/png": "[encoded data removed]",
      "text/plain": [
       "<Figure size 432x288 with 1 Axes>"
      ]
     },
     "metadata": {
      "needs_background": "light"
     },
     "output_type": "display_data"
    },
    {
     "data": {
      "image/png": "[encoded data removed]",
      "text/plain": [
       "<Figure size 432x288 with 1 Axes>"
      ]
     },
     "metadata": {
      "needs_background": "light"
     },
     "output_type": "display_data"
    }
   ],
   "source": [
    "from matplotlib import pyplot as plt\n",
    "plt.plot(model_LSTM_Att_history.history['loss'])\n",
    "plt.plot(model_LSTM_Att_history.history['val_loss'])\n",
    "plt.title('LSTM+Attention model loss', size = 14)\n",
    "plt.ylabel('loss', size = 12)\n",
    "plt.xlabel('epoch', size = 12)\n",
    "plt.legend(['train', 'val'], loc='upper left')\n",
    "plt.show()\n",
    "\n",
    "plt.plot(model_LSTM_Att_history.history['accuracy'])\n",
    "plt.plot(model_LSTM_Att_history.history['val_accuracy'])\n",
    "plt.title('LSTM+Attention model accuracy', size = 14)\n",
    "plt.ylabel('accuracy', size = 12)\n",
    "plt.xlabel('epoch', size = 12)\n",
    "plt.legend(['train', 'val'], loc='upper left')\n",
    "plt.show()"
   ]
  },
  {
   "cell_type": "code",
   "execution_count": 36,
   "id": "d36ad35e",
   "metadata": {},
   "outputs": [
    {
     "data": {
      "image/png": "[encoded data removed]",
      "text/plain": [
       "<Figure size 432x288 with 1 Axes>"
      ]
     },
     "metadata": {
      "needs_background": "light"
     },
     "output_type": "display_data"
    },
    {
     "data": {
      "image/png": "[encoded data removed]",
      "text/plain": [
       "<Figure size 432x288 with 1 Axes>"
      ]
     },
     "metadata": {
      "needs_background": "light"
     },
     "output_type": "display_data"
    }
   ],
   "source": [
    "from matplotlib import pyplot as plt\n",
    "plt.plot(model_LSTM_history.history['loss'])\n",
    "plt.plot(model_LSTM_history.history['val_loss'])\n",
    "plt.title('LSTM model loss', size = 14)\n",
    "plt.ylabel('loss', size = 12)\n",
    "plt.xlabel('epoch', size = 12)\n",
    "plt.legend(['train', 'val'], loc='upper left')\n",
    "plt.show()\n",
    "\n",
    "plt.plot(model_LSTM_history.history['accuracy'])\n",
    "plt.plot(model_LSTM_history.history['val_accuracy'])\n",
    "plt.title('LSTM model accuracy', size = 14)\n",
    "plt.ylabel('accuracy', size = 12)\n",
    "plt.xlabel('epoch', size = 12)\n",
    "plt.legend(['train', 'val'], loc='upper left')\n",
    "plt.show()"
   ]
  },
  {
   "cell_type": "markdown",
   "id": "00004ce6",
   "metadata": {},
   "source": [
    "# Predict"
   ]
  },
  {
   "cell_type": "code",
   "execution_count": 37,
   "id": "f088392e",
   "metadata": {},
   "outputs": [],
   "source": [
    "# 設定字體\n",
    "from matplotlib.font_manager import FontProperties\n",
    "fonts = FontProperties(fname = \"msjh.ttc\", size = 14)\n",
    "%config InlineBackend.figure_format = 'retina'\n",
    "%matplotlib inline"
   ]
  },
  {
   "cell_type": "markdown",
   "id": "fd543b5e",
   "metadata": {},
   "source": [
    "## Bi-LSTM + Attention"
   ]
  },
  {
   "cell_type": "code",
   "execution_count": 55,
   "id": "85714ed9",
   "metadata": {
    "scrolled": true
   },
   "outputs": [
    {
     "name": "stdout",
     "output_type": "stream",
     "text": [
      "5/5 [==============================] - 1s 94ms/step - loss: 2.0256 - accuracy: 0.3375\n",
      "Test accuracy: 0.3375000059604645\n",
      "--------------------------------------------------------\n",
      "              precision    recall  f1-score   support\n",
      "\n",
      "          愛情       0.29      0.45      0.35        40\n",
      "        勵志友情       0.53      0.25      0.34        40\n",
      "        悲傷離別       0.26      0.42      0.32        40\n",
      "      反抗反駁反諷       0.69      0.23      0.34        40\n",
      "\n",
      "    accuracy                           0.34       160\n",
      "   macro avg       0.44      0.34      0.34       160\n",
      "weighted avg       0.44      0.34      0.34       160\n",
      "\n"
     ]
    }
   ],
   "source": [
    "test_loss, test_acc = model_BiLSTM_Att.evaluate(test_seq_mat, test_y)\n",
    "print('Test accuracy:', test_acc)\n",
    "print(\"--------------------------------------------------------\")\n",
    "# test\n",
    "test_pre = model_BiLSTM_Att.predict(test_seq_mat)\n",
    "# confusion matrix\n",
    "confm = metrics.confusion_matrix(np.argmax(test_y, axis = 1),np.argmax(test_pre, axis = 1))\n",
    "print(metrics.classification_report(np.argmax(test_y,axis=1),np.argmax(test_pre,axis=1), target_names=categories))"
   ]
  },
  {
   "cell_type": "code",
   "execution_count": 39,
   "id": "608e51fa",
   "metadata": {},
   "outputs": [
    {
     "data": {
      "image/png": "[encoded data removed]",
      "text/plain": [
       "<Figure size 576x576 with 1 Axes>"
      ]
     },
     "metadata": {
      "image/png": {
       "height": 489,
       "width": 489
      },
      "needs_background": "light"
     },
     "output_type": "display_data"
    }
   ],
   "source": [
    "# plot confusion matrix\n",
    "plt.figure(figsize = (8, 8))\n",
    "sns.heatmap(confm.T, square = True, annot = True,\n",
    "            fmt = 'd', cbar = False,linewidths = .8,\n",
    "            cmap = \"YlGnBu\")\n",
    "plt.xlabel('True label', size = 14)\n",
    "plt.ylabel('Predicted label', size = 14)\n",
    "plt.xticks(np.arange(len(categories)) + 0.5, categories, fontproperties = fonts)\n",
    "plt.yticks(np.arange(len(categories)) + 0.5, categories, fontproperties = fonts)\n",
    "plt.show()"
   ]
  },
  {
   "cell_type": "markdown",
   "id": "793de19a",
   "metadata": {},
   "source": [
    "## Bi-LSTM"
   ]
  },
  {
   "cell_type": "code",
   "execution_count": 52,
   "id": "80eedd52",
   "metadata": {
    "scrolled": false
   },
   "outputs": [
    {
     "name": "stdout",
     "output_type": "stream",
     "text": [
      "5/5 [==============================] - 0s 89ms/step - loss: 2.1561 - accuracy: 0.3438\n",
      "Test accuracy: 0.34375\n",
      "--------------------------------------------------------\n",
      "              precision    recall  f1-score   support\n",
      "\n",
      "          愛情       0.41      0.42      0.42        40\n",
      "        勵志友情       0.38      0.28      0.32        40\n",
      "        悲傷離別       0.25      0.35      0.29        40\n",
      "      反抗反駁反諷       0.39      0.33      0.36        40\n",
      "\n",
      "    accuracy                           0.34       160\n",
      "   macro avg       0.36      0.34      0.35       160\n",
      "weighted avg       0.36      0.34      0.35       160\n",
      "\n"
     ]
    }
   ],
   "source": [
    "test_loss, test_acc = model_BiLSTM.evaluate(test_seq_mat, test_y)\n",
    "print('Test accuracy:', test_acc)\n",
    "print(\"--------------------------------------------------------\")\n",
    "# test\n",
    "test_pre = model_BiLSTM.predict(test_seq_mat)\n",
    "# confusion matrix\n",
    "confm = metrics.confusion_matrix(np.argmax(test_y, axis = 1),np.argmax(test_pre, axis = 1))\n",
    "print(metrics.classification_report(np.argmax(test_y,axis=1),np.argmax(test_pre,axis=1), target_names=categories))"
   ]
  },
  {
   "cell_type": "code",
   "execution_count": 49,
   "id": "ef627394",
   "metadata": {},
   "outputs": [
    {
     "data": {
      "image/png": "[encoded data removed]",
      "text/plain": [
       "<Figure size 576x576 with 1 Axes>"
      ]
     },
     "metadata": {
      "image/png": {
       "height": 489,
       "width": 489
      },
      "needs_background": "light"
     },
     "output_type": "display_data"
    }
   ],
   "source": [
    "# plot confusion matrix\n",
    "plt.figure(figsize = (8, 8))\n",
    "sns.heatmap(confm.T, square = True, annot = True,\n",
    "            fmt = 'd', cbar = False,linewidths = .8,\n",
    "            cmap = \"YlGnBu\")\n",
    "plt.xlabel('True label', size = 14)\n",
    "plt.ylabel('Predicted label', size = 14)\n",
    "plt.xticks(np.arange(len(categories)) + 0.5, categories, fontproperties = fonts)\n",
    "plt.yticks(np.arange(len(categories)) + 0.5, categories, fontproperties = fonts)\n",
    "plt.show()"
   ]
  },
  {
   "cell_type": "markdown",
   "id": "99c84caa",
   "metadata": {},
   "source": [
    "## LSTM + Attention"
   ]
  },
  {
   "cell_type": "code",
   "execution_count": 53,
   "id": "af820d9a",
   "metadata": {},
   "outputs": [
    {
     "name": "stdout",
     "output_type": "stream",
     "text": [
      "5/5 [==============================] - 0s 62ms/step - loss: 2.0207 - accuracy: 0.3875\n",
      "Test accuracy: 0.38749998807907104\n",
      "--------------------------------------------------------\n",
      "              precision    recall  f1-score   support\n",
      "\n",
      "          愛情       0.38      0.62      0.47        40\n",
      "        勵志友情       0.38      0.47      0.42        40\n",
      "        悲傷離別       0.28      0.23      0.25        40\n",
      "      反抗反駁反諷       0.75      0.23      0.35        40\n",
      "\n",
      "    accuracy                           0.39       160\n",
      "   macro avg       0.45      0.39      0.37       160\n",
      "weighted avg       0.45      0.39      0.37       160\n",
      "\n"
     ]
    }
   ],
   "source": [
    "test_loss, test_acc = model_LSTM_Att.evaluate(test_seq_mat, test_y)\n",
    "print('Test accuracy:', test_acc)\n",
    "print(\"--------------------------------------------------------\")\n",
    "# test\n",
    "test_pre = model_LSTM_Att.predict(test_seq_mat)\n",
    "# confusion matrix\n",
    "confm = metrics.confusion_matrix(np.argmax(test_y, axis = 1),np.argmax(test_pre, axis = 1))\n",
    "print(metrics.classification_report(np.argmax(test_y,axis=1),np.argmax(test_pre,axis=1), target_names=categories))"
   ]
  },
  {
   "cell_type": "code",
   "execution_count": 43,
   "id": "5c2e90a8",
   "metadata": {},
   "outputs": [
    {
     "data": {
      "image/png": "[encoded data removed]",
      "text/plain": [
       "<Figure size 576x576 with 1 Axes>"
      ]
     },
     "metadata": {
      "image/png": {
       "height": 489,
       "width": 489
      },
      "needs_background": "light"
     },
     "output_type": "display_data"
    }
   ],
   "source": [
    "# plot confusion matrix\n",
    "plt.figure(figsize = (8, 8))\n",
    "sns.heatmap(confm.T, square = True, annot = True,\n",
    "            fmt = 'd', cbar = False,linewidths = .8,\n",
    "            cmap = \"YlGnBu\")\n",
    "plt.xlabel('True label', size = 14)\n",
    "plt.ylabel('Predicted label', size = 14)\n",
    "plt.xticks(np.arange(len(categories)) + 0.5, categories, fontproperties = fonts)\n",
    "plt.yticks(np.arange(len(categories)) + 0.5, categories, fontproperties = fonts)\n",
    "plt.show()"
   ]
  },
  {
   "cell_type": "markdown",
   "id": "64136d0a",
   "metadata": {},
   "source": [
    "## LSTM"
   ]
  },
  {
   "cell_type": "code",
   "execution_count": 54,
   "id": "657f830e",
   "metadata": {},
   "outputs": [
    {
     "name": "stdout",
     "output_type": "stream",
     "text": [
      "5/5 [==============================] - 0s 59ms/step - loss: 1.8666 - accuracy: 0.4250\n",
      "Test accuracy: 0.42500001192092896\n",
      "--------------------------------------------------------\n",
      "              precision    recall  f1-score   support\n",
      "\n",
      "          愛情       0.47      0.38      0.42        40\n",
      "        勵志友情       0.47      0.45      0.46        40\n",
      "        悲傷離別       0.31      0.53      0.39        40\n",
      "      反抗反駁反諷       0.64      0.35      0.45        40\n",
      "\n",
      "    accuracy                           0.42       160\n",
      "   macro avg       0.47      0.43      0.43       160\n",
      "weighted avg       0.47      0.42      0.43       160\n",
      "\n"
     ]
    }
   ],
   "source": [
    "test_loss, test_acc = model_LSTM.evaluate(test_seq_mat, test_y)\n",
    "print('Test accuracy:', test_acc)\n",
    "print(\"--------------------------------------------------------\")\n",
    "# test\n",
    "test_pre = model_LSTM.predict(test_seq_mat)\n",
    "# confusion matrix\n",
    "confm = metrics.confusion_matrix(np.argmax(test_y, axis = 1),np.argmax(test_pre, axis = 1))\n",
    "print(metrics.classification_report(np.argmax(test_y,axis=1),np.argmax(test_pre,axis=1), target_names=categories))"
   ]
  },
  {
   "cell_type": "code",
   "execution_count": 45,
   "id": "0633deb3",
   "metadata": {},
   "outputs": [
    {
     "data": {
      "image/png": "[encoded data removed]",
      "text/plain": [
       "<Figure size 576x576 with 1 Axes>"
      ]
     },
     "metadata": {
      "image/png": {
       "height": 489,
       "width": 489
      },
      "needs_background": "light"
     },
     "output_type": "display_data"
    }
   ],
   "source": [
    "# plot confusion matrix\n",
    "plt.figure(figsize = (8, 8))\n",
    "sns.heatmap(confm.T, square = True, annot = True,\n",
    "            fmt = 'd', cbar = False,linewidths = .8,\n",
    "            cmap = \"YlGnBu\")\n",
    "plt.xlabel('True label', size = 14)\n",
    "plt.ylabel('Predicted label', size = 14)\n",
    "plt.xticks(np.arange(len(categories)) + 0.5, categories, fontproperties = fonts)\n",
    "plt.yticks(np.arange(len(categories)) + 0.5, categories, fontproperties = fonts)\n",
    "plt.show()"
   ]
  },
  {
   "cell_type": "code",
   "execution_count": null,
   "id": "1d4e3224",
   "metadata": {},
   "outputs": [],
   "source": []
  },
  {
   "cell_type": "code",
   "execution_count": null,
   "id": "a41f1a77",
   "metadata": {},
   "outputs": [],
   "source": []
  },
  {
   "cell_type": "code",
   "execution_count": null,
   "id": "32073ecf",
   "metadata": {},
   "outputs": [],
   "source": []
  }
 ],
 "metadata": {
  "kernelspec": {
   "display_name": "Python 3 (ipykernel)",
   "language": "python",
   "name": "python3"
  },
  "language_info": {
   "codemirror_mode": {
    "name": "ipython",
    "version": 3
   },
   "file_extension": ".py",
   "mimetype": "text/x-python",
   "name": "python",
   "nbconvert_exporter": "python",
   "pygments_lexer": "ipython3",
   "version": "3.7.11"
  }
 },
 "nbformat": 4,
 "nbformat_minor": 5
}
