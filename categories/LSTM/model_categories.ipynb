{
 "cells": [
  {
   "cell_type": "code",
   "execution_count": 1,
   "id": "558ebb6c",
   "metadata": {
    "scrolled": false
   },
   "outputs": [
    {
     "name": "stderr",
     "output_type": "stream",
     "text": [
      "2022-01-07 10:42:30.835600: W tensorflow/stream_executor/platform/default/dso_loader.cc:64] Could not load dynamic library 'libcudart.so.11.0'; dlerror: libcudart.so.11.0: cannot open shared object file: No such file or directory\n",
      "2022-01-07 10:42:30.835770: I tensorflow/stream_executor/cuda/cudart_stub.cc:29] Ignore above cudart dlerror if you do not have a GPU set up on your machine.\n"
     ]
    }
   ],
   "source": [
    "import pandas as pd\n",
    "import matplotlib\n",
    "import numpy as np\n",
    "import matplotlib.pyplot as plt\n",
    "import jieba\n",
    "import re\n",
    "import tensorflow as tf\n",
    "from sklearn.model_selection import train_test_split\n",
    "import seaborn as sns\n",
    "from sklearn import metrics\n",
    "from sklearn.preprocessing import LabelEncoder,OneHotEncoder\n",
    "from keras.models import Model\n",
    "from keras.layers import LSTM, Activation, Dense, Dropout, Input, Embedding, Bidirectional\n",
    "from tensorflow.keras import optimizers\n",
    "from keras.preprocessing.text import Tokenizer\n",
    "from keras.preprocessing import sequence\n",
    "from keras.callbacks import EarlyStopping"
   ]
  },
  {
   "cell_type": "code",
   "execution_count": 2,
   "id": "7b2fedef",
   "metadata": {},
   "outputs": [
    {
     "name": "stdout",
     "output_type": "stream",
     "text": [
      "2.7.0\n"
     ]
    }
   ],
   "source": [
    "print(tf.version.VERSION)"
   ]
  },
  {
   "cell_type": "markdown",
   "id": "e13223cc",
   "metadata": {},
   "source": [
    "# Import data"
   ]
  },
  {
   "cell_type": "code",
   "execution_count": 3,
   "id": "b96c7955",
   "metadata": {},
   "outputs": [
    {
     "name": "stdout",
     "output_type": "stream",
     "text": [
      "\u001b[32mTotal number of data: 2206\u001b[0m\n"
     ]
    },
    {
     "data": {
      "text/html": [
       "<div>\n",
       "<style scoped>\n",
       "    .dataframe tbody tr th:only-of-type {\n",
       "        vertical-align: middle;\n",
       "    }\n",
       "\n",
       "    .dataframe tbody tr th {\n",
       "        vertical-align: top;\n",
       "    }\n",
       "\n",
       "    .dataframe thead th {\n",
       "        text-align: right;\n",
       "    }\n",
       "</style>\n",
       "<table border=\"1\" class=\"dataframe\">\n",
       "  <thead>\n",
       "    <tr style=\"text-align: right;\">\n",
       "      <th></th>\n",
       "      <th>Singer</th>\n",
       "      <th>Name</th>\n",
       "      <th>Lyric</th>\n",
       "      <th>Category</th>\n",
       "    </tr>\n",
       "  </thead>\n",
       "  <tbody>\n",
       "    <tr>\n",
       "      <th>0</th>\n",
       "      <td>A-Lin</td>\n",
       "      <td>One Life</td>\n",
       "      <td>白雲撞進藍天 激起昨天畫面我想起你的臉好久不見 在遠方的My Friend不論晴天雨天 也會...</td>\n",
       "      <td>友情</td>\n",
       "    </tr>\n",
       "    <tr>\n",
       "      <th>1</th>\n",
       "      <td>A-Lin</td>\n",
       "      <td>最好的朋友在身邊</td>\n",
       "      <td>一起笑一起哭一起鬧久別的回憶又浮現一點點一天天一年年最好的朋友在身邊一起走一起跑一起跳相聚到...</td>\n",
       "      <td>友情</td>\n",
       "    </tr>\n",
       "    <tr>\n",
       "      <th>2</th>\n",
       "      <td>A-Lin</td>\n",
       "      <td>愛的可能</td>\n",
       "      <td>你出現我身邊 像個奇蹟發生沒想到會是你 讓我如此失魂我心中的感覺是這樣陌生快樂的牽掛在相聚的...</td>\n",
       "      <td>友情</td>\n",
       "    </tr>\n",
       "    <tr>\n",
       "      <th>3</th>\n",
       "      <td>A-Lin</td>\n",
       "      <td>太太太耐斯</td>\n",
       "      <td>孩子還沒睡 拜託別鬧手遊聲太吵 狗狗在叫碗盤在洗碗槽 主婦的煩惱惱公不瞭 他先洗澡奶瓶把香水...</td>\n",
       "      <td>反抗反駁反諷</td>\n",
       "    </tr>\n",
       "    <tr>\n",
       "      <th>4</th>\n",
       "      <td>A-Lin</td>\n",
       "      <td>抱歉 我不抱歉</td>\n",
       "      <td>恨 什麼叫恨 這個單字 好陌生我只記得 一路走來 愛的人就算他們 多可恨等 雖然溫柔 還打不...</td>\n",
       "      <td>反抗反駁反諷</td>\n",
       "    </tr>\n",
       "    <tr>\n",
       "      <th>...</th>\n",
       "      <td>...</td>\n",
       "      <td>...</td>\n",
       "      <td>...</td>\n",
       "      <td>...</td>\n",
       "    </tr>\n",
       "    <tr>\n",
       "      <th>2202</th>\n",
       "      <td>陳奕迅</td>\n",
       "      <td>黑暗中漫舞</td>\n",
       "      <td>為何未能學會起舞便已抱緊你誰料到資質不配合你左腳舉起了便要別離為何未能讓我衰老便要放開你陪你...</td>\n",
       "      <td>離別</td>\n",
       "    </tr>\n",
       "    <tr>\n",
       "      <th>2203</th>\n",
       "      <td>陳奕迅</td>\n",
       "      <td>傷信</td>\n",
       "      <td>重讀著你的告別信　抑壓了暗湧雖不信寫的話　竟可以這麼重但再哭亦無用 徐徐又當這信是你　緊貼我...</td>\n",
       "      <td>離別</td>\n",
       "    </tr>\n",
       "    <tr>\n",
       "      <th>2204</th>\n",
       "      <td>陳奕迅</td>\n",
       "      <td>歲月如歌</td>\n",
       "      <td>愛上了　看見你　如何不懂謙卑去講心中理想　不會俗氣猶如看得見晨曦　才能歡天喜地抱著你　我每次...</td>\n",
       "      <td>離別</td>\n",
       "    </tr>\n",
       "    <tr>\n",
       "      <th>2205</th>\n",
       "      <td>陳奕迅</td>\n",
       "      <td>遇見了你(國)</td>\n",
       "      <td>遇見了你　讓生命美好我看見繁華的春天愛情如陽光閃耀我給你我的愛離開了我　你默默低頭我看見往事...</td>\n",
       "      <td>離別</td>\n",
       "    </tr>\n",
       "    <tr>\n",
       "      <th>2206</th>\n",
       "      <td>陳奕迅</td>\n",
       "      <td>遙遠的她</td>\n",
       "      <td>讓晚風輕輕吹送了落霞我已習慣每個傍晚去想她在遠方的她此刻可知道這段情在我心始終記掛在這半山那...</td>\n",
       "      <td>離別</td>\n",
       "    </tr>\n",
       "  </tbody>\n",
       "</table>\n",
       "<p>2206 rows × 4 columns</p>\n",
       "</div>"
      ],
      "text/plain": [
       "     Singer       Name                                              Lyric  \\\n",
       "0     A-Lin   One Life  白雲撞進藍天 激起昨天畫面我想起你的臉好久不見 在遠方的My Friend不論晴天雨天 也會...   \n",
       "1     A-Lin   最好的朋友在身邊  一起笑一起哭一起鬧久別的回憶又浮現一點點一天天一年年最好的朋友在身邊一起走一起跑一起跳相聚到...   \n",
       "2     A-Lin       愛的可能  你出現我身邊 像個奇蹟發生沒想到會是你 讓我如此失魂我心中的感覺是這樣陌生快樂的牽掛在相聚的...   \n",
       "3     A-Lin      太太太耐斯  孩子還沒睡 拜託別鬧手遊聲太吵 狗狗在叫碗盤在洗碗槽 主婦的煩惱惱公不瞭 他先洗澡奶瓶把香水...   \n",
       "4     A-Lin    抱歉 我不抱歉  恨 什麼叫恨 這個單字 好陌生我只記得 一路走來 愛的人就算他們 多可恨等 雖然溫柔 還打不...   \n",
       "...     ...        ...                                                ...   \n",
       "2202    陳奕迅      黑暗中漫舞  為何未能學會起舞便已抱緊你誰料到資質不配合你左腳舉起了便要別離為何未能讓我衰老便要放開你陪你...   \n",
       "2203    陳奕迅         傷信  重讀著你的告別信　抑壓了暗湧雖不信寫的話　竟可以這麼重但再哭亦無用 徐徐又當這信是你　緊貼我...   \n",
       "2204    陳奕迅       歲月如歌  愛上了　看見你　如何不懂謙卑去講心中理想　不會俗氣猶如看得見晨曦　才能歡天喜地抱著你　我每次...   \n",
       "2205    陳奕迅    遇見了你(國)  遇見了你　讓生命美好我看見繁華的春天愛情如陽光閃耀我給你我的愛離開了我　你默默低頭我看見往事...   \n",
       "2206    陳奕迅       遙遠的她  讓晚風輕輕吹送了落霞我已習慣每個傍晚去想她在遠方的她此刻可知道這段情在我心始終記掛在這半山那...   \n",
       "\n",
       "     Category  \n",
       "0          友情  \n",
       "1          友情  \n",
       "2          友情  \n",
       "3      反抗反駁反諷  \n",
       "4      反抗反駁反諷  \n",
       "...       ...  \n",
       "2202       離別  \n",
       "2203       離別  \n",
       "2204       離別  \n",
       "2205       離別  \n",
       "2206       離別  \n",
       "\n",
       "[2206 rows x 4 columns]"
      ]
     },
     "execution_count": 3,
     "metadata": {},
     "output_type": "execute_result"
    }
   ],
   "source": [
    "df = pd.read_csv('./data/merged.csv')\n",
    "df = df[['Singer', 'Name', 'Lyric', 'Category']].astype(str)\n",
    "df.drop(df[df.Singer == 'nan'].index, inplace=True)\n",
    "df.drop(df[df.Name == 'Name'].index, inplace=True)\n",
    "print(\"\\033[32mTotal number of data: %d\\033[0m\" %len(df))\n",
    "df"
   ]
  },
  {
   "cell_type": "code",
   "execution_count": 4,
   "id": "bdd11ef1",
   "metadata": {},
   "outputs": [
    {
     "data": {
      "text/html": [
       "<div>\n",
       "<style scoped>\n",
       "    .dataframe tbody tr th:only-of-type {\n",
       "        vertical-align: middle;\n",
       "    }\n",
       "\n",
       "    .dataframe tbody tr th {\n",
       "        vertical-align: top;\n",
       "    }\n",
       "\n",
       "    .dataframe thead th {\n",
       "        text-align: right;\n",
       "    }\n",
       "</style>\n",
       "<table border=\"1\" class=\"dataframe\">\n",
       "  <thead>\n",
       "    <tr style=\"text-align: right;\">\n",
       "      <th></th>\n",
       "      <th>Category</th>\n",
       "      <th>count</th>\n",
       "    </tr>\n",
       "  </thead>\n",
       "  <tbody>\n",
       "    <tr>\n",
       "      <th>0</th>\n",
       "      <td>愛情</td>\n",
       "      <td>874</td>\n",
       "    </tr>\n",
       "    <tr>\n",
       "      <th>1</th>\n",
       "      <td>想法表達</td>\n",
       "      <td>405</td>\n",
       "    </tr>\n",
       "    <tr>\n",
       "      <th>2</th>\n",
       "      <td>悲傷</td>\n",
       "      <td>216</td>\n",
       "    </tr>\n",
       "    <tr>\n",
       "      <th>3</th>\n",
       "      <td>反抗反駁反諷</td>\n",
       "      <td>206</td>\n",
       "    </tr>\n",
       "    <tr>\n",
       "      <th>4</th>\n",
       "      <td>勵志</td>\n",
       "      <td>167</td>\n",
       "    </tr>\n",
       "    <tr>\n",
       "      <th>5</th>\n",
       "      <td>嗨歌</td>\n",
       "      <td>125</td>\n",
       "    </tr>\n",
       "    <tr>\n",
       "      <th>6</th>\n",
       "      <td>離別</td>\n",
       "      <td>76</td>\n",
       "    </tr>\n",
       "    <tr>\n",
       "      <th>7</th>\n",
       "      <td>友情</td>\n",
       "      <td>42</td>\n",
       "    </tr>\n",
       "    <tr>\n",
       "      <th>8</th>\n",
       "      <td>特殊主題</td>\n",
       "      <td>39</td>\n",
       "    </tr>\n",
       "    <tr>\n",
       "      <th>9</th>\n",
       "      <td>親情</td>\n",
       "      <td>33</td>\n",
       "    </tr>\n",
       "    <tr>\n",
       "      <th>10</th>\n",
       "      <td>感謝</td>\n",
       "      <td>23</td>\n",
       "    </tr>\n",
       "  </tbody>\n",
       "</table>\n",
       "</div>"
      ],
      "text/plain": [
       "   Category  count\n",
       "0        愛情    874\n",
       "1      想法表達    405\n",
       "2        悲傷    216\n",
       "3    反抗反駁反諷    206\n",
       "4        勵志    167\n",
       "5        嗨歌    125\n",
       "6        離別     76\n",
       "7        友情     42\n",
       "8      特殊主題     39\n",
       "9        親情     33\n",
       "10       感謝     23"
      ]
     },
     "execution_count": 4,
     "metadata": {},
     "output_type": "execute_result"
    }
   ],
   "source": [
    "d = {'Category': df['Category'].value_counts().index, 'count': df['Category'].value_counts()}\n",
    "df_cat = pd.DataFrame(data = d).reset_index(drop = True)\n",
    "df_cat"
   ]
  },
  {
   "cell_type": "code",
   "execution_count": 5,
   "id": "b804c157",
   "metadata": {
    "scrolled": true
   },
   "outputs": [
    {
     "data": {
      "text/html": [
       "<div>\n",
       "<style scoped>\n",
       "    .dataframe tbody tr th:only-of-type {\n",
       "        vertical-align: middle;\n",
       "    }\n",
       "\n",
       "    .dataframe tbody tr th {\n",
       "        vertical-align: top;\n",
       "    }\n",
       "\n",
       "    .dataframe thead th {\n",
       "        text-align: right;\n",
       "    }\n",
       "</style>\n",
       "<table border=\"1\" class=\"dataframe\">\n",
       "  <thead>\n",
       "    <tr style=\"text-align: right;\">\n",
       "      <th></th>\n",
       "      <th>Singer</th>\n",
       "      <th>Name</th>\n",
       "      <th>Lyric</th>\n",
       "      <th>Category</th>\n",
       "    </tr>\n",
       "  </thead>\n",
       "  <tbody>\n",
       "    <tr>\n",
       "      <th>0</th>\n",
       "      <td>A-Lin</td>\n",
       "      <td>One Life</td>\n",
       "      <td>白雲撞進藍天 激起昨天畫面我想起你的臉好久不見 在遠方的My Friend不論晴天雨天 也會...</td>\n",
       "      <td>勵志友情</td>\n",
       "    </tr>\n",
       "    <tr>\n",
       "      <th>1</th>\n",
       "      <td>A-Lin</td>\n",
       "      <td>最好的朋友在身邊</td>\n",
       "      <td>一起笑一起哭一起鬧久別的回憶又浮現一點點一天天一年年最好的朋友在身邊一起走一起跑一起跳相聚到...</td>\n",
       "      <td>勵志友情</td>\n",
       "    </tr>\n",
       "    <tr>\n",
       "      <th>2</th>\n",
       "      <td>A-Lin</td>\n",
       "      <td>愛的可能</td>\n",
       "      <td>你出現我身邊 像個奇蹟發生沒想到會是你 讓我如此失魂我心中的感覺是這樣陌生快樂的牽掛在相聚的...</td>\n",
       "      <td>勵志友情</td>\n",
       "    </tr>\n",
       "    <tr>\n",
       "      <th>3</th>\n",
       "      <td>A-Lin</td>\n",
       "      <td>太太太耐斯</td>\n",
       "      <td>孩子還沒睡 拜託別鬧手遊聲太吵 狗狗在叫碗盤在洗碗槽 主婦的煩惱惱公不瞭 他先洗澡奶瓶把香水...</td>\n",
       "      <td>反抗反駁反諷</td>\n",
       "    </tr>\n",
       "    <tr>\n",
       "      <th>4</th>\n",
       "      <td>A-Lin</td>\n",
       "      <td>抱歉 我不抱歉</td>\n",
       "      <td>恨 什麼叫恨 這個單字 好陌生我只記得 一路走來 愛的人就算他們 多可恨等 雖然溫柔 還打不...</td>\n",
       "      <td>反抗反駁反諷</td>\n",
       "    </tr>\n",
       "    <tr>\n",
       "      <th>...</th>\n",
       "      <td>...</td>\n",
       "      <td>...</td>\n",
       "      <td>...</td>\n",
       "      <td>...</td>\n",
       "    </tr>\n",
       "    <tr>\n",
       "      <th>2202</th>\n",
       "      <td>陳奕迅</td>\n",
       "      <td>黑暗中漫舞</td>\n",
       "      <td>為何未能學會起舞便已抱緊你誰料到資質不配合你左腳舉起了便要別離為何未能讓我衰老便要放開你陪你...</td>\n",
       "      <td>悲傷離別</td>\n",
       "    </tr>\n",
       "    <tr>\n",
       "      <th>2203</th>\n",
       "      <td>陳奕迅</td>\n",
       "      <td>傷信</td>\n",
       "      <td>重讀著你的告別信　抑壓了暗湧雖不信寫的話　竟可以這麼重但再哭亦無用 徐徐又當這信是你　緊貼我...</td>\n",
       "      <td>悲傷離別</td>\n",
       "    </tr>\n",
       "    <tr>\n",
       "      <th>2204</th>\n",
       "      <td>陳奕迅</td>\n",
       "      <td>歲月如歌</td>\n",
       "      <td>愛上了　看見你　如何不懂謙卑去講心中理想　不會俗氣猶如看得見晨曦　才能歡天喜地抱著你　我每次...</td>\n",
       "      <td>悲傷離別</td>\n",
       "    </tr>\n",
       "    <tr>\n",
       "      <th>2205</th>\n",
       "      <td>陳奕迅</td>\n",
       "      <td>遇見了你(國)</td>\n",
       "      <td>遇見了你　讓生命美好我看見繁華的春天愛情如陽光閃耀我給你我的愛離開了我　你默默低頭我看見往事...</td>\n",
       "      <td>悲傷離別</td>\n",
       "    </tr>\n",
       "    <tr>\n",
       "      <th>2206</th>\n",
       "      <td>陳奕迅</td>\n",
       "      <td>遙遠的她</td>\n",
       "      <td>讓晚風輕輕吹送了落霞我已習慣每個傍晚去想她在遠方的她此刻可知道這段情在我心始終記掛在這半山那...</td>\n",
       "      <td>悲傷離別</td>\n",
       "    </tr>\n",
       "  </tbody>\n",
       "</table>\n",
       "<p>2206 rows × 4 columns</p>\n",
       "</div>"
      ],
      "text/plain": [
       "     Singer       Name                                              Lyric  \\\n",
       "0     A-Lin   One Life  白雲撞進藍天 激起昨天畫面我想起你的臉好久不見 在遠方的My Friend不論晴天雨天 也會...   \n",
       "1     A-Lin   最好的朋友在身邊  一起笑一起哭一起鬧久別的回憶又浮現一點點一天天一年年最好的朋友在身邊一起走一起跑一起跳相聚到...   \n",
       "2     A-Lin       愛的可能  你出現我身邊 像個奇蹟發生沒想到會是你 讓我如此失魂我心中的感覺是這樣陌生快樂的牽掛在相聚的...   \n",
       "3     A-Lin      太太太耐斯  孩子還沒睡 拜託別鬧手遊聲太吵 狗狗在叫碗盤在洗碗槽 主婦的煩惱惱公不瞭 他先洗澡奶瓶把香水...   \n",
       "4     A-Lin    抱歉 我不抱歉  恨 什麼叫恨 這個單字 好陌生我只記得 一路走來 愛的人就算他們 多可恨等 雖然溫柔 還打不...   \n",
       "...     ...        ...                                                ...   \n",
       "2202    陳奕迅      黑暗中漫舞  為何未能學會起舞便已抱緊你誰料到資質不配合你左腳舉起了便要別離為何未能讓我衰老便要放開你陪你...   \n",
       "2203    陳奕迅         傷信  重讀著你的告別信　抑壓了暗湧雖不信寫的話　竟可以這麼重但再哭亦無用 徐徐又當這信是你　緊貼我...   \n",
       "2204    陳奕迅       歲月如歌  愛上了　看見你　如何不懂謙卑去講心中理想　不會俗氣猶如看得見晨曦　才能歡天喜地抱著你　我每次...   \n",
       "2205    陳奕迅    遇見了你(國)  遇見了你　讓生命美好我看見繁華的春天愛情如陽光閃耀我給你我的愛離開了我　你默默低頭我看見往事...   \n",
       "2206    陳奕迅       遙遠的她  讓晚風輕輕吹送了落霞我已習慣每個傍晚去想她在遠方的她此刻可知道這段情在我心始終記掛在這半山那...   \n",
       "\n",
       "     Category  \n",
       "0        勵志友情  \n",
       "1        勵志友情  \n",
       "2        勵志友情  \n",
       "3      反抗反駁反諷  \n",
       "4      反抗反駁反諷  \n",
       "...       ...  \n",
       "2202     悲傷離別  \n",
       "2203     悲傷離別  \n",
       "2204     悲傷離別  \n",
       "2205     悲傷離別  \n",
       "2206     悲傷離別  \n",
       "\n",
       "[2206 rows x 4 columns]"
      ]
     },
     "execution_count": 5,
     "metadata": {},
     "output_type": "execute_result"
    }
   ],
   "source": [
    "df.loc[df.Category == '勵志','Category'] = '勵志友情'\n",
    "df.loc[df.Category == '友情','Category'] = '勵志友情'\n",
    "df.loc[df.Category == '悲傷','Category'] = '悲傷離別'\n",
    "df.loc[df.Category == '離別','Category'] = '悲傷離別'\n",
    "df.loc[df.Category == '特殊主題','Category'] = '其他'\n",
    "df.loc[df.Category == '嗨歌','Category'] = '其他'\n",
    "df.loc[df.Category == '親情','Category'] = '其他'\n",
    "df.loc[df.Category == '感謝','Category'] = '想法表達'\n",
    "df"
   ]
  },
  {
   "cell_type": "code",
   "execution_count": 6,
   "id": "bf9ee61d",
   "metadata": {},
   "outputs": [
    {
     "data": {
      "text/html": [
       "<div>\n",
       "<style scoped>\n",
       "    .dataframe tbody tr th:only-of-type {\n",
       "        vertical-align: middle;\n",
       "    }\n",
       "\n",
       "    .dataframe tbody tr th {\n",
       "        vertical-align: top;\n",
       "    }\n",
       "\n",
       "    .dataframe thead th {\n",
       "        text-align: right;\n",
       "    }\n",
       "</style>\n",
       "<table border=\"1\" class=\"dataframe\">\n",
       "  <thead>\n",
       "    <tr style=\"text-align: right;\">\n",
       "      <th></th>\n",
       "      <th>Category</th>\n",
       "      <th>count</th>\n",
       "    </tr>\n",
       "  </thead>\n",
       "  <tbody>\n",
       "    <tr>\n",
       "      <th>0</th>\n",
       "      <td>愛情</td>\n",
       "      <td>874</td>\n",
       "    </tr>\n",
       "    <tr>\n",
       "      <th>1</th>\n",
       "      <td>想法表達</td>\n",
       "      <td>428</td>\n",
       "    </tr>\n",
       "    <tr>\n",
       "      <th>2</th>\n",
       "      <td>悲傷離別</td>\n",
       "      <td>292</td>\n",
       "    </tr>\n",
       "    <tr>\n",
       "      <th>3</th>\n",
       "      <td>勵志友情</td>\n",
       "      <td>209</td>\n",
       "    </tr>\n",
       "    <tr>\n",
       "      <th>4</th>\n",
       "      <td>反抗反駁反諷</td>\n",
       "      <td>206</td>\n",
       "    </tr>\n",
       "    <tr>\n",
       "      <th>5</th>\n",
       "      <td>其他</td>\n",
       "      <td>197</td>\n",
       "    </tr>\n",
       "  </tbody>\n",
       "</table>\n",
       "</div>"
      ],
      "text/plain": [
       "  Category  count\n",
       "0       愛情    874\n",
       "1     想法表達    428\n",
       "2     悲傷離別    292\n",
       "3     勵志友情    209\n",
       "4   反抗反駁反諷    206\n",
       "5       其他    197"
      ]
     },
     "execution_count": 6,
     "metadata": {},
     "output_type": "execute_result"
    }
   ],
   "source": [
    "d = {'Category': df['Category'].value_counts().index, 'count': df['Category'].value_counts()}\n",
    "df_cat = pd.DataFrame(data = d).reset_index(drop = True)\n",
    "df_cat"
   ]
  },
  {
   "cell_type": "markdown",
   "id": "55d06f70",
   "metadata": {},
   "source": [
    "# Preprocessing"
   ]
  },
  {
   "cell_type": "code",
   "execution_count": 7,
   "id": "79c242cd",
   "metadata": {},
   "outputs": [],
   "source": [
    "condition = df['Category'] == '愛情'\n",
    "df_select = df[condition].sample(200)\n",
    "condition = df['Category'] == '想法表達'\n",
    "df_tmp = df[condition].sample(0)\n",
    "df_select = pd.concat([df_select, df_tmp])\n",
    "condition = df['Category'] == '勵志友情'\n",
    "df_tmp = df[condition].sample(200)\n",
    "df_select = pd.concat([df_select, df_tmp])\n",
    "condition = df['Category'] == '悲傷離別'\n",
    "df_tmp = df[condition].sample(200)\n",
    "df_select = pd.concat([df_select, df_tmp])\n",
    "condition = df['Category'] == '反抗反駁反諷'\n",
    "df_tmp = df[condition].sample(200)\n",
    "df_select = pd.concat([df_select, df_tmp])\n",
    "\n",
    "df_select = df_select.reset_index(drop=True)"
   ]
  },
  {
   "cell_type": "code",
   "execution_count": 8,
   "id": "87490293",
   "metadata": {},
   "outputs": [],
   "source": [
    "categories = list(df_select['Category'].value_counts().index)\n",
    "cat_to_id = dict(zip(categories, range(len(categories))))\n",
    "def label_to_id(line):\n",
    "    line = str(line)\n",
    "    return cat_to_id[line]"
   ]
  },
  {
   "cell_type": "code",
   "execution_count": 9,
   "id": "5b6256c3",
   "metadata": {},
   "outputs": [],
   "source": [
    "def remove_punctuation(line):\n",
    "    stopwords = [line.strip() for line in open('./data/stopwords.txt', 'r', encoding='utf-8').readlines()]\n",
    "    line = str(line)\n",
    "    if line.strip() == '':\n",
    "        return ''\n",
    "    re_han = re.compile(u\"[^a-zA-Z0-9\\u4E00-\\u9FA5]\")\n",
    "    line = re_han.sub('', line)\n",
    "    cut = [w for w in list(jieba.cut(line)) if w not in stopwords]\n",
    "    res = \", \".join(cut)\n",
    "    return res"
   ]
  },
  {
   "cell_type": "code",
   "execution_count": 10,
   "id": "599f9c43",
   "metadata": {},
   "outputs": [],
   "source": [
    "def count_words(line):\n",
    "    line_list = line.split(', ')\n",
    "    return len(line_list)"
   ]
  },
  {
   "cell_type": "code",
   "execution_count": 11,
   "id": "f090a6b3",
   "metadata": {
    "scrolled": true
   },
   "outputs": [
    {
     "name": "stderr",
     "output_type": "stream",
     "text": [
      "Building prefix dict from the default dictionary ...\n",
      "Loading model from cache /tmp/jieba.cache\n",
      "Loading model cost 1.181 seconds.\n",
      "Prefix dict has been built successfully.\n"
     ]
    }
   ],
   "source": [
    "df_select['y'] = df_select['Category'].apply(label_to_id)\n",
    "df_select['seg_text'] = df_select['Lyric'].apply(remove_punctuation)\n",
    "df_select['word_num'] = df_select['seg_text'].apply(count_words)"
   ]
  },
  {
   "cell_type": "code",
   "execution_count": 12,
   "id": "3f3f3e6c",
   "metadata": {},
   "outputs": [
    {
     "data": {
      "text/html": [
       "<div>\n",
       "<style scoped>\n",
       "    .dataframe tbody tr th:only-of-type {\n",
       "        vertical-align: middle;\n",
       "    }\n",
       "\n",
       "    .dataframe tbody tr th {\n",
       "        vertical-align: top;\n",
       "    }\n",
       "\n",
       "    .dataframe thead th {\n",
       "        text-align: right;\n",
       "    }\n",
       "</style>\n",
       "<table border=\"1\" class=\"dataframe\">\n",
       "  <thead>\n",
       "    <tr style=\"text-align: right;\">\n",
       "      <th></th>\n",
       "      <th>Singer</th>\n",
       "      <th>Name</th>\n",
       "      <th>Lyric</th>\n",
       "      <th>Category</th>\n",
       "      <th>y</th>\n",
       "      <th>seg_text</th>\n",
       "      <th>word_num</th>\n",
       "    </tr>\n",
       "  </thead>\n",
       "  <tbody>\n",
       "    <tr>\n",
       "      <th>0</th>\n",
       "      <td>蔡依林</td>\n",
       "      <td>熱冬(Hot Winter)</td>\n",
       "      <td>HOT HOT HOT HOT氣候暖化我的心卻在冬眠桃花少到比北極熊還可憐周末夜沒有半通手機...</td>\n",
       "      <td>愛情</td>\n",
       "      <td>0</td>\n",
       "      <td>HOTHOTHOTHOT, 氣候, 暖化, 心, 卻, 冬眠, 桃花, 少到, 比北極, 熊...</td>\n",
       "      <td>110</td>\n",
       "    </tr>\n",
       "    <tr>\n",
       "      <th>1</th>\n",
       "      <td>林宥嘉</td>\n",
       "      <td>成全</td>\n",
       "      <td>看著你和她走到我面前微笑地對我說聲好久不見如果當初沒有我的成全是不是今天還在原地盤旋不為了勉...</td>\n",
       "      <td>愛情</td>\n",
       "      <td>0</td>\n",
       "      <td>看著, 走, 面前, 微笑, 說, 聲, 好久, 不見, 當初, 成全, 是不是, 今天, ...</td>\n",
       "      <td>135</td>\n",
       "    </tr>\n",
       "    <tr>\n",
       "      <th>2</th>\n",
       "      <td>張惠妹</td>\n",
       "      <td>不在乎他</td>\n",
       "      <td>親愛的他　早就不願　困在這個地方逃避負擔吧　誰也不願作回答我不得不想　他的身影不停回答告訴自...</td>\n",
       "      <td>愛情</td>\n",
       "      <td>0</td>\n",
       "      <td>親愛的, 早就, 不願困, 地方, 逃避, 負擔, 不願作, 回答, 想, 身影, 不停, ...</td>\n",
       "      <td>75</td>\n",
       "    </tr>\n",
       "    <tr>\n",
       "      <th>3</th>\n",
       "      <td>陳奕迅</td>\n",
       "      <td>快高長大</td>\n",
       "      <td>天空太高　早餐太早你未投訴　我代你憤怒溫心的雪糕　溫室的野草你未及提到　我已經捧到 長期被愛...</td>\n",
       "      <td>愛情</td>\n",
       "      <td>0</td>\n",
       "      <td>天空, 太高, 早餐, 太早, 未, 投訴, 我代, 憤怒, 溫心, 雪糕, 溫室, 野草,...</td>\n",
       "      <td>82</td>\n",
       "    </tr>\n",
       "    <tr>\n",
       "      <th>4</th>\n",
       "      <td>梁靜茹</td>\n",
       "      <td>我都知道</td>\n",
       "      <td>愛上你不受侷限　原來我心裡也有某些狂野就像擺脫了一切　兩個人光腳奔跑在曠野我錯過　我瞭解　跳...</td>\n",
       "      <td>愛情</td>\n",
       "      <td>0</td>\n",
       "      <td>愛上, 受, 侷, 限, 原來, 我心, 裡也, 狂野, 擺脫, 兩個, 人光腳, 奔跑, ...</td>\n",
       "      <td>79</td>\n",
       "    </tr>\n",
       "    <tr>\n",
       "      <th>...</th>\n",
       "      <td>...</td>\n",
       "      <td>...</td>\n",
       "      <td>...</td>\n",
       "      <td>...</td>\n",
       "      <td>...</td>\n",
       "      <td>...</td>\n",
       "      <td>...</td>\n",
       "    </tr>\n",
       "    <tr>\n",
       "      <th>795</th>\n",
       "      <td>張惠妹</td>\n",
       "      <td>到底</td>\n",
       "      <td>你幹嘛不敢坦白坦白的說你喜歡喜歡刷存在感喜歡狂野姿態但就是不肯鬆口說你想要怎麼辦我不想要再等...</td>\n",
       "      <td>反抗反駁反諷</td>\n",
       "      <td>3</td>\n",
       "      <td>幹, 不敢, 坦白, 坦白, 說, 喜歡, 喜歡, 刷, 存在, 感喜歡, 狂野, 姿態, ...</td>\n",
       "      <td>146</td>\n",
       "    </tr>\n",
       "    <tr>\n",
       "      <th>796</th>\n",
       "      <td>陳奕迅</td>\n",
       "      <td>兄妹</td>\n",
       "      <td>對我好　對我好　好到無路可退可是我也很想　有個人陪才不願把你得罪　於是那麼迂迴一時進　一時退...</td>\n",
       "      <td>反抗反駁反諷</td>\n",
       "      <td>3</td>\n",
       "      <td>好, 好好, 無路, 可退, 想, 人, 陪, 不願, 得罪, 迂, 迴, 一時, 進一時,...</td>\n",
       "      <td>68</td>\n",
       "    </tr>\n",
       "    <tr>\n",
       "      <th>797</th>\n",
       "      <td>SHE</td>\n",
       "      <td>心還是熱的</td>\n",
       "      <td>Woo wo woo Woo wo woo 浪漫地相信過 委屈地懷疑過我面對 自我被愛情跋...</td>\n",
       "      <td>反抗反駁反諷</td>\n",
       "      <td>3</td>\n",
       "      <td>WoowowooWoowowoo, 浪漫, 相信, 委屈, 地懷, 疑過, 我面, 自我, ...</td>\n",
       "      <td>107</td>\n",
       "    </tr>\n",
       "    <tr>\n",
       "      <th>798</th>\n",
       "      <td>SHE</td>\n",
       "      <td>別</td>\n",
       "      <td>我把思念輕輕上鎖　再把回憶掛在門口　離開就不回頭昨天已經放在左手　明天裝箱全部帶走　今天我只...</td>\n",
       "      <td>反抗反駁反諷</td>\n",
       "      <td>3</td>\n",
       "      <td>思念, 輕輕, 上鎖, 再, 回憶掛, 門口, 離開, 回頭, 昨天, 已經, 放在, 左手...</td>\n",
       "      <td>56</td>\n",
       "    </tr>\n",
       "    <tr>\n",
       "      <th>799</th>\n",
       "      <td>林宥嘉</td>\n",
       "      <td>病態</td>\n",
       "      <td>很奇怪　你沒欠他債　付出一切也放不進他口袋你不要　有心人　的愛戴　只有他的敷衍才算關懷不應該...</td>\n",
       "      <td>反抗反駁反諷</td>\n",
       "      <td>3</td>\n",
       "      <td>奇怪, 欠, 他債, 付出, 放不進, 口袋, 有心人, 愛戴, 敷衍, 算關, 懷不應, ...</td>\n",
       "      <td>125</td>\n",
       "    </tr>\n",
       "  </tbody>\n",
       "</table>\n",
       "<p>800 rows × 7 columns</p>\n",
       "</div>"
      ],
      "text/plain": [
       "    Singer             Name  \\\n",
       "0      蔡依林   熱冬(Hot Winter)   \n",
       "1      林宥嘉               成全   \n",
       "2      張惠妹             不在乎他   \n",
       "3      陳奕迅             快高長大   \n",
       "4      梁靜茹             我都知道   \n",
       "..     ...              ...   \n",
       "795    張惠妹               到底   \n",
       "796    陳奕迅               兄妹   \n",
       "797    SHE            心還是熱的   \n",
       "798    SHE                別   \n",
       "799    林宥嘉               病態   \n",
       "\n",
       "                                                 Lyric Category  y  \\\n",
       "0    HOT HOT HOT HOT氣候暖化我的心卻在冬眠桃花少到比北極熊還可憐周末夜沒有半通手機...       愛情  0   \n",
       "1    看著你和她走到我面前微笑地對我說聲好久不見如果當初沒有我的成全是不是今天還在原地盤旋不為了勉...       愛情  0   \n",
       "2    親愛的他　早就不願　困在這個地方逃避負擔吧　誰也不願作回答我不得不想　他的身影不停回答告訴自...       愛情  0   \n",
       "3    天空太高　早餐太早你未投訴　我代你憤怒溫心的雪糕　溫室的野草你未及提到　我已經捧到 長期被愛...       愛情  0   \n",
       "4    愛上你不受侷限　原來我心裡也有某些狂野就像擺脫了一切　兩個人光腳奔跑在曠野我錯過　我瞭解　跳...       愛情  0   \n",
       "..                                                 ...      ... ..   \n",
       "795  你幹嘛不敢坦白坦白的說你喜歡喜歡刷存在感喜歡狂野姿態但就是不肯鬆口說你想要怎麼辦我不想要再等...   反抗反駁反諷  3   \n",
       "796  對我好　對我好　好到無路可退可是我也很想　有個人陪才不願把你得罪　於是那麼迂迴一時進　一時退...   反抗反駁反諷  3   \n",
       "797   Woo wo woo Woo wo woo 浪漫地相信過 委屈地懷疑過我面對 自我被愛情跋...   反抗反駁反諷  3   \n",
       "798  我把思念輕輕上鎖　再把回憶掛在門口　離開就不回頭昨天已經放在左手　明天裝箱全部帶走　今天我只...   反抗反駁反諷  3   \n",
       "799  很奇怪　你沒欠他債　付出一切也放不進他口袋你不要　有心人　的愛戴　只有他的敷衍才算關懷不應該...   反抗反駁反諷  3   \n",
       "\n",
       "                                              seg_text  word_num  \n",
       "0    HOTHOTHOTHOT, 氣候, 暖化, 心, 卻, 冬眠, 桃花, 少到, 比北極, 熊...       110  \n",
       "1    看著, 走, 面前, 微笑, 說, 聲, 好久, 不見, 當初, 成全, 是不是, 今天, ...       135  \n",
       "2    親愛的, 早就, 不願困, 地方, 逃避, 負擔, 不願作, 回答, 想, 身影, 不停, ...        75  \n",
       "3    天空, 太高, 早餐, 太早, 未, 投訴, 我代, 憤怒, 溫心, 雪糕, 溫室, 野草,...        82  \n",
       "4    愛上, 受, 侷, 限, 原來, 我心, 裡也, 狂野, 擺脫, 兩個, 人光腳, 奔跑, ...        79  \n",
       "..                                                 ...       ...  \n",
       "795  幹, 不敢, 坦白, 坦白, 說, 喜歡, 喜歡, 刷, 存在, 感喜歡, 狂野, 姿態, ...       146  \n",
       "796  好, 好好, 無路, 可退, 想, 人, 陪, 不願, 得罪, 迂, 迴, 一時, 進一時,...        68  \n",
       "797  WoowowooWoowowoo, 浪漫, 相信, 委屈, 地懷, 疑過, 我面, 自我, ...       107  \n",
       "798  思念, 輕輕, 上鎖, 再, 回憶掛, 門口, 離開, 回頭, 昨天, 已經, 放在, 左手...        56  \n",
       "799  奇怪, 欠, 他債, 付出, 放不進, 口袋, 有心人, 愛戴, 敷衍, 算關, 懷不應, ...       125  \n",
       "\n",
       "[800 rows x 7 columns]"
      ]
     },
     "execution_count": 12,
     "metadata": {},
     "output_type": "execute_result"
    }
   ],
   "source": [
    "df_select"
   ]
  },
  {
   "cell_type": "code",
   "execution_count": 13,
   "id": "c0ac3d90",
   "metadata": {},
   "outputs": [
    {
     "data": {
      "text/plain": [
       "108.78625"
      ]
     },
     "execution_count": 13,
     "metadata": {},
     "output_type": "execute_result"
    }
   ],
   "source": [
    "df_select[\"word_num\"].mean()"
   ]
  },
  {
   "cell_type": "code",
   "execution_count": 14,
   "id": "53885b75",
   "metadata": {
    "scrolled": true
   },
   "outputs": [
    {
     "data": {
      "text/html": [
       "<div>\n",
       "<style scoped>\n",
       "    .dataframe tbody tr th:only-of-type {\n",
       "        vertical-align: middle;\n",
       "    }\n",
       "\n",
       "    .dataframe tbody tr th {\n",
       "        vertical-align: top;\n",
       "    }\n",
       "\n",
       "    .dataframe thead th {\n",
       "        text-align: right;\n",
       "    }\n",
       "</style>\n",
       "<table border=\"1\" class=\"dataframe\">\n",
       "  <thead>\n",
       "    <tr style=\"text-align: right;\">\n",
       "      <th></th>\n",
       "      <th>Category</th>\n",
       "      <th>count</th>\n",
       "    </tr>\n",
       "  </thead>\n",
       "  <tbody>\n",
       "    <tr>\n",
       "      <th>0</th>\n",
       "      <td>愛情</td>\n",
       "      <td>200</td>\n",
       "    </tr>\n",
       "    <tr>\n",
       "      <th>1</th>\n",
       "      <td>勵志友情</td>\n",
       "      <td>200</td>\n",
       "    </tr>\n",
       "    <tr>\n",
       "      <th>2</th>\n",
       "      <td>悲傷離別</td>\n",
       "      <td>200</td>\n",
       "    </tr>\n",
       "    <tr>\n",
       "      <th>3</th>\n",
       "      <td>反抗反駁反諷</td>\n",
       "      <td>200</td>\n",
       "    </tr>\n",
       "  </tbody>\n",
       "</table>\n",
       "</div>"
      ],
      "text/plain": [
       "  Category  count\n",
       "0       愛情    200\n",
       "1     勵志友情    200\n",
       "2     悲傷離別    200\n",
       "3   反抗反駁反諷    200"
      ]
     },
     "execution_count": 14,
     "metadata": {},
     "output_type": "execute_result"
    }
   ],
   "source": [
    "d = {'Category': df_select['Category'].value_counts().index, 'count': df_select['Category'].value_counts()}\n",
    "df_cat = pd.DataFrame(data = d).reset_index(drop = True)\n",
    "df_cat"
   ]
  },
  {
   "cell_type": "markdown",
   "id": "75bfde4e",
   "metadata": {},
   "source": [
    "# Get train / val / test"
   ]
  },
  {
   "cell_type": "code",
   "execution_count": 15,
   "id": "bf8d8d8c",
   "metadata": {},
   "outputs": [],
   "source": [
    "from gensim.models.doc2vec import TaggedDocument\n",
    "import collections"
   ]
  },
  {
   "cell_type": "code",
   "execution_count": 16,
   "id": "cacbc872",
   "metadata": {},
   "outputs": [
    {
     "data": {
      "text/html": [
       "<div>\n",
       "<style scoped>\n",
       "    .dataframe tbody tr th:only-of-type {\n",
       "        vertical-align: middle;\n",
       "    }\n",
       "\n",
       "    .dataframe tbody tr th {\n",
       "        vertical-align: top;\n",
       "    }\n",
       "\n",
       "    .dataframe thead th {\n",
       "        text-align: right;\n",
       "    }\n",
       "</style>\n",
       "<table border=\"1\" class=\"dataframe\">\n",
       "  <thead>\n",
       "    <tr style=\"text-align: right;\">\n",
       "      <th></th>\n",
       "      <th>Singer</th>\n",
       "      <th>Name</th>\n",
       "      <th>Lyric</th>\n",
       "      <th>Category</th>\n",
       "      <th>y</th>\n",
       "      <th>seg_text</th>\n",
       "      <th>word_num</th>\n",
       "    </tr>\n",
       "  </thead>\n",
       "  <tbody>\n",
       "    <tr>\n",
       "      <th>0</th>\n",
       "      <td>陳奕迅</td>\n",
       "      <td>MY GIRL</td>\n",
       "      <td>不只是因為相信妳的眼光 才找妳陪我挑選沙發和床不只是因為感謝你幫我忙 才不累不煩送你接你上班...</td>\n",
       "      <td>愛情</td>\n",
       "      <td>0</td>\n",
       "      <td>相信, 妳, 眼光, 找, 妳, 陪, 挑選沙, 發和床, 感謝, 幫, 忙, 不累, 不煩...</td>\n",
       "      <td>107</td>\n",
       "    </tr>\n",
       "    <tr>\n",
       "      <th>1</th>\n",
       "      <td>張惠妹</td>\n",
       "      <td>日出</td>\n",
       "      <td>BA LA BA LA BA LA BONBA LA BA LA BON...當那太陽升起的...</td>\n",
       "      <td>愛情</td>\n",
       "      <td>0</td>\n",
       "      <td>BALABALABALABONBALABALABON, 當那太陽, 升起, 唱, 隻, 歌,...</td>\n",
       "      <td>100</td>\n",
       "    </tr>\n",
       "    <tr>\n",
       "      <th>2</th>\n",
       "      <td>陳奕迅</td>\n",
       "      <td>阿牛</td>\n",
       "      <td>不能回頭　多年前早明言不能回頭可恨在是我這一頭蠻牛幾年來無法侍候　才和我分手成婚之前一刻才趕...</td>\n",
       "      <td>反抗反駁反諷</td>\n",
       "      <td>3</td>\n",
       "      <td>回頭, 多年, 前早, 明言, 回頭, 可恨, 這一頭, 牛, 幾年, 無法, 侍候, 分手...</td>\n",
       "      <td>131</td>\n",
       "    </tr>\n",
       "    <tr>\n",
       "      <th>3</th>\n",
       "      <td>A-Lin</td>\n",
       "      <td>狂風裡擁抱(信+A-Lin)</td>\n",
       "      <td>屬于我們那種幸福 別人不會懂就是走過太多苦澀 能牽手才感動無論再苦 你也只是 眺望著天空怕我...</td>\n",
       "      <td>愛情</td>\n",
       "      <td>0</td>\n",
       "      <td>屬于, 那種, 幸福, 懂, 走過, 太多苦, 澀, 牽手, 感動, 再, 苦, 眺望, 天...</td>\n",
       "      <td>142</td>\n",
       "    </tr>\n",
       "    <tr>\n",
       "      <th>4</th>\n",
       "      <td>蘇打綠</td>\n",
       "      <td>我好想你</td>\n",
       "      <td>開了燈 眼前的模樣偌大的房 寂寞的床關了燈 全都一個樣心裡的傷 無法分享生命 隨年月流去 隨...</td>\n",
       "      <td>悲傷離別</td>\n",
       "      <td>2</td>\n",
       "      <td>開, 燈, 眼前, 模樣, 偌大, 房, 寂寞, 床關, 燈, 一個樣, 心裡, 傷無法, ...</td>\n",
       "      <td>112</td>\n",
       "    </tr>\n",
       "    <tr>\n",
       "      <th>...</th>\n",
       "      <td>...</td>\n",
       "      <td>...</td>\n",
       "      <td>...</td>\n",
       "      <td>...</td>\n",
       "      <td>...</td>\n",
       "      <td>...</td>\n",
       "      <td>...</td>\n",
       "    </tr>\n",
       "    <tr>\n",
       "      <th>795</th>\n",
       "      <td>蘇打綠</td>\n",
       "      <td>一千座噴泉</td>\n",
       "      <td>有一千座噴泉同在一座小鎮裡頭迷路人們常旋轉在重覆街道路口I said, wow, wow, ...</td>\n",
       "      <td>勵志友情</td>\n",
       "      <td>1</td>\n",
       "      <td>一千, 座, 噴泉同, 一座, 小鎮裡頭, 迷路, 人們, 常旋轉, 重覆, 街道, 路口,...</td>\n",
       "      <td>51</td>\n",
       "    </tr>\n",
       "    <tr>\n",
       "      <th>796</th>\n",
       "      <td>A-Lin</td>\n",
       "      <td>一直走</td>\n",
       "      <td>浪花做的啤酒海溫柔做的沙好白  (hi)不穿鞋子的腳踝快樂能信手拈來 (shine)跟著我 ...</td>\n",
       "      <td>勵志友情</td>\n",
       "      <td>1</td>\n",
       "      <td>浪花, 做, 啤酒, 海溫, 柔, 做, 沙好, hi, 穿, 鞋子, 腳踝, 快樂能, 信...</td>\n",
       "      <td>145</td>\n",
       "    </tr>\n",
       "    <tr>\n",
       "      <th>797</th>\n",
       "      <td>林俊傑</td>\n",
       "      <td>不死之身</td>\n",
       "      <td>陽光放棄這最後一秒讓世界被黑暗籠罩懲罰著人們的驕傲我忍受寒冷的煎熬和北風狂妄的咆哮對命運做抵...</td>\n",
       "      <td>愛情</td>\n",
       "      <td>0</td>\n",
       "      <td>陽光, 放棄, 這最, 後, 一秒, 世界, 黑暗, 籠罩, 懲罰, 著人們, 驕傲, 忍受...</td>\n",
       "      <td>61</td>\n",
       "    </tr>\n",
       "    <tr>\n",
       "      <th>798</th>\n",
       "      <td>五月天</td>\n",
       "      <td>將軍令</td>\n",
       "      <td>在等誰 一聲下令以後才想起 呼吸你的自由從何時 習慣這種生活 Oh ～不相信 或是相信什麼其...</td>\n",
       "      <td>勵志友情</td>\n",
       "      <td>1</td>\n",
       "      <td>一聲, 下令, 以後才, 想起, 呼吸, 自由, 從何, 時, 習慣, 這種, 生活, Oh...</td>\n",
       "      <td>139</td>\n",
       "    </tr>\n",
       "    <tr>\n",
       "      <th>799</th>\n",
       "      <td>林宥嘉</td>\n",
       "      <td>壞與更壞</td>\n",
       "      <td>原來現實 與那理想 總不太同在谷底 哪有天虹「捱下去」、「別放棄」日日說金句 証明無用絕非雞...</td>\n",
       "      <td>反抗反駁反諷</td>\n",
       "      <td>3</td>\n",
       "      <td>原來, 現實, 理想, 總不太同, 谷底, 哪有, 天虹, 捱, 下去, 別放棄, 日日, ...</td>\n",
       "      <td>96</td>\n",
       "    </tr>\n",
       "  </tbody>\n",
       "</table>\n",
       "<p>800 rows × 7 columns</p>\n",
       "</div>"
      ],
      "text/plain": [
       "    Singer             Name  \\\n",
       "0      陳奕迅          MY GIRL   \n",
       "1      張惠妹               日出   \n",
       "2      陳奕迅               阿牛   \n",
       "3    A-Lin   狂風裡擁抱(信+A-Lin)   \n",
       "4      蘇打綠             我好想你   \n",
       "..     ...              ...   \n",
       "795    蘇打綠            一千座噴泉   \n",
       "796  A-Lin              一直走   \n",
       "797    林俊傑             不死之身   \n",
       "798    五月天              將軍令   \n",
       "799    林宥嘉             壞與更壞   \n",
       "\n",
       "                                                 Lyric Category  y  \\\n",
       "0    不只是因為相信妳的眼光 才找妳陪我挑選沙發和床不只是因為感謝你幫我忙 才不累不煩送你接你上班...       愛情  0   \n",
       "1    BA LA BA LA BA LA BONBA LA BA LA BON...當那太陽升起的...       愛情  0   \n",
       "2    不能回頭　多年前早明言不能回頭可恨在是我這一頭蠻牛幾年來無法侍候　才和我分手成婚之前一刻才趕...   反抗反駁反諷  3   \n",
       "3    屬于我們那種幸福 別人不會懂就是走過太多苦澀 能牽手才感動無論再苦 你也只是 眺望著天空怕我...       愛情  0   \n",
       "4    開了燈 眼前的模樣偌大的房 寂寞的床關了燈 全都一個樣心裡的傷 無法分享生命 隨年月流去 隨...     悲傷離別  2   \n",
       "..                                                 ...      ... ..   \n",
       "795  有一千座噴泉同在一座小鎮裡頭迷路人們常旋轉在重覆街道路口I said, wow, wow, ...     勵志友情  1   \n",
       "796  浪花做的啤酒海溫柔做的沙好白  (hi)不穿鞋子的腳踝快樂能信手拈來 (shine)跟著我 ...     勵志友情  1   \n",
       "797  陽光放棄這最後一秒讓世界被黑暗籠罩懲罰著人們的驕傲我忍受寒冷的煎熬和北風狂妄的咆哮對命運做抵...       愛情  0   \n",
       "798  在等誰 一聲下令以後才想起 呼吸你的自由從何時 習慣這種生活 Oh ～不相信 或是相信什麼其...     勵志友情  1   \n",
       "799  原來現實 與那理想 總不太同在谷底 哪有天虹「捱下去」、「別放棄」日日說金句 証明無用絕非雞...   反抗反駁反諷  3   \n",
       "\n",
       "                                              seg_text  word_num  \n",
       "0    相信, 妳, 眼光, 找, 妳, 陪, 挑選沙, 發和床, 感謝, 幫, 忙, 不累, 不煩...       107  \n",
       "1    BALABALABALABONBALABALABON, 當那太陽, 升起, 唱, 隻, 歌,...       100  \n",
       "2    回頭, 多年, 前早, 明言, 回頭, 可恨, 這一頭, 牛, 幾年, 無法, 侍候, 分手...       131  \n",
       "3    屬于, 那種, 幸福, 懂, 走過, 太多苦, 澀, 牽手, 感動, 再, 苦, 眺望, 天...       142  \n",
       "4    開, 燈, 眼前, 模樣, 偌大, 房, 寂寞, 床關, 燈, 一個樣, 心裡, 傷無法, ...       112  \n",
       "..                                                 ...       ...  \n",
       "795  一千, 座, 噴泉同, 一座, 小鎮裡頭, 迷路, 人們, 常旋轉, 重覆, 街道, 路口,...        51  \n",
       "796  浪花, 做, 啤酒, 海溫, 柔, 做, 沙好, hi, 穿, 鞋子, 腳踝, 快樂能, 信...       145  \n",
       "797  陽光, 放棄, 這最, 後, 一秒, 世界, 黑暗, 籠罩, 懲罰, 著人們, 驕傲, 忍受...        61  \n",
       "798  一聲, 下令, 以後才, 想起, 呼吸, 自由, 從何, 時, 習慣, 這種, 生活, Oh...       139  \n",
       "799  原來, 現實, 理想, 總不太同, 谷底, 哪有, 天虹, 捱, 下去, 別放棄, 日日, ...        96  \n",
       "\n",
       "[800 rows x 7 columns]"
      ]
     },
     "execution_count": 16,
     "metadata": {},
     "output_type": "execute_result"
    }
   ],
   "source": [
    "from sklearn.utils import shuffle\n",
    "\n",
    "np.random.seed(1234)\n",
    "\n",
    "df = shuffle(df_select)\n",
    "df.reset_index(drop = True, inplace = True)\n",
    "df"
   ]
  },
  {
   "cell_type": "code",
   "execution_count": 17,
   "id": "a5ee0819",
   "metadata": {},
   "outputs": [],
   "source": [
    "# 分割訓練集和測試集\n",
    "train, test = train_test_split(df, test_size = 0.2, random_state = 27, stratify = df.Category.values)\n",
    "train, val = train_test_split(train, test_size = 0.125, random_state = 27, stratify = train.Category.values)"
   ]
  },
  {
   "cell_type": "code",
   "execution_count": 18,
   "id": "473f2fe6",
   "metadata": {},
   "outputs": [],
   "source": [
    "# 對標籤進行編碼\n",
    "train_y = train.y\n",
    "val_y = val.y\n",
    "test_y = test.y\n",
    "le = LabelEncoder()\n",
    "train_y = le.fit_transform(train_y).reshape(-1, 1)\n",
    "val_y = le.transform(val_y).reshape(-1, 1)\n",
    "test_y = le.transform(test_y).reshape(-1, 1)\n",
    "\n",
    "# 將標籤編碼轉成onehot\n",
    "ohe = OneHotEncoder()\n",
    "train_y = ohe.fit_transform(train_y).toarray()\n",
    "val_y = ohe.transform(val_y).toarray()\n",
    "test_y = ohe.transform(test_y).toarray()"
   ]
  },
  {
   "cell_type": "code",
   "execution_count": 19,
   "id": "2f1f556c",
   "metadata": {
    "scrolled": true
   },
   "outputs": [],
   "source": [
    "## 使用Tokenizer對詞組進行編碼，編號是根據詞頻，詞頻越大，編號越小\n",
    "max_words = 7000\n",
    "max_len = 120\n",
    "tok = Tokenizer(num_words = max_words)  ## 使用的最大词语数为5000\n",
    "tok.fit_on_texts(train.seg_text)"
   ]
  },
  {
   "cell_type": "code",
   "execution_count": 20,
   "id": "d118694f",
   "metadata": {},
   "outputs": [
    {
     "name": "stdout",
     "output_type": "stream",
     "text": [
      "(560, 120)\n",
      "(80, 120)\n",
      "(160, 120)\n"
     ]
    }
   ],
   "source": [
    "# 將數據轉換成序列\n",
    "train_seq = tok.texts_to_sequences(train.seg_text)\n",
    "val_seq = tok.texts_to_sequences(val.seg_text)\n",
    "test_seq = tok.texts_to_sequences(test.seg_text)\n",
    "# 將序列調整為一樣長度 (padding)\n",
    "train_seq_mat = sequence.pad_sequences(train_seq, maxlen = max_len)\n",
    "val_seq_mat = sequence.pad_sequences(val_seq, maxlen = max_len)\n",
    "test_seq_mat = sequence.pad_sequences(test_seq, maxlen = max_len)\n",
    "\n",
    "print(train_seq_mat.shape)\n",
    "print(val_seq_mat.shape)\n",
    "print(test_seq_mat.shape)"
   ]
  },
  {
   "cell_type": "markdown",
   "id": "d1445d28",
   "metadata": {},
   "source": [
    "# Build Model"
   ]
  },
  {
   "cell_type": "markdown",
   "id": "6d187423",
   "metadata": {},
   "source": [
    "## Define Attention Layer"
   ]
  },
  {
   "cell_type": "code",
   "execution_count": 21,
   "id": "8765e7ec",
   "metadata": {},
   "outputs": [],
   "source": [
    "from tensorflow.python.keras.layers import Layer\n",
    "from keras import backend as K"
   ]
  },
  {
   "cell_type": "code",
   "execution_count": 22,
   "id": "8136ec26",
   "metadata": {
    "scrolled": true
   },
   "outputs": [],
   "source": [
    "class AttentionLayer(Layer):\n",
    "    def __init__(self, attention_size=None, **kwargs):\n",
    "        self.attention_size = attention_size\n",
    "        super(AttentionLayer, self).__init__(**kwargs)\n",
    "        \n",
    "    def get_config(self):\n",
    "        config = super().get_config()\n",
    "        config['attention_size'] = self.attention_size\n",
    "        return config\n",
    "        \n",
    "    def build(self, input_shape):\n",
    "        assert len(input_shape) == 3\n",
    "        \n",
    "        self.time_steps = input_shape[1]\n",
    "        hidden_size = input_shape[2]\n",
    "        if self.attention_size is None:\n",
    "            self.attention_size = hidden_size\n",
    "            \n",
    "        self.W = self.add_weight(name='att_weight', shape=(hidden_size, self.attention_size),\n",
    "                                initializer='uniform', trainable=True)\n",
    "        self.b = self.add_weight(name='att_bias', shape=(self.attention_size,),\n",
    "                                initializer='uniform', trainable=True)\n",
    "        self.V = self.add_weight(name='att_var', shape=(self.attention_size,),\n",
    "                                initializer='uniform', trainable=True)\n",
    "        super(AttentionLayer, self).build(input_shape)\n",
    "    \n",
    "    def call(self, inputs):\n",
    "        self.V = K.reshape(self.V, (-1, 1))\n",
    "        H = K.tanh(K.dot(inputs, self.W) + self.b)\n",
    "        score = K.softmax(K.dot(H, self.V), axis=1)\n",
    "        outputs = K.sum(score * inputs, axis=1)\n",
    "        return outputs\n",
    "    \n",
    "    def compute_output_shape(self, input_shape):\n",
    "        return input_shape[0], input_shape[2]"
   ]
  },
  {
   "cell_type": "markdown",
   "id": "847c4dbc",
   "metadata": {},
   "source": [
    "## Define Model"
   ]
  },
  {
   "cell_type": "code",
   "execution_count": 23,
   "id": "f9379cab",
   "metadata": {
    "scrolled": true
   },
   "outputs": [
    {
     "name": "stderr",
     "output_type": "stream",
     "text": [
      "2022-01-07 10:42:47.853981: W tensorflow/stream_executor/platform/default/dso_loader.cc:64] Could not load dynamic library 'libcuda.so.1'; dlerror: libcuda.so.1: cannot open shared object file: No such file or directory\n",
      "2022-01-07 10:42:47.854120: W tensorflow/stream_executor/cuda/cuda_driver.cc:269] failed call to cuInit: UNKNOWN ERROR (303)\n",
      "2022-01-07 10:42:47.854187: I tensorflow/stream_executor/cuda/cuda_diagnostics.cc:156] kernel driver does not appear to be running on this host (67-0459790-H1): /proc/driver/nvidia/version does not exist\n",
      "2022-01-07 10:42:47.854580: I tensorflow/core/platform/cpu_feature_guard.cc:151] This TensorFlow binary is optimized with oneAPI Deep Neural Network Library (oneDNN) to use the following CPU instructions in performance-critical operations:  AVX2 FMA\n",
      "To enable them in other operations, rebuild TensorFlow with the appropriate compiler flags.\n"
     ]
    },
    {
     "name": "stdout",
     "output_type": "stream",
     "text": [
      "WARNING:tensorflow:The following Variables were used in a Lambda layer's call (tf.__operators__.add), but are not present in its tracked objects:   <tf.Variable 'attention_layer/att_bias:0' shape=(128,) dtype=float32>. This is a strong indication that the Lambda layer should be rewritten as a subclassed Layer.\n"
     ]
    }
   ],
   "source": [
    "## 定義Bi-LSTM+Attention模型\n",
    "inputs = Input(name = 'inputs',shape = [max_len])\n",
    "## Embedding(詞彙表大小, batch size, 歌詞長度)\n",
    "layer = Embedding(max_words + 1, 128, input_length=max_len)(inputs)\n",
    "layer = Bidirectional(LSTM(128, dropout = 0.2, return_sequences=True), merge_mode = 'concat')(layer)\n",
    "layer = AttentionLayer(attention_size = 128)(layer)\n",
    "layer = Dense(128, activation = \"relu\", name = \"FC1\")(layer)\n",
    "layer = Dropout(0.4)(layer)\n",
    "layer = Dense(len(categories), activation = \"softmax\", name = \"FC2\")(layer)\n",
    "model_BiLSTM_Att = Model(inputs = inputs, outputs = layer)"
   ]
  },
  {
   "cell_type": "code",
   "execution_count": 24,
   "id": "c6e2f256",
   "metadata": {},
   "outputs": [],
   "source": [
    "## 定義Bi-LSTM模型\n",
    "inputs = Input(name = 'inputs',shape = [max_len])\n",
    "## Embedding(詞彙表大小, batch size, 歌詞長度)\n",
    "layer = Embedding(max_words + 1, 128, input_length=max_len)(inputs)\n",
    "layer = Bidirectional(LSTM(128, dropout = 0.2), merge_mode = 'concat')(layer)\n",
    "layer = Dense(128, activation = \"relu\", name = \"FC1\")(layer)\n",
    "layer = Dropout(0.4)(layer)\n",
    "layer = Dense(len(categories), activation = \"softmax\", name = \"FC2\")(layer)\n",
    "model_BiLSTM = Model(inputs = inputs, outputs = layer)"
   ]
  },
  {
   "cell_type": "code",
   "execution_count": 25,
   "id": "fd405ea8",
   "metadata": {},
   "outputs": [
    {
     "name": "stdout",
     "output_type": "stream",
     "text": [
      "WARNING:tensorflow:The following Variables were used in a Lambda layer's call (tf.__operators__.add_1), but are not present in its tracked objects:   <tf.Variable 'attention_layer_1/att_bias:0' shape=(128,) dtype=float32>. This is a strong indication that the Lambda layer should be rewritten as a subclassed Layer.\n"
     ]
    }
   ],
   "source": [
    "## 定義LSTM+Attention模型\n",
    "inputs = Input(name = 'inputs',shape = [max_len])\n",
    "## Embedding(詞彙表大小, batch size, 歌詞長度)\n",
    "layer = Embedding(max_words + 1, 128, input_length=max_len)(inputs)\n",
    "layer = LSTM(128, dropout = 0.2, return_sequences=True)(layer)\n",
    "layer = AttentionLayer(attention_size = 128)(layer)\n",
    "layer = Dense(128, activation = \"relu\", name = \"FC1\")(layer)\n",
    "layer = Dropout(0.4)(layer)\n",
    "layer = Dense(len(categories), activation = \"softmax\", name = \"FC2\")(layer)\n",
    "model_LSTM_Att = Model(inputs = inputs, outputs = layer)"
   ]
  },
  {
   "cell_type": "code",
   "execution_count": 26,
   "id": "fa38ddb3",
   "metadata": {},
   "outputs": [],
   "source": [
    "## 定義LSTM模型\n",
    "inputs = Input(name = 'inputs',shape = [max_len])\n",
    "## Embedding(詞彙表大小, batch size, 歌詞長度)\n",
    "layer = Embedding(max_words + 1, 128, input_length=max_len)(inputs)\n",
    "layer = LSTM(128, dropout = 0.2)(layer)\n",
    "layer = Dense(128, activation = \"relu\", name = \"FC1\")(layer)\n",
    "layer = Dropout(0.4)(layer)\n",
    "layer = Dense(len(categories), activation = \"softmax\", name = \"FC2\")(layer)\n",
    "model_LSTM = Model(inputs = inputs, outputs = layer)"
   ]
  },
  {
   "cell_type": "code",
   "execution_count": 27,
   "id": "91a3955b",
   "metadata": {
    "scrolled": true
   },
   "outputs": [
    {
     "name": "stderr",
     "output_type": "stream",
     "text": [
      "/home/vivian/miniconda3/envs/tf2/lib/python3.7/site-packages/keras/optimizer_v2/adam.py:105: UserWarning: The `lr` argument is deprecated, use `learning_rate` instead.\n",
      "  super(Adam, self).__init__(name, **kwargs)\n"
     ]
    }
   ],
   "source": [
    "# optimizer = optimizers.RMSprop(lr = 0.0001, decay = 1e-6)\n",
    "optimizer = optimizers.Adam(lr = 0.0001, decay = 1e-6)\n",
    "model_BiLSTM_Att.compile(loss = \"categorical_crossentropy\", optimizer = optimizer ,metrics = [\"accuracy\"])\n",
    "model_BiLSTM.compile(loss = \"categorical_crossentropy\", optimizer = optimizer ,metrics = [\"accuracy\"])\n",
    "model_LSTM_Att.compile(loss = \"categorical_crossentropy\", optimizer = optimizer ,metrics = [\"accuracy\"])\n",
    "model_LSTM.compile(loss = \"categorical_crossentropy\", optimizer = optimizer ,metrics = [\"accuracy\"])"
   ]
  },
  {
   "cell_type": "code",
   "execution_count": 28,
   "id": "c4639029",
   "metadata": {},
   "outputs": [
    {
     "name": "stdout",
     "output_type": "stream",
     "text": [
      "Epoch 1/10\n",
      "70/70 [==============================] - 16s 165ms/step - loss: 1.3854 - accuracy: 0.2625 - val_loss: 1.3864 - val_accuracy: 0.2500\n",
      "Epoch 2/10\n",
      "70/70 [==============================] - 10s 139ms/step - loss: 1.3834 - accuracy: 0.3357 - val_loss: 1.3864 - val_accuracy: 0.2500\n",
      "Epoch 3/10\n",
      "70/70 [==============================] - 12s 165ms/step - loss: 1.3782 - accuracy: 0.3982 - val_loss: 1.3867 - val_accuracy: 0.2375\n",
      "Epoch 4/10\n",
      "70/70 [==============================] - 10s 143ms/step - loss: 1.3653 - accuracy: 0.4429 - val_loss: 1.3864 - val_accuracy: 0.2375\n",
      "Epoch 5/10\n",
      "70/70 [==============================] - 13s 187ms/step - loss: 1.1705 - accuracy: 0.4821 - val_loss: 1.4913 - val_accuracy: 0.3375\n",
      "Epoch 6/10\n",
      "70/70 [==============================] - 17s 237ms/step - loss: 0.8258 - accuracy: 0.6446 - val_loss: 1.8861 - val_accuracy: 0.3500\n",
      "Epoch 7/10\n",
      "70/70 [==============================] - 11s 159ms/step - loss: 0.5693 - accuracy: 0.7482 - val_loss: 1.6898 - val_accuracy: 0.3125\n",
      "Epoch 8/10\n",
      "70/70 [==============================] - 11s 153ms/step - loss: 0.4003 - accuracy: 0.8554 - val_loss: 2.1089 - val_accuracy: 0.2750\n",
      "Epoch 9/10\n",
      "70/70 [==============================] - 10s 148ms/step - loss: 0.3050 - accuracy: 0.8946 - val_loss: 2.0742 - val_accuracy: 0.4250\n",
      "Epoch 10/10\n",
      "70/70 [==============================] - 11s 152ms/step - loss: 0.2103 - accuracy: 0.9304 - val_loss: 2.3907 - val_accuracy: 0.3500\n"
     ]
    }
   ],
   "source": [
    "model_BiLSTM_Att_history = model_BiLSTM_Att.fit(train_seq_mat, train_y, batch_size = 8, epochs = 10, \n",
    "                                                validation_data = (val_seq_mat, val_y))"
   ]
  },
  {
   "cell_type": "code",
   "execution_count": 29,
   "id": "708d4edd",
   "metadata": {},
   "outputs": [
    {
     "name": "stdout",
     "output_type": "stream",
     "text": [
      "Epoch 1/10\n",
      "70/70 [==============================] - 15s 157ms/step - loss: 1.3871 - accuracy: 0.2500 - val_loss: 1.3835 - val_accuracy: 0.3125\n",
      "Epoch 2/10\n",
      "70/70 [==============================] - 9s 136ms/step - loss: 1.3659 - accuracy: 0.3964 - val_loss: 1.3621 - val_accuracy: 0.2875\n",
      "Epoch 3/10\n",
      "70/70 [==============================] - 10s 139ms/step - loss: 1.1907 - accuracy: 0.5250 - val_loss: 1.3272 - val_accuracy: 0.3250\n",
      "Epoch 4/10\n",
      "70/70 [==============================] - 10s 141ms/step - loss: 0.9048 - accuracy: 0.5607 - val_loss: 1.3581 - val_accuracy: 0.3125\n",
      "Epoch 5/10\n",
      "70/70 [==============================] - 10s 147ms/step - loss: 0.6625 - accuracy: 0.7179 - val_loss: 1.5558 - val_accuracy: 0.3625\n",
      "Epoch 6/10\n",
      "70/70 [==============================] - 9s 125ms/step - loss: 0.5325 - accuracy: 0.8357 - val_loss: 1.8970 - val_accuracy: 0.3375\n",
      "Epoch 7/10\n",
      "70/70 [==============================] - 9s 125ms/step - loss: 0.3833 - accuracy: 0.8839 - val_loss: 1.8692 - val_accuracy: 0.3625\n",
      "Epoch 8/10\n",
      "70/70 [==============================] - 9s 126ms/step - loss: 0.2113 - accuracy: 0.9571 - val_loss: 2.1282 - val_accuracy: 0.3750\n",
      "Epoch 9/10\n",
      "70/70 [==============================] - 8s 119ms/step - loss: 0.3172 - accuracy: 0.8982 - val_loss: 1.7527 - val_accuracy: 0.3375\n",
      "Epoch 10/10\n",
      "70/70 [==============================] - 8s 117ms/step - loss: 0.2148 - accuracy: 0.9554 - val_loss: 2.0436 - val_accuracy: 0.3875\n"
     ]
    }
   ],
   "source": [
    "model_BiLSTM_history = model_BiLSTM.fit(train_seq_mat, train_y, batch_size = 8, epochs = 10, \n",
    "                                                validation_data = (val_seq_mat, val_y))"
   ]
  },
  {
   "cell_type": "code",
   "execution_count": 30,
   "id": "5a2271f1",
   "metadata": {},
   "outputs": [
    {
     "name": "stdout",
     "output_type": "stream",
     "text": [
      "Epoch 1/10\n",
      "70/70 [==============================] - 9s 98ms/step - loss: 1.3844 - accuracy: 0.2768 - val_loss: 1.3874 - val_accuracy: 0.2500\n",
      "Epoch 2/10\n",
      "70/70 [==============================] - 7s 94ms/step - loss: 1.3708 - accuracy: 0.3661 - val_loss: 1.3845 - val_accuracy: 0.2750\n",
      "Epoch 3/10\n",
      "70/70 [==============================] - 9s 122ms/step - loss: 1.2789 - accuracy: 0.4518 - val_loss: 1.3333 - val_accuracy: 0.3875\n",
      "Epoch 4/10\n",
      "70/70 [==============================] - 9s 129ms/step - loss: 1.0111 - accuracy: 0.5250 - val_loss: 1.4151 - val_accuracy: 0.2875\n",
      "Epoch 5/10\n",
      "70/70 [==============================] - 7s 102ms/step - loss: 0.8810 - accuracy: 0.5446 - val_loss: 1.5907 - val_accuracy: 0.2750\n",
      "Epoch 6/10\n",
      "70/70 [==============================] - 7s 103ms/step - loss: 0.8366 - accuracy: 0.5714 - val_loss: 1.4004 - val_accuracy: 0.4625\n",
      "Epoch 7/10\n",
      "70/70 [==============================] - 7s 105ms/step - loss: 0.7170 - accuracy: 0.6089 - val_loss: 1.4129 - val_accuracy: 0.4500\n",
      "Epoch 8/10\n",
      "70/70 [==============================] - 8s 108ms/step - loss: 0.5223 - accuracy: 0.7786 - val_loss: 1.5616 - val_accuracy: 0.4250\n",
      "Epoch 9/10\n",
      "70/70 [==============================] - 7s 100ms/step - loss: 0.4255 - accuracy: 0.7875 - val_loss: 1.6322 - val_accuracy: 0.5000\n",
      "Epoch 10/10\n",
      "70/70 [==============================] - 8s 117ms/step - loss: 0.4338 - accuracy: 0.8071 - val_loss: 1.6830 - val_accuracy: 0.4375\n"
     ]
    }
   ],
   "source": [
    "model_LSTM_Att_history = model_LSTM_Att.fit(train_seq_mat, train_y, batch_size = 8, epochs = 10, \n",
    "                                                validation_data = (val_seq_mat, val_y))"
   ]
  },
  {
   "cell_type": "code",
   "execution_count": 31,
   "id": "e0ae1e38",
   "metadata": {},
   "outputs": [
    {
     "name": "stdout",
     "output_type": "stream",
     "text": [
      "Epoch 1/10\n",
      "70/70 [==============================] - 13s 136ms/step - loss: 1.3866 - accuracy: 0.2143 - val_loss: 1.3838 - val_accuracy: 0.3625\n",
      "Epoch 2/10\n",
      "70/70 [==============================] - 8s 119ms/step - loss: 1.3412 - accuracy: 0.5357 - val_loss: 1.4163 - val_accuracy: 0.2500\n",
      "Epoch 3/10\n",
      "70/70 [==============================] - 8s 120ms/step - loss: 1.0689 - accuracy: 0.5857 - val_loss: 1.4698 - val_accuracy: 0.3375\n",
      "Epoch 4/10\n",
      "70/70 [==============================] - 8s 114ms/step - loss: 0.7707 - accuracy: 0.6946 - val_loss: 1.3709 - val_accuracy: 0.3375\n",
      "Epoch 5/10\n",
      "70/70 [==============================] - 8s 115ms/step - loss: 0.5298 - accuracy: 0.8143 - val_loss: 1.6263 - val_accuracy: 0.3625\n",
      "Epoch 6/10\n",
      "70/70 [==============================] - 9s 124ms/step - loss: 0.3435 - accuracy: 0.9161 - val_loss: 1.7955 - val_accuracy: 0.3375\n",
      "Epoch 7/10\n",
      "70/70 [==============================] - 9s 123ms/step - loss: 0.1569 - accuracy: 0.9786 - val_loss: 1.6930 - val_accuracy: 0.3625\n",
      "Epoch 8/10\n",
      "70/70 [==============================] - 8s 112ms/step - loss: 0.1417 - accuracy: 0.9875 - val_loss: 1.8198 - val_accuracy: 0.3625\n",
      "Epoch 9/10\n",
      "70/70 [==============================] - 7s 105ms/step - loss: 0.0307 - accuracy: 1.0000 - val_loss: 2.4963 - val_accuracy: 0.4000\n",
      "Epoch 10/10\n",
      "70/70 [==============================] - 7s 98ms/step - loss: 0.0105 - accuracy: 1.0000 - val_loss: 2.9816 - val_accuracy: 0.4125\n"
     ]
    }
   ],
   "source": [
    "model_LSTM_history = model_LSTM.fit(train_seq_mat, train_y, batch_size = 8, epochs = 10, \n",
    "                                                validation_data = (val_seq_mat, val_y))"
   ]
  },
  {
   "cell_type": "code",
   "execution_count": 32,
   "id": "a1fb2d2b",
   "metadata": {
    "scrolled": true
   },
   "outputs": [],
   "source": [
    "# model_BiLSTM_Att.save('./model/model_BiLSTM_Att.h5')\n",
    "# model_BiLSTM.save('./model/model_BiLSTM.h5')\n",
    "# model_LSTM_Att.save('./model/model_LSTM_Att.h5')\n",
    "# model_LSTM.save('./model/model_LSTM.h5')"
   ]
  },
  {
   "cell_type": "code",
   "execution_count": 33,
   "id": "1d6e44b4",
   "metadata": {},
   "outputs": [
    {
     "data": {
      "image/png": "[encoded data removed]",
      "text/plain": [
       "<Figure size 432x288 with 1 Axes>"
      ]
     },
     "metadata": {
      "needs_background": "light"
     },
     "output_type": "display_data"
    },
    {
     "data": {
      "image/png": "[encoded data removed]",
      "text/plain": [
       "<Figure size 432x288 with 1 Axes>"
      ]
     },
     "metadata": {
      "needs_background": "light"
     },
     "output_type": "display_data"
    }
   ],
   "source": [
    "from matplotlib import pyplot as plt\n",
    "plt.plot(model_BiLSTM_Att_history.history['loss'])\n",
    "plt.plot(model_BiLSTM_Att_history.history['val_loss'])\n",
    "plt.title('Bi-LSTM+Attention model loss', size = 14)\n",
    "plt.ylabel('loss', size = 12)\n",
    "plt.xlabel('epoch', size = 12)\n",
    "plt.legend(['train', 'val'], loc='upper left')\n",
    "plt.show()\n",
    "\n",
    "plt.plot(model_BiLSTM_Att_history.history['accuracy'])\n",
    "plt.plot(model_BiLSTM_Att_history.history['val_accuracy'])\n",
    "plt.title('Bi-LSTM+Attention model accuracy', size = 14)\n",
    "plt.ylabel('accuracy', size = 12)\n",
    "plt.xlabel('epoch', size = 12)\n",
    "plt.legend(['train', 'val'], loc='upper left')\n",
    "plt.show()"
   ]
  },
  {
   "cell_type": "code",
   "execution_count": 34,
   "id": "939dfdc1",
   "metadata": {},
   "outputs": [
    {
     "data": {
      "image/png": "[encoded data removed]",
      "text/plain": [
       "<Figure size 432x288 with 1 Axes>"
      ]
     },
     "metadata": {
      "needs_background": "light"
     },
     "output_type": "display_data"
    },
    {
     "data": {
      "image/png": "[encoded data removed]",
      "text/plain": [
       "<Figure size 432x288 with 1 Axes>"
      ]
     },
     "metadata": {
      "needs_background": "light"
     },
     "output_type": "display_data"
    }
   ],
   "source": [
    "from matplotlib import pyplot as plt\n",
    "plt.plot(model_BiLSTM_history.history['loss'])\n",
    "plt.plot(model_BiLSTM_history.history['val_loss'])\n",
    "plt.title('Bi-LSTM model loss', size = 14)\n",
    "plt.ylabel('loss', size = 12)\n",
    "plt.xlabel('epoch', size = 12)\n",
    "plt.legend(['train', 'val'], loc='upper left')\n",
    "plt.show()\n",
    "\n",
    "plt.plot(model_BiLSTM_history.history['accuracy'])\n",
    "plt.plot(model_BiLSTM_history.history['val_accuracy'])\n",
    "plt.title('Bi-LSTM model accuracy', size = 14)\n",
    "plt.ylabel('accuracy', size = 12)\n",
    "plt.xlabel('epoch', size = 12)\n",
    "plt.legend(['train', 'val'], loc='upper left')\n",
    "plt.show()"
   ]
  },
  {
   "cell_type": "code",
   "execution_count": 35,
   "id": "43803698",
   "metadata": {},
   "outputs": [
    {
     "data": {
      "image/png": "[encoded data removed]",
      "text/plain": [
       "<Figure size 432x288 with 1 Axes>"
      ]
     },
     "metadata": {
      "needs_background": "light"
     },
     "output_type": "display_data"
    },
    {
     "data": {
      "image/png": "[encoded data removed]",
      "text/plain": [
       "<Figure size 432x288 with 1 Axes>"
      ]
     },
     "metadata": {
      "needs_background": "light"
     },
     "output_type": "display_data"
    }
   ],
   "source": [
    "from matplotlib import pyplot as plt\n",
    "plt.plot(model_LSTM_Att_history.history['loss'])\n",
    "plt.plot(model_LSTM_Att_history.history['val_loss'])\n",
    "plt.title('LSTM+Attention model loss', size = 14)\n",
    "plt.ylabel('loss', size = 12)\n",
    "plt.xlabel('epoch', size = 12)\n",
    "plt.legend(['train', 'val'], loc='upper left')\n",
    "plt.show()\n",
    "\n",
    "plt.plot(model_LSTM_Att_history.history['accuracy'])\n",
    "plt.plot(model_LSTM_Att_history.history['val_accuracy'])\n",
    "plt.title('LSTM+Attention model accuracy', size = 14)\n",
    "plt.ylabel('accuracy', size = 12)\n",
    "plt.xlabel('epoch', size = 12)\n",
    "plt.legend(['train', 'val'], loc='upper left')\n",
    "plt.show()"
   ]
  },
  {
   "cell_type": "code",
   "execution_count": 36,
   "id": "d36ad35e",
   "metadata": {},
   "outputs": [
    {
     "data": {
      "image/png": "[encoded data removed]",
      "text/plain": [
       "<Figure size 432x288 with 1 Axes>"
      ]
     },
     "metadata": {
      "needs_background": "light"
     },
     "output_type": "display_data"
    },
    {
     "data": {
      "image/png": "[encoded data removed]",
      "text/plain": [
       "<Figure size 432x288 with 1 Axes>"
      ]
     },
     "metadata": {
      "needs_background": "light"
     },
     "output_type": "display_data"
    }
   ],
   "source": [
    "from matplotlib import pyplot as plt\n",
    "plt.plot(model_LSTM_history.history['loss'])\n",
    "plt.plot(model_LSTM_history.history['val_loss'])\n",
    "plt.title('LSTM model loss', size = 14)\n",
    "plt.ylabel('loss', size = 12)\n",
    "plt.xlabel('epoch', size = 12)\n",
    "plt.legend(['train', 'val'], loc='upper left')\n",
    "plt.show()\n",
    "\n",
    "plt.plot(model_LSTM_history.history['accuracy'])\n",
    "plt.plot(model_LSTM_history.history['val_accuracy'])\n",
    "plt.title('LSTM model accuracy', size = 14)\n",
    "plt.ylabel('accuracy', size = 12)\n",
    "plt.xlabel('epoch', size = 12)\n",
    "plt.legend(['train', 'val'], loc='upper left')\n",
    "plt.show()"
   ]
  },
  {
   "cell_type": "markdown",
   "id": "00004ce6",
   "metadata": {},
   "source": [
    "# Predict"
   ]
  },
  {
   "cell_type": "code",
   "execution_count": 37,
   "id": "f088392e",
   "metadata": {},
   "outputs": [],
   "source": [
    "# 設定字體\n",
    "from matplotlib.font_manager import FontProperties\n",
    "fonts = FontProperties(fname = \"msjh.ttc\", size = 14)\n",
    "%config InlineBackend.figure_format = 'retina'\n",
    "%matplotlib inline"
   ]
  },
  {
   "cell_type": "markdown",
   "id": "fd543b5e",
   "metadata": {},
   "source": [
    "## Bi-LSTM + Attention"
   ]
  },
  {
   "cell_type": "code",
   "execution_count": 38,
   "id": "85714ed9",
   "metadata": {
    "scrolled": true
   },
   "outputs": [
    {
     "name": "stdout",
     "output_type": "stream",
     "text": [
      "5/5 [==============================] - 2s 84ms/step - loss: 2.6992 - accuracy: 0.3000\n",
      "Test accuracy: 0.30000001192092896\n",
      "--------------------------------------------------------\n",
      "              precision    recall  f1-score   support\n",
      "\n",
      "          愛情       0.12      0.07      0.09        40\n",
      "        勵志友情       0.43      0.15      0.22        40\n",
      "        悲傷離別       0.31      0.75      0.44        40\n",
      "      反抗反駁反諷       0.39      0.23      0.29        40\n",
      "\n",
      "    accuracy                           0.30       160\n",
      "   macro avg       0.31      0.30      0.26       160\n",
      "weighted avg       0.31      0.30      0.26       160\n",
      "\n"
     ]
    }
   ],
   "source": [
    "test_loss, test_acc = model_BiLSTM_Att.evaluate(test_seq_mat, test_y)\n",
    "print('Test accuracy:', test_acc)\n",
    "print(\"--------------------------------------------------------\")\n",
    "# test\n",
    "test_pre = model_BiLSTM_Att.predict(test_seq_mat)\n",
    "# confusion matrix\n",
    "confm = metrics.confusion_matrix(np.argmax(test_y, axis = 1),np.argmax(test_pre, axis = 1))\n",
    "print(metrics.classification_report(np.argmax(test_y,axis=1),np.argmax(test_pre,axis=1), target_names=categories))"
   ]
  },
  {
   "cell_type": "code",
   "execution_count": 39,
   "id": "608e51fa",
   "metadata": {},
   "outputs": [
    {
     "data": {
      "image/png": "[encoded data removed]",
      "text/plain": [
       "<Figure size 576x576 with 1 Axes>"
      ]
     },
     "metadata": {
      "image/png": {
       "height": 489,
       "width": 489
      },
      "needs_background": "light"
     },
     "output_type": "display_data"
    }
   ],
   "source": [
    "# plot confusion matrix\n",
    "plt.figure(figsize = (8, 8))\n",
    "sns.heatmap(confm.T, square = True, annot = True,\n",
    "            fmt = 'd', cbar = False,linewidths = .8,\n",
    "            cmap = \"YlGnBu\")\n",
    "plt.xlabel('True label', size = 14)\n",
    "plt.ylabel('Predicted label', size = 14)\n",
    "plt.xticks(np.arange(len(categories)) + 0.5, categories, fontproperties = fonts)\n",
    "plt.yticks(np.arange(len(categories)) + 0.5, categories, fontproperties = fonts)\n",
    "plt.show()"
   ]
  },
  {
   "cell_type": "markdown",
   "id": "793de19a",
   "metadata": {},
   "source": [
    "## Bi-LSTM"
   ]
  },
  {
   "cell_type": "code",
   "execution_count": 40,
   "id": "80eedd52",
   "metadata": {
    "scrolled": false
   },
   "outputs": [
    {
     "name": "stdout",
     "output_type": "stream",
     "text": [
      "5/5 [==============================] - 1s 70ms/step - loss: 2.3122 - accuracy: 0.3688\n",
      "Test accuracy: 0.3687500059604645\n",
      "--------------------------------------------------------\n",
      "              precision    recall  f1-score   support\n",
      "\n",
      "          愛情       1.00      0.03      0.05        40\n",
      "        勵志友情       0.56      0.25      0.34        40\n",
      "        悲傷離別       0.34      0.85      0.49        40\n",
      "      反抗反駁反諷       0.34      0.35      0.35        40\n",
      "\n",
      "    accuracy                           0.37       160\n",
      "   macro avg       0.56      0.37      0.31       160\n",
      "weighted avg       0.56      0.37      0.31       160\n",
      "\n"
     ]
    }
   ],
   "source": [
    "test_loss, test_acc = model_BiLSTM.evaluate(test_seq_mat, test_y)\n",
    "print('Test accuracy:', test_acc)\n",
    "print(\"--------------------------------------------------------\")\n",
    "# test\n",
    "test_pre = model_BiLSTM.predict(test_seq_mat)\n",
    "# confusion matrix\n",
    "confm = metrics.confusion_matrix(np.argmax(test_y, axis = 1),np.argmax(test_pre, axis = 1))\n",
    "print(metrics.classification_report(np.argmax(test_y,axis=1),np.argmax(test_pre,axis=1), target_names=categories))"
   ]
  },
  {
   "cell_type": "code",
   "execution_count": 41,
   "id": "ef627394",
   "metadata": {},
   "outputs": [
    {
     "data": {
      "image/png": "[encoded data removed]",
      "text/plain": [
       "<Figure size 576x576 with 1 Axes>"
      ]
     },
     "metadata": {
      "image/png": {
       "height": 489,
       "width": 489
      },
      "needs_background": "light"
     },
     "output_type": "display_data"
    }
   ],
   "source": [
    "# plot confusion matrix\n",
    "plt.figure(figsize = (8, 8))\n",
    "sns.heatmap(confm.T, square = True, annot = True,\n",
    "            fmt = 'd', cbar = False,linewidths = .8,\n",
    "            cmap = \"YlGnBu\")\n",
    "plt.xlabel('True label', size = 14)\n",
    "plt.ylabel('Predicted label', size = 14)\n",
    "plt.xticks(np.arange(len(categories)) + 0.5, categories, fontproperties = fonts)\n",
    "plt.yticks(np.arange(len(categories)) + 0.5, categories, fontproperties = fonts)\n",
    "plt.show()"
   ]
  },
  {
   "cell_type": "markdown",
   "id": "99c84caa",
   "metadata": {},
   "source": [
    "## LSTM + Attention"
   ]
  },
  {
   "cell_type": "code",
   "execution_count": 42,
   "id": "af820d9a",
   "metadata": {},
   "outputs": [
    {
     "name": "stdout",
     "output_type": "stream",
     "text": [
      "5/5 [==============================] - 1s 77ms/step - loss: 1.8371 - accuracy: 0.4062\n",
      "Test accuracy: 0.40625\n",
      "--------------------------------------------------------\n",
      "              precision    recall  f1-score   support\n",
      "\n",
      "          愛情       0.35      0.65      0.46        40\n",
      "        勵志友情       0.40      0.57      0.47        40\n",
      "        悲傷離別       0.14      0.03      0.04        40\n",
      "      反抗反駁反諷       0.68      0.38      0.48        40\n",
      "\n",
      "    accuracy                           0.41       160\n",
      "   macro avg       0.39      0.41      0.36       160\n",
      "weighted avg       0.39      0.41      0.36       160\n",
      "\n"
     ]
    }
   ],
   "source": [
    "test_loss, test_acc = model_LSTM_Att.evaluate(test_seq_mat, test_y)\n",
    "print('Test accuracy:', test_acc)\n",
    "print(\"--------------------------------------------------------\")\n",
    "# test\n",
    "test_pre = model_LSTM_Att.predict(test_seq_mat)\n",
    "# confusion matrix\n",
    "confm = metrics.confusion_matrix(np.argmax(test_y, axis = 1),np.argmax(test_pre, axis = 1))\n",
    "print(metrics.classification_report(np.argmax(test_y,axis=1),np.argmax(test_pre,axis=1), target_names=categories))"
   ]
  },
  {
   "cell_type": "code",
   "execution_count": 43,
   "id": "5c2e90a8",
   "metadata": {},
   "outputs": [
    {
     "data": {
      "image/png": "[encoded data removed]",
      "text/plain": [
       "<Figure size 576x576 with 1 Axes>"
      ]
     },
     "metadata": {
      "image/png": {
       "height": 489,
       "width": 489
      },
      "needs_background": "light"
     },
     "output_type": "display_data"
    }
   ],
   "source": [
    "# plot confusion matrix\n",
    "plt.figure(figsize = (8, 8))\n",
    "sns.heatmap(confm.T, square = True, annot = True,\n",
    "            fmt = 'd', cbar = False,linewidths = .8,\n",
    "            cmap = \"YlGnBu\")\n",
    "plt.xlabel('True label', size = 14)\n",
    "plt.ylabel('Predicted label', size = 14)\n",
    "plt.xticks(np.arange(len(categories)) + 0.5, categories, fontproperties = fonts)\n",
    "plt.yticks(np.arange(len(categories)) + 0.5, categories, fontproperties = fonts)\n",
    "plt.show()"
   ]
  },
  {
   "cell_type": "markdown",
   "id": "64136d0a",
   "metadata": {},
   "source": [
    "## LSTM"
   ]
  },
  {
   "cell_type": "code",
   "execution_count": 44,
   "id": "657f830e",
   "metadata": {},
   "outputs": [
    {
     "name": "stdout",
     "output_type": "stream",
     "text": [
      "5/5 [==============================] - 1s 56ms/step - loss: 2.7145 - accuracy: 0.3938\n",
      "Test accuracy: 0.39375001192092896\n",
      "--------------------------------------------------------\n",
      "              precision    recall  f1-score   support\n",
      "\n",
      "          愛情       0.32      0.50      0.39        40\n",
      "        勵志友情       0.50      0.30      0.37        40\n",
      "        悲傷離別       0.36      0.55      0.44        40\n",
      "      反抗反駁反諷       0.75      0.23      0.35        40\n",
      "\n",
      "    accuracy                           0.39       160\n",
      "   macro avg       0.48      0.39      0.39       160\n",
      "weighted avg       0.48      0.39      0.39       160\n",
      "\n"
     ]
    }
   ],
   "source": [
    "test_loss, test_acc = model_LSTM.evaluate(test_seq_mat, test_y)\n",
    "print('Test accuracy:', test_acc)\n",
    "print(\"--------------------------------------------------------\")\n",
    "# test\n",
    "test_pre = model_LSTM.predict(test_seq_mat)\n",
    "# confusion matrix\n",
    "confm = metrics.confusion_matrix(np.argmax(test_y, axis = 1),np.argmax(test_pre, axis = 1))\n",
    "print(metrics.classification_report(np.argmax(test_y,axis=1),np.argmax(test_pre,axis=1), target_names=categories))"
   ]
  },
  {
   "cell_type": "code",
   "execution_count": 45,
   "id": "0633deb3",
   "metadata": {},
   "outputs": [
    {
     "data": {
      "image/png": "[encoded data removed]",
      "text/plain": [
       "<Figure size 576x576 with 1 Axes>"
      ]
     },
     "metadata": {
      "image/png": {
       "height": 489,
       "width": 489
      },
      "needs_background": "light"
     },
     "output_type": "display_data"
    }
   ],
   "source": [
    "# plot confusion matrix\n",
    "plt.figure(figsize = (8, 8))\n",
    "sns.heatmap(confm.T, square = True, annot = True,\n",
    "            fmt = 'd', cbar = False,linewidths = .8,\n",
    "            cmap = \"YlGnBu\")\n",
    "plt.xlabel('True label', size = 14)\n",
    "plt.ylabel('Predicted label', size = 14)\n",
    "plt.xticks(np.arange(len(categories)) + 0.5, categories, fontproperties = fonts)\n",
    "plt.yticks(np.arange(len(categories)) + 0.5, categories, fontproperties = fonts)\n",
    "plt.show()"
   ]
  },
  {
   "cell_type": "code",
   "execution_count": null,
   "id": "1d4e3224",
   "metadata": {},
   "outputs": [],
   "source": []
  },
  {
   "cell_type": "code",
   "execution_count": null,
   "id": "a41f1a77",
   "metadata": {},
   "outputs": [],
   "source": []
  },
  {
   "cell_type": "code",
   "execution_count": null,
   "id": "32073ecf",
   "metadata": {},
   "outputs": [],
   "source": []
  }
 ],
 "metadata": {
  "kernelspec": {
   "display_name": "Python 3 (ipykernel)",
   "language": "python",
   "name": "python3"
  },
  "language_info": {
   "codemirror_mode": {
    "name": "ipython",
    "version": 3
   },
   "file_extension": ".py",
   "mimetype": "text/x-python",
   "name": "python",
   "nbconvert_exporter": "python",
   "pygments_lexer": "ipython3",
   "version": "3.7.11"
  }
 },
 "nbformat": 4,
 "nbformat_minor": 5
}
