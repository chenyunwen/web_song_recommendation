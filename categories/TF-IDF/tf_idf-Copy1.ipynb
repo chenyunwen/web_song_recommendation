{
 "cells": [
  {
   "cell_type": "code",
   "execution_count": 1,
   "id": "6f5655dd",
   "metadata": {},
   "outputs": [],
   "source": [
    "from sklearn.datasets import load_files\n",
    "from sklearn.feature_extraction.text import CountVectorizer\n",
    "from sklearn.feature_extraction.text import TfidfVectorizer\n",
    "from sklearn.linear_model import LogisticRegression\n",
    "from sklearn.naive_bayes import MultinomialNB\n",
    "from sklearn.neighbors import KNeighborsClassifier\n",
    "from sklearn.svm import SVC\n",
    "from sklearn.tree import DecisionTreeClassifier\n",
    "from sklearn.metrics import classification_report\n",
    "from sklearn.metrics import accuracy_score\n",
    "from sklearn.model_selection import cross_val_score\n",
    "from sklearn.model_selection import KFold\n",
    "from sklearn.model_selection import GridSearchCV\n",
    "from sklearn.ensemble import AdaBoostClassifier\n",
    "from sklearn.ensemble import RandomForestClassifier\n",
    "from matplotlib import pyplot as plt\n",
    "import pandas as pd"
   ]
  },
  {
   "cell_type": "code",
   "execution_count": 2,
   "id": "6971f5f1",
   "metadata": {},
   "outputs": [
    {
     "name": "stdout",
     "output_type": "stream",
     "text": [
      "\u001b[32mTotal number of data: 2206\u001b[0m\n"
     ]
    }
   ],
   "source": [
    "df = pd.read_csv('./data/merged.csv')\n",
    "df = df[['Singer', 'Name', 'Lyric', 'Category']].astype(str)\n",
    "df.drop(df[df.Singer == 'nan'].index, inplace=True)\n",
    "df.drop(df[df.Name == 'Name'].index, inplace=True)\n",
    "print(\"\\033[32mTotal number of data: %d\\033[0m\" %len(df))"
   ]
  },
  {
   "cell_type": "code",
   "execution_count": 3,
   "id": "62cf6da0",
   "metadata": {
    "scrolled": true
   },
   "outputs": [
    {
     "data": {
      "text/html": [
       "<div>\n",
       "<style scoped>\n",
       "    .dataframe tbody tr th:only-of-type {\n",
       "        vertical-align: middle;\n",
       "    }\n",
       "\n",
       "    .dataframe tbody tr th {\n",
       "        vertical-align: top;\n",
       "    }\n",
       "\n",
       "    .dataframe thead th {\n",
       "        text-align: right;\n",
       "    }\n",
       "</style>\n",
       "<table border=\"1\" class=\"dataframe\">\n",
       "  <thead>\n",
       "    <tr style=\"text-align: right;\">\n",
       "      <th></th>\n",
       "      <th>Category</th>\n",
       "      <th>count</th>\n",
       "    </tr>\n",
       "  </thead>\n",
       "  <tbody>\n",
       "    <tr>\n",
       "      <th>0</th>\n",
       "      <td>愛情</td>\n",
       "      <td>874</td>\n",
       "    </tr>\n",
       "    <tr>\n",
       "      <th>1</th>\n",
       "      <td>想法表達</td>\n",
       "      <td>405</td>\n",
       "    </tr>\n",
       "    <tr>\n",
       "      <th>2</th>\n",
       "      <td>悲傷</td>\n",
       "      <td>216</td>\n",
       "    </tr>\n",
       "    <tr>\n",
       "      <th>3</th>\n",
       "      <td>反抗反駁反諷</td>\n",
       "      <td>206</td>\n",
       "    </tr>\n",
       "    <tr>\n",
       "      <th>4</th>\n",
       "      <td>勵志</td>\n",
       "      <td>167</td>\n",
       "    </tr>\n",
       "    <tr>\n",
       "      <th>5</th>\n",
       "      <td>嗨歌</td>\n",
       "      <td>125</td>\n",
       "    </tr>\n",
       "    <tr>\n",
       "      <th>6</th>\n",
       "      <td>離別</td>\n",
       "      <td>76</td>\n",
       "    </tr>\n",
       "    <tr>\n",
       "      <th>7</th>\n",
       "      <td>友情</td>\n",
       "      <td>42</td>\n",
       "    </tr>\n",
       "    <tr>\n",
       "      <th>8</th>\n",
       "      <td>特殊主題</td>\n",
       "      <td>39</td>\n",
       "    </tr>\n",
       "    <tr>\n",
       "      <th>9</th>\n",
       "      <td>親情</td>\n",
       "      <td>33</td>\n",
       "    </tr>\n",
       "    <tr>\n",
       "      <th>10</th>\n",
       "      <td>感謝</td>\n",
       "      <td>23</td>\n",
       "    </tr>\n",
       "  </tbody>\n",
       "</table>\n",
       "</div>"
      ],
      "text/plain": [
       "   Category  count\n",
       "0        愛情    874\n",
       "1      想法表達    405\n",
       "2        悲傷    216\n",
       "3    反抗反駁反諷    206\n",
       "4        勵志    167\n",
       "5        嗨歌    125\n",
       "6        離別     76\n",
       "7        友情     42\n",
       "8      特殊主題     39\n",
       "9        親情     33\n",
       "10       感謝     23"
      ]
     },
     "execution_count": 3,
     "metadata": {},
     "output_type": "execute_result"
    }
   ],
   "source": [
    "d = {'Category': df['Category'].value_counts().index, 'count': df['Category'].value_counts()}\n",
    "df_cat = pd.DataFrame(data = d).reset_index(drop = True)\n",
    "df_cat"
   ]
  },
  {
   "cell_type": "code",
   "execution_count": 4,
   "id": "46577ef6",
   "metadata": {},
   "outputs": [],
   "source": [
    "df.loc[df.Category == '勵志','Category'] = '勵志友情'\n",
    "df.loc[df.Category == '友情','Category'] = '勵志友情'\n",
    "df.loc[df.Category == '悲傷','Category'] = '悲傷離別'\n",
    "df.loc[df.Category == '離別','Category'] = '悲傷離別'\n",
    "df.loc[df.Category == '特殊主題','Category'] = '其他'\n",
    "df.loc[df.Category == '嗨歌','Category'] = '其他'\n",
    "df.loc[df.Category == '親情','Category'] = '其他'\n",
    "df.loc[df.Category == '感謝','Category'] = '想法表達'"
   ]
  },
  {
   "cell_type": "code",
   "execution_count": 5,
   "id": "b85047ea",
   "metadata": {},
   "outputs": [
    {
     "data": {
      "text/html": [
       "<div>\n",
       "<style scoped>\n",
       "    .dataframe tbody tr th:only-of-type {\n",
       "        vertical-align: middle;\n",
       "    }\n",
       "\n",
       "    .dataframe tbody tr th {\n",
       "        vertical-align: top;\n",
       "    }\n",
       "\n",
       "    .dataframe thead th {\n",
       "        text-align: right;\n",
       "    }\n",
       "</style>\n",
       "<table border=\"1\" class=\"dataframe\">\n",
       "  <thead>\n",
       "    <tr style=\"text-align: right;\">\n",
       "      <th></th>\n",
       "      <th>Category</th>\n",
       "      <th>count</th>\n",
       "    </tr>\n",
       "  </thead>\n",
       "  <tbody>\n",
       "    <tr>\n",
       "      <th>0</th>\n",
       "      <td>愛情</td>\n",
       "      <td>874</td>\n",
       "    </tr>\n",
       "    <tr>\n",
       "      <th>1</th>\n",
       "      <td>想法表達</td>\n",
       "      <td>428</td>\n",
       "    </tr>\n",
       "    <tr>\n",
       "      <th>2</th>\n",
       "      <td>悲傷離別</td>\n",
       "      <td>292</td>\n",
       "    </tr>\n",
       "    <tr>\n",
       "      <th>3</th>\n",
       "      <td>勵志友情</td>\n",
       "      <td>209</td>\n",
       "    </tr>\n",
       "    <tr>\n",
       "      <th>4</th>\n",
       "      <td>反抗反駁反諷</td>\n",
       "      <td>206</td>\n",
       "    </tr>\n",
       "    <tr>\n",
       "      <th>5</th>\n",
       "      <td>其他</td>\n",
       "      <td>197</td>\n",
       "    </tr>\n",
       "  </tbody>\n",
       "</table>\n",
       "</div>"
      ],
      "text/plain": [
       "  Category  count\n",
       "0       愛情    874\n",
       "1     想法表達    428\n",
       "2     悲傷離別    292\n",
       "3     勵志友情    209\n",
       "4   反抗反駁反諷    206\n",
       "5       其他    197"
      ]
     },
     "execution_count": 5,
     "metadata": {},
     "output_type": "execute_result"
    }
   ],
   "source": [
    "d = {'Category': df['Category'].value_counts().index, 'count': df['Category'].value_counts()}\n",
    "df_cat = pd.DataFrame(data = d).reset_index(drop = True)\n",
    "df_cat"
   ]
  },
  {
   "cell_type": "code",
   "execution_count": 6,
   "id": "07470647",
   "metadata": {},
   "outputs": [],
   "source": [
    "condition = df['Category'] == '愛情'\n",
    "df_select = df[condition].sample(200)\n",
    "condition = df['Category'] == '想法表達'\n",
    "df_tmp = df[condition].sample(0)\n",
    "df_select = pd.concat([df_select, df_tmp])\n",
    "condition = df['Category'] == '勵志友情'\n",
    "df_tmp = df[condition].sample(200)\n",
    "df_select = pd.concat([df_select, df_tmp])\n",
    "condition = df['Category'] == '悲傷離別'\n",
    "df_tmp = df[condition].sample(200)\n",
    "df_select = pd.concat([df_select, df_tmp])\n",
    "condition = df['Category'] == '反抗反駁反諷'\n",
    "df_tmp = df[condition].sample(200)\n",
    "df_select = pd.concat([df_select, df_tmp])\n",
    "\n",
    "df_select = df_select.reset_index(drop=True)"
   ]
  },
  {
   "cell_type": "code",
   "execution_count": 7,
   "id": "8cf16bc5",
   "metadata": {},
   "outputs": [
    {
     "data": {
      "text/html": [
       "<div>\n",
       "<style scoped>\n",
       "    .dataframe tbody tr th:only-of-type {\n",
       "        vertical-align: middle;\n",
       "    }\n",
       "\n",
       "    .dataframe tbody tr th {\n",
       "        vertical-align: top;\n",
       "    }\n",
       "\n",
       "    .dataframe thead th {\n",
       "        text-align: right;\n",
       "    }\n",
       "</style>\n",
       "<table border=\"1\" class=\"dataframe\">\n",
       "  <thead>\n",
       "    <tr style=\"text-align: right;\">\n",
       "      <th></th>\n",
       "      <th>Category</th>\n",
       "      <th>count</th>\n",
       "    </tr>\n",
       "  </thead>\n",
       "  <tbody>\n",
       "    <tr>\n",
       "      <th>0</th>\n",
       "      <td>愛情</td>\n",
       "      <td>200</td>\n",
       "    </tr>\n",
       "    <tr>\n",
       "      <th>1</th>\n",
       "      <td>勵志友情</td>\n",
       "      <td>200</td>\n",
       "    </tr>\n",
       "    <tr>\n",
       "      <th>2</th>\n",
       "      <td>悲傷離別</td>\n",
       "      <td>200</td>\n",
       "    </tr>\n",
       "    <tr>\n",
       "      <th>3</th>\n",
       "      <td>反抗反駁反諷</td>\n",
       "      <td>200</td>\n",
       "    </tr>\n",
       "  </tbody>\n",
       "</table>\n",
       "</div>"
      ],
      "text/plain": [
       "  Category  count\n",
       "0       愛情    200\n",
       "1     勵志友情    200\n",
       "2     悲傷離別    200\n",
       "3   反抗反駁反諷    200"
      ]
     },
     "execution_count": 7,
     "metadata": {},
     "output_type": "execute_result"
    }
   ],
   "source": [
    "d = {'Category': df_select['Category'].value_counts().index, 'count': df_select['Category'].value_counts()}\n",
    "df_cat = pd.DataFrame(data = d).reset_index(drop = True)\n",
    "df_cat"
   ]
  },
  {
   "cell_type": "code",
   "execution_count": 8,
   "id": "b721ac6c",
   "metadata": {},
   "outputs": [],
   "source": [
    "categories = list(df_select['Category'].value_counts().index)\n",
    "cat_to_id = dict(zip(categories, range(len(categories))))\n",
    "def label_to_id(line):\n",
    "    line = str(line)\n",
    "    return cat_to_id[line]"
   ]
  },
  {
   "cell_type": "code",
   "execution_count": 9,
   "id": "8e8c902c",
   "metadata": {},
   "outputs": [],
   "source": [
    "def remove_punctuation(line):\n",
    "    stopwords = [line.strip() for line in open('./data/stopwords.txt', 'r', encoding='utf-8').readlines()]\n",
    "    line = str(line)\n",
    "    if line.strip() == '':\n",
    "        return ''\n",
    "    re_han = re.compile(u\"[^a-zA-Z0-9\\u4E00-\\u9FA5]\")\n",
    "    line = re_han.sub('', line)\n",
    "    cut = [w for w in list(jieba.cut(line)) if w not in stopwords]\n",
    "    res = \" \".join(cut)\n",
    "    return res"
   ]
  },
  {
   "cell_type": "code",
   "execution_count": 10,
   "id": "707154c1",
   "metadata": {
    "scrolled": true
   },
   "outputs": [
    {
     "name": "stderr",
     "output_type": "stream",
     "text": [
      "Building prefix dict from the default dictionary ...\n",
      "Loading model from cache /tmp/jieba.cache\n",
      "Loading model cost 0.889 seconds.\n",
      "Prefix dict has been built successfully.\n"
     ]
    }
   ],
   "source": [
    "import re\n",
    "import jieba\n",
    "df_select['y'] = df_select['Category'].apply(label_to_id)\n",
    "df_select['cut_text_string'] = df_select['Lyric'].apply(remove_punctuation)"
   ]
  },
  {
   "cell_type": "code",
   "execution_count": 11,
   "id": "e913276c",
   "metadata": {},
   "outputs": [
    {
     "data": {
      "text/html": [
       "<div>\n",
       "<style scoped>\n",
       "    .dataframe tbody tr th:only-of-type {\n",
       "        vertical-align: middle;\n",
       "    }\n",
       "\n",
       "    .dataframe tbody tr th {\n",
       "        vertical-align: top;\n",
       "    }\n",
       "\n",
       "    .dataframe thead th {\n",
       "        text-align: right;\n",
       "    }\n",
       "</style>\n",
       "<table border=\"1\" class=\"dataframe\">\n",
       "  <thead>\n",
       "    <tr style=\"text-align: right;\">\n",
       "      <th></th>\n",
       "      <th>Singer</th>\n",
       "      <th>Name</th>\n",
       "      <th>Lyric</th>\n",
       "      <th>Category</th>\n",
       "      <th>y</th>\n",
       "      <th>cut_text_string</th>\n",
       "    </tr>\n",
       "  </thead>\n",
       "  <tbody>\n",
       "    <tr>\n",
       "      <th>0</th>\n",
       "      <td>張惠妹</td>\n",
       "      <td>讓你飛</td>\n",
       "      <td>等你一整夜　雨也飄一整夜我濕透的愛　凌亂不堪今夜你多情的胸膛　在哪裡遊蕩越想抓緊你　你越逃越...</td>\n",
       "      <td>愛情</td>\n",
       "      <td>0</td>\n",
       "      <td>一整夜 雨 飄 一整夜 濕透 愛凌亂 不堪 今夜 多情 胸膛 哪裡遊 蕩 越 想 抓緊 越 ...</td>\n",
       "    </tr>\n",
       "    <tr>\n",
       "      <th>1</th>\n",
       "      <td>楊丞琳</td>\n",
       "      <td>觀眾</td>\n",
       "      <td>對於愛情 一直都關乎我的姓名愛你不愛你 越來越不要緊確實戴了墨鏡 卻想讓你靠近我想我還欠你一...</td>\n",
       "      <td>愛情</td>\n",
       "      <td>0</td>\n",
       "      <td>愛情 一直 關乎 姓名 愛你不愛你越 越 緊確 實戴 墨鏡 卻 想 靠近 想 還欠 一個 說...</td>\n",
       "    </tr>\n",
       "    <tr>\n",
       "      <th>2</th>\n",
       "      <td>梁靜茹</td>\n",
       "      <td>LOVE</td>\n",
       "      <td>LOVE　是他隨手扔的玩具散了一地從不整理　你丟我撿的遊戲LOVE　是他隨口聊的話題說了就忘...</td>\n",
       "      <td>愛情</td>\n",
       "      <td>0</td>\n",
       "      <td>LOVE 隨手 扔 玩具 散 一地 整理 丟我 撿 遊戲 LOVE 隨口 聊 話題 說 忘 ...</td>\n",
       "    </tr>\n",
       "    <tr>\n",
       "      <th>3</th>\n",
       "      <td>梁靜茹</td>\n",
       "      <td>愛久見人心</td>\n",
       "      <td>我冷漠 是不想被看出 太容易 被感動觸及我比較喜歡 現在的自己 不太想 回到過去我常常 為我...</td>\n",
       "      <td>愛情</td>\n",
       "      <td>0</td>\n",
       "      <td>冷漠 不想 看出 太 容易 感動觸 喜 歡現 不太想 回到 過去 之間 忽遠 忽近 的關 係...</td>\n",
       "    </tr>\n",
       "    <tr>\n",
       "      <th>4</th>\n",
       "      <td>林俊傑</td>\n",
       "      <td>只對你有感覺(Feel For You)</td>\n",
       "      <td>無解的眼神　心像海底針光是猜測　我食慾不振有點煩人　又有點迷人浪漫沒天份　反應夠遲鈍不夠謹慎...</td>\n",
       "      <td>愛情</td>\n",
       "      <td>0</td>\n",
       "      <td>無解 眼神 心像 海底 針 猜測 食 慾 不振 有點 煩人 有點 迷人 浪漫 天份 反應夠 ...</td>\n",
       "    </tr>\n",
       "    <tr>\n",
       "      <th>...</th>\n",
       "      <td>...</td>\n",
       "      <td>...</td>\n",
       "      <td>...</td>\n",
       "      <td>...</td>\n",
       "      <td>...</td>\n",
       "      <td>...</td>\n",
       "    </tr>\n",
       "    <tr>\n",
       "      <th>795</th>\n",
       "      <td>田馥甄</td>\n",
       "      <td>人什麼的最麻煩了</td>\n",
       "      <td>你走下樓梯 在轉角最近的便利商店只是坐著 像不再期待地坐著手中那杯失溫的咖啡 比心還暖一點只...</td>\n",
       "      <td>反抗反駁反諷</td>\n",
       "      <td>3</td>\n",
       "      <td>走 下 樓梯 轉角 最近 便利商店 坐著 期待 坐 手中 那杯 失溫 咖啡 比心 還暖 一點...</td>\n",
       "    </tr>\n",
       "    <tr>\n",
       "      <th>796</th>\n",
       "      <td>陳奕迅</td>\n",
       "      <td>孤獨探戈</td>\n",
       "      <td>你可知道石頭　要幾多眼淚才被沖走你早知探戈　一下推一下卸便會失手你可知我背後　有幾多冷汗朝著...</td>\n",
       "      <td>反抗反駁反諷</td>\n",
       "      <td>3</td>\n",
       "      <td>知道 石頭 多眼 淚才 沖 走 早知 探戈 一下 推 一下 卸 失手 可知 背後有 幾多 冷...</td>\n",
       "    </tr>\n",
       "    <tr>\n",
       "      <th>797</th>\n",
       "      <td>張惠妹</td>\n",
       "      <td>母系社會</td>\n",
       "      <td>我不會 耕田吃草 讓人下注什麼理由 發明 什麼叫馬子難道是 想讓匹馬 為你生個兒子我沒有 兄...</td>\n",
       "      <td>反抗反駁反諷</td>\n",
       "      <td>3</td>\n",
       "      <td>耕田 吃 草 人 下注 理由 發明 叫馬子 想 匹馬為 生個 兒子 兄弟 聚會 幌子 煮 好...</td>\n",
       "    </tr>\n",
       "    <tr>\n",
       "      <th>798</th>\n",
       "      <td>陳奕迅</td>\n",
       "      <td>萬佛朝宗</td>\n",
       "      <td>香港的一粒星　初次出鏡想要紅北京的一粒沙　吹進一個溫暖胡同東京一位OL　想晉升也許成功伊拉克...</td>\n",
       "      <td>反抗反駁反諷</td>\n",
       "      <td>3</td>\n",
       "      <td>香港 一粒 星 初次 出鏡 想要 紅 北京 一粒 沙吹進 一個 溫暖 胡同 東京 一位 OL...</td>\n",
       "    </tr>\n",
       "    <tr>\n",
       "      <th>799</th>\n",
       "      <td>SHE</td>\n",
       "      <td>比你賤</td>\n",
       "      <td>你說你已寂寞三個月　非常懷念有我的從前　　但是你前天更新的相簿　明明摟著一個正妹 你說她只是...</td>\n",
       "      <td>反抗反駁反諷</td>\n",
       "      <td>3</td>\n",
       "      <td>說 已 寂寞 三個 月 懷念 前 前天 更新 相簿 明明 摟 一個 正妹 說 好 朋友 麽 ...</td>\n",
       "    </tr>\n",
       "  </tbody>\n",
       "</table>\n",
       "<p>800 rows × 6 columns</p>\n",
       "</div>"
      ],
      "text/plain": [
       "    Singer                   Name  \\\n",
       "0      張惠妹                    讓你飛   \n",
       "1      楊丞琳                     觀眾   \n",
       "2      梁靜茹                   LOVE   \n",
       "3      梁靜茹                  愛久見人心   \n",
       "4      林俊傑   只對你有感覺(Feel For You)   \n",
       "..     ...                    ...   \n",
       "795    田馥甄               人什麼的最麻煩了   \n",
       "796    陳奕迅                   孤獨探戈   \n",
       "797    張惠妹                   母系社會   \n",
       "798    陳奕迅                   萬佛朝宗   \n",
       "799    SHE                    比你賤   \n",
       "\n",
       "                                                 Lyric Category  y  \\\n",
       "0    等你一整夜　雨也飄一整夜我濕透的愛　凌亂不堪今夜你多情的胸膛　在哪裡遊蕩越想抓緊你　你越逃越...       愛情  0   \n",
       "1    對於愛情 一直都關乎我的姓名愛你不愛你 越來越不要緊確實戴了墨鏡 卻想讓你靠近我想我還欠你一...       愛情  0   \n",
       "2    LOVE　是他隨手扔的玩具散了一地從不整理　你丟我撿的遊戲LOVE　是他隨口聊的話題說了就忘...       愛情  0   \n",
       "3    我冷漠 是不想被看出 太容易 被感動觸及我比較喜歡 現在的自己 不太想 回到過去我常常 為我...       愛情  0   \n",
       "4    無解的眼神　心像海底針光是猜測　我食慾不振有點煩人　又有點迷人浪漫沒天份　反應夠遲鈍不夠謹慎...       愛情  0   \n",
       "..                                                 ...      ... ..   \n",
       "795  你走下樓梯 在轉角最近的便利商店只是坐著 像不再期待地坐著手中那杯失溫的咖啡 比心還暖一點只...   反抗反駁反諷  3   \n",
       "796  你可知道石頭　要幾多眼淚才被沖走你早知探戈　一下推一下卸便會失手你可知我背後　有幾多冷汗朝著...   反抗反駁反諷  3   \n",
       "797  我不會 耕田吃草 讓人下注什麼理由 發明 什麼叫馬子難道是 想讓匹馬 為你生個兒子我沒有 兄...   反抗反駁反諷  3   \n",
       "798  香港的一粒星　初次出鏡想要紅北京的一粒沙　吹進一個溫暖胡同東京一位OL　想晉升也許成功伊拉克...   反抗反駁反諷  3   \n",
       "799  你說你已寂寞三個月　非常懷念有我的從前　　但是你前天更新的相簿　明明摟著一個正妹 你說她只是...   反抗反駁反諷  3   \n",
       "\n",
       "                                       cut_text_string  \n",
       "0    一整夜 雨 飄 一整夜 濕透 愛凌亂 不堪 今夜 多情 胸膛 哪裡遊 蕩 越 想 抓緊 越 ...  \n",
       "1    愛情 一直 關乎 姓名 愛你不愛你越 越 緊確 實戴 墨鏡 卻 想 靠近 想 還欠 一個 說...  \n",
       "2    LOVE 隨手 扔 玩具 散 一地 整理 丟我 撿 遊戲 LOVE 隨口 聊 話題 說 忘 ...  \n",
       "3    冷漠 不想 看出 太 容易 感動觸 喜 歡現 不太想 回到 過去 之間 忽遠 忽近 的關 係...  \n",
       "4    無解 眼神 心像 海底 針 猜測 食 慾 不振 有點 煩人 有點 迷人 浪漫 天份 反應夠 ...  \n",
       "..                                                 ...  \n",
       "795  走 下 樓梯 轉角 最近 便利商店 坐著 期待 坐 手中 那杯 失溫 咖啡 比心 還暖 一點...  \n",
       "796  知道 石頭 多眼 淚才 沖 走 早知 探戈 一下 推 一下 卸 失手 可知 背後有 幾多 冷...  \n",
       "797  耕田 吃 草 人 下注 理由 發明 叫馬子 想 匹馬為 生個 兒子 兄弟 聚會 幌子 煮 好...  \n",
       "798  香港 一粒 星 初次 出鏡 想要 紅 北京 一粒 沙吹進 一個 溫暖 胡同 東京 一位 OL...  \n",
       "799  說 已 寂寞 三個 月 懷念 前 前天 更新 相簿 明明 摟 一個 正妹 說 好 朋友 麽 ...  \n",
       "\n",
       "[800 rows x 6 columns]"
      ]
     },
     "execution_count": 11,
     "metadata": {},
     "output_type": "execute_result"
    }
   ],
   "source": [
    "df_select"
   ]
  },
  {
   "cell_type": "code",
   "execution_count": 12,
   "id": "5ada417c",
   "metadata": {},
   "outputs": [
    {
     "data": {
      "text/html": [
       "<div>\n",
       "<style scoped>\n",
       "    .dataframe tbody tr th:only-of-type {\n",
       "        vertical-align: middle;\n",
       "    }\n",
       "\n",
       "    .dataframe tbody tr th {\n",
       "        vertical-align: top;\n",
       "    }\n",
       "\n",
       "    .dataframe thead th {\n",
       "        text-align: right;\n",
       "    }\n",
       "</style>\n",
       "<table border=\"1\" class=\"dataframe\">\n",
       "  <thead>\n",
       "    <tr style=\"text-align: right;\">\n",
       "      <th></th>\n",
       "      <th>Singer</th>\n",
       "      <th>Name</th>\n",
       "      <th>Lyric</th>\n",
       "      <th>Category</th>\n",
       "      <th>y</th>\n",
       "      <th>cut_text_string</th>\n",
       "    </tr>\n",
       "  </thead>\n",
       "  <tbody>\n",
       "    <tr>\n",
       "      <th>0</th>\n",
       "      <td>田馥甄</td>\n",
       "      <td>諷刺的情書</td>\n",
       "      <td>愛過幾個人 篤定的眼神差點以為世界多天真糾纏幾回合 問自己要不要這麼笨屢次揮霍信任當夜讓房間...</td>\n",
       "      <td>反抗反駁反諷</td>\n",
       "      <td>3</td>\n",
       "      <td>愛過 幾個 人篤定 眼神 差點 世界 天真 糾纏 回合 問 笨 揮 霍 信任 當夜 房間 失...</td>\n",
       "    </tr>\n",
       "    <tr>\n",
       "      <th>1</th>\n",
       "      <td>A-Lin</td>\n",
       "      <td>笑笑的</td>\n",
       "      <td>想睡鬧鐘先按掉  心情不好要吃飽先讓脂肪飆一飆  才有機會變苗條煙味太重先落跑  車廂太擠就...</td>\n",
       "      <td>反抗反駁反諷</td>\n",
       "      <td>3</td>\n",
       "      <td>想 睡 鬧 鐘先 掉 心情 不好 吃 先 脂肪 飆一飆 機會 變苗條 煙味 太重 先落 跑 ...</td>\n",
       "    </tr>\n",
       "    <tr>\n",
       "      <th>2</th>\n",
       "      <td>五月天</td>\n",
       "      <td>錯錯錯</td>\n",
       "      <td>為什麼你能　同時那麼殘酷又溫柔　當你微笑告訴我　這是好結果一時之間我　不知道應該說些什麼　笑...</td>\n",
       "      <td>悲傷離別</td>\n",
       "      <td>2</td>\n",
       "      <td>殘酷 溫柔當 微笑 告訴 這是 好 一時 之間 知道 應該 說些 笑過 哭過 沒想過 最後要...</td>\n",
       "    </tr>\n",
       "    <tr>\n",
       "      <th>3</th>\n",
       "      <td>林俊傑</td>\n",
       "      <td>只對你有感覺(Feel For You)</td>\n",
       "      <td>無解的眼神　心像海底針光是猜測　我食慾不振有點煩人　又有點迷人浪漫沒天份　反應夠遲鈍不夠謹慎...</td>\n",
       "      <td>愛情</td>\n",
       "      <td>0</td>\n",
       "      <td>無解 眼神 心像 海底 針 猜測 食 慾 不振 有點 煩人 有點 迷人 浪漫 天份 反應夠 ...</td>\n",
       "    </tr>\n",
       "    <tr>\n",
       "      <th>4</th>\n",
       "      <td>楊丞琳</td>\n",
       "      <td>小聰明</td>\n",
       "      <td>我不完美 偶而會皺眉難免小疲憊 迷上了咖啡有時傷悲 卻不再流淚依然愛玫瑰 卻不再曖昧Mayb...</td>\n",
       "      <td>愛情</td>\n",
       "      <td>0</td>\n",
       "      <td>完美 皺眉 難免 小 疲憊 迷上 咖啡 有時 傷悲 卻 流淚 依然 愛 玫瑰 卻 曖昧 Ma...</td>\n",
       "    </tr>\n",
       "    <tr>\n",
       "      <th>...</th>\n",
       "      <td>...</td>\n",
       "      <td>...</td>\n",
       "      <td>...</td>\n",
       "      <td>...</td>\n",
       "      <td>...</td>\n",
       "      <td>...</td>\n",
       "    </tr>\n",
       "    <tr>\n",
       "      <th>795</th>\n",
       "      <td>五月天</td>\n",
       "      <td>步步</td>\n",
       "      <td>空無一人的大街 闖入無人婚紗店 為你披上雪白誓言世界已灰飛煙滅 而愛矗立高樓間 你是真的或是...</td>\n",
       "      <td>愛情</td>\n",
       "      <td>0</td>\n",
       "      <td>空無一人 大街 闖入 無人 婚紗店 披上 雪白 誓言 世界 已灰飛 煙滅 愛 矗立 高樓 間...</td>\n",
       "    </tr>\n",
       "    <tr>\n",
       "      <th>796</th>\n",
       "      <td>陳奕迅</td>\n",
       "      <td>美麗謊言</td>\n",
       "      <td>只因不應該聽而聽　此刻不知怎樣去反應你問這事情　有沒有內情　這刻可否只當夢醒 只因不應該聽而...</td>\n",
       "      <td>悲傷離別</td>\n",
       "      <td>2</td>\n",
       "      <td>只 因不應 聽 聽 此刻 不知 反應 你問 事情 內情 這刻 可否 只 當夢醒 只 因不應 ...</td>\n",
       "    </tr>\n",
       "    <tr>\n",
       "      <th>797</th>\n",
       "      <td>陳奕迅</td>\n",
       "      <td>反高潮</td>\n",
       "      <td>這秒鐘 十分感動接下來 只可以更加激進如若要平庸 十一分的平庸微笑大笑後必須發瘋動不動 就很...</td>\n",
       "      <td>悲傷離別</td>\n",
       "      <td>2</td>\n",
       "      <td>這秒鐘 十分 感動 接下 只 激進 平庸 十一分 平庸 微笑 大笑 後 發瘋動 不動 感動 ...</td>\n",
       "    </tr>\n",
       "    <tr>\n",
       "      <th>798</th>\n",
       "      <td>林俊傑</td>\n",
       "      <td>丹寧執著</td>\n",
       "      <td>你的溫柔埋藏在我的脈搏連呼吸都能感動每一秒鐘 有你就有我的笑容汗水蒸發在這忙碌十字街頭藍色天...</td>\n",
       "      <td>勵志友情</td>\n",
       "      <td>1</td>\n",
       "      <td>溫柔 埋藏 脈 搏連 呼吸 感動 每一秒 鐘有 笑容 汗水 蒸發 忙碌 十字街 頭藍色 天 ...</td>\n",
       "    </tr>\n",
       "    <tr>\n",
       "      <th>799</th>\n",
       "      <td>陳奕迅</td>\n",
       "      <td>誰來剪月光</td>\n",
       "      <td>我找不到那個妳曾說的遠方也想不到要怎麼問妳別來無恙世界亂的一塌糊塗可是能怎樣偶爾抬起頭來還好...</td>\n",
       "      <td>悲傷離別</td>\n",
       "      <td>2</td>\n",
       "      <td>找 不到 妳 曾 說 遠方 想不到 怎麼問 妳 別來 無恙 世界 亂 一塌糊塗 抬起 頭來 ...</td>\n",
       "    </tr>\n",
       "  </tbody>\n",
       "</table>\n",
       "<p>800 rows × 6 columns</p>\n",
       "</div>"
      ],
      "text/plain": [
       "    Singer                   Name  \\\n",
       "0      田馥甄                  諷刺的情書   \n",
       "1    A-Lin                    笑笑的   \n",
       "2      五月天                    錯錯錯   \n",
       "3      林俊傑   只對你有感覺(Feel For You)   \n",
       "4      楊丞琳                    小聰明   \n",
       "..     ...                    ...   \n",
       "795    五月天                     步步   \n",
       "796    陳奕迅                   美麗謊言   \n",
       "797    陳奕迅                    反高潮   \n",
       "798    林俊傑                   丹寧執著   \n",
       "799    陳奕迅                  誰來剪月光   \n",
       "\n",
       "                                                 Lyric Category  y  \\\n",
       "0    愛過幾個人 篤定的眼神差點以為世界多天真糾纏幾回合 問自己要不要這麼笨屢次揮霍信任當夜讓房間...   反抗反駁反諷  3   \n",
       "1    想睡鬧鐘先按掉  心情不好要吃飽先讓脂肪飆一飆  才有機會變苗條煙味太重先落跑  車廂太擠就...   反抗反駁反諷  3   \n",
       "2    為什麼你能　同時那麼殘酷又溫柔　當你微笑告訴我　這是好結果一時之間我　不知道應該說些什麼　笑...     悲傷離別  2   \n",
       "3    無解的眼神　心像海底針光是猜測　我食慾不振有點煩人　又有點迷人浪漫沒天份　反應夠遲鈍不夠謹慎...       愛情  0   \n",
       "4    我不完美 偶而會皺眉難免小疲憊 迷上了咖啡有時傷悲 卻不再流淚依然愛玫瑰 卻不再曖昧Mayb...       愛情  0   \n",
       "..                                                 ...      ... ..   \n",
       "795  空無一人的大街 闖入無人婚紗店 為你披上雪白誓言世界已灰飛煙滅 而愛矗立高樓間 你是真的或是...       愛情  0   \n",
       "796  只因不應該聽而聽　此刻不知怎樣去反應你問這事情　有沒有內情　這刻可否只當夢醒 只因不應該聽而...     悲傷離別  2   \n",
       "797  這秒鐘 十分感動接下來 只可以更加激進如若要平庸 十一分的平庸微笑大笑後必須發瘋動不動 就很...     悲傷離別  2   \n",
       "798  你的溫柔埋藏在我的脈搏連呼吸都能感動每一秒鐘 有你就有我的笑容汗水蒸發在這忙碌十字街頭藍色天...     勵志友情  1   \n",
       "799  我找不到那個妳曾說的遠方也想不到要怎麼問妳別來無恙世界亂的一塌糊塗可是能怎樣偶爾抬起頭來還好...     悲傷離別  2   \n",
       "\n",
       "                                       cut_text_string  \n",
       "0    愛過 幾個 人篤定 眼神 差點 世界 天真 糾纏 回合 問 笨 揮 霍 信任 當夜 房間 失...  \n",
       "1    想 睡 鬧 鐘先 掉 心情 不好 吃 先 脂肪 飆一飆 機會 變苗條 煙味 太重 先落 跑 ...  \n",
       "2    殘酷 溫柔當 微笑 告訴 這是 好 一時 之間 知道 應該 說些 笑過 哭過 沒想過 最後要...  \n",
       "3    無解 眼神 心像 海底 針 猜測 食 慾 不振 有點 煩人 有點 迷人 浪漫 天份 反應夠 ...  \n",
       "4    完美 皺眉 難免 小 疲憊 迷上 咖啡 有時 傷悲 卻 流淚 依然 愛 玫瑰 卻 曖昧 Ma...  \n",
       "..                                                 ...  \n",
       "795  空無一人 大街 闖入 無人 婚紗店 披上 雪白 誓言 世界 已灰飛 煙滅 愛 矗立 高樓 間...  \n",
       "796  只 因不應 聽 聽 此刻 不知 反應 你問 事情 內情 這刻 可否 只 當夢醒 只 因不應 ...  \n",
       "797  這秒鐘 十分 感動 接下 只 激進 平庸 十一分 平庸 微笑 大笑 後 發瘋動 不動 感動 ...  \n",
       "798  溫柔 埋藏 脈 搏連 呼吸 感動 每一秒 鐘有 笑容 汗水 蒸發 忙碌 十字街 頭藍色 天 ...  \n",
       "799  找 不到 妳 曾 說 遠方 想不到 怎麼問 妳 別來 無恙 世界 亂 一塌糊塗 抬起 頭來 ...  \n",
       "\n",
       "[800 rows x 6 columns]"
      ]
     },
     "execution_count": 12,
     "metadata": {},
     "output_type": "execute_result"
    }
   ],
   "source": [
    "df_select = df_select.sample(frac = 1).reset_index(drop=True)\n",
    "df_select"
   ]
  },
  {
   "cell_type": "markdown",
   "id": "1593bdb2",
   "metadata": {},
   "source": [
    "# Build Model"
   ]
  },
  {
   "cell_type": "code",
   "execution_count": 13,
   "id": "e80a2220",
   "metadata": {},
   "outputs": [],
   "source": [
    "# 計算詞頻\n",
    "count_vect = CountVectorizer(stop_words='english', decode_error='ignore')\n",
    "X_train_counts = count_vect.fit_transform(df_select.cut_text_string)\n",
    "# 計算TF-IDF\n",
    "tf_transformer = TfidfVectorizer(stop_words='english', decode_error='ignore')\n",
    "X_train_counts_tf = tf_transformer.fit_transform(df_select.cut_text_string)\n",
    "labels = df_select.Category"
   ]
  },
  {
   "cell_type": "code",
   "execution_count": 14,
   "id": "8ebb8f53",
   "metadata": {
    "scrolled": false
   },
   "outputs": [
    {
     "data": {
      "text/plain": [
       "\"terms = tf_transformer.get_feature_names()\\n\\n# sum tfidf frequency of each term through documents\\nsums = X_train_counts_tf.sum(axis=0)\\n\\n# connecting term to its sums frequency\\ndata = []\\nfor col, term in enumerate(terms):\\n    data.append( (term, sums[0,col] ))\\n\\nranking = pd.DataFrame(data, columns=['term','rank'])\""
      ]
     },
     "execution_count": 14,
     "metadata": {},
     "output_type": "execute_result"
    }
   ],
   "source": [
    "'''terms = tf_transformer.get_feature_names()\n",
    "\n",
    "# sum tfidf frequency of each term through documents\n",
    "sums = X_train_counts_tf.sum(axis=0)\n",
    "\n",
    "# connecting term to its sums frequency\n",
    "data = []\n",
    "for col, term in enumerate(terms):\n",
    "    data.append( (term, sums[0,col] ))\n",
    "\n",
    "ranking = pd.DataFrame(data, columns=['term','rank'])'''"
   ]
  },
  {
   "cell_type": "code",
   "execution_count": 15,
   "id": "fd922c00",
   "metadata": {},
   "outputs": [
    {
     "data": {
      "text/plain": [
       "<800x18179 sparse matrix of type '<class 'numpy.float64'>'\n",
       "\twith 44905 stored elements in Compressed Sparse Row format>"
      ]
     },
     "execution_count": 15,
     "metadata": {},
     "output_type": "execute_result"
    }
   ],
   "source": [
    "X_train_counts_tf"
   ]
  },
  {
   "cell_type": "code",
   "execution_count": 16,
   "id": "1ec77ec0",
   "metadata": {},
   "outputs": [],
   "source": [
    "from sklearn.model_selection import train_test_split\n",
    "x_train, x_test, y_train, y_test = train_test_split(X_train_counts_tf, labels, test_size = 0.2, random_state = 0, stratify = labels)"
   ]
  },
  {
   "cell_type": "code",
   "execution_count": 17,
   "id": "dfd68ed5",
   "metadata": {},
   "outputs": [],
   "source": [
    "condition = df['Category'] == '想法表達'\n",
    "df_think = df[condition].sample(200)\n",
    "df_think = df_think.reset_index(drop=True)\n",
    "df_think['cut_text_string'] = df_think['Lyric'].apply(remove_punctuation)"
   ]
  },
  {
   "cell_type": "code",
   "execution_count": 18,
   "id": "f4327830",
   "metadata": {},
   "outputs": [
    {
     "data": {
      "text/html": [
       "<div>\n",
       "<style scoped>\n",
       "    .dataframe tbody tr th:only-of-type {\n",
       "        vertical-align: middle;\n",
       "    }\n",
       "\n",
       "    .dataframe tbody tr th {\n",
       "        vertical-align: top;\n",
       "    }\n",
       "\n",
       "    .dataframe thead th {\n",
       "        text-align: right;\n",
       "    }\n",
       "</style>\n",
       "<table border=\"1\" class=\"dataframe\">\n",
       "  <thead>\n",
       "    <tr style=\"text-align: right;\">\n",
       "      <th></th>\n",
       "      <th>Singer</th>\n",
       "      <th>Name</th>\n",
       "      <th>Lyric</th>\n",
       "      <th>Category</th>\n",
       "      <th>cut_text_string</th>\n",
       "    </tr>\n",
       "  </thead>\n",
       "  <tbody>\n",
       "    <tr>\n",
       "      <th>0</th>\n",
       "      <td>田馥甄</td>\n",
       "      <td>獨善其身</td>\n",
       "      <td>眼睛 在忙著看風景嘴巴 想念著甜品這雙耳朵 只想保持安靜頭髮 在纏著它自己呼吸 在挑剔空氣這...</td>\n",
       "      <td>想法表達</td>\n",
       "      <td>眼睛 忙 風景 嘴巴 想念 甜品 這雙 耳朵 只想 保持 安靜頭 髮 纏 呼吸 挑剔 空氣 ...</td>\n",
       "    </tr>\n",
       "    <tr>\n",
       "      <th>1</th>\n",
       "      <td>蔡依林</td>\n",
       "      <td>開場白</td>\n",
       "      <td>再見面　已經是朋友了我們就這麼單純　瞎聊著彼此說以後時間過了　學會珍惜了原來最初的快樂　並不...</td>\n",
       "      <td>想法表達</td>\n",
       "      <td>再見面 已經 朋友 瞎聊 說 以後時 間過 學會 珍惜 原來 最初 快樂並 的終 能夠 坦白...</td>\n",
       "    </tr>\n",
       "    <tr>\n",
       "      <th>2</th>\n",
       "      <td>A-Lin</td>\n",
       "      <td>懂得</td>\n",
       "      <td>最近會有點忙  親愛的我想多虧你貼心的體諒自由自在飛翔  並非奢望心決定風向的晴朗有時候我在...</td>\n",
       "      <td>想法表達</td>\n",
       "      <td>最近 有點 忙 親愛的 想 虧 貼心 體諒 自由自在 飛翔 奢望 心決定 風向 晴朗 想 力...</td>\n",
       "    </tr>\n",
       "    <tr>\n",
       "      <th>3</th>\n",
       "      <td>SHE</td>\n",
       "      <td>不想長大</td>\n",
       "      <td>為什麼就是找不到　不謝的玫瑰花為什麼遇見的王子　都不夠王子啊我並不期盼他會有　玻璃鞋和白馬我...</td>\n",
       "      <td>想法表達</td>\n",
       "      <td>找 不到 不謝 玫瑰花 遇見 王子 不夠 王子 我並 期盼 他會 玻璃 鞋 白馬 驚訝 情話...</td>\n",
       "    </tr>\n",
       "    <tr>\n",
       "      <th>4</th>\n",
       "      <td>楊丞琳</td>\n",
       "      <td>青春鬥</td>\n",
       "      <td>時間喜歡在臉上胡亂塗鴉皺紋黑斑是它的左右護法想想辦法對付它 不管犧牲要多大女生一輩子都被時間...</td>\n",
       "      <td>想法表達</td>\n",
       "      <td>時間 喜歡 臉 胡亂 塗鴉 皺紋 黑斑 左右 護法 想想 辦法 對付 犧牲 女生 一輩子 時...</td>\n",
       "    </tr>\n",
       "    <tr>\n",
       "      <th>...</th>\n",
       "      <td>...</td>\n",
       "      <td>...</td>\n",
       "      <td>...</td>\n",
       "      <td>...</td>\n",
       "      <td>...</td>\n",
       "    </tr>\n",
       "    <tr>\n",
       "      <th>195</th>\n",
       "      <td>SHE</td>\n",
       "      <td>愛來過</td>\n",
       "      <td>我看不開 也放不開 因為我曾見過愛情真的盛開我要等待 一直等待 等那~一個夜晚從回憶回來當你...</td>\n",
       "      <td>想法表達</td>\n",
       "      <td>不開 放不開 曾 過愛情 真的 盛開 等待 一直 等待 一個 夜晚 回憶 回來當 擁抱 一瞬...</td>\n",
       "    </tr>\n",
       "    <tr>\n",
       "      <th>196</th>\n",
       "      <td>蔡依林</td>\n",
       "      <td>彩色相片(Color Photo)</td>\n",
       "      <td>晴天 肆無忌憚的光線差些要模糊的臉 笑得很清淺轉眼 說不出聲的語言由生到死的纏綿 藏進心裡面...</td>\n",
       "      <td>想法表達</td>\n",
       "      <td>晴天 肆無忌憚 光線 差些 模糊 臉 笑 清 淺 轉眼 說 出聲 語言由生 死 纏 綿藏 進...</td>\n",
       "    </tr>\n",
       "    <tr>\n",
       "      <th>197</th>\n",
       "      <td>張惠妹</td>\n",
       "      <td>鳳凰于飛</td>\n",
       "      <td>柳媚花妍　鶯聲兒嬌　春色又向人間報到山眉水眼　盈盈的笑　我又投入了愛的懷抱像鳳凰于飛在雲霄　...</td>\n",
       "      <td>想法表達</td>\n",
       "      <td>柳媚 花妍 鶯 聲兒 嬌 春色 人間 報到 山眉水眼 盈盈 笑 投入 愛的 懷抱 鳳凰于 飛...</td>\n",
       "    </tr>\n",
       "    <tr>\n",
       "      <th>198</th>\n",
       "      <td>林宥嘉</td>\n",
       "      <td>請說</td>\n",
       "      <td>坐著說 站著說 妳想要 說什麼音量怎麼這樣微弱 空氣都不振動 ha妳看我 看什麼 我不是 常...</td>\n",
       "      <td>想法表達</td>\n",
       "      <td>坐著 說 站 說 妳 想要 說 音量 微弱 空氣 不振 動 ha 妳 說 運動 減重 妳 再...</td>\n",
       "    </tr>\n",
       "    <tr>\n",
       "      <th>199</th>\n",
       "      <td>陳奕迅</td>\n",
       "      <td>NEW ORDER</td>\n",
       "      <td>等一等　先生你要的　可不可　給你換雪碧我與你　其實未相識　不過怕你喝得這麼激請想想　她不愛你...</td>\n",
       "      <td>想法表達</td>\n",
       "      <td>等一等 先生 不可 給你換 雪 碧 未 相識 喝 激請 想想 愛 還枉花 這氣力 出色 拋棄...</td>\n",
       "    </tr>\n",
       "  </tbody>\n",
       "</table>\n",
       "<p>200 rows × 5 columns</p>\n",
       "</div>"
      ],
      "text/plain": [
       "    Singer                Name  \\\n",
       "0      田馥甄                獨善其身   \n",
       "1      蔡依林                 開場白   \n",
       "2    A-Lin                  懂得   \n",
       "3      SHE                不想長大   \n",
       "4      楊丞琳                 青春鬥   \n",
       "..     ...                 ...   \n",
       "195    SHE                 愛來過   \n",
       "196    蔡依林   彩色相片(Color Photo)   \n",
       "197    張惠妹                鳳凰于飛   \n",
       "198    林宥嘉                  請說   \n",
       "199    陳奕迅           NEW ORDER   \n",
       "\n",
       "                                                 Lyric Category  \\\n",
       "0    眼睛 在忙著看風景嘴巴 想念著甜品這雙耳朵 只想保持安靜頭髮 在纏著它自己呼吸 在挑剔空氣這...     想法表達   \n",
       "1    再見面　已經是朋友了我們就這麼單純　瞎聊著彼此說以後時間過了　學會珍惜了原來最初的快樂　並不...     想法表達   \n",
       "2    最近會有點忙  親愛的我想多虧你貼心的體諒自由自在飛翔  並非奢望心決定風向的晴朗有時候我在...     想法表達   \n",
       "3    為什麼就是找不到　不謝的玫瑰花為什麼遇見的王子　都不夠王子啊我並不期盼他會有　玻璃鞋和白馬我...     想法表達   \n",
       "4    時間喜歡在臉上胡亂塗鴉皺紋黑斑是它的左右護法想想辦法對付它 不管犧牲要多大女生一輩子都被時間...     想法表達   \n",
       "..                                                 ...      ...   \n",
       "195  我看不開 也放不開 因為我曾見過愛情真的盛開我要等待 一直等待 等那~一個夜晚從回憶回來當你...     想法表達   \n",
       "196  晴天 肆無忌憚的光線差些要模糊的臉 笑得很清淺轉眼 說不出聲的語言由生到死的纏綿 藏進心裡面...     想法表達   \n",
       "197  柳媚花妍　鶯聲兒嬌　春色又向人間報到山眉水眼　盈盈的笑　我又投入了愛的懷抱像鳳凰于飛在雲霄　...     想法表達   \n",
       "198  坐著說 站著說 妳想要 說什麼音量怎麼這樣微弱 空氣都不振動 ha妳看我 看什麼 我不是 常...     想法表達   \n",
       "199  等一等　先生你要的　可不可　給你換雪碧我與你　其實未相識　不過怕你喝得這麼激請想想　她不愛你...     想法表達   \n",
       "\n",
       "                                       cut_text_string  \n",
       "0    眼睛 忙 風景 嘴巴 想念 甜品 這雙 耳朵 只想 保持 安靜頭 髮 纏 呼吸 挑剔 空氣 ...  \n",
       "1    再見面 已經 朋友 瞎聊 說 以後時 間過 學會 珍惜 原來 最初 快樂並 的終 能夠 坦白...  \n",
       "2    最近 有點 忙 親愛的 想 虧 貼心 體諒 自由自在 飛翔 奢望 心決定 風向 晴朗 想 力...  \n",
       "3    找 不到 不謝 玫瑰花 遇見 王子 不夠 王子 我並 期盼 他會 玻璃 鞋 白馬 驚訝 情話...  \n",
       "4    時間 喜歡 臉 胡亂 塗鴉 皺紋 黑斑 左右 護法 想想 辦法 對付 犧牲 女生 一輩子 時...  \n",
       "..                                                 ...  \n",
       "195  不開 放不開 曾 過愛情 真的 盛開 等待 一直 等待 一個 夜晚 回憶 回來當 擁抱 一瞬...  \n",
       "196  晴天 肆無忌憚 光線 差些 模糊 臉 笑 清 淺 轉眼 說 出聲 語言由生 死 纏 綿藏 進...  \n",
       "197  柳媚 花妍 鶯 聲兒 嬌 春色 人間 報到 山眉水眼 盈盈 笑 投入 愛的 懷抱 鳳凰于 飛...  \n",
       "198  坐著 說 站 說 妳 想要 說 音量 微弱 空氣 不振 動 ha 妳 說 運動 減重 妳 再...  \n",
       "199  等一等 先生 不可 給你換 雪 碧 未 相識 喝 激請 想想 愛 還枉花 這氣力 出色 拋棄...  \n",
       "\n",
       "[200 rows x 5 columns]"
      ]
     },
     "execution_count": 18,
     "metadata": {},
     "output_type": "execute_result"
    }
   ],
   "source": [
    "df_think"
   ]
  },
  {
   "cell_type": "code",
   "execution_count": 19,
   "id": "cba4e6ea",
   "metadata": {},
   "outputs": [],
   "source": [
    "# 計算詞頻\n",
    "count_vect = CountVectorizer(stop_words='english', decode_error='ignore')\n",
    "X_think_counts = count_vect.fit_transform(df_think.cut_text_string)\n",
    "# 計算TF-IDF\n",
    "tf_transformer = TfidfVectorizer(stop_words='english', decode_error='ignore')\n",
    "X_think_counts_tf = tf_transformer.fit_transform(df_think.cut_text_string)\n",
    "# labels = df_select.Category"
   ]
  },
  {
   "cell_type": "code",
   "execution_count": 21,
   "id": "18a23e6b",
   "metadata": {
    "scrolled": true
   },
   "outputs": [
    {
     "data": {
      "text/plain": [
       "<200x6456 sparse matrix of type '<class 'numpy.float64'>'\n",
       "\twith 11059 stored elements in Compressed Sparse Row format>"
      ]
     },
     "execution_count": 21,
     "metadata": {},
     "output_type": "execute_result"
    }
   ],
   "source": [
    "X_think_counts_tf"
   ]
  },
  {
   "cell_type": "markdown",
   "id": "f7bb4add",
   "metadata": {},
   "source": [
    "## Discriminative model"
   ]
  },
  {
   "cell_type": "code",
   "execution_count": 16,
   "id": "31383abe",
   "metadata": {},
   "outputs": [],
   "source": [
    "num_folds = 10\n",
    "scoring = 'accuracy'"
   ]
  },
  {
   "cell_type": "code",
   "execution_count": 17,
   "id": "a14957de",
   "metadata": {
    "scrolled": true
   },
   "outputs": [
    {
     "name": "stdout",
     "output_type": "stream",
     "text": [
      "LR:0.520312(0.075922)\n",
      "SVM:0.431250(0.044305)\n",
      "CART:0.381250(0.043188)\n",
      "MNB:0.462500(0.086772)\n",
      "KNN:0.362500(0.057111)\n"
     ]
    }
   ],
   "source": [
    "models = {}\n",
    "models['LR'] = LogisticRegression() #逻辑回归\n",
    "models['SVM'] = SVC() #支持向量机\n",
    "models['CART'] = DecisionTreeClassifier() #分类与回归树\n",
    "models['MNB'] = MultinomialNB() #朴素贝叶斯分类器\n",
    "models['KNN'] = KNeighborsClassifier() #K近邻算法\n",
    "results = []\n",
    "\n",
    "for key in models:\n",
    "    kfold = KFold(n_splits = num_folds)\n",
    "    cv_results = cross_val_score(models[key], x_train, y_train, cv = kfold, scoring = scoring)\n",
    "    results.append(cv_results)\n",
    "    print('%s:%f(%f)' %(key,cv_results.mean(),cv_results.std()))"
   ]
  },
  {
   "cell_type": "code",
   "execution_count": 18,
   "id": "f43d1618",
   "metadata": {
    "scrolled": false
   },
   "outputs": [
    {
     "name": "stderr",
     "output_type": "stream",
     "text": [
      "/home/vivian/miniconda3/envs/tf2/lib/python3.7/site-packages/sklearn/model_selection/_validation.py:372: FitFailedWarning: \n",
      "10 fits failed out of a total of 50.\n",
      "The score on these train-test partitions for these parameters will be set to nan.\n",
      "If these failures are not expected, you can try to debug them by setting error_score='raise'.\n",
      "\n",
      "Below are more details about the failures:\n",
      "--------------------------------------------------------------------------------\n",
      "10 fits failed with the following error:\n",
      "Traceback (most recent call last):\n",
      "  File \"/home/vivian/miniconda3/envs/tf2/lib/python3.7/site-packages/sklearn/model_selection/_validation.py\", line 681, in _fit_and_score\n",
      "    estimator.fit(X_train, y_train, **fit_params)\n",
      "  File \"/home/vivian/miniconda3/envs/tf2/lib/python3.7/site-packages/sklearn/linear_model/_logistic.py\", line 1614, in fit\n",
      "    for class_, warm_start_coef_ in zip(classes_, warm_start_coef)\n",
      "  File \"/home/vivian/miniconda3/envs/tf2/lib/python3.7/site-packages/joblib/parallel.py\", line 1043, in __call__\n",
      "    if self.dispatch_one_batch(iterator):\n",
      "  File \"/home/vivian/miniconda3/envs/tf2/lib/python3.7/site-packages/joblib/parallel.py\", line 861, in dispatch_one_batch\n",
      "    self._dispatch(tasks)\n",
      "  File \"/home/vivian/miniconda3/envs/tf2/lib/python3.7/site-packages/joblib/parallel.py\", line 779, in _dispatch\n",
      "    job = self._backend.apply_async(batch, callback=cb)\n",
      "  File \"/home/vivian/miniconda3/envs/tf2/lib/python3.7/site-packages/joblib/_parallel_backends.py\", line 208, in apply_async\n",
      "    result = ImmediateResult(func)\n",
      "  File \"/home/vivian/miniconda3/envs/tf2/lib/python3.7/site-packages/joblib/_parallel_backends.py\", line 572, in __init__\n",
      "    self.results = batch()\n",
      "  File \"/home/vivian/miniconda3/envs/tf2/lib/python3.7/site-packages/joblib/parallel.py\", line 263, in __call__\n",
      "    for func, args, kwargs in self.items]\n",
      "  File \"/home/vivian/miniconda3/envs/tf2/lib/python3.7/site-packages/joblib/parallel.py\", line 263, in <listcomp>\n",
      "    for func, args, kwargs in self.items]\n",
      "  File \"/home/vivian/miniconda3/envs/tf2/lib/python3.7/site-packages/sklearn/utils/fixes.py\", line 211, in __call__\n",
      "    return self.function(*args, **kwargs)\n",
      "  File \"/home/vivian/miniconda3/envs/tf2/lib/python3.7/site-packages/sklearn/linear_model/_logistic.py\", line 811, in _logistic_regression_path\n",
      "    args=(X, target, 1.0 / C, sample_weight),\n",
      "ZeroDivisionError: float division by zero\n",
      "\n",
      "  warnings.warn(some_fits_failed_message, FitFailedWarning)\n",
      "/home/vivian/miniconda3/envs/tf2/lib/python3.7/site-packages/sklearn/model_selection/_search.py:972: UserWarning: One or more of the test scores are non-finite: [      nan 0.51875   0.5265625 0.5234375 0.525    ]\n",
      "  category=UserWarning,\n"
     ]
    },
    {
     "name": "stdout",
     "output_type": "stream",
     "text": [
      "best acc: 0.5265625 with {'C': 4}\n"
     ]
    }
   ],
   "source": [
    "# Logistic Regression\n",
    "param_grid = {}\n",
    "param_grid['C'] = list(range(0, 10, 2))\n",
    "model = LogisticRegression()\n",
    "kfold = KFold(n_splits = num_folds)\n",
    "grid = GridSearchCV(estimator = model, param_grid = param_grid, scoring = scoring, cv = kfold)\n",
    "grid_result = grid.fit(X = x_train, y = y_train)\n",
    "print('best acc: %s with %s' % (grid_result.best_score_, grid_result.best_params_))"
   ]
  },
  {
   "cell_type": "code",
   "execution_count": 19,
   "id": "ebf22aeb",
   "metadata": {},
   "outputs": [
    {
     "name": "stderr",
     "output_type": "stream",
     "text": [
      "/home/vivian/miniconda3/envs/tf2/lib/python3.7/site-packages/sklearn/model_selection/_validation.py:372: FitFailedWarning: \n",
      "10 fits failed out of a total of 50.\n",
      "The score on these train-test partitions for these parameters will be set to nan.\n",
      "If these failures are not expected, you can try to debug them by setting error_score='raise'.\n",
      "\n",
      "Below are more details about the failures:\n",
      "--------------------------------------------------------------------------------\n",
      "10 fits failed with the following error:\n",
      "Traceback (most recent call last):\n",
      "  File \"/home/vivian/miniconda3/envs/tf2/lib/python3.7/site-packages/sklearn/model_selection/_validation.py\", line 681, in _fit_and_score\n",
      "    estimator.fit(X_train, y_train, **fit_params)\n",
      "  File \"/home/vivian/miniconda3/envs/tf2/lib/python3.7/site-packages/sklearn/svm/_base.py\", line 255, in fit\n",
      "    fit(X, y, sample_weight, solver_type, kernel, random_seed=seed)\n",
      "  File \"/home/vivian/miniconda3/envs/tf2/lib/python3.7/site-packages/sklearn/svm/_base.py\", line 376, in _sparse_fit\n",
      "    random_seed,\n",
      "  File \"sklearn/svm/_libsvm_sparse.pyx\", line 151, in sklearn.svm._libsvm_sparse.libsvm_sparse_train\n",
      "ValueError: b'C <= 0'\n",
      "\n",
      "  warnings.warn(some_fits_failed_message, FitFailedWarning)\n",
      "/home/vivian/miniconda3/envs/tf2/lib/python3.7/site-packages/sklearn/model_selection/_search.py:972: UserWarning: One or more of the test scores are non-finite: [      nan 0.5265625 0.5265625 0.5265625 0.5265625]\n",
      "  category=UserWarning,\n"
     ]
    },
    {
     "name": "stdout",
     "output_type": "stream",
     "text": [
      "best acc: 0.5265625 with {'C': 2}\n"
     ]
    }
   ],
   "source": [
    "# SVM\n",
    "param_grid = {}\n",
    "param_grid['C'] = list(range(0, 10, 2))\n",
    "model = SVC()\n",
    "kfold = KFold(n_splits = num_folds)\n",
    "grid = GridSearchCV(estimator = model, param_grid = param_grid, scoring = scoring, cv = kfold)\n",
    "grid_result = grid.fit(X = x_train, y = y_train)\n",
    "print('best acc: %s with %s' % (grid_result.best_score_, grid_result.best_params_))"
   ]
  },
  {
   "cell_type": "code",
   "execution_count": 20,
   "id": "d01f446f",
   "metadata": {},
   "outputs": [
    {
     "name": "stdout",
     "output_type": "stream",
     "text": [
      "best acc : 0.4859375 with {'alpha': 0.1}\n"
     ]
    }
   ],
   "source": [
    "# Naive Bayes\n",
    "param_grid = {}\n",
    "param_grid['alpha'] = [0.001, 0.01, 0.1, 1.0, 1.5, 2.0]\n",
    "model = MultinomialNB()\n",
    "kfold = KFold(n_splits = num_folds)\n",
    "grid = GridSearchCV(estimator = model, param_grid = param_grid, scoring = scoring, cv = kfold)\n",
    "grid_result = grid.fit(X = x_train, y = y_train)\n",
    "print('best acc : %s with %s' % (grid_result.best_score_, grid_result.best_params_))"
   ]
  },
  {
   "cell_type": "markdown",
   "id": "fde30a4d",
   "metadata": {},
   "source": [
    "## Ensemble Learning"
   ]
  },
  {
   "cell_type": "code",
   "execution_count": 21,
   "id": "07162d49",
   "metadata": {},
   "outputs": [
    {
     "name": "stdout",
     "output_type": "stream",
     "text": [
      "RF : 0.489063 (0.068839)\n",
      "AB : 0.396875 (0.074346)\n"
     ]
    }
   ],
   "source": [
    "ensembles = {}\n",
    "ensembles['RF'] = RandomForestClassifier()   # random forest\n",
    "ensembles['AB'] = AdaBoostClassifier()       # Adaboost\n",
    "results = []\n",
    "for key in ensembles:\n",
    "    kfold = KFold(n_splits = num_folds)\n",
    "    cv_results = cross_val_score(ensembles[key], x_train, y_train, cv = kfold, scoring = scoring)\n",
    "    results.append(cv_results)\n",
    "    print('%s : %f (%f)' % (key, cv_results.mean(), cv_results.std()))"
   ]
  },
  {
   "cell_type": "code",
   "execution_count": 22,
   "id": "b288bd2e",
   "metadata": {},
   "outputs": [
    {
     "name": "stdout",
     "output_type": "stream",
     "text": [
      "best acc : 0.5140625 with {'max_depth': 20, 'n_estimators': 180}\n"
     ]
    }
   ],
   "source": [
    "# Random Forest\n",
    "param_grid = {}\n",
    "param_grid['n_estimators'] = list(range(100, 200, 20))\n",
    "param_grid['max_depth'] = list(range(10, 30, 5))\n",
    "model = RandomForestClassifier()\n",
    "kfold = KFold(n_splits = num_folds)\n",
    "grid = GridSearchCV(estimator = model, param_grid = param_grid, scoring = scoring, cv = kfold)\n",
    "grid_result = grid.fit(X = x_train, y = y_train)\n",
    "print('best acc : %s with %s' % (grid_result.best_score_, grid_result.best_params_))"
   ]
  },
  {
   "cell_type": "code",
   "execution_count": 23,
   "id": "79bf0c2e",
   "metadata": {},
   "outputs": [
    {
     "name": "stdout",
     "output_type": "stream",
     "text": [
      "best acc : 0.415625 with {'learning_rate': 0.01, 'n_estimators': 140}\n"
     ]
    }
   ],
   "source": [
    "# AdaBoost\n",
    "param_grid = {}\n",
    "param_grid['n_estimators'] = list(range(100, 150, 20))\n",
    "param_grid['learning_rate'] = [0.001, 0.01, 0.1, 0.5, 1]\n",
    "model = AdaBoostClassifier()\n",
    "kfold = KFold(n_splits = num_folds)\n",
    "grid = GridSearchCV(estimator = model, param_grid = param_grid, scoring = scoring, cv = kfold)\n",
    "grid_result = grid.fit(X = x_train, y = y_train)\n",
    "print('best acc : %s with %s' % (grid_result.best_score_, grid_result.best_params_))"
   ]
  },
  {
   "cell_type": "markdown",
   "id": "6f8f7c5d",
   "metadata": {},
   "source": [
    "# Test the Final Model"
   ]
  },
  {
   "cell_type": "code",
   "execution_count": 24,
   "id": "6e34e232",
   "metadata": {
    "scrolled": false
   },
   "outputs": [
    {
     "data": {
      "text/plain": [
       "'model = LogisticRegression(C = 2)\\nmodel.fit(x_train, y_train)\\npredictions = model.predict(x_test)\\nprint(accuracy_score(list(y_test), list(predictions)))\\nprint(classification_report(list(y_test), list(predictions)))'"
      ]
     },
     "execution_count": 24,
     "metadata": {},
     "output_type": "execute_result"
    }
   ],
   "source": [
    "'''model = LogisticRegression(C = 2)\n",
    "model.fit(x_train, y_train)\n",
    "predictions = model.predict(x_test)\n",
    "print(accuracy_score(list(y_test), list(predictions)))\n",
    "print(classification_report(list(y_test), list(predictions)))'''"
   ]
  },
  {
   "cell_type": "code",
   "execution_count": 39,
   "id": "c49b6dea",
   "metadata": {
    "scrolled": true
   },
   "outputs": [
    {
     "ename": "ValueError",
     "evalue": "X has 6472 features, but LogisticRegression is expecting 17953 features as input.",
     "output_type": "error",
     "traceback": [
      "\u001b[0;31m---------------------------------------------------------------------------\u001b[0m",
      "\u001b[0;31mValueError\u001b[0m                                Traceback (most recent call last)",
      "\u001b[0;32m/tmp/ipykernel_208/3419072536.py\u001b[0m in \u001b[0;36m<module>\u001b[0;34m\u001b[0m\n\u001b[1;32m      1\u001b[0m \u001b[0mmodel\u001b[0m \u001b[0;34m=\u001b[0m \u001b[0mLogisticRegression\u001b[0m\u001b[0;34m(\u001b[0m\u001b[0mC\u001b[0m \u001b[0;34m=\u001b[0m \u001b[0;36m2\u001b[0m\u001b[0;34m)\u001b[0m\u001b[0;34m\u001b[0m\u001b[0;34m\u001b[0m\u001b[0m\n\u001b[1;32m      2\u001b[0m \u001b[0mmodel\u001b[0m\u001b[0;34m.\u001b[0m\u001b[0mfit\u001b[0m\u001b[0;34m(\u001b[0m\u001b[0mx_train\u001b[0m\u001b[0;34m,\u001b[0m \u001b[0my_train\u001b[0m\u001b[0;34m)\u001b[0m\u001b[0;34m\u001b[0m\u001b[0;34m\u001b[0m\u001b[0m\n\u001b[0;32m----> 3\u001b[0;31m \u001b[0mpredictions\u001b[0m \u001b[0;34m=\u001b[0m \u001b[0mmodel\u001b[0m\u001b[0;34m.\u001b[0m\u001b[0mpredict\u001b[0m\u001b[0;34m(\u001b[0m\u001b[0mthink_X\u001b[0m\u001b[0;34m)\u001b[0m\u001b[0;34m\u001b[0m\u001b[0;34m\u001b[0m\u001b[0m\n\u001b[0m",
      "\u001b[0;32m~/miniconda3/envs/tf2/lib/python3.7/site-packages/sklearn/linear_model/_base.py\u001b[0m in \u001b[0;36mpredict\u001b[0;34m(self, X)\u001b[0m\n\u001b[1;32m    423\u001b[0m             \u001b[0mPredicted\u001b[0m \u001b[0;32mclass\u001b[0m \u001b[0mlabel\u001b[0m \u001b[0mper\u001b[0m \u001b[0msample\u001b[0m\u001b[0;34m.\u001b[0m\u001b[0;34m\u001b[0m\u001b[0;34m\u001b[0m\u001b[0m\n\u001b[1;32m    424\u001b[0m         \"\"\"\n\u001b[0;32m--> 425\u001b[0;31m         \u001b[0mscores\u001b[0m \u001b[0;34m=\u001b[0m \u001b[0mself\u001b[0m\u001b[0;34m.\u001b[0m\u001b[0mdecision_function\u001b[0m\u001b[0;34m(\u001b[0m\u001b[0mX\u001b[0m\u001b[0;34m)\u001b[0m\u001b[0;34m\u001b[0m\u001b[0;34m\u001b[0m\u001b[0m\n\u001b[0m\u001b[1;32m    426\u001b[0m         \u001b[0;32mif\u001b[0m \u001b[0mlen\u001b[0m\u001b[0;34m(\u001b[0m\u001b[0mscores\u001b[0m\u001b[0;34m.\u001b[0m\u001b[0mshape\u001b[0m\u001b[0;34m)\u001b[0m \u001b[0;34m==\u001b[0m \u001b[0;36m1\u001b[0m\u001b[0;34m:\u001b[0m\u001b[0;34m\u001b[0m\u001b[0;34m\u001b[0m\u001b[0m\n\u001b[1;32m    427\u001b[0m             \u001b[0mindices\u001b[0m \u001b[0;34m=\u001b[0m \u001b[0;34m(\u001b[0m\u001b[0mscores\u001b[0m \u001b[0;34m>\u001b[0m \u001b[0;36m0\u001b[0m\u001b[0;34m)\u001b[0m\u001b[0;34m.\u001b[0m\u001b[0mastype\u001b[0m\u001b[0;34m(\u001b[0m\u001b[0mint\u001b[0m\u001b[0;34m)\u001b[0m\u001b[0;34m\u001b[0m\u001b[0;34m\u001b[0m\u001b[0m\n",
      "\u001b[0;32m~/miniconda3/envs/tf2/lib/python3.7/site-packages/sklearn/linear_model/_base.py\u001b[0m in \u001b[0;36mdecision_function\u001b[0;34m(self, X)\u001b[0m\n\u001b[1;32m    405\u001b[0m         \u001b[0mcheck_is_fitted\u001b[0m\u001b[0;34m(\u001b[0m\u001b[0mself\u001b[0m\u001b[0;34m)\u001b[0m\u001b[0;34m\u001b[0m\u001b[0;34m\u001b[0m\u001b[0m\n\u001b[1;32m    406\u001b[0m \u001b[0;34m\u001b[0m\u001b[0m\n\u001b[0;32m--> 407\u001b[0;31m         \u001b[0mX\u001b[0m \u001b[0;34m=\u001b[0m \u001b[0mself\u001b[0m\u001b[0;34m.\u001b[0m\u001b[0m_validate_data\u001b[0m\u001b[0;34m(\u001b[0m\u001b[0mX\u001b[0m\u001b[0;34m,\u001b[0m \u001b[0maccept_sparse\u001b[0m\u001b[0;34m=\u001b[0m\u001b[0;34m\"csr\"\u001b[0m\u001b[0;34m,\u001b[0m \u001b[0mreset\u001b[0m\u001b[0;34m=\u001b[0m\u001b[0;32mFalse\u001b[0m\u001b[0;34m)\u001b[0m\u001b[0;34m\u001b[0m\u001b[0;34m\u001b[0m\u001b[0m\n\u001b[0m\u001b[1;32m    408\u001b[0m         \u001b[0mscores\u001b[0m \u001b[0;34m=\u001b[0m \u001b[0msafe_sparse_dot\u001b[0m\u001b[0;34m(\u001b[0m\u001b[0mX\u001b[0m\u001b[0;34m,\u001b[0m \u001b[0mself\u001b[0m\u001b[0;34m.\u001b[0m\u001b[0mcoef_\u001b[0m\u001b[0;34m.\u001b[0m\u001b[0mT\u001b[0m\u001b[0;34m,\u001b[0m \u001b[0mdense_output\u001b[0m\u001b[0;34m=\u001b[0m\u001b[0;32mTrue\u001b[0m\u001b[0;34m)\u001b[0m \u001b[0;34m+\u001b[0m \u001b[0mself\u001b[0m\u001b[0;34m.\u001b[0m\u001b[0mintercept_\u001b[0m\u001b[0;34m\u001b[0m\u001b[0;34m\u001b[0m\u001b[0m\n\u001b[1;32m    409\u001b[0m         \u001b[0;32mreturn\u001b[0m \u001b[0mscores\u001b[0m\u001b[0;34m.\u001b[0m\u001b[0mravel\u001b[0m\u001b[0;34m(\u001b[0m\u001b[0;34m)\u001b[0m \u001b[0;32mif\u001b[0m \u001b[0mscores\u001b[0m\u001b[0;34m.\u001b[0m\u001b[0mshape\u001b[0m\u001b[0;34m[\u001b[0m\u001b[0;36m1\u001b[0m\u001b[0;34m]\u001b[0m \u001b[0;34m==\u001b[0m \u001b[0;36m1\u001b[0m \u001b[0;32melse\u001b[0m \u001b[0mscores\u001b[0m\u001b[0;34m\u001b[0m\u001b[0;34m\u001b[0m\u001b[0m\n",
      "\u001b[0;32m~/miniconda3/envs/tf2/lib/python3.7/site-packages/sklearn/base.py\u001b[0m in \u001b[0;36m_validate_data\u001b[0;34m(self, X, y, reset, validate_separately, **check_params)\u001b[0m\n\u001b[1;32m    578\u001b[0m \u001b[0;34m\u001b[0m\u001b[0m\n\u001b[1;32m    579\u001b[0m         \u001b[0;32mif\u001b[0m \u001b[0;32mnot\u001b[0m \u001b[0mno_val_X\u001b[0m \u001b[0;32mand\u001b[0m \u001b[0mcheck_params\u001b[0m\u001b[0;34m.\u001b[0m\u001b[0mget\u001b[0m\u001b[0;34m(\u001b[0m\u001b[0;34m\"ensure_2d\"\u001b[0m\u001b[0;34m,\u001b[0m \u001b[0;32mTrue\u001b[0m\u001b[0;34m)\u001b[0m\u001b[0;34m:\u001b[0m\u001b[0;34m\u001b[0m\u001b[0;34m\u001b[0m\u001b[0m\n\u001b[0;32m--> 580\u001b[0;31m             \u001b[0mself\u001b[0m\u001b[0;34m.\u001b[0m\u001b[0m_check_n_features\u001b[0m\u001b[0;34m(\u001b[0m\u001b[0mX\u001b[0m\u001b[0;34m,\u001b[0m \u001b[0mreset\u001b[0m\u001b[0;34m=\u001b[0m\u001b[0mreset\u001b[0m\u001b[0;34m)\u001b[0m\u001b[0;34m\u001b[0m\u001b[0;34m\u001b[0m\u001b[0m\n\u001b[0m\u001b[1;32m    581\u001b[0m \u001b[0;34m\u001b[0m\u001b[0m\n\u001b[1;32m    582\u001b[0m         \u001b[0;32mreturn\u001b[0m \u001b[0mout\u001b[0m\u001b[0;34m\u001b[0m\u001b[0;34m\u001b[0m\u001b[0m\n",
      "\u001b[0;32m~/miniconda3/envs/tf2/lib/python3.7/site-packages/sklearn/base.py\u001b[0m in \u001b[0;36m_check_n_features\u001b[0;34m(self, X, reset)\u001b[0m\n\u001b[1;32m    394\u001b[0m         \u001b[0;32mif\u001b[0m \u001b[0mn_features\u001b[0m \u001b[0;34m!=\u001b[0m \u001b[0mself\u001b[0m\u001b[0;34m.\u001b[0m\u001b[0mn_features_in_\u001b[0m\u001b[0;34m:\u001b[0m\u001b[0;34m\u001b[0m\u001b[0;34m\u001b[0m\u001b[0m\n\u001b[1;32m    395\u001b[0m             raise ValueError(\n\u001b[0;32m--> 396\u001b[0;31m                 \u001b[0;34mf\"X has {n_features} features, but {self.__class__.__name__} \"\u001b[0m\u001b[0;34m\u001b[0m\u001b[0;34m\u001b[0m\u001b[0m\n\u001b[0m\u001b[1;32m    397\u001b[0m                 \u001b[0;34mf\"is expecting {self.n_features_in_} features as input.\"\u001b[0m\u001b[0;34m\u001b[0m\u001b[0;34m\u001b[0m\u001b[0m\n\u001b[1;32m    398\u001b[0m             )\n",
      "\u001b[0;31mValueError\u001b[0m: X has 6472 features, but LogisticRegression is expecting 17953 features as input."
     ]
    }
   ],
   "source": [
    "model = LogisticRegression(C = 2)\n",
    "model.fit(x_train, y_train)\n",
    "predictions = model.predict(think_X)"
   ]
  },
  {
   "cell_type": "code",
   "execution_count": null,
   "id": "af395c7f",
   "metadata": {},
   "outputs": [],
   "source": []
  },
  {
   "cell_type": "code",
   "execution_count": 25,
   "id": "df48c3d5",
   "metadata": {},
   "outputs": [
    {
     "data": {
      "text/plain": [
       "'# 設定字體\\nfrom matplotlib.font_manager import FontProperties\\nfonts = FontProperties(fname = \"msjh.ttc\", size = 14)\\n%config InlineBackend.figure_format = \\'retina\\'\\n%matplotlib inline\\nfrom sklearn import metrics\\nimport seaborn as sns\\nimport numpy as np\\nconfm = metrics.confusion_matrix(y_test, predictions)'"
      ]
     },
     "execution_count": 25,
     "metadata": {},
     "output_type": "execute_result"
    }
   ],
   "source": [
    "'''# 設定字體\n",
    "from matplotlib.font_manager import FontProperties\n",
    "fonts = FontProperties(fname = \"msjh.ttc\", size = 14)\n",
    "%config InlineBackend.figure_format = 'retina'\n",
    "%matplotlib inline\n",
    "from sklearn import metrics\n",
    "import seaborn as sns\n",
    "import numpy as np\n",
    "confm = metrics.confusion_matrix(y_test, predictions)'''"
   ]
  },
  {
   "cell_type": "code",
   "execution_count": 26,
   "id": "663e5aad",
   "metadata": {
    "scrolled": false
   },
   "outputs": [
    {
     "data": {
      "text/plain": [
       "'# plot confusion matrix\\nplt.figure(figsize = (8, 8))\\nsns.heatmap(confm.T, square = True, annot = True,\\n            fmt = \\'d\\', cbar = False,linewidths = .8,\\n            cmap = \"YlGnBu\")\\nplt.xlabel(\\'True label\\', size = 14)\\nplt.ylabel(\\'Predicted label\\', size = 14)\\nplt.xticks(np.arange(len(categories)) + 0.5, categories, fontproperties = fonts)\\nplt.yticks(np.arange(len(categories)) + 0.5, categories, fontproperties = fonts)\\nplt.show()'"
      ]
     },
     "execution_count": 26,
     "metadata": {},
     "output_type": "execute_result"
    }
   ],
   "source": [
    "'''# plot confusion matrix\n",
    "plt.figure(figsize = (8, 8))\n",
    "sns.heatmap(confm.T, square = True, annot = True,\n",
    "            fmt = 'd', cbar = False,linewidths = .8,\n",
    "            cmap = \"YlGnBu\")\n",
    "plt.xlabel('True label', size = 14)\n",
    "plt.ylabel('Predicted label', size = 14)\n",
    "plt.xticks(np.arange(len(categories)) + 0.5, categories, fontproperties = fonts)\n",
    "plt.yticks(np.arange(len(categories)) + 0.5, categories, fontproperties = fonts)\n",
    "plt.show()'''"
   ]
  },
  {
   "cell_type": "code",
   "execution_count": 27,
   "id": "c5011548",
   "metadata": {
    "scrolled": true
   },
   "outputs": [
    {
     "data": {
      "text/plain": [
       "'model = SVC(C = 4)\\nmodel.fit(x_train, y_train)\\npredictions = model.predict(x_test)\\nprint(accuracy_score(list(y_test), list(predictions)))\\nprint(classification_report(list(y_test), list(predictions)))'"
      ]
     },
     "execution_count": 27,
     "metadata": {},
     "output_type": "execute_result"
    }
   ],
   "source": [
    "'''model = SVC(C = 4)\n",
    "model.fit(x_train, y_train)\n",
    "predictions = model.predict(x_test)\n",
    "print(accuracy_score(list(y_test), list(predictions)))\n",
    "print(classification_report(list(y_test), list(predictions)))'''"
   ]
  },
  {
   "cell_type": "code",
   "execution_count": 28,
   "id": "9822aa56",
   "metadata": {},
   "outputs": [
    {
     "data": {
      "text/plain": [
       "'model = MultinomialNB(alpha = 1.5)\\nmodel.fit(x_train, y_train)\\npredictions = model.predict(x_test)\\nprint(accuracy_score(list(y_test), list(predictions)))\\nprint(classification_report(list(y_test), list(predictions)))'"
      ]
     },
     "execution_count": 28,
     "metadata": {},
     "output_type": "execute_result"
    }
   ],
   "source": [
    "'''model = MultinomialNB(alpha = 1.5)\n",
    "model.fit(x_train, y_train)\n",
    "predictions = model.predict(x_test)\n",
    "print(accuracy_score(list(y_test), list(predictions)))\n",
    "print(classification_report(list(y_test), list(predictions)))'''"
   ]
  },
  {
   "cell_type": "code",
   "execution_count": 29,
   "id": "e51dc9ba",
   "metadata": {},
   "outputs": [
    {
     "data": {
      "text/plain": [
       "'model = RandomForestClassifier(max_depth = 25, n_estimators = 80)\\n# model = RandomForestClassifier()\\nmodel.fit(x_train, y_train)\\npredictions = model.predict(x_test)\\nprint(accuracy_score(list(y_test), list(predictions)))\\nprint(classification_report(list(y_test), list(predictions)))'"
      ]
     },
     "execution_count": 29,
     "metadata": {},
     "output_type": "execute_result"
    }
   ],
   "source": [
    "'''model = RandomForestClassifier(max_depth = 25, n_estimators = 80)\n",
    "# model = RandomForestClassifier()\n",
    "model.fit(x_train, y_train)\n",
    "predictions = model.predict(x_test)\n",
    "print(accuracy_score(list(y_test), list(predictions)))\n",
    "print(classification_report(list(y_test), list(predictions)))'''"
   ]
  },
  {
   "cell_type": "code",
   "execution_count": 30,
   "id": "416a95ff",
   "metadata": {},
   "outputs": [
    {
     "data": {
      "text/plain": [
       "'model = AdaBoostClassifier(learning_rate = 0.5, n_estimators = 90)\\nmodel.fit(x_train, y_train)\\npredictions = model.predict(x_test)\\nprint(accuracy_score(list(y_test), list(predictions)))\\nprint(classification_report(list(y_test), list(predictions)))'"
      ]
     },
     "execution_count": 30,
     "metadata": {},
     "output_type": "execute_result"
    }
   ],
   "source": [
    "'''model = AdaBoostClassifier(learning_rate = 0.5, n_estimators = 90)\n",
    "model.fit(x_train, y_train)\n",
    "predictions = model.predict(x_test)\n",
    "print(accuracy_score(list(y_test), list(predictions)))\n",
    "print(classification_report(list(y_test), list(predictions)))'''"
   ]
  },
  {
   "cell_type": "code",
   "execution_count": 31,
   "id": "7dcb6942",
   "metadata": {},
   "outputs": [
    {
     "data": {
      "text/plain": [
       "'y_pred = list(predictions)\\ny_test_t = list(y_test)'"
      ]
     },
     "execution_count": 31,
     "metadata": {},
     "output_type": "execute_result"
    }
   ],
   "source": [
    "'''y_pred = list(predictions)\n",
    "y_test_t = list(y_test)'''"
   ]
  },
  {
   "cell_type": "code",
   "execution_count": 32,
   "id": "bda52ba4",
   "metadata": {},
   "outputs": [
    {
     "data": {
      "text/plain": [
       "'sent, label, predict = [], [], []\\nfor i in range(len(y_pred)):\\n    if y_pred[i] != y_test_t[i]:\\n        sent.append(x_test[i])\\n        label.append(y_test_t[i])\\n        predict.append(y_pred[i])'"
      ]
     },
     "execution_count": 32,
     "metadata": {},
     "output_type": "execute_result"
    }
   ],
   "source": [
    "'''sent, label, predict = [], [], []\n",
    "for i in range(len(y_pred)):\n",
    "    if y_pred[i] != y_test_t[i]:\n",
    "        sent.append(x_test[i])\n",
    "        label.append(y_test_t[i])\n",
    "        predict.append(y_pred[i])'''"
   ]
  },
  {
   "cell_type": "code",
   "execution_count": null,
   "id": "30d33fc4",
   "metadata": {},
   "outputs": [],
   "source": []
  },
  {
   "cell_type": "code",
   "execution_count": null,
   "id": "caa09874",
   "metadata": {},
   "outputs": [],
   "source": []
  }
 ],
 "metadata": {
  "kernelspec": {
   "display_name": "Python 3 (ipykernel)",
   "language": "python",
   "name": "python3"
  },
  "language_info": {
   "codemirror_mode": {
    "name": "ipython",
    "version": 3
   },
   "file_extension": ".py",
   "mimetype": "text/x-python",
   "name": "python",
   "nbconvert_exporter": "python",
   "pygments_lexer": "ipython3",
   "version": "3.7.11"
  }
 },
 "nbformat": 4,
 "nbformat_minor": 5
}
