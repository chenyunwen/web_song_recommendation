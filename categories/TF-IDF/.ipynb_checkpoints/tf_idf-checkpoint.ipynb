{
 "cells": [
  {
   "cell_type": "code",
   "execution_count": 1,
   "id": "6f5655dd",
   "metadata": {},
   "outputs": [],
   "source": [
    "from sklearn.datasets import load_files\n",
    "from sklearn.feature_extraction.text import CountVectorizer\n",
    "from sklearn.feature_extraction.text import TfidfVectorizer\n",
    "from sklearn.linear_model import LogisticRegression\n",
    "from sklearn.naive_bayes import MultinomialNB\n",
    "from sklearn.neighbors import KNeighborsClassifier\n",
    "from sklearn.svm import SVC\n",
    "from sklearn.tree import DecisionTreeClassifier\n",
    "from sklearn.metrics import classification_report\n",
    "from sklearn.metrics import accuracy_score\n",
    "from sklearn.model_selection import cross_val_score\n",
    "from sklearn.model_selection import KFold\n",
    "from sklearn.model_selection import GridSearchCV\n",
    "from sklearn.ensemble import AdaBoostClassifier\n",
    "from sklearn.ensemble import RandomForestClassifier\n",
    "from matplotlib import pyplot as plt\n",
    "import pandas as pd"
   ]
  },
  {
   "cell_type": "code",
   "execution_count": 2,
   "id": "6971f5f1",
   "metadata": {},
   "outputs": [
    {
     "name": "stdout",
     "output_type": "stream",
     "text": [
      "\u001b[32mTotal number of data: 991\u001b[0m\n"
     ]
    }
   ],
   "source": [
    "df = pd.read_csv('./data/merged.csv')\n",
    "df = df[['Singer', 'Name', 'Lyric', 'Category']].astype(str)\n",
    "df.drop(df[df.Singer == 'nan'].index, inplace=True)\n",
    "df.drop(df[df.Name == 'Name'].index, inplace=True)\n",
    "print(\"\\033[32mTotal number of data: %d\\033[0m\" %len(df))"
   ]
  },
  {
   "cell_type": "code",
   "execution_count": 3,
   "id": "62cf6da0",
   "metadata": {
    "scrolled": true
   },
   "outputs": [
    {
     "data": {
      "text/html": [
       "<div>\n",
       "<style scoped>\n",
       "    .dataframe tbody tr th:only-of-type {\n",
       "        vertical-align: middle;\n",
       "    }\n",
       "\n",
       "    .dataframe tbody tr th {\n",
       "        vertical-align: top;\n",
       "    }\n",
       "\n",
       "    .dataframe thead th {\n",
       "        text-align: right;\n",
       "    }\n",
       "</style>\n",
       "<table border=\"1\" class=\"dataframe\">\n",
       "  <thead>\n",
       "    <tr style=\"text-align: right;\">\n",
       "      <th></th>\n",
       "      <th>Category</th>\n",
       "      <th>count</th>\n",
       "    </tr>\n",
       "  </thead>\n",
       "  <tbody>\n",
       "    <tr>\n",
       "      <th>0</th>\n",
       "      <td>愛情</td>\n",
       "      <td>442</td>\n",
       "    </tr>\n",
       "    <tr>\n",
       "      <th>1</th>\n",
       "      <td>想法表達</td>\n",
       "      <td>163</td>\n",
       "    </tr>\n",
       "    <tr>\n",
       "      <th>2</th>\n",
       "      <td>反抗反駁反諷</td>\n",
       "      <td>87</td>\n",
       "    </tr>\n",
       "    <tr>\n",
       "      <th>3</th>\n",
       "      <td>勵志</td>\n",
       "      <td>83</td>\n",
       "    </tr>\n",
       "    <tr>\n",
       "      <th>4</th>\n",
       "      <td>悲傷</td>\n",
       "      <td>70</td>\n",
       "    </tr>\n",
       "    <tr>\n",
       "      <th>5</th>\n",
       "      <td>嗨歌</td>\n",
       "      <td>63</td>\n",
       "    </tr>\n",
       "    <tr>\n",
       "      <th>6</th>\n",
       "      <td>離別</td>\n",
       "      <td>30</td>\n",
       "    </tr>\n",
       "    <tr>\n",
       "      <th>7</th>\n",
       "      <td>友情</td>\n",
       "      <td>18</td>\n",
       "    </tr>\n",
       "    <tr>\n",
       "      <th>8</th>\n",
       "      <td>特殊主題</td>\n",
       "      <td>17</td>\n",
       "    </tr>\n",
       "    <tr>\n",
       "      <th>9</th>\n",
       "      <td>親情</td>\n",
       "      <td>13</td>\n",
       "    </tr>\n",
       "    <tr>\n",
       "      <th>10</th>\n",
       "      <td>感謝</td>\n",
       "      <td>5</td>\n",
       "    </tr>\n",
       "  </tbody>\n",
       "</table>\n",
       "</div>"
      ],
      "text/plain": [
       "   Category  count\n",
       "0        愛情    442\n",
       "1      想法表達    163\n",
       "2    反抗反駁反諷     87\n",
       "3        勵志     83\n",
       "4        悲傷     70\n",
       "5        嗨歌     63\n",
       "6        離別     30\n",
       "7        友情     18\n",
       "8      特殊主題     17\n",
       "9        親情     13\n",
       "10       感謝      5"
      ]
     },
     "execution_count": 3,
     "metadata": {},
     "output_type": "execute_result"
    }
   ],
   "source": [
    "d = {'Category': df['Category'].value_counts().index, 'count': df['Category'].value_counts()}\n",
    "df_cat = pd.DataFrame(data = d).reset_index(drop = True)\n",
    "df_cat"
   ]
  },
  {
   "cell_type": "code",
   "execution_count": 4,
   "id": "46577ef6",
   "metadata": {},
   "outputs": [
    {
     "data": {
      "text/html": [
       "<div>\n",
       "<style scoped>\n",
       "    .dataframe tbody tr th:only-of-type {\n",
       "        vertical-align: middle;\n",
       "    }\n",
       "\n",
       "    .dataframe tbody tr th {\n",
       "        vertical-align: top;\n",
       "    }\n",
       "\n",
       "    .dataframe thead th {\n",
       "        text-align: right;\n",
       "    }\n",
       "</style>\n",
       "<table border=\"1\" class=\"dataframe\">\n",
       "  <thead>\n",
       "    <tr style=\"text-align: right;\">\n",
       "      <th></th>\n",
       "      <th>Singer</th>\n",
       "      <th>Name</th>\n",
       "      <th>Lyric</th>\n",
       "      <th>Category</th>\n",
       "    </tr>\n",
       "  </thead>\n",
       "  <tbody>\n",
       "    <tr>\n",
       "      <th>0</th>\n",
       "      <td>A-Lin</td>\n",
       "      <td>One Life</td>\n",
       "      <td>白雲撞進藍天 激起昨天畫面我想起你的臉好久不見 在遠方的My Friend不論晴天雨天 也會...</td>\n",
       "      <td>勵志友情</td>\n",
       "    </tr>\n",
       "    <tr>\n",
       "      <th>1</th>\n",
       "      <td>A-Lin</td>\n",
       "      <td>最好的朋友在身邊</td>\n",
       "      <td>一起笑一起哭一起鬧久別的回憶又浮現一點點一天天一年年最好的朋友在身邊一起走一起跑一起跳相聚到...</td>\n",
       "      <td>勵志友情</td>\n",
       "    </tr>\n",
       "    <tr>\n",
       "      <th>2</th>\n",
       "      <td>A-Lin</td>\n",
       "      <td>愛的可能</td>\n",
       "      <td>你出現我身邊 像個奇蹟發生沒想到會是你 讓我如此失魂我心中的感覺是這樣陌生快樂的牽掛在相聚的...</td>\n",
       "      <td>勵志友情</td>\n",
       "    </tr>\n",
       "    <tr>\n",
       "      <th>3</th>\n",
       "      <td>A-Lin</td>\n",
       "      <td>太太太耐斯</td>\n",
       "      <td>孩子還沒睡 拜託別鬧手遊聲太吵 狗狗在叫碗盤在洗碗槽 主婦的煩惱惱公不瞭 他先洗澡奶瓶把香水...</td>\n",
       "      <td>反抗反駁反諷</td>\n",
       "    </tr>\n",
       "    <tr>\n",
       "      <th>4</th>\n",
       "      <td>A-Lin</td>\n",
       "      <td>抱歉 我不抱歉</td>\n",
       "      <td>恨 什麼叫恨 這個單字 好陌生我只記得 一路走來 愛的人就算他們 多可恨等 雖然溫柔 還打不...</td>\n",
       "      <td>反抗反駁反諷</td>\n",
       "    </tr>\n",
       "    <tr>\n",
       "      <th>...</th>\n",
       "      <td>...</td>\n",
       "      <td>...</td>\n",
       "      <td>...</td>\n",
       "      <td>...</td>\n",
       "    </tr>\n",
       "    <tr>\n",
       "      <th>992</th>\n",
       "      <td>鄧紫棋</td>\n",
       "      <td>回憶的沙漏</td>\n",
       "      <td>拼圖一片片失落　像楓葉的冷漠牆上的鐘　默默數著寂寞咖啡飄散過香味　剩苦澀陪著我想念的心　埋葬...</td>\n",
       "      <td>悲傷離別</td>\n",
       "    </tr>\n",
       "    <tr>\n",
       "      <th>993</th>\n",
       "      <td>鄧紫棋</td>\n",
       "      <td>多遠都要在一起</td>\n",
       "      <td>想聽你聽過的音樂 想看你看過的小說我想收集每一刻 我想看到你眼裡的世界想到你到過的地方 和你...</td>\n",
       "      <td>悲傷離別</td>\n",
       "    </tr>\n",
       "    <tr>\n",
       "      <th>994</th>\n",
       "      <td>鄧紫棋</td>\n",
       "      <td>兩個自己</td>\n",
       "      <td>像  從不認識你像全部的回憶  都已被你拋棄無法看透你直覺你心裡有  太多的秘密被你蒙住了眼...</td>\n",
       "      <td>悲傷離別</td>\n",
       "    </tr>\n",
       "    <tr>\n",
       "      <th>995</th>\n",
       "      <td>鄧紫棋</td>\n",
       "      <td>兩個你(粵)</td>\n",
       "      <td>像  未曾認識你像全部憶記  你早拋棄太異樣  想要望穿你直覺這刻你有  太多可揭秘這場遊戲...</td>\n",
       "      <td>悲傷離別</td>\n",
       "    </tr>\n",
       "    <tr>\n",
       "      <th>996</th>\n",
       "      <td>鄧紫棋</td>\n",
       "      <td>後會無期</td>\n",
       "      <td>當一艘船沉入海底當一個人成了謎你不知道他們為何離去那聲再見竟是他最後一句當一輛車消失天際當一...</td>\n",
       "      <td>悲傷離別</td>\n",
       "    </tr>\n",
       "  </tbody>\n",
       "</table>\n",
       "<p>991 rows × 4 columns</p>\n",
       "</div>"
      ],
      "text/plain": [
       "    Singer       Name                                              Lyric  \\\n",
       "0    A-Lin   One Life  白雲撞進藍天 激起昨天畫面我想起你的臉好久不見 在遠方的My Friend不論晴天雨天 也會...   \n",
       "1    A-Lin   最好的朋友在身邊  一起笑一起哭一起鬧久別的回憶又浮現一點點一天天一年年最好的朋友在身邊一起走一起跑一起跳相聚到...   \n",
       "2    A-Lin       愛的可能  你出現我身邊 像個奇蹟發生沒想到會是你 讓我如此失魂我心中的感覺是這樣陌生快樂的牽掛在相聚的...   \n",
       "3    A-Lin      太太太耐斯  孩子還沒睡 拜託別鬧手遊聲太吵 狗狗在叫碗盤在洗碗槽 主婦的煩惱惱公不瞭 他先洗澡奶瓶把香水...   \n",
       "4    A-Lin    抱歉 我不抱歉  恨 什麼叫恨 這個單字 好陌生我只記得 一路走來 愛的人就算他們 多可恨等 雖然溫柔 還打不...   \n",
       "..     ...        ...                                                ...   \n",
       "992    鄧紫棋      回憶的沙漏  拼圖一片片失落　像楓葉的冷漠牆上的鐘　默默數著寂寞咖啡飄散過香味　剩苦澀陪著我想念的心　埋葬...   \n",
       "993    鄧紫棋    多遠都要在一起  想聽你聽過的音樂 想看你看過的小說我想收集每一刻 我想看到你眼裡的世界想到你到過的地方 和你...   \n",
       "994    鄧紫棋       兩個自己  像  從不認識你像全部的回憶  都已被你拋棄無法看透你直覺你心裡有  太多的秘密被你蒙住了眼...   \n",
       "995    鄧紫棋     兩個你(粵)  像  未曾認識你像全部憶記  你早拋棄太異樣  想要望穿你直覺這刻你有  太多可揭秘這場遊戲...   \n",
       "996    鄧紫棋       後會無期  當一艘船沉入海底當一個人成了謎你不知道他們為何離去那聲再見竟是他最後一句當一輛車消失天際當一...   \n",
       "\n",
       "    Category  \n",
       "0       勵志友情  \n",
       "1       勵志友情  \n",
       "2       勵志友情  \n",
       "3     反抗反駁反諷  \n",
       "4     反抗反駁反諷  \n",
       "..       ...  \n",
       "992     悲傷離別  \n",
       "993     悲傷離別  \n",
       "994     悲傷離別  \n",
       "995     悲傷離別  \n",
       "996     悲傷離別  \n",
       "\n",
       "[991 rows x 4 columns]"
      ]
     },
     "execution_count": 4,
     "metadata": {},
     "output_type": "execute_result"
    }
   ],
   "source": [
    "df.loc[df.Category == '勵志','Category'] = '勵志友情'\n",
    "df.loc[df.Category == '友情','Category'] = '勵志友情'\n",
    "df.loc[df.Category == '悲傷','Category'] = '悲傷離別'\n",
    "df.loc[df.Category == '離別','Category'] = '悲傷離別'\n",
    "df"
   ]
  },
  {
   "cell_type": "code",
   "execution_count": 5,
   "id": "b85047ea",
   "metadata": {},
   "outputs": [
    {
     "data": {
      "text/html": [
       "<div>\n",
       "<style scoped>\n",
       "    .dataframe tbody tr th:only-of-type {\n",
       "        vertical-align: middle;\n",
       "    }\n",
       "\n",
       "    .dataframe tbody tr th {\n",
       "        vertical-align: top;\n",
       "    }\n",
       "\n",
       "    .dataframe thead th {\n",
       "        text-align: right;\n",
       "    }\n",
       "</style>\n",
       "<table border=\"1\" class=\"dataframe\">\n",
       "  <thead>\n",
       "    <tr style=\"text-align: right;\">\n",
       "      <th></th>\n",
       "      <th>Category</th>\n",
       "      <th>count</th>\n",
       "    </tr>\n",
       "  </thead>\n",
       "  <tbody>\n",
       "    <tr>\n",
       "      <th>0</th>\n",
       "      <td>愛情</td>\n",
       "      <td>442</td>\n",
       "    </tr>\n",
       "    <tr>\n",
       "      <th>1</th>\n",
       "      <td>想法表達</td>\n",
       "      <td>163</td>\n",
       "    </tr>\n",
       "    <tr>\n",
       "      <th>2</th>\n",
       "      <td>勵志友情</td>\n",
       "      <td>101</td>\n",
       "    </tr>\n",
       "    <tr>\n",
       "      <th>3</th>\n",
       "      <td>悲傷離別</td>\n",
       "      <td>100</td>\n",
       "    </tr>\n",
       "    <tr>\n",
       "      <th>4</th>\n",
       "      <td>反抗反駁反諷</td>\n",
       "      <td>87</td>\n",
       "    </tr>\n",
       "    <tr>\n",
       "      <th>5</th>\n",
       "      <td>嗨歌</td>\n",
       "      <td>63</td>\n",
       "    </tr>\n",
       "    <tr>\n",
       "      <th>6</th>\n",
       "      <td>特殊主題</td>\n",
       "      <td>17</td>\n",
       "    </tr>\n",
       "    <tr>\n",
       "      <th>7</th>\n",
       "      <td>親情</td>\n",
       "      <td>13</td>\n",
       "    </tr>\n",
       "    <tr>\n",
       "      <th>8</th>\n",
       "      <td>感謝</td>\n",
       "      <td>5</td>\n",
       "    </tr>\n",
       "  </tbody>\n",
       "</table>\n",
       "</div>"
      ],
      "text/plain": [
       "  Category  count\n",
       "0       愛情    442\n",
       "1     想法表達    163\n",
       "2     勵志友情    101\n",
       "3     悲傷離別    100\n",
       "4   反抗反駁反諷     87\n",
       "5       嗨歌     63\n",
       "6     特殊主題     17\n",
       "7       親情     13\n",
       "8       感謝      5"
      ]
     },
     "execution_count": 5,
     "metadata": {},
     "output_type": "execute_result"
    }
   ],
   "source": [
    "d = {'Category': df['Category'].value_counts().index, 'count': df['Category'].value_counts()}\n",
    "df_cat = pd.DataFrame(data = d).reset_index(drop = True)\n",
    "df_cat"
   ]
  },
  {
   "cell_type": "code",
   "execution_count": 7,
   "id": "07470647",
   "metadata": {},
   "outputs": [],
   "source": [
    "condition = df['Category'] == '愛情'\n",
    "df_select = df[condition].sample(100)\n",
    "condition = df['Category'] == '想法表達'\n",
    "df_tmp = df[condition].sample(100)\n",
    "df_select = pd.concat([df_select, df_tmp])\n",
    "condition = df['Category'] == '勵志友情'\n",
    "df_tmp = df[condition].sample(100)\n",
    "df_select = pd.concat([df_select, df_tmp])\n",
    "condition = df['Category'] == '悲傷離別'\n",
    "df_tmp = df[condition].sample(100)\n",
    "df_select = pd.concat([df_select, df_tmp])\n",
    "condition = df['Category'] == '反抗反駁反諷'\n",
    "df_tmp = df[condition].sample(87)\n",
    "df_select = pd.concat([df_select, df_tmp])\n",
    "\n",
    "df_select = df_select.reset_index(drop=True)"
   ]
  },
  {
   "cell_type": "code",
   "execution_count": 8,
   "id": "8cf16bc5",
   "metadata": {},
   "outputs": [
    {
     "data": {
      "text/html": [
       "<div>\n",
       "<style scoped>\n",
       "    .dataframe tbody tr th:only-of-type {\n",
       "        vertical-align: middle;\n",
       "    }\n",
       "\n",
       "    .dataframe tbody tr th {\n",
       "        vertical-align: top;\n",
       "    }\n",
       "\n",
       "    .dataframe thead th {\n",
       "        text-align: right;\n",
       "    }\n",
       "</style>\n",
       "<table border=\"1\" class=\"dataframe\">\n",
       "  <thead>\n",
       "    <tr style=\"text-align: right;\">\n",
       "      <th></th>\n",
       "      <th>Category</th>\n",
       "      <th>count</th>\n",
       "    </tr>\n",
       "  </thead>\n",
       "  <tbody>\n",
       "    <tr>\n",
       "      <th>0</th>\n",
       "      <td>愛情</td>\n",
       "      <td>100</td>\n",
       "    </tr>\n",
       "    <tr>\n",
       "      <th>1</th>\n",
       "      <td>想法表達</td>\n",
       "      <td>100</td>\n",
       "    </tr>\n",
       "    <tr>\n",
       "      <th>2</th>\n",
       "      <td>勵志友情</td>\n",
       "      <td>100</td>\n",
       "    </tr>\n",
       "    <tr>\n",
       "      <th>3</th>\n",
       "      <td>悲傷離別</td>\n",
       "      <td>100</td>\n",
       "    </tr>\n",
       "    <tr>\n",
       "      <th>4</th>\n",
       "      <td>反抗反駁反諷</td>\n",
       "      <td>87</td>\n",
       "    </tr>\n",
       "  </tbody>\n",
       "</table>\n",
       "</div>"
      ],
      "text/plain": [
       "  Category  count\n",
       "0       愛情    100\n",
       "1     想法表達    100\n",
       "2     勵志友情    100\n",
       "3     悲傷離別    100\n",
       "4   反抗反駁反諷     87"
      ]
     },
     "execution_count": 8,
     "metadata": {},
     "output_type": "execute_result"
    }
   ],
   "source": [
    "d = {'Category': df_select['Category'].value_counts().index, 'count': df_select['Category'].value_counts()}\n",
    "df_cat = pd.DataFrame(data = d).reset_index(drop = True)\n",
    "df_cat"
   ]
  },
  {
   "cell_type": "code",
   "execution_count": 9,
   "id": "ca2640a9",
   "metadata": {},
   "outputs": [
    {
     "data": {
      "text/plain": [
       "['愛情', '想法表達', '勵志友情', '悲傷離別', '反抗反駁反諷']"
      ]
     },
     "execution_count": 9,
     "metadata": {},
     "output_type": "execute_result"
    }
   ],
   "source": [
    "list(df_select['Category'].value_counts().index)"
   ]
  },
  {
   "cell_type": "code",
   "execution_count": 10,
   "id": "8e8c902c",
   "metadata": {},
   "outputs": [],
   "source": [
    "def remove_punctuation(line):\n",
    "    line = str(line)\n",
    "    if line.strip() == '':\n",
    "        return ''\n",
    "    re_han = re.compile(u\"[^a-zA-Z0-9\\u4E00-\\u9FA5]\")\n",
    "    line = re_han.sub('', line)\n",
    "    return line"
   ]
  },
  {
   "cell_type": "code",
   "execution_count": 11,
   "id": "707154c1",
   "metadata": {
    "scrolled": true
   },
   "outputs": [
    {
     "name": "stderr",
     "output_type": "stream",
     "text": [
      "Building prefix dict from the default dictionary ...\n",
      "Loading model from cache /tmp/jieba.cache\n",
      "Loading model cost 0.926 seconds.\n",
      "Prefix dict has been built successfully.\n"
     ]
    },
    {
     "data": {
      "text/html": [
       "<div>\n",
       "<style scoped>\n",
       "    .dataframe tbody tr th:only-of-type {\n",
       "        vertical-align: middle;\n",
       "    }\n",
       "\n",
       "    .dataframe tbody tr th {\n",
       "        vertical-align: top;\n",
       "    }\n",
       "\n",
       "    .dataframe thead th {\n",
       "        text-align: right;\n",
       "    }\n",
       "</style>\n",
       "<table border=\"1\" class=\"dataframe\">\n",
       "  <thead>\n",
       "    <tr style=\"text-align: right;\">\n",
       "      <th></th>\n",
       "      <th>Text</th>\n",
       "      <th>Label</th>\n",
       "      <th>clean_text</th>\n",
       "      <th>cut_text</th>\n",
       "      <th>cut_text_string</th>\n",
       "    </tr>\n",
       "  </thead>\n",
       "  <tbody>\n",
       "    <tr>\n",
       "      <th>0</th>\n",
       "      <td>我總該想個辦法，如果哪天他不在了我要如何讓我的負能量有個發洩的出口</td>\n",
       "      <td>正向</td>\n",
       "      <td>我總該想個辦法如果哪天他不在了我要如何讓我的負能量有個發洩的出口</td>\n",
       "      <td>[總該, 想個, 辦法, 我的負, 能量, 有個, 發洩, 出口]</td>\n",
       "      <td>總該 想個 辦法 我的負 能量 有個 發洩 出口</td>\n",
       "    </tr>\n",
       "    <tr>\n",
       "      <th>1</th>\n",
       "      <td>我以為我會死 但我真的捨不得我愛的人難過 我好害怕看到他們失望的眼神</td>\n",
       "      <td>正向</td>\n",
       "      <td>我以為我會死但我真的捨不得我愛的人難過我好害怕看到他們失望的眼神</td>\n",
       "      <td>[死, 真的, 捨, 我愛的, 人, 難過, 好, 害怕, 看到, 失望, 眼神]</td>\n",
       "      <td>死 真的 捨 我愛的 人 難過 好 害怕 看到 失望 眼神</td>\n",
       "    </tr>\n",
       "    <tr>\n",
       "      <th>2</th>\n",
       "      <td>此時此刻 我只想有人聽聽我說的話 我還不會死</td>\n",
       "      <td>正向</td>\n",
       "      <td>此時此刻我只想有人聽聽我說的話我還不會死</td>\n",
       "      <td>[此時, 此刻, 只, 想, 有人, 聽, 聽, 說, 話, 還不會, 死]</td>\n",
       "      <td>此時 此刻 只 想 有人 聽 聽 說 話 還不會 死</td>\n",
       "    </tr>\n",
       "    <tr>\n",
       "      <th>3</th>\n",
       "      <td>和她講惡夢的那天，我在她懷裡猶豫了很久才開口，以前一直認為我可以很理智的講出這段故事，但真正...</td>\n",
       "      <td>正向</td>\n",
       "      <td>和她講惡夢的那天我在她懷裡猶豫了很久才開口以前一直認為我可以很理智的講出這段故事但真正講出來...</td>\n",
       "      <td>[講惡, 夢, 那天, 懷裡, 猶豫, 久, 開口, 以前, 一直, 認為, 理智, 講出,...</td>\n",
       "      <td>講惡 夢 那天 懷裡 猶豫 久 開口 以前 一直 認為 理智 講出 這段 故事 真正 講出 ...</td>\n",
       "    </tr>\n",
       "    <tr>\n",
       "      <th>4</th>\n",
       "      <td>為什麼他們可以撐得住 我卻不行呢 所以你還可以撐下去的 只要再撐一下下就可以了 再一下下</td>\n",
       "      <td>正向</td>\n",
       "      <td>為什麼他們可以撐得住我卻不行呢所以你還可以撐下去的只要再撐一下下就可以了再一下下</td>\n",
       "      <td>[撐, 住, 卻, 不行, 你還, 撐, 下去, 再撐, 一下下, 再, 一下下]</td>\n",
       "      <td>撐 住 卻 不行 你還 撐 下去 再撐 一下下 再 一下下</td>\n",
       "    </tr>\n",
       "    <tr>\n",
       "      <th>...</th>\n",
       "      <td>...</td>\n",
       "      <td>...</td>\n",
       "      <td>...</td>\n",
       "      <td>...</td>\n",
       "      <td>...</td>\n",
       "    </tr>\n",
       "    <tr>\n",
       "      <th>395</th>\n",
       "      <td>我不確定這是不是大家說的情緒障礙還是躁鬱症，但我真的覺得很無助……</td>\n",
       "      <td>非正向</td>\n",
       "      <td>我不確定這是不是大家說的情緒障礙還是躁鬱症但我真的覺得很無助</td>\n",
       "      <td>[確定, 是不是, 說, 情緒, 障礙, 躁鬱症, 真的, 覺得, 無助]</td>\n",
       "      <td>確定 是不是 說 情緒 障礙 躁鬱症 真的 覺得 無助</td>\n",
       "    </tr>\n",
       "    <tr>\n",
       "      <th>396</th>\n",
       "      <td>她就直接衝過來抓住我的手臂 開始拉扯我頭髮 用力的打我的頭 接著她破口大罵 罵了一堆難聽到不行的話</td>\n",
       "      <td>非正向</td>\n",
       "      <td>她就直接衝過來抓住我的手臂開始拉扯我頭髮用力的打我的頭接著她破口大罵罵了一堆難聽到不行的話</td>\n",
       "      <td>[直接, 衝過, 抓住, 手臂, 拉扯, 我頭, 髮, 用力, 頭接, 破口, 大罵, 罵,...</td>\n",
       "      <td>直接 衝過 抓住 手臂 拉扯 我頭 髮 用力 頭接 破口 大罵 罵 一堆 難 聽 不行 話</td>\n",
       "    </tr>\n",
       "    <tr>\n",
       "      <th>397</th>\n",
       "      <td>對很多人來說我可能是無病呻吟，但是我真的覺得生活過的很累，但我又不知道該怎麼改善</td>\n",
       "      <td>非正向</td>\n",
       "      <td>對很多人來說我可能是無病呻吟但是我真的覺得生活過的很累但我又不知道該怎麼改善</td>\n",
       "      <td>[人來, 說, 無病, 呻吟, 真的, 覺得, 生活, 過的, 累, 知道, 改善]</td>\n",
       "      <td>人來 說 無病 呻吟 真的 覺得 生活 過的 累 知道 改善</td>\n",
       "    </tr>\n",
       "    <tr>\n",
       "      <th>398</th>\n",
       "      <td>我身邊一個深受性暴力之苦的朋友上吊走了。 性是真的可以殺人的。我身邊好幾個受過性暴力傷害的人...</td>\n",
       "      <td>非正向</td>\n",
       "      <td>我身邊一個深受性暴力之苦的朋友上吊走了性是真的可以殺人的我身邊好幾個受過性暴力傷害的人都很奮...</td>\n",
       "      <td>[身邊, 一個, 深受, 性暴力, 之苦, 朋友, 上吊, 走, 性, 真的, 殺人, 身邊...</td>\n",
       "      <td>身邊 一個 深受 性暴力 之苦 朋友 上吊 走 性 真的 殺人 身邊 好 幾個 受過 性暴力...</td>\n",
       "    </tr>\n",
       "    <tr>\n",
       "      <th>399</th>\n",
       "      <td>我不會讀書、我的工作他們不滿意、不喜歡我的男朋友等等</td>\n",
       "      <td>非正向</td>\n",
       "      <td>我不會讀書我的工作他們不滿意不喜歡我的男朋友等等</td>\n",
       "      <td>[讀書, 工作, 滿意, 喜歡, 男朋友]</td>\n",
       "      <td>讀書 工作 滿意 喜歡 男朋友</td>\n",
       "    </tr>\n",
       "  </tbody>\n",
       "</table>\n",
       "<p>400 rows × 5 columns</p>\n",
       "</div>"
      ],
      "text/plain": [
       "                                                  Text Label  \\\n",
       "0                    我總該想個辦法，如果哪天他不在了我要如何讓我的負能量有個發洩的出口    正向   \n",
       "1                   我以為我會死 但我真的捨不得我愛的人難過 我好害怕看到他們失望的眼神    正向   \n",
       "2                              此時此刻 我只想有人聽聽我說的話 我還不會死     正向   \n",
       "3    和她講惡夢的那天，我在她懷裡猶豫了很久才開口，以前一直認為我可以很理智的講出這段故事，但真正...    正向   \n",
       "4         為什麼他們可以撐得住 我卻不行呢 所以你還可以撐下去的 只要再撐一下下就可以了 再一下下    正向   \n",
       "..                                                 ...   ...   \n",
       "395                  我不確定這是不是大家說的情緒障礙還是躁鬱症，但我真的覺得很無助……   非正向   \n",
       "396  她就直接衝過來抓住我的手臂 開始拉扯我頭髮 用力的打我的頭 接著她破口大罵 罵了一堆難聽到不行的話   非正向   \n",
       "397           對很多人來說我可能是無病呻吟，但是我真的覺得生活過的很累，但我又不知道該怎麼改善   非正向   \n",
       "398  我身邊一個深受性暴力之苦的朋友上吊走了。 性是真的可以殺人的。我身邊好幾個受過性暴力傷害的人...   非正向   \n",
       "399                         我不會讀書、我的工作他們不滿意、不喜歡我的男朋友等等   非正向   \n",
       "\n",
       "                                            clean_text  \\\n",
       "0                     我總該想個辦法如果哪天他不在了我要如何讓我的負能量有個發洩的出口   \n",
       "1                     我以為我會死但我真的捨不得我愛的人難過我好害怕看到他們失望的眼神   \n",
       "2                                 此時此刻我只想有人聽聽我說的話我還不會死   \n",
       "3    和她講惡夢的那天我在她懷裡猶豫了很久才開口以前一直認為我可以很理智的講出這段故事但真正講出來...   \n",
       "4             為什麼他們可以撐得住我卻不行呢所以你還可以撐下去的只要再撐一下下就可以了再一下下   \n",
       "..                                                 ...   \n",
       "395                     我不確定這是不是大家說的情緒障礙還是躁鬱症但我真的覺得很無助   \n",
       "396      她就直接衝過來抓住我的手臂開始拉扯我頭髮用力的打我的頭接著她破口大罵罵了一堆難聽到不行的話   \n",
       "397             對很多人來說我可能是無病呻吟但是我真的覺得生活過的很累但我又不知道該怎麼改善   \n",
       "398  我身邊一個深受性暴力之苦的朋友上吊走了性是真的可以殺人的我身邊好幾個受過性暴力傷害的人都很奮...   \n",
       "399                           我不會讀書我的工作他們不滿意不喜歡我的男朋友等等   \n",
       "\n",
       "                                              cut_text  \\\n",
       "0                    [總該, 想個, 辦法, 我的負, 能量, 有個, 發洩, 出口]   \n",
       "1            [死, 真的, 捨, 我愛的, 人, 難過, 好, 害怕, 看到, 失望, 眼神]   \n",
       "2               [此時, 此刻, 只, 想, 有人, 聽, 聽, 說, 話, 還不會, 死]   \n",
       "3    [講惡, 夢, 那天, 懷裡, 猶豫, 久, 開口, 以前, 一直, 認為, 理智, 講出,...   \n",
       "4            [撐, 住, 卻, 不行, 你還, 撐, 下去, 再撐, 一下下, 再, 一下下]   \n",
       "..                                                 ...   \n",
       "395              [確定, 是不是, 說, 情緒, 障礙, 躁鬱症, 真的, 覺得, 無助]   \n",
       "396  [直接, 衝過, 抓住, 手臂, 拉扯, 我頭, 髮, 用力, 頭接, 破口, 大罵, 罵,...   \n",
       "397         [人來, 說, 無病, 呻吟, 真的, 覺得, 生活, 過的, 累, 知道, 改善]   \n",
       "398  [身邊, 一個, 深受, 性暴力, 之苦, 朋友, 上吊, 走, 性, 真的, 殺人, 身邊...   \n",
       "399                              [讀書, 工作, 滿意, 喜歡, 男朋友]   \n",
       "\n",
       "                                       cut_text_string  \n",
       "0                             總該 想個 辦法 我的負 能量 有個 發洩 出口  \n",
       "1                        死 真的 捨 我愛的 人 難過 好 害怕 看到 失望 眼神  \n",
       "2                           此時 此刻 只 想 有人 聽 聽 說 話 還不會 死  \n",
       "3    講惡 夢 那天 懷裡 猶豫 久 開口 以前 一直 認為 理智 講出 這段 故事 真正 講出 ...  \n",
       "4                        撐 住 卻 不行 你還 撐 下去 再撐 一下下 再 一下下  \n",
       "..                                                 ...  \n",
       "395                        確定 是不是 說 情緒 障礙 躁鬱症 真的 覺得 無助  \n",
       "396      直接 衝過 抓住 手臂 拉扯 我頭 髮 用力 頭接 破口 大罵 罵 一堆 難 聽 不行 話  \n",
       "397                     人來 說 無病 呻吟 真的 覺得 生活 過的 累 知道 改善  \n",
       "398  身邊 一個 深受 性暴力 之苦 朋友 上吊 走 性 真的 殺人 身邊 好 幾個 受過 性暴力...  \n",
       "399                                    讀書 工作 滿意 喜歡 男朋友  \n",
       "\n",
       "[400 rows x 5 columns]"
      ]
     },
     "execution_count": 11,
     "metadata": {},
     "output_type": "execute_result"
    }
   ],
   "source": [
    "import re\n",
    "import jieba\n",
    "stopwords = [line.strip() for line in open('./data/stopwords.txt', 'r', encoding = 'utf-8').readlines()]\n",
    "df_select['clean_text'] = df_select['Text'].apply(remove_punctuation)\n",
    "df_select['cut_text'] = df_select['clean_text'].apply(lambda x: [w for w in list(jieba.cut(x)) if (w not in stopwords and w != ' ')])\n",
    "df_select['cut_text_string'] = [' '.join(map(str, l)) for l in df_select['cut_text']]\n",
    "df_select"
   ]
  },
  {
   "cell_type": "code",
   "execution_count": 12,
   "id": "85dce078",
   "metadata": {},
   "outputs": [
    {
     "data": {
      "text/html": [
       "<div>\n",
       "<style scoped>\n",
       "    .dataframe tbody tr th:only-of-type {\n",
       "        vertical-align: middle;\n",
       "    }\n",
       "\n",
       "    .dataframe tbody tr th {\n",
       "        vertical-align: top;\n",
       "    }\n",
       "\n",
       "    .dataframe thead th {\n",
       "        text-align: right;\n",
       "    }\n",
       "</style>\n",
       "<table border=\"1\" class=\"dataframe\">\n",
       "  <thead>\n",
       "    <tr style=\"text-align: right;\">\n",
       "      <th></th>\n",
       "      <th>Text</th>\n",
       "      <th>Label</th>\n",
       "      <th>cut_text</th>\n",
       "    </tr>\n",
       "  </thead>\n",
       "  <tbody>\n",
       "    <tr>\n",
       "      <th>0</th>\n",
       "      <td>我總該想個辦法，如果哪天他不在了我要如何讓我的負能量有個發洩的出口</td>\n",
       "      <td>正向</td>\n",
       "      <td>[總該, 想個, 辦法, 我的負, 能量, 有個, 發洩, 出口]</td>\n",
       "    </tr>\n",
       "    <tr>\n",
       "      <th>1</th>\n",
       "      <td>我以為我會死 但我真的捨不得我愛的人難過 我好害怕看到他們失望的眼神</td>\n",
       "      <td>正向</td>\n",
       "      <td>[死, 真的, 捨, 我愛的, 人, 難過, 好, 害怕, 看到, 失望, 眼神]</td>\n",
       "    </tr>\n",
       "    <tr>\n",
       "      <th>2</th>\n",
       "      <td>此時此刻 我只想有人聽聽我說的話 我還不會死</td>\n",
       "      <td>正向</td>\n",
       "      <td>[此時, 此刻, 只, 想, 有人, 聽, 聽, 說, 話, 還不會, 死]</td>\n",
       "    </tr>\n",
       "    <tr>\n",
       "      <th>3</th>\n",
       "      <td>和她講惡夢的那天，我在她懷裡猶豫了很久才開口，以前一直認為我可以很理智的講出這段故事，但真正...</td>\n",
       "      <td>正向</td>\n",
       "      <td>[講惡, 夢, 那天, 懷裡, 猶豫, 久, 開口, 以前, 一直, 認為, 理智, 講出,...</td>\n",
       "    </tr>\n",
       "    <tr>\n",
       "      <th>4</th>\n",
       "      <td>為什麼他們可以撐得住 我卻不行呢 所以你還可以撐下去的 只要再撐一下下就可以了 再一下下</td>\n",
       "      <td>正向</td>\n",
       "      <td>[撐, 住, 卻, 不行, 你還, 撐, 下去, 再撐, 一下下, 再, 一下下]</td>\n",
       "    </tr>\n",
       "    <tr>\n",
       "      <th>5</th>\n",
       "      <td>謝謝所有溫暖的留言，覺得心裡暖暖的。還好，原來真的不是我想的太嚴重(哭</td>\n",
       "      <td>正向</td>\n",
       "      <td>[謝謝, 所有, 溫暖, 留言, 覺得, 心裡, 暖暖的, 還好, 原來, 真的, 想, 太...</td>\n",
       "    </tr>\n",
       "    <tr>\n",
       "      <th>6</th>\n",
       "      <td>現在的我  過的很快樂 很多事情我也不在繞進死胡同 曾經我也是被憂鬱情緒綁架的人 但現在  ...</td>\n",
       "      <td>正向</td>\n",
       "      <td>[現在, 我過, 很快, 樂, 事情, 繞, 進, 死胡同, 曾經, 憂鬱, 情緒, 綁, ...</td>\n",
       "    </tr>\n",
       "    <tr>\n",
       "      <th>7</th>\n",
       "      <td>有時也是會很享受一個人的時候</td>\n",
       "      <td>正向</td>\n",
       "      <td>[有時, 享受, 一個, 人]</td>\n",
       "    </tr>\n",
       "    <tr>\n",
       "      <th>8</th>\n",
       "      <td>如果有天我不幸的去世了，請記得我會永遠用我的方式陪在妳身邊，我會永遠支持妳。</td>\n",
       "      <td>正向</td>\n",
       "      <td>[有天, 不幸, 去世, 請, 記得, 我會, 永遠用, 方式, 陪, 妳, 身邊, 我會永...</td>\n",
       "    </tr>\n",
       "    <tr>\n",
       "      <th>9</th>\n",
       "      <td>搬房間讓我覺得很興奮,心情比較好.有事做讓我不會想太多,也比較舒服,也心情比較好.換個房間,...</td>\n",
       "      <td>正向</td>\n",
       "      <td>[搬, 房間, 覺得, 興奮, 心情, 比較, 好, 有事, 做, 想, 太, 舒服, 心情...</td>\n",
       "    </tr>\n",
       "  </tbody>\n",
       "</table>\n",
       "</div>"
      ],
      "text/plain": [
       "                                                Text Label  \\\n",
       "0                  我總該想個辦法，如果哪天他不在了我要如何讓我的負能量有個發洩的出口    正向   \n",
       "1                 我以為我會死 但我真的捨不得我愛的人難過 我好害怕看到他們失望的眼神    正向   \n",
       "2                            此時此刻 我只想有人聽聽我說的話 我還不會死     正向   \n",
       "3  和她講惡夢的那天，我在她懷裡猶豫了很久才開口，以前一直認為我可以很理智的講出這段故事，但真正...    正向   \n",
       "4       為什麼他們可以撐得住 我卻不行呢 所以你還可以撐下去的 只要再撐一下下就可以了 再一下下    正向   \n",
       "5                謝謝所有溫暖的留言，覺得心裡暖暖的。還好，原來真的不是我想的太嚴重(哭    正向   \n",
       "6  現在的我  過的很快樂 很多事情我也不在繞進死胡同 曾經我也是被憂鬱情緒綁架的人 但現在  ...    正向   \n",
       "7                                     有時也是會很享受一個人的時候    正向   \n",
       "8             如果有天我不幸的去世了，請記得我會永遠用我的方式陪在妳身邊，我會永遠支持妳。    正向   \n",
       "9  搬房間讓我覺得很興奮,心情比較好.有事做讓我不會想太多,也比較舒服,也心情比較好.換個房間,...    正向   \n",
       "\n",
       "                                            cut_text  \n",
       "0                  [總該, 想個, 辦法, 我的負, 能量, 有個, 發洩, 出口]  \n",
       "1          [死, 真的, 捨, 我愛的, 人, 難過, 好, 害怕, 看到, 失望, 眼神]  \n",
       "2             [此時, 此刻, 只, 想, 有人, 聽, 聽, 說, 話, 還不會, 死]  \n",
       "3  [講惡, 夢, 那天, 懷裡, 猶豫, 久, 開口, 以前, 一直, 認為, 理智, 講出,...  \n",
       "4          [撐, 住, 卻, 不行, 你還, 撐, 下去, 再撐, 一下下, 再, 一下下]  \n",
       "5  [謝謝, 所有, 溫暖, 留言, 覺得, 心裡, 暖暖的, 還好, 原來, 真的, 想, 太...  \n",
       "6  [現在, 我過, 很快, 樂, 事情, 繞, 進, 死胡同, 曾經, 憂鬱, 情緒, 綁, ...  \n",
       "7                                    [有時, 享受, 一個, 人]  \n",
       "8  [有天, 不幸, 去世, 請, 記得, 我會, 永遠用, 方式, 陪, 妳, 身邊, 我會永...  \n",
       "9  [搬, 房間, 覺得, 興奮, 心情, 比較, 好, 有事, 做, 想, 太, 舒服, 心情...  "
      ]
     },
     "execution_count": 12,
     "metadata": {},
     "output_type": "execute_result"
    }
   ],
   "source": [
    "test = df_select.drop(['clean_text', 'cut_text_string'], axis = 1)\n",
    "test.head(10)"
   ]
  },
  {
   "cell_type": "code",
   "execution_count": 13,
   "id": "ae52c068",
   "metadata": {
    "scrolled": false
   },
   "outputs": [
    {
     "data": {
      "text/html": [
       "<div>\n",
       "<style scoped>\n",
       "    .dataframe tbody tr th:only-of-type {\n",
       "        vertical-align: middle;\n",
       "    }\n",
       "\n",
       "    .dataframe tbody tr th {\n",
       "        vertical-align: top;\n",
       "    }\n",
       "\n",
       "    .dataframe thead th {\n",
       "        text-align: right;\n",
       "    }\n",
       "</style>\n",
       "<table border=\"1\" class=\"dataframe\">\n",
       "  <thead>\n",
       "    <tr style=\"text-align: right;\">\n",
       "      <th></th>\n",
       "      <th>Text</th>\n",
       "      <th>Label</th>\n",
       "      <th>clean_text</th>\n",
       "      <th>cut_text</th>\n",
       "      <th>cut_text_string</th>\n",
       "    </tr>\n",
       "  </thead>\n",
       "  <tbody>\n",
       "    <tr>\n",
       "      <th>0</th>\n",
       "      <td>拜託痊癒 我跟上帝祈禱最後一次</td>\n",
       "      <td>正向</td>\n",
       "      <td>拜託痊癒我跟上帝祈禱最後一次</td>\n",
       "      <td>[拜, 託, 痊, 癒, 上帝, 祈禱, 最, 後, 一次]</td>\n",
       "      <td>拜 託 痊 癒 上帝 祈禱 最 後 一次</td>\n",
       "    </tr>\n",
       "    <tr>\n",
       "      <th>1</th>\n",
       "      <td>我先看了心理諮商，每次去就好像是在聊天一樣，我沒有覺得我變好了，但至少我不那麼糟了</td>\n",
       "      <td>正向</td>\n",
       "      <td>我先看了心理諮商每次去就好像是在聊天一樣我沒有覺得我變好了但至少我不那麼糟了</td>\n",
       "      <td>[先, 心理, 諮, 商, 每次, 好像, 聊天, 覺得, 變好, 至少, 糟]</td>\n",
       "      <td>先 心理 諮 商 每次 好像 聊天 覺得 變好 至少 糟</td>\n",
       "    </tr>\n",
       "    <tr>\n",
       "      <th>2</th>\n",
       "      <td>第一次執行殺了自己這個計畫</td>\n",
       "      <td>非正向</td>\n",
       "      <td>第一次執行殺了自己這個計畫</td>\n",
       "      <td>[第一次, 執行, 殺, 計畫]</td>\n",
       "      <td>第一次 執行 殺 計畫</td>\n",
       "    </tr>\n",
       "    <tr>\n",
       "      <th>3</th>\n",
       "      <td>我從來沒有冒犯過妳，為什麼要這樣攻擊我？ 明明你一點也不了解我、卻愛跟我裝熟，現在還背著我捅...</td>\n",
       "      <td>非正向</td>\n",
       "      <td>我從來沒有冒犯過妳為什麼要這樣攻擊我明明你一點也不了解我卻愛跟我裝熟現在還背著我捅了一刀噁心...</td>\n",
       "      <td>[冒犯, 妳, 攻擊, 明明, 一點, 了解, 卻, 愛跟, 我裝, 熟現, 還背, 捅, ...</td>\n",
       "      <td>冒犯 妳 攻擊 明明 一點 了解 卻 愛跟 我裝 熟現 還背 捅 一刀 噁 心 真的 太 噁 心</td>\n",
       "    </tr>\n",
       "    <tr>\n",
       "      <th>4</th>\n",
       "      <td>當然，我沒準時看醫生，沒好好吃藥 因為我已經自我放棄了⋯。</td>\n",
       "      <td>非正向</td>\n",
       "      <td>當然我沒準時看醫生沒好好吃藥因為我已經自我放棄了</td>\n",
       "      <td>[沒準, 時, 醫生, 沒好, 好吃, 藥因, 已經, 自我, 放棄]</td>\n",
       "      <td>沒準 時 醫生 沒好 好吃 藥因 已經 自我 放棄</td>\n",
       "    </tr>\n",
       "    <tr>\n",
       "      <th>...</th>\n",
       "      <td>...</td>\n",
       "      <td>...</td>\n",
       "      <td>...</td>\n",
       "      <td>...</td>\n",
       "      <td>...</td>\n",
       "    </tr>\n",
       "    <tr>\n",
       "      <th>395</th>\n",
       "      <td>爸 我現在還沒有辦法說愛你 但我很珍惜你在家裡照顧我還有在外打拼的每一天</td>\n",
       "      <td>正向</td>\n",
       "      <td>爸我現在還沒有辦法說愛你但我很珍惜你在家裡照顧我還有在外打拼的每一天</td>\n",
       "      <td>[爸, 我現, 還沒有, 辦法, 說, 愛, 珍惜, 在家, 裡照, 顧, 在外, 打拼, 一天]</td>\n",
       "      <td>爸 我現 還沒有 辦法 說 愛 珍惜 在家 裡照 顧 在外 打拼 一天</td>\n",
       "    </tr>\n",
       "    <tr>\n",
       "      <th>396</th>\n",
       "      <td>有幾天我的狀況有好一些，我開始會餓了，也會笑了 也不怕人群和密閉空間了</td>\n",
       "      <td>正向</td>\n",
       "      <td>有幾天我的狀況有好一些我開始會餓了也會笑了也不怕人群和密閉空間了</td>\n",
       "      <td>[幾天, 狀況, 好, 一些, 餓, 笑, 人群, 密閉, 空間]</td>\n",
       "      <td>幾天 狀況 好 一些 餓 笑 人群 密閉 空間</td>\n",
       "    </tr>\n",
       "    <tr>\n",
       "      <th>397</th>\n",
       "      <td>然後他就會莫名其妙的罵我說 ：「安ㄋㄨㄚ！緊嘛是安抓？民西累耖三小？」 （怎樣？現在是怎樣？...</td>\n",
       "      <td>非正向</td>\n",
       "      <td>然後他就會莫名其妙的罵我說安緊嘛是安抓民西累耖三小怎樣現在是怎樣臉是在臭三小邊罵我邊大力的捏...</td>\n",
       "      <td>[然後他, 莫名其妙, 罵, 說安緊, 安, 抓民西累, 耖, 小, 現在, 臉, 三小邊,...</td>\n",
       "      <td>然後他 莫名其妙 罵 說安緊 安 抓民西累 耖 小 現在 臉 三小邊 罵 我邊 大力 捏 臉 罵</td>\n",
       "    </tr>\n",
       "    <tr>\n",
       "      <th>398</th>\n",
       "      <td>失眠到了某個晚上，我突然開始拔頭髮</td>\n",
       "      <td>非正向</td>\n",
       "      <td>失眠到了某個晚上我突然開始拔頭髮</td>\n",
       "      <td>[失眠, 晚上, 突然, 拔頭, 髮]</td>\n",
       "      <td>失眠 晚上 突然 拔頭 髮</td>\n",
       "    </tr>\n",
       "    <tr>\n",
       "      <th>399</th>\n",
       "      <td>在賴上妳總是很溫柔地叮囑我們要多穿 要好好吃飯好好唸書好好照顧自己 妳總是操心地唸著 要我們...</td>\n",
       "      <td>正向</td>\n",
       "      <td>在賴上妳總是很溫柔地叮囑我們要多穿要好好吃飯好好唸書好好照顧自己妳總是操心地唸著要我們有任何...</td>\n",
       "      <td>[賴上, 妳, 總, 溫柔, 地叮囑, 穿, 好, 好吃, 飯, 好好, 唸, 書, 好好,...</td>\n",
       "      <td>賴上 妳 總 溫柔 地叮囑 穿 好 好吃 飯 好好 唸 書 好好 照顧 妳 總 操心 唸 著...</td>\n",
       "    </tr>\n",
       "  </tbody>\n",
       "</table>\n",
       "<p>400 rows × 5 columns</p>\n",
       "</div>"
      ],
      "text/plain": [
       "                                                  Text Label  \\\n",
       "0                                      拜託痊癒 我跟上帝祈禱最後一次    正向   \n",
       "1            我先看了心理諮商，每次去就好像是在聊天一樣，我沒有覺得我變好了，但至少我不那麼糟了    正向   \n",
       "2                                        第一次執行殺了自己這個計畫   非正向   \n",
       "3    我從來沒有冒犯過妳，為什麼要這樣攻擊我？ 明明你一點也不了解我、卻愛跟我裝熟，現在還背著我捅...   非正向   \n",
       "4                        當然，我沒準時看醫生，沒好好吃藥 因為我已經自我放棄了⋯。   非正向   \n",
       "..                                                 ...   ...   \n",
       "395               爸 我現在還沒有辦法說愛你 但我很珍惜你在家裡照顧我還有在外打拼的每一天    正向   \n",
       "396                有幾天我的狀況有好一些，我開始會餓了，也會笑了 也不怕人群和密閉空間了    正向   \n",
       "397  然後他就會莫名其妙的罵我說 ：「安ㄋㄨㄚ！緊嘛是安抓？民西累耖三小？」 （怎樣？現在是怎樣？...   非正向   \n",
       "398                                  失眠到了某個晚上，我突然開始拔頭髮   非正向   \n",
       "399  在賴上妳總是很溫柔地叮囑我們要多穿 要好好吃飯好好唸書好好照顧自己 妳總是操心地唸著 要我們...    正向   \n",
       "\n",
       "                                            clean_text  \\\n",
       "0                                       拜託痊癒我跟上帝祈禱最後一次   \n",
       "1               我先看了心理諮商每次去就好像是在聊天一樣我沒有覺得我變好了但至少我不那麼糟了   \n",
       "2                                        第一次執行殺了自己這個計畫   \n",
       "3    我從來沒有冒犯過妳為什麼要這樣攻擊我明明你一點也不了解我卻愛跟我裝熟現在還背著我捅了一刀噁心...   \n",
       "4                             當然我沒準時看醫生沒好好吃藥因為我已經自我放棄了   \n",
       "..                                                 ...   \n",
       "395                 爸我現在還沒有辦法說愛你但我很珍惜你在家裡照顧我還有在外打拼的每一天   \n",
       "396                   有幾天我的狀況有好一些我開始會餓了也會笑了也不怕人群和密閉空間了   \n",
       "397  然後他就會莫名其妙的罵我說安緊嘛是安抓民西累耖三小怎樣現在是怎樣臉是在臭三小邊罵我邊大力的捏...   \n",
       "398                                   失眠到了某個晚上我突然開始拔頭髮   \n",
       "399  在賴上妳總是很溫柔地叮囑我們要多穿要好好吃飯好好唸書好好照顧自己妳總是操心地唸著要我們有任何...   \n",
       "\n",
       "                                              cut_text  \\\n",
       "0                       [拜, 託, 痊, 癒, 上帝, 祈禱, 最, 後, 一次]   \n",
       "1             [先, 心理, 諮, 商, 每次, 好像, 聊天, 覺得, 變好, 至少, 糟]   \n",
       "2                                     [第一次, 執行, 殺, 計畫]   \n",
       "3    [冒犯, 妳, 攻擊, 明明, 一點, 了解, 卻, 愛跟, 我裝, 熟現, 還背, 捅, ...   \n",
       "4                  [沒準, 時, 醫生, 沒好, 好吃, 藥因, 已經, 自我, 放棄]   \n",
       "..                                                 ...   \n",
       "395  [爸, 我現, 還沒有, 辦法, 說, 愛, 珍惜, 在家, 裡照, 顧, 在外, 打拼, 一天]   \n",
       "396                  [幾天, 狀況, 好, 一些, 餓, 笑, 人群, 密閉, 空間]   \n",
       "397  [然後他, 莫名其妙, 罵, 說安緊, 安, 抓民西累, 耖, 小, 現在, 臉, 三小邊,...   \n",
       "398                                [失眠, 晚上, 突然, 拔頭, 髮]   \n",
       "399  [賴上, 妳, 總, 溫柔, 地叮囑, 穿, 好, 好吃, 飯, 好好, 唸, 書, 好好,...   \n",
       "\n",
       "                                       cut_text_string  \n",
       "0                                 拜 託 痊 癒 上帝 祈禱 最 後 一次  \n",
       "1                         先 心理 諮 商 每次 好像 聊天 覺得 變好 至少 糟  \n",
       "2                                          第一次 執行 殺 計畫  \n",
       "3     冒犯 妳 攻擊 明明 一點 了解 卻 愛跟 我裝 熟現 還背 捅 一刀 噁 心 真的 太 噁 心  \n",
       "4                            沒準 時 醫生 沒好 好吃 藥因 已經 自我 放棄  \n",
       "..                                                 ...  \n",
       "395                爸 我現 還沒有 辦法 說 愛 珍惜 在家 裡照 顧 在外 打拼 一天  \n",
       "396                            幾天 狀況 好 一些 餓 笑 人群 密閉 空間  \n",
       "397   然後他 莫名其妙 罵 說安緊 安 抓民西累 耖 小 現在 臉 三小邊 罵 我邊 大力 捏 臉 罵  \n",
       "398                                      失眠 晚上 突然 拔頭 髮  \n",
       "399  賴上 妳 總 溫柔 地叮囑 穿 好 好吃 飯 好好 唸 書 好好 照顧 妳 總 操心 唸 著...  \n",
       "\n",
       "[400 rows x 5 columns]"
      ]
     },
     "execution_count": 13,
     "metadata": {},
     "output_type": "execute_result"
    }
   ],
   "source": [
    "df_select = df_select.sample(frac = 1).reset_index(drop=True)\n",
    "df_select"
   ]
  },
  {
   "cell_type": "markdown",
   "id": "1593bdb2",
   "metadata": {},
   "source": [
    "# Build Model"
   ]
  },
  {
   "cell_type": "code",
   "execution_count": 14,
   "id": "e80a2220",
   "metadata": {},
   "outputs": [],
   "source": [
    "# 計算詞頻\n",
    "count_vect = CountVectorizer(stop_words='english', decode_error='ignore')\n",
    "X_train_counts = count_vect.fit_transform(df_select.cut_text_string)\n",
    "# 計算TF-IDF\n",
    "tf_transformer = TfidfVectorizer(stop_words='english', decode_error='ignore')\n",
    "X_train_counts_tf = tf_transformer.fit_transform(df_select.cut_text_string)\n",
    "labels = df_select.Label"
   ]
  },
  {
   "cell_type": "code",
   "execution_count": 15,
   "id": "8ebb8f53",
   "metadata": {
    "scrolled": true
   },
   "outputs": [
    {
     "name": "stderr",
     "output_type": "stream",
     "text": [
      "/home/vivian/miniconda3/envs/tensorflow/lib/python3.7/site-packages/sklearn/utils/deprecation.py:87: FutureWarning: Function get_feature_names is deprecated; get_feature_names is deprecated in 1.0 and will be removed in 1.2. Please use get_feature_names_out instead.\n",
      "  warnings.warn(msg, category=FutureWarning)\n"
     ]
    }
   ],
   "source": [
    "terms = tf_transformer.get_feature_names()\n",
    "\n",
    "# sum tfidf frequency of each term through documents\n",
    "sums = X_train_counts_tf.sum(axis=0)\n",
    "\n",
    "# connecting term to its sums frequency\n",
    "data = []\n",
    "for col, term in enumerate(terms):\n",
    "    data.append( (term, sums[0,col] ))\n",
    "\n",
    "ranking = pd.DataFrame(data, columns=['term','rank'])"
   ]
  },
  {
   "cell_type": "code",
   "execution_count": 16,
   "id": "a77e214d",
   "metadata": {},
   "outputs": [
    {
     "data": {
      "text/html": [
       "<div>\n",
       "<style scoped>\n",
       "    .dataframe tbody tr th:only-of-type {\n",
       "        vertical-align: middle;\n",
       "    }\n",
       "\n",
       "    .dataframe tbody tr th {\n",
       "        vertical-align: top;\n",
       "    }\n",
       "\n",
       "    .dataframe thead th {\n",
       "        text-align: right;\n",
       "    }\n",
       "</style>\n",
       "<table border=\"1\" class=\"dataframe\">\n",
       "  <thead>\n",
       "    <tr style=\"text-align: right;\">\n",
       "      <th></th>\n",
       "      <th>term</th>\n",
       "      <th>rank</th>\n",
       "    </tr>\n",
       "  </thead>\n",
       "  <tbody>\n",
       "    <tr>\n",
       "      <th>171</th>\n",
       "      <td>但太快</td>\n",
       "      <td>0.173423</td>\n",
       "    </tr>\n",
       "    <tr>\n",
       "      <th>1579</th>\n",
       "      <td>過大</td>\n",
       "      <td>0.173423</td>\n",
       "    </tr>\n",
       "    <tr>\n",
       "      <th>791</th>\n",
       "      <td>打擊會</td>\n",
       "      <td>0.173423</td>\n",
       "    </tr>\n",
       "    <tr>\n",
       "      <th>855</th>\n",
       "      <td>收進</td>\n",
       "      <td>0.173095</td>\n",
       "    </tr>\n",
       "    <tr>\n",
       "      <th>1507</th>\n",
       "      <td>超有</td>\n",
       "      <td>0.173095</td>\n",
       "    </tr>\n",
       "    <tr>\n",
       "      <th>1604</th>\n",
       "      <td>還有頭</td>\n",
       "      <td>0.173095</td>\n",
       "    </tr>\n",
       "    <tr>\n",
       "      <th>627</th>\n",
       "      <td>很長</td>\n",
       "      <td>0.173095</td>\n",
       "    </tr>\n",
       "    <tr>\n",
       "      <th>779</th>\n",
       "      <td>手指</td>\n",
       "      <td>0.173095</td>\n",
       "    </tr>\n",
       "    <tr>\n",
       "      <th>1448</th>\n",
       "      <td>角落</td>\n",
       "      <td>0.173095</td>\n",
       "    </tr>\n",
       "    <tr>\n",
       "      <th>352</th>\n",
       "      <td>吃醋</td>\n",
       "      <td>0.173095</td>\n",
       "    </tr>\n",
       "    <tr>\n",
       "      <th>474</th>\n",
       "      <td>太陽穴</td>\n",
       "      <td>0.173095</td>\n",
       "    </tr>\n",
       "    <tr>\n",
       "      <th>1426</th>\n",
       "      <td>衣服</td>\n",
       "      <td>0.173095</td>\n",
       "    </tr>\n",
       "    <tr>\n",
       "      <th>1445</th>\n",
       "      <td>覺得終</td>\n",
       "      <td>0.149800</td>\n",
       "    </tr>\n",
       "    <tr>\n",
       "      <th>487</th>\n",
       "      <td>女然</td>\n",
       "      <td>0.149800</td>\n",
       "    </tr>\n",
       "    <tr>\n",
       "      <th>934</th>\n",
       "      <td>有然</td>\n",
       "      <td>0.149800</td>\n",
       "    </tr>\n",
       "    <tr>\n",
       "      <th>1654</th>\n",
       "      <td>阿割</td>\n",
       "      <td>0.149800</td>\n",
       "    </tr>\n",
       "    <tr>\n",
       "      <th>585</th>\n",
       "      <td>幾條</td>\n",
       "      <td>0.149800</td>\n",
       "    </tr>\n",
       "    <tr>\n",
       "      <th>526</th>\n",
       "      <td>宣洩</td>\n",
       "      <td>0.149800</td>\n",
       "    </tr>\n",
       "    <tr>\n",
       "      <th>1636</th>\n",
       "      <td>重男輕</td>\n",
       "      <td>0.149800</td>\n",
       "    </tr>\n",
       "    <tr>\n",
       "      <th>1440</th>\n",
       "      <td>覆割</td>\n",
       "      <td>0.149800</td>\n",
       "    </tr>\n",
       "  </tbody>\n",
       "</table>\n",
       "</div>"
      ],
      "text/plain": [
       "     term      rank\n",
       "171   但太快  0.173423\n",
       "1579   過大  0.173423\n",
       "791   打擊會  0.173423\n",
       "855    收進  0.173095\n",
       "1507   超有  0.173095\n",
       "1604  還有頭  0.173095\n",
       "627    很長  0.173095\n",
       "779    手指  0.173095\n",
       "1448   角落  0.173095\n",
       "352    吃醋  0.173095\n",
       "474   太陽穴  0.173095\n",
       "1426   衣服  0.173095\n",
       "1445  覺得終  0.149800\n",
       "487    女然  0.149800\n",
       "934    有然  0.149800\n",
       "1654   阿割  0.149800\n",
       "585    幾條  0.149800\n",
       "526    宣洩  0.149800\n",
       "1636  重男輕  0.149800\n",
       "1440   覆割  0.149800"
      ]
     },
     "execution_count": 16,
     "metadata": {},
     "output_type": "execute_result"
    }
   ],
   "source": [
    "test = ranking.sort_values('rank', ascending = False)\n",
    "test.tail(20)"
   ]
  },
  {
   "cell_type": "code",
   "execution_count": 17,
   "id": "1ec77ec0",
   "metadata": {},
   "outputs": [],
   "source": [
    "from sklearn.model_selection import train_test_split\n",
    "x_train, x_test, y_train, y_test = train_test_split(X_train_counts_tf, labels, test_size = 0.2, random_state = 0)"
   ]
  },
  {
   "cell_type": "markdown",
   "id": "f7bb4add",
   "metadata": {},
   "source": [
    "## Discriminative model"
   ]
  },
  {
   "cell_type": "code",
   "execution_count": 18,
   "id": "31383abe",
   "metadata": {},
   "outputs": [],
   "source": [
    "num_folds = 10\n",
    "scoring = 'accuracy'"
   ]
  },
  {
   "cell_type": "code",
   "execution_count": 19,
   "id": "a14957de",
   "metadata": {
    "scrolled": true
   },
   "outputs": [
    {
     "data": {
      "text/plain": [
       "\"models = {}\\nmodels['LR'] = LogisticRegression() #逻辑回归\\nmodels['SVM'] = SVC() #支持向量机\\nmodels['CART'] = DecisionTreeClassifier() #分类与回归树\\nmodels['MNB'] = MultinomialNB() #朴素贝叶斯分类器\\nmodels['KNN'] = KNeighborsClassifier() #K近邻算法\\nresults = []\\n\\nfor key in models:\\n    kfold = KFold(n_splits = num_folds)\\n    cv_results = cross_val_score(models[key], x_train, y_train, cv = kfold, scoring = scoring)\\n    results.append(cv_results)\\n    print('%s:%f(%f)' %(key,cv_results.mean(),cv_results.std()))\""
      ]
     },
     "execution_count": 19,
     "metadata": {},
     "output_type": "execute_result"
    }
   ],
   "source": [
    "'''models = {}\n",
    "models['LR'] = LogisticRegression() #逻辑回归\n",
    "models['SVM'] = SVC() #支持向量机\n",
    "models['CART'] = DecisionTreeClassifier() #分类与回归树\n",
    "models['MNB'] = MultinomialNB() #朴素贝叶斯分类器\n",
    "models['KNN'] = KNeighborsClassifier() #K近邻算法\n",
    "results = []\n",
    "\n",
    "for key in models:\n",
    "    kfold = KFold(n_splits = num_folds)\n",
    "    cv_results = cross_val_score(models[key], x_train, y_train, cv = kfold, scoring = scoring)\n",
    "    results.append(cv_results)\n",
    "    print('%s:%f(%f)' %(key,cv_results.mean(),cv_results.std()))'''"
   ]
  },
  {
   "cell_type": "code",
   "execution_count": 20,
   "id": "f43d1618",
   "metadata": {
    "scrolled": false
   },
   "outputs": [
    {
     "data": {
      "text/plain": [
       "\"# Logistic Regression\\nparam_grid = {}\\nparam_grid['C'] = list(range(0, 20, 2))\\nmodel = LogisticRegression()\\nkfold = KFold(n_splits = num_folds)\\ngrid = GridSearchCV(estimator = model, param_grid = param_grid, scoring = scoring, cv = kfold)\\ngrid_result = grid.fit(X = x_train, y = y_train)\\nprint('best acc: %s with %s' % (grid_result.best_score_, grid_result.best_params_))\""
      ]
     },
     "execution_count": 20,
     "metadata": {},
     "output_type": "execute_result"
    }
   ],
   "source": [
    "'''# Logistic Regression\n",
    "param_grid = {}\n",
    "param_grid['C'] = list(range(0, 20, 2))\n",
    "model = LogisticRegression()\n",
    "kfold = KFold(n_splits = num_folds)\n",
    "grid = GridSearchCV(estimator = model, param_grid = param_grid, scoring = scoring, cv = kfold)\n",
    "grid_result = grid.fit(X = x_train, y = y_train)\n",
    "print('best acc: %s with %s' % (grid_result.best_score_, grid_result.best_params_))'''"
   ]
  },
  {
   "cell_type": "code",
   "execution_count": 21,
   "id": "ebf22aeb",
   "metadata": {},
   "outputs": [
    {
     "data": {
      "text/plain": [
       "\"# SVM\\nparam_grid = {}\\nparam_grid['C'] = list(range(0, 20, 2))\\nmodel = SVC()\\nkfold = KFold(n_splits = num_folds)\\ngrid = GridSearchCV(estimator = model, param_grid = param_grid, scoring = scoring, cv = kfold)\\ngrid_result = grid.fit(X = x_train, y = y_train)\\nprint('best acc: %s with %s' % (grid_result.best_score_, grid_result.best_params_))\""
      ]
     },
     "execution_count": 21,
     "metadata": {},
     "output_type": "execute_result"
    }
   ],
   "source": [
    "'''# SVM\n",
    "param_grid = {}\n",
    "param_grid['C'] = list(range(0, 20, 2))\n",
    "model = SVC()\n",
    "kfold = KFold(n_splits = num_folds)\n",
    "grid = GridSearchCV(estimator = model, param_grid = param_grid, scoring = scoring, cv = kfold)\n",
    "grid_result = grid.fit(X = x_train, y = y_train)\n",
    "print('best acc: %s with %s' % (grid_result.best_score_, grid_result.best_params_))'''"
   ]
  },
  {
   "cell_type": "code",
   "execution_count": 22,
   "id": "d01f446f",
   "metadata": {},
   "outputs": [
    {
     "data": {
      "text/plain": [
       "\"# Naive Bayes\\nparam_grid = {}\\nparam_grid['alpha'] = [0.001, 0.01, 0.1, 1.0, 1.5, 2.0]\\nmodel = MultinomialNB()\\nkfold = KFold(n_splits = num_folds)\\ngrid = GridSearchCV(estimator = model, param_grid = param_grid, scoring = scoring, cv = kfold)\\ngrid_result = grid.fit(X = x_train, y = y_train)\\nprint('best acc : %s with %s' % (grid_result.best_score_, grid_result.best_params_))\""
      ]
     },
     "execution_count": 22,
     "metadata": {},
     "output_type": "execute_result"
    }
   ],
   "source": [
    "'''# Naive Bayes\n",
    "param_grid = {}\n",
    "param_grid['alpha'] = [0.001, 0.01, 0.1, 1.0, 1.5, 2.0]\n",
    "model = MultinomialNB()\n",
    "kfold = KFold(n_splits = num_folds)\n",
    "grid = GridSearchCV(estimator = model, param_grid = param_grid, scoring = scoring, cv = kfold)\n",
    "grid_result = grid.fit(X = x_train, y = y_train)\n",
    "print('best acc : %s with %s' % (grid_result.best_score_, grid_result.best_params_))'''"
   ]
  },
  {
   "cell_type": "markdown",
   "id": "fde30a4d",
   "metadata": {},
   "source": [
    "## Ensemble Learning"
   ]
  },
  {
   "cell_type": "code",
   "execution_count": 23,
   "id": "07162d49",
   "metadata": {},
   "outputs": [
    {
     "data": {
      "text/plain": [
       "\"ensembles = {}\\nensembles['RF'] = RandomForestClassifier()   # random forest\\nensembles['AB'] = AdaBoostClassifier()       # Adaboost\\nresults = []\\nfor key in ensembles:\\n    kfold = KFold(n_splits = num_folds)\\n    cv_results = cross_val_score(ensembles[key], x_train, y_train, cv = kfold, scoring = scoring)\\n    results.append(cv_results)\\n    print('%s : %f (%f)' % (key, cv_results.mean(), cv_results.std()))\""
      ]
     },
     "execution_count": 23,
     "metadata": {},
     "output_type": "execute_result"
    }
   ],
   "source": [
    "'''ensembles = {}\n",
    "ensembles['RF'] = RandomForestClassifier()   # random forest\n",
    "ensembles['AB'] = AdaBoostClassifier()       # Adaboost\n",
    "results = []\n",
    "for key in ensembles:\n",
    "    kfold = KFold(n_splits = num_folds)\n",
    "    cv_results = cross_val_score(ensembles[key], x_train, y_train, cv = kfold, scoring = scoring)\n",
    "    results.append(cv_results)\n",
    "    print('%s : %f (%f)' % (key, cv_results.mean(), cv_results.std()))'''"
   ]
  },
  {
   "cell_type": "code",
   "execution_count": 24,
   "id": "b288bd2e",
   "metadata": {},
   "outputs": [
    {
     "data": {
      "text/plain": [
       "\"# Random Forest\\nparam_grid = {}\\nparam_grid['n_estimators'] = list(range(20, 200, 20))\\nparam_grid['max_depth'] = list(range(10, 30, 5))\\nmodel = RandomForestClassifier()\\nkfold = KFold(n_splits = num_folds)\\ngrid = GridSearchCV(estimator = model, param_grid = param_grid, scoring = scoring, cv = kfold)\\ngrid_result = grid.fit(X = x_train, y = y_train)\\nprint('best acc : %s with %s' % (grid_result.best_score_, grid_result.best_params_))\""
      ]
     },
     "execution_count": 24,
     "metadata": {},
     "output_type": "execute_result"
    }
   ],
   "source": [
    "'''# Random Forest\n",
    "param_grid = {}\n",
    "param_grid['n_estimators'] = list(range(20, 200, 20))\n",
    "param_grid['max_depth'] = list(range(10, 30, 5))\n",
    "model = RandomForestClassifier()\n",
    "kfold = KFold(n_splits = num_folds)\n",
    "grid = GridSearchCV(estimator = model, param_grid = param_grid, scoring = scoring, cv = kfold)\n",
    "grid_result = grid.fit(X = x_train, y = y_train)\n",
    "print('best acc : %s with %s' % (grid_result.best_score_, grid_result.best_params_))'''"
   ]
  },
  {
   "cell_type": "code",
   "execution_count": 25,
   "id": "79bf0c2e",
   "metadata": {},
   "outputs": [
    {
     "data": {
      "text/plain": [
       "\"# AdaBoost\\nparam_grid = {}\\nparam_grid['n_estimators'] = list(range(10, 150, 20))\\nparam_grid['learning_rate'] = [0.001, 0.01, 0.1, 0.5, 1]\\nmodel = AdaBoostClassifier()\\nkfold = KFold(n_splits = num_folds)\\ngrid = GridSearchCV(estimator = model, param_grid = param_grid, scoring = scoring, cv = kfold)\\ngrid_result = grid.fit(X = x_train, y = y_train)\\nprint('best acc : %s with %s' % (grid_result.best_score_, grid_result.best_params_))\""
      ]
     },
     "execution_count": 25,
     "metadata": {},
     "output_type": "execute_result"
    }
   ],
   "source": [
    "'''# AdaBoost\n",
    "param_grid = {}\n",
    "param_grid['n_estimators'] = list(range(10, 150, 20))\n",
    "param_grid['learning_rate'] = [0.001, 0.01, 0.1, 0.5, 1]\n",
    "model = AdaBoostClassifier()\n",
    "kfold = KFold(n_splits = num_folds)\n",
    "grid = GridSearchCV(estimator = model, param_grid = param_grid, scoring = scoring, cv = kfold)\n",
    "grid_result = grid.fit(X = x_train, y = y_train)\n",
    "print('best acc : %s with %s' % (grid_result.best_score_, grid_result.best_params_))'''"
   ]
  },
  {
   "cell_type": "markdown",
   "id": "6f8f7c5d",
   "metadata": {},
   "source": [
    "# Test the Final Model"
   ]
  },
  {
   "cell_type": "code",
   "execution_count": 26,
   "id": "6e34e232",
   "metadata": {
    "scrolled": false
   },
   "outputs": [
    {
     "name": "stdout",
     "output_type": "stream",
     "text": [
      "0.75\n",
      "              precision    recall  f1-score   support\n",
      "\n",
      "          正向       0.00      0.00      0.00        20\n",
      "         非正向       0.75      1.00      0.86        60\n",
      "\n",
      "    accuracy                           0.75        80\n",
      "   macro avg       0.38      0.50      0.43        80\n",
      "weighted avg       0.56      0.75      0.64        80\n",
      "\n"
     ]
    },
    {
     "name": "stderr",
     "output_type": "stream",
     "text": [
      "/home/vivian/miniconda3/envs/tensorflow/lib/python3.7/site-packages/sklearn/metrics/_classification.py:1308: UndefinedMetricWarning: Precision and F-score are ill-defined and being set to 0.0 in labels with no predicted samples. Use `zero_division` parameter to control this behavior.\n",
      "  _warn_prf(average, modifier, msg_start, len(result))\n",
      "/home/vivian/miniconda3/envs/tensorflow/lib/python3.7/site-packages/sklearn/metrics/_classification.py:1308: UndefinedMetricWarning: Precision and F-score are ill-defined and being set to 0.0 in labels with no predicted samples. Use `zero_division` parameter to control this behavior.\n",
      "  _warn_prf(average, modifier, msg_start, len(result))\n",
      "/home/vivian/miniconda3/envs/tensorflow/lib/python3.7/site-packages/sklearn/metrics/_classification.py:1308: UndefinedMetricWarning: Precision and F-score are ill-defined and being set to 0.0 in labels with no predicted samples. Use `zero_division` parameter to control this behavior.\n",
      "  _warn_prf(average, modifier, msg_start, len(result))\n"
     ]
    }
   ],
   "source": [
    "model = LogisticRegression(C = 4)\n",
    "model.fit(x_train, y_train)\n",
    "predictions = model.predict(x_test)\n",
    "print(accuracy_score(list(y_test), list(predictions)))\n",
    "print(classification_report(list(y_test), list(predictions)))"
   ]
  },
  {
   "cell_type": "code",
   "execution_count": 27,
   "id": "c5011548",
   "metadata": {
    "scrolled": true
   },
   "outputs": [
    {
     "name": "stdout",
     "output_type": "stream",
     "text": [
      "0.75\n",
      "              precision    recall  f1-score   support\n",
      "\n",
      "          正向       0.00      0.00      0.00        20\n",
      "         非正向       0.75      1.00      0.86        60\n",
      "\n",
      "    accuracy                           0.75        80\n",
      "   macro avg       0.38      0.50      0.43        80\n",
      "weighted avg       0.56      0.75      0.64        80\n",
      "\n"
     ]
    },
    {
     "name": "stderr",
     "output_type": "stream",
     "text": [
      "/home/vivian/miniconda3/envs/tensorflow/lib/python3.7/site-packages/sklearn/metrics/_classification.py:1308: UndefinedMetricWarning: Precision and F-score are ill-defined and being set to 0.0 in labels with no predicted samples. Use `zero_division` parameter to control this behavior.\n",
      "  _warn_prf(average, modifier, msg_start, len(result))\n",
      "/home/vivian/miniconda3/envs/tensorflow/lib/python3.7/site-packages/sklearn/metrics/_classification.py:1308: UndefinedMetricWarning: Precision and F-score are ill-defined and being set to 0.0 in labels with no predicted samples. Use `zero_division` parameter to control this behavior.\n",
      "  _warn_prf(average, modifier, msg_start, len(result))\n",
      "/home/vivian/miniconda3/envs/tensorflow/lib/python3.7/site-packages/sklearn/metrics/_classification.py:1308: UndefinedMetricWarning: Precision and F-score are ill-defined and being set to 0.0 in labels with no predicted samples. Use `zero_division` parameter to control this behavior.\n",
      "  _warn_prf(average, modifier, msg_start, len(result))\n"
     ]
    }
   ],
   "source": [
    "model = SVC(C = 4)\n",
    "model.fit(x_train, y_train)\n",
    "predictions = model.predict(x_test)\n",
    "print(accuracy_score(list(y_test), list(predictions)))\n",
    "print(classification_report(list(y_test), list(predictions)))"
   ]
  },
  {
   "cell_type": "code",
   "execution_count": 28,
   "id": "9822aa56",
   "metadata": {},
   "outputs": [
    {
     "name": "stdout",
     "output_type": "stream",
     "text": [
      "0.75\n",
      "              precision    recall  f1-score   support\n",
      "\n",
      "          正向       0.00      0.00      0.00        20\n",
      "         非正向       0.75      1.00      0.86        60\n",
      "\n",
      "    accuracy                           0.75        80\n",
      "   macro avg       0.38      0.50      0.43        80\n",
      "weighted avg       0.56      0.75      0.64        80\n",
      "\n"
     ]
    },
    {
     "name": "stderr",
     "output_type": "stream",
     "text": [
      "/home/vivian/miniconda3/envs/tensorflow/lib/python3.7/site-packages/sklearn/metrics/_classification.py:1308: UndefinedMetricWarning: Precision and F-score are ill-defined and being set to 0.0 in labels with no predicted samples. Use `zero_division` parameter to control this behavior.\n",
      "  _warn_prf(average, modifier, msg_start, len(result))\n",
      "/home/vivian/miniconda3/envs/tensorflow/lib/python3.7/site-packages/sklearn/metrics/_classification.py:1308: UndefinedMetricWarning: Precision and F-score are ill-defined and being set to 0.0 in labels with no predicted samples. Use `zero_division` parameter to control this behavior.\n",
      "  _warn_prf(average, modifier, msg_start, len(result))\n",
      "/home/vivian/miniconda3/envs/tensorflow/lib/python3.7/site-packages/sklearn/metrics/_classification.py:1308: UndefinedMetricWarning: Precision and F-score are ill-defined and being set to 0.0 in labels with no predicted samples. Use `zero_division` parameter to control this behavior.\n",
      "  _warn_prf(average, modifier, msg_start, len(result))\n"
     ]
    }
   ],
   "source": [
    "model = MultinomialNB(alpha = 1.5)\n",
    "model.fit(x_train, y_train)\n",
    "predictions = model.predict(x_test)\n",
    "print(accuracy_score(list(y_test), list(predictions)))\n",
    "print(classification_report(list(y_test), list(predictions)))"
   ]
  },
  {
   "cell_type": "code",
   "execution_count": 29,
   "id": "e51dc9ba",
   "metadata": {},
   "outputs": [
    {
     "name": "stdout",
     "output_type": "stream",
     "text": [
      "0.75\n",
      "              precision    recall  f1-score   support\n",
      "\n",
      "          正向       0.00      0.00      0.00        20\n",
      "         非正向       0.75      1.00      0.86        60\n",
      "\n",
      "    accuracy                           0.75        80\n",
      "   macro avg       0.38      0.50      0.43        80\n",
      "weighted avg       0.56      0.75      0.64        80\n",
      "\n"
     ]
    },
    {
     "name": "stderr",
     "output_type": "stream",
     "text": [
      "/home/vivian/miniconda3/envs/tensorflow/lib/python3.7/site-packages/sklearn/metrics/_classification.py:1308: UndefinedMetricWarning: Precision and F-score are ill-defined and being set to 0.0 in labels with no predicted samples. Use `zero_division` parameter to control this behavior.\n",
      "  _warn_prf(average, modifier, msg_start, len(result))\n",
      "/home/vivian/miniconda3/envs/tensorflow/lib/python3.7/site-packages/sklearn/metrics/_classification.py:1308: UndefinedMetricWarning: Precision and F-score are ill-defined and being set to 0.0 in labels with no predicted samples. Use `zero_division` parameter to control this behavior.\n",
      "  _warn_prf(average, modifier, msg_start, len(result))\n",
      "/home/vivian/miniconda3/envs/tensorflow/lib/python3.7/site-packages/sklearn/metrics/_classification.py:1308: UndefinedMetricWarning: Precision and F-score are ill-defined and being set to 0.0 in labels with no predicted samples. Use `zero_division` parameter to control this behavior.\n",
      "  _warn_prf(average, modifier, msg_start, len(result))\n"
     ]
    }
   ],
   "source": [
    "model = RandomForestClassifier(max_depth = 25, n_estimators = 80)\n",
    "# model = RandomForestClassifier()\n",
    "model.fit(x_train, y_train)\n",
    "predictions = model.predict(x_test)\n",
    "print(accuracy_score(list(y_test), list(predictions)))\n",
    "print(classification_report(list(y_test), list(predictions)))"
   ]
  },
  {
   "cell_type": "code",
   "execution_count": 30,
   "id": "416a95ff",
   "metadata": {},
   "outputs": [
    {
     "name": "stdout",
     "output_type": "stream",
     "text": [
      "0.775\n",
      "              precision    recall  f1-score   support\n",
      "\n",
      "          正向       0.60      0.30      0.40        20\n",
      "         非正向       0.80      0.93      0.86        60\n",
      "\n",
      "    accuracy                           0.78        80\n",
      "   macro avg       0.70      0.62      0.63        80\n",
      "weighted avg       0.75      0.78      0.75        80\n",
      "\n"
     ]
    }
   ],
   "source": [
    "model = AdaBoostClassifier(learning_rate = 0.5, n_estimators = 90)\n",
    "model.fit(x_train, y_train)\n",
    "predictions = model.predict(x_test)\n",
    "print(accuracy_score(list(y_test), list(predictions)))\n",
    "print(classification_report(list(y_test), list(predictions)))"
   ]
  },
  {
   "cell_type": "code",
   "execution_count": 31,
   "id": "7dcb6942",
   "metadata": {},
   "outputs": [],
   "source": [
    "y_pred = list(predictions)\n",
    "y_test_t = list(y_test)"
   ]
  },
  {
   "cell_type": "code",
   "execution_count": 32,
   "id": "bda52ba4",
   "metadata": {},
   "outputs": [],
   "source": [
    "sent, label, predict = [], [], []\n",
    "for i in range(len(y_pred)):\n",
    "    if y_pred[i] != y_test_t[i]:\n",
    "        sent.append(x_test[i])\n",
    "        label.append(y_test_t[i])\n",
    "        predict.append(y_pred[i])"
   ]
  },
  {
   "cell_type": "code",
   "execution_count": null,
   "id": "30d33fc4",
   "metadata": {},
   "outputs": [],
   "source": []
  },
  {
   "cell_type": "code",
   "execution_count": null,
   "id": "caa09874",
   "metadata": {},
   "outputs": [],
   "source": []
  }
 ],
 "metadata": {
  "kernelspec": {
   "display_name": "Python 3 (ipykernel)",
   "language": "python",
   "name": "python3"
  },
  "language_info": {
   "codemirror_mode": {
    "name": "ipython",
    "version": 3
   },
   "file_extension": ".py",
   "mimetype": "text/x-python",
   "name": "python",
   "nbconvert_exporter": "python",
   "pygments_lexer": "ipython3",
   "version": "3.7.11"
  }
 },
 "nbformat": 4,
 "nbformat_minor": 5
}
