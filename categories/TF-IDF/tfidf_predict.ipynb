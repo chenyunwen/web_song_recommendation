{
 "cells": [
  {
   "cell_type": "code",
   "execution_count": 14,
   "id": "e5b84e6a",
   "metadata": {},
   "outputs": [],
   "source": [
    "from sklearn.datasets import load_files\n",
    "from sklearn.feature_extraction.text import TfidfVectorizer\n",
    "from sklearn.linear_model import LogisticRegression\n",
    "from matplotlib import pyplot as plt\n",
    "import pandas as pd\n",
    "import numpy as np\n",
    "import joblib\n",
    "import re\n",
    "import jieba\n",
    "import pickle"
   ]
  },
  {
   "cell_type": "markdown",
   "id": "80a0c365",
   "metadata": {},
   "source": [
    "# Import testing lyric and preprocess"
   ]
  },
  {
   "cell_type": "code",
   "execution_count": 9,
   "id": "e584baa3",
   "metadata": {},
   "outputs": [],
   "source": [
    "def remove_punctuation(line):\n",
    "    stopwords = [line.strip() for line in open('./data/stopwords.txt', 'r', encoding='utf-8').readlines()]\n",
    "    line = str(line)\n",
    "    if line.strip() == '':\n",
    "        return ''\n",
    "    re_han = re.compile(u\"[^a-zA-Z0-9\\u4E00-\\u9FA5]\")\n",
    "    line = re_han.sub('', line)\n",
    "    cut = [w for w in list(jieba.cut(line)) if w not in stopwords]\n",
    "    res = \" \".join(cut)\n",
    "    return res"
   ]
  },
  {
   "cell_type": "code",
   "execution_count": 10,
   "id": "0169ede4",
   "metadata": {},
   "outputs": [
    {
     "name": "stderr",
     "output_type": "stream",
     "text": [
      "Building prefix dict from the default dictionary ...\n",
      "Loading model from cache /tmp/jieba.cache\n",
      "Loading model cost 1.525 seconds.\n",
      "Prefix dict has been built successfully.\n"
     ]
    }
   ],
   "source": [
    "test_lyric = \"過完整個夏天　憂傷並沒有好一些 開車行駛在公路無際無邊 有離開自己的感覺 唱不完一首歌　疲倦還剩下黑眼圈 感情的世界傷害在所難免 黃昏再美終要黑夜 依然記得從你口中說出再見堅決如鐵 昏暗中有種烈日灼身的錯覺 黃昏的地平線　劃出一句離別 愛情進入永夜 依然記得從你眼中滑落的淚傷心欲絕 混亂中有種熱淚燒傷的錯覺 黃昏的地平線　割斷幸福喜悅 相愛已經幻滅\"\n",
    "test_lyric_seg = remove_punctuation(test_lyric)"
   ]
  },
  {
   "cell_type": "markdown",
   "id": "1f153ebf",
   "metadata": {},
   "source": [
    "## Load TfidfVectorizer and transform lyric to vector"
   ]
  },
  {
   "cell_type": "code",
   "execution_count": 19,
   "id": "38dde073",
   "metadata": {},
   "outputs": [],
   "source": [
    "with open('./model/vectorizer.pickle', 'rb') as f:\n",
    "    vectorizer = pickle.load(f)"
   ]
  },
  {
   "cell_type": "code",
   "execution_count": 26,
   "id": "35771ad9",
   "metadata": {},
   "outputs": [],
   "source": [
    "tmp = []\n",
    "tmp.append(test_lyric_seg)\n",
    "test_lyric_vec = vectorizer.transform(tmp)"
   ]
  },
  {
   "cell_type": "markdown",
   "id": "95a49d55",
   "metadata": {},
   "source": [
    "# Load Logistic Regression Model"
   ]
  },
  {
   "cell_type": "code",
   "execution_count": 27,
   "id": "e7a42b91",
   "metadata": {},
   "outputs": [],
   "source": [
    "LR_model = joblib.load('./model/LR_model')"
   ]
  },
  {
   "cell_type": "markdown",
   "id": "f94a04b8",
   "metadata": {},
   "source": [
    "# Predict"
   ]
  },
  {
   "cell_type": "code",
   "execution_count": 28,
   "id": "b2024ea4",
   "metadata": {},
   "outputs": [
    {
     "data": {
      "text/plain": [
       "array(['愛情'], dtype=object)"
      ]
     },
     "execution_count": 28,
     "metadata": {},
     "output_type": "execute_result"
    }
   ],
   "source": [
    "predictions = LR_model.predict(test_lyric_vec)\n",
    "predictions"
   ]
  },
  {
   "cell_type": "code",
   "execution_count": null,
   "id": "86b4c484",
   "metadata": {},
   "outputs": [],
   "source": []
  }
 ],
 "metadata": {
  "kernelspec": {
   "display_name": "Python 3 (ipykernel)",
   "language": "python",
   "name": "python3"
  },
  "language_info": {
   "codemirror_mode": {
    "name": "ipython",
    "version": 3
   },
   "file_extension": ".py",
   "mimetype": "text/x-python",
   "name": "python",
   "nbconvert_exporter": "python",
   "pygments_lexer": "ipython3",
   "version": "3.7.11"
  }
 },
 "nbformat": 4,
 "nbformat_minor": 5
}
