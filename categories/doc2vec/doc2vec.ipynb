{
 "cells": [
  {
   "cell_type": "markdown",
   "id": "40b5a14b",
   "metadata": {},
   "source": [
    "# train doc2vec"
   ]
  },
  {
   "cell_type": "markdown",
   "id": "b40a1d30",
   "metadata": {},
   "source": [
    "## import data"
   ]
  },
  {
   "cell_type": "code",
   "execution_count": 1,
   "id": "d2fee036",
   "metadata": {
    "scrolled": true
   },
   "outputs": [],
   "source": [
    "%matplotlib inline\n",
    "import pandas as pd\n",
    "import matplotlib\n",
    "import numpy as np\n",
    "import matplotlib.pyplot as plt\n",
    "import jieba\n",
    "import re\n",
    "from sklearn import utils\n",
    "from sklearn.linear_model import LogisticRegression\n",
    "from sklearn.model_selection import train_test_split\n",
    "from gensim.models.doc2vec import TaggedDocument"
   ]
  },
  {
   "cell_type": "code",
   "execution_count": 2,
   "id": "40470c0d",
   "metadata": {
    "scrolled": false
   },
   "outputs": [
    {
     "name": "stdout",
     "output_type": "stream",
     "text": [
      "\u001b[32mTotal number of data: 2206\u001b[0m\n"
     ]
    }
   ],
   "source": [
    "df = pd.read_csv('./data/merged.csv')\n",
    "df = df[['Singer', 'Name', 'Lyric', 'Category']].astype(str)\n",
    "df.drop(df[df.Singer == 'nan'].index, inplace=True)\n",
    "df.drop(df[df.Name == 'Name'].index, inplace=True)\n",
    "print(\"\\033[32mTotal number of data: %d\\033[0m\" %len(df))"
   ]
  },
  {
   "cell_type": "code",
   "execution_count": 3,
   "id": "0513f359",
   "metadata": {
    "scrolled": false
   },
   "outputs": [
    {
     "name": "stdout",
     "output_type": "stream",
     "text": [
      "   Category  count\n",
      "0        愛情    874\n",
      "1      想法表達    405\n",
      "2        悲傷    216\n",
      "3    反抗反駁反諷    206\n",
      "4        勵志    167\n",
      "5        嗨歌    125\n",
      "6        離別     76\n",
      "7        友情     42\n",
      "8      特殊主題     39\n",
      "9        親情     33\n",
      "10       感謝     23\n"
     ]
    }
   ],
   "source": [
    "d = {'Category': df['Category'].value_counts().index, 'count': df['Category'].value_counts()}\n",
    "df_cat = pd.DataFrame(data = d).reset_index(drop = True)\n",
    "print(df_cat)"
   ]
  },
  {
   "cell_type": "code",
   "execution_count": 4,
   "id": "9b6fada1",
   "metadata": {
    "scrolled": true
   },
   "outputs": [],
   "source": [
    "df.loc[df.Category == '勵志','Category'] = '勵志友情'\n",
    "df.loc[df.Category == '友情','Category'] = '勵志友情'\n",
    "df.loc[df.Category == '悲傷','Category'] = '悲傷離別'\n",
    "df.loc[df.Category == '離別','Category'] = '悲傷離別'\n",
    "df.loc[df.Category == '特殊主題','Category'] = '其他'\n",
    "df.loc[df.Category == '嗨歌','Category'] = '其他'\n",
    "df.loc[df.Category == '親情','Category'] = '其他'\n",
    "df.loc[df.Category == '感謝','Category'] = '想法表達'"
   ]
  },
  {
   "cell_type": "code",
   "execution_count": 5,
   "id": "a59bd890",
   "metadata": {},
   "outputs": [
    {
     "data": {
      "text/html": [
       "<div>\n",
       "<style scoped>\n",
       "    .dataframe tbody tr th:only-of-type {\n",
       "        vertical-align: middle;\n",
       "    }\n",
       "\n",
       "    .dataframe tbody tr th {\n",
       "        vertical-align: top;\n",
       "    }\n",
       "\n",
       "    .dataframe thead th {\n",
       "        text-align: right;\n",
       "    }\n",
       "</style>\n",
       "<table border=\"1\" class=\"dataframe\">\n",
       "  <thead>\n",
       "    <tr style=\"text-align: right;\">\n",
       "      <th></th>\n",
       "      <th>Category</th>\n",
       "      <th>count</th>\n",
       "    </tr>\n",
       "  </thead>\n",
       "  <tbody>\n",
       "    <tr>\n",
       "      <th>0</th>\n",
       "      <td>愛情</td>\n",
       "      <td>874</td>\n",
       "    </tr>\n",
       "    <tr>\n",
       "      <th>1</th>\n",
       "      <td>想法表達</td>\n",
       "      <td>428</td>\n",
       "    </tr>\n",
       "    <tr>\n",
       "      <th>2</th>\n",
       "      <td>悲傷離別</td>\n",
       "      <td>292</td>\n",
       "    </tr>\n",
       "    <tr>\n",
       "      <th>3</th>\n",
       "      <td>勵志友情</td>\n",
       "      <td>209</td>\n",
       "    </tr>\n",
       "    <tr>\n",
       "      <th>4</th>\n",
       "      <td>反抗反駁反諷</td>\n",
       "      <td>206</td>\n",
       "    </tr>\n",
       "    <tr>\n",
       "      <th>5</th>\n",
       "      <td>其他</td>\n",
       "      <td>197</td>\n",
       "    </tr>\n",
       "  </tbody>\n",
       "</table>\n",
       "</div>"
      ],
      "text/plain": [
       "  Category  count\n",
       "0       愛情    874\n",
       "1     想法表達    428\n",
       "2     悲傷離別    292\n",
       "3     勵志友情    209\n",
       "4   反抗反駁反諷    206\n",
       "5       其他    197"
      ]
     },
     "execution_count": 5,
     "metadata": {},
     "output_type": "execute_result"
    }
   ],
   "source": [
    "d = {'Category': df['Category'].value_counts().index, 'count': df['Category'].value_counts()}\n",
    "df_cat = pd.DataFrame(data = d).reset_index(drop = True)\n",
    "df_cat"
   ]
  },
  {
   "cell_type": "code",
   "execution_count": 6,
   "id": "a840782a",
   "metadata": {},
   "outputs": [],
   "source": [
    "condition = df['Category'] == '愛情'\n",
    "df_select = df[condition].sample(300)\n",
    "condition = df['Category'] == '想法表達'\n",
    "df_tmp = df[condition].sample(300)\n",
    "df_select = pd.concat([df_select, df_tmp])\n",
    "condition = df['Category'] == '勵志友情'\n",
    "df_tmp = df[condition].sample(0)\n",
    "df_select = pd.concat([df_select, df_tmp])\n",
    "condition = df['Category'] == '悲傷離別'\n",
    "df_tmp = df[condition].sample(292)\n",
    "df_select = pd.concat([df_select, df_tmp])\n",
    "condition = df['Category'] == '反抗反駁反諷'\n",
    "df_tmp = df[condition].sample(0)\n",
    "df_select = pd.concat([df_select, df_tmp])\n",
    "\n",
    "df_select = df_select.reset_index(drop=True)"
   ]
  },
  {
   "cell_type": "code",
   "execution_count": 7,
   "id": "8465e401",
   "metadata": {},
   "outputs": [],
   "source": [
    "categories = list(df_select['Category'].value_counts().index)"
   ]
  },
  {
   "cell_type": "code",
   "execution_count": 8,
   "id": "be53cdef",
   "metadata": {
    "scrolled": true
   },
   "outputs": [
    {
     "data": {
      "text/html": [
       "<div>\n",
       "<style scoped>\n",
       "    .dataframe tbody tr th:only-of-type {\n",
       "        vertical-align: middle;\n",
       "    }\n",
       "\n",
       "    .dataframe tbody tr th {\n",
       "        vertical-align: top;\n",
       "    }\n",
       "\n",
       "    .dataframe thead th {\n",
       "        text-align: right;\n",
       "    }\n",
       "</style>\n",
       "<table border=\"1\" class=\"dataframe\">\n",
       "  <thead>\n",
       "    <tr style=\"text-align: right;\">\n",
       "      <th></th>\n",
       "      <th>Category</th>\n",
       "      <th>count</th>\n",
       "    </tr>\n",
       "  </thead>\n",
       "  <tbody>\n",
       "    <tr>\n",
       "      <th>0</th>\n",
       "      <td>愛情</td>\n",
       "      <td>300</td>\n",
       "    </tr>\n",
       "    <tr>\n",
       "      <th>1</th>\n",
       "      <td>想法表達</td>\n",
       "      <td>300</td>\n",
       "    </tr>\n",
       "    <tr>\n",
       "      <th>2</th>\n",
       "      <td>悲傷離別</td>\n",
       "      <td>292</td>\n",
       "    </tr>\n",
       "  </tbody>\n",
       "</table>\n",
       "</div>"
      ],
      "text/plain": [
       "  Category  count\n",
       "0       愛情    300\n",
       "1     想法表達    300\n",
       "2     悲傷離別    292"
      ]
     },
     "execution_count": 8,
     "metadata": {},
     "output_type": "execute_result"
    }
   ],
   "source": [
    "d = {'Category': df_select['Category'].value_counts().index, 'count': df_select['Category'].value_counts()}\n",
    "df_cat = pd.DataFrame(data = d).reset_index(drop = True)\n",
    "df_cat"
   ]
  },
  {
   "cell_type": "markdown",
   "id": "b4b20f9f",
   "metadata": {},
   "source": [
    "## 資料預處理"
   ]
  },
  {
   "cell_type": "markdown",
   "id": "b7ed1828",
   "metadata": {},
   "source": [
    "### 清理 + 斷詞"
   ]
  },
  {
   "cell_type": "code",
   "execution_count": 9,
   "id": "6a70b18e",
   "metadata": {},
   "outputs": [],
   "source": [
    "def remove_punctuation(line):\n",
    "    line = str(line)\n",
    "    if line.strip() == '':\n",
    "        return ''\n",
    "    re_han = re.compile(u\"[^a-zA-Z0-9\\u4E00-\\u9FA5]\")\n",
    "    line = re_han.sub('', line)\n",
    "    return line"
   ]
  },
  {
   "cell_type": "code",
   "execution_count": 10,
   "id": "98ee00e5",
   "metadata": {},
   "outputs": [],
   "source": [
    "cat_to_id = dict(zip(categories, range(len(categories))))\n",
    "def label_to_id(line):\n",
    "    line = str(line)\n",
    "    return cat_to_id[line]"
   ]
  },
  {
   "cell_type": "code",
   "execution_count": 11,
   "id": "6454d276",
   "metadata": {},
   "outputs": [
    {
     "data": {
      "text/plain": [
       "['愛情', '想法表達', '悲傷離別']"
      ]
     },
     "execution_count": 11,
     "metadata": {},
     "output_type": "execute_result"
    }
   ],
   "source": [
    "categories"
   ]
  },
  {
   "cell_type": "code",
   "execution_count": 12,
   "id": "4204170f",
   "metadata": {
    "scrolled": true
   },
   "outputs": [
    {
     "name": "stderr",
     "output_type": "stream",
     "text": [
      "Building prefix dict from the default dictionary ...\n",
      "Loading model from cache /tmp/jieba.cache\n",
      "Loading model cost 1.827 seconds.\n",
      "Prefix dict has been built successfully.\n"
     ]
    }
   ],
   "source": [
    "df_select['y'] = df_select['Category'].apply(label_to_id)\n",
    "stopwords = [line.strip() for line in open('./data/stopwords.txt', 'r', encoding='utf-8').readlines()]\n",
    "df_select['clean_text'] = df_select['Lyric'].apply(remove_punctuation)\n",
    "df_select['seg_text'] = df_select['clean_text'].apply(lambda x: [w for w in list(jieba.cut(x)) if w not in stopwords])"
   ]
  },
  {
   "cell_type": "code",
   "execution_count": 13,
   "id": "6b4e2867",
   "metadata": {},
   "outputs": [
    {
     "data": {
      "text/html": [
       "<div>\n",
       "<style scoped>\n",
       "    .dataframe tbody tr th:only-of-type {\n",
       "        vertical-align: middle;\n",
       "    }\n",
       "\n",
       "    .dataframe tbody tr th {\n",
       "        vertical-align: top;\n",
       "    }\n",
       "\n",
       "    .dataframe thead th {\n",
       "        text-align: right;\n",
       "    }\n",
       "</style>\n",
       "<table border=\"1\" class=\"dataframe\">\n",
       "  <thead>\n",
       "    <tr style=\"text-align: right;\">\n",
       "      <th></th>\n",
       "      <th>Singer</th>\n",
       "      <th>Name</th>\n",
       "      <th>Lyric</th>\n",
       "      <th>Category</th>\n",
       "      <th>y</th>\n",
       "      <th>clean_text</th>\n",
       "      <th>seg_text</th>\n",
       "    </tr>\n",
       "  </thead>\n",
       "  <tbody>\n",
       "    <tr>\n",
       "      <th>0</th>\n",
       "      <td>蘇打綠</td>\n",
       "      <td>朱古力</td>\n",
       "      <td>加點糖分 再加點顏色 漸漸沖淡原來美味的苦澀包裝陪襯 再包裝快樂 漸漸磨損原來無邪的興奮真實...</td>\n",
       "      <td>愛情</td>\n",
       "      <td>0</td>\n",
       "      <td>加點糖分再加點顏色漸漸沖淡原來美味的苦澀包裝陪襯再包裝快樂漸漸磨損原來無邪的興奮真實總是需要...</td>\n",
       "      <td>[加點, 糖分, 再, 加點, 顏色, 漸漸, 沖, 淡, 原來, 美味, 苦澀, 包裝, ...</td>\n",
       "    </tr>\n",
       "    <tr>\n",
       "      <th>1</th>\n",
       "      <td>梁靜茹</td>\n",
       "      <td>我不害怕</td>\n",
       "      <td>你有多瞭解　我的每一天　心情都是怎麼交接夜裡回家　容不容易找到車位我多想知道　在你的世界　什...</td>\n",
       "      <td>愛情</td>\n",
       "      <td>0</td>\n",
       "      <td>你有多瞭解我的每一天心情都是怎麼交接夜裡回家容不容易找到車位我多想知道在你的世界什麼你會放最...</td>\n",
       "      <td>[瞭解, 一天, 心情, 交接, 夜裡, 回家, 容, 容易, 找到, 車位, 想, 知道,...</td>\n",
       "    </tr>\n",
       "    <tr>\n",
       "      <th>2</th>\n",
       "      <td>陳奕迅</td>\n",
       "      <td>月球上的人</td>\n",
       "      <td>無須要快樂　反正你一早枯死如果有眼淚　只不過生理分泌就算淚水多得　可灌溉整片濕地蒲公英不會飛...</td>\n",
       "      <td>愛情</td>\n",
       "      <td>0</td>\n",
       "      <td>無須要快樂反正你一早枯死如果有眼淚只不過生理分泌就算淚水多得可灌溉整片濕地蒲公英不會飛陵墓裡...</td>\n",
       "      <td>[無須, 快樂, 反正, 一早, 枯死, 眼淚, 只, 生理, 分泌, 淚水多, 灌溉, 整...</td>\n",
       "    </tr>\n",
       "    <tr>\n",
       "      <th>3</th>\n",
       "      <td>蘇打綠</td>\n",
       "      <td>融雪之前</td>\n",
       "      <td>某夜 你離開 某天 你走來某刻 我明白 某種 我的愛睡在 夢境徘徊 世界停擺 只剩我存在看見...</td>\n",
       "      <td>愛情</td>\n",
       "      <td>0</td>\n",
       "      <td>某夜你離開某天你走來某刻我明白某種我的愛睡在夢境徘徊世界停擺只剩我存在看見風吹來聽見雲散開預...</td>\n",
       "      <td>[某夜, 離開, 某天, 走, 某刻, 明白, 某種, 愛睡, 夢境, 徘徊, 世界, 停,...</td>\n",
       "    </tr>\n",
       "    <tr>\n",
       "      <th>4</th>\n",
       "      <td>楊丞琳</td>\n",
       "      <td>你是壞人</td>\n",
       "      <td>你給的愛 像顆甜蜜的糖果我好想咬一口卻又害怕牙齒痛痛你給的愛　像巧克力的誘惑甜的熱量對健康小...</td>\n",
       "      <td>愛情</td>\n",
       "      <td>0</td>\n",
       "      <td>你給的愛像顆甜蜜的糖果我好想咬一口卻又害怕牙齒痛痛你給的愛像巧克力的誘惑甜的熱量對健康小心負...</td>\n",
       "      <td>[你給, 愛像顆, 甜蜜, 糖果, 好, 想, 咬一口, 卻, 害怕, 牙齒, 痛痛, 你給...</td>\n",
       "    </tr>\n",
       "    <tr>\n",
       "      <th>...</th>\n",
       "      <td>...</td>\n",
       "      <td>...</td>\n",
       "      <td>...</td>\n",
       "      <td>...</td>\n",
       "      <td>...</td>\n",
       "      <td>...</td>\n",
       "      <td>...</td>\n",
       "    </tr>\n",
       "    <tr>\n",
       "      <th>887</th>\n",
       "      <td>SHE</td>\n",
       "      <td>說你愛我</td>\n",
       "      <td>下著雨讓濕氣稀釋回憶　我靠著你不出聲音看著你看著斑駁的甜蜜　愛你困住你也困住我自己我那躲也躲...</td>\n",
       "      <td>悲傷離別</td>\n",
       "      <td>2</td>\n",
       "      <td>下著雨讓濕氣稀釋回憶我靠著你不出聲音看著你看著斑駁的甜蜜愛你困住你也困住我自己我那躲也躲不掉...</td>\n",
       "      <td>[下著雨, 濕氣, 稀釋, 回憶, 不出, 聲音, 斑駁, 甜蜜, 愛你, 困住, 困住, ...</td>\n",
       "    </tr>\n",
       "    <tr>\n",
       "      <th>888</th>\n",
       "      <td>蔡依林</td>\n",
       "      <td>假面的告白</td>\n",
       "      <td>好像缺(碎)了一塊　再拼(補)不回來　再不存在　比空白更空白　每一次我想起來　其實你都還在　...</td>\n",
       "      <td>悲傷離別</td>\n",
       "      <td>2</td>\n",
       "      <td>好像缺碎了一塊再拼補不回來再不存在比空白更空白每一次我想起來其實你都還在藍色悲哀流過我的靜脈...</td>\n",
       "      <td>[好像, 缺碎, 一塊, 再, 拼補, 回來, 再, 存在, 空白, 空白, 一次, 想起,...</td>\n",
       "    </tr>\n",
       "    <tr>\n",
       "      <th>889</th>\n",
       "      <td>SHE</td>\n",
       "      <td>不說再見</td>\n",
       "      <td>你好嗎 找到你的幸福了嗎那笑容 一樣像花燦爛嗎曾經一起闖 不怕風雨有多狂驕傲 沮喪 還刻在我...</td>\n",
       "      <td>悲傷離別</td>\n",
       "      <td>2</td>\n",
       "      <td>你好嗎找到你的幸福了嗎那笑容一樣像花燦爛嗎曾經一起闖不怕風雨有多狂驕傲沮喪還刻在我心上我很好...</td>\n",
       "      <td>[你好, 找到, 幸福, 笑容, 花燦爛, 曾經, 一起, 闖, 風雨有, 多狂, 驕傲, ...</td>\n",
       "    </tr>\n",
       "    <tr>\n",
       "      <th>890</th>\n",
       "      <td>SHE</td>\n",
       "      <td>不作你的朋友</td>\n",
       "      <td>慢慢失憶 所有和你的事情必須忘記愛的盆地 深怕再一滴眼淚就會決堤我也不想被你肯定 在這個時候...</td>\n",
       "      <td>悲傷離別</td>\n",
       "      <td>2</td>\n",
       "      <td>慢慢失憶所有和你的事情必須忘記愛的盆地深怕再一滴眼淚就會決堤我也不想被你肯定在這個時候說我讓...</td>\n",
       "      <td>[慢慢, 失憶, 所有, 事情, 忘, 記愛的, 盆地, 深怕, 再, 一滴, 眼淚, 決堤...</td>\n",
       "    </tr>\n",
       "    <tr>\n",
       "      <th>891</th>\n",
       "      <td>陳奕迅</td>\n",
       "      <td>你為什麼哭了呢</td>\n",
       "      <td>天黑了禮物拆了一半赤裸裸 晾在陽台上用力想 是什麼把罪惡卸下謊話自然而然先走必留下風光恨比愛...</td>\n",
       "      <td>悲傷離別</td>\n",
       "      <td>2</td>\n",
       "      <td>天黑了禮物拆了一半赤裸裸晾在陽台上用力想是什麼把罪惡卸下謊話自然而然先走必留下風光恨比愛簡單...</td>\n",
       "      <td>[天黑, 禮物, 拆, 一半, 赤裸裸, 晾在陽, 台上, 用力, 想, 罪惡, 卸下, 謊...</td>\n",
       "    </tr>\n",
       "  </tbody>\n",
       "</table>\n",
       "<p>892 rows × 7 columns</p>\n",
       "</div>"
      ],
      "text/plain": [
       "    Singer      Name                                              Lyric  \\\n",
       "0      蘇打綠       朱古力  加點糖分 再加點顏色 漸漸沖淡原來美味的苦澀包裝陪襯 再包裝快樂 漸漸磨損原來無邪的興奮真實...   \n",
       "1      梁靜茹      我不害怕  你有多瞭解　我的每一天　心情都是怎麼交接夜裡回家　容不容易找到車位我多想知道　在你的世界　什...   \n",
       "2      陳奕迅     月球上的人  無須要快樂　反正你一早枯死如果有眼淚　只不過生理分泌就算淚水多得　可灌溉整片濕地蒲公英不會飛...   \n",
       "3      蘇打綠      融雪之前  某夜 你離開 某天 你走來某刻 我明白 某種 我的愛睡在 夢境徘徊 世界停擺 只剩我存在看見...   \n",
       "4      楊丞琳      你是壞人  你給的愛 像顆甜蜜的糖果我好想咬一口卻又害怕牙齒痛痛你給的愛　像巧克力的誘惑甜的熱量對健康小...   \n",
       "..     ...       ...                                                ...   \n",
       "887    SHE      說你愛我  下著雨讓濕氣稀釋回憶　我靠著你不出聲音看著你看著斑駁的甜蜜　愛你困住你也困住我自己我那躲也躲...   \n",
       "888    蔡依林     假面的告白  好像缺(碎)了一塊　再拼(補)不回來　再不存在　比空白更空白　每一次我想起來　其實你都還在　...   \n",
       "889    SHE      不說再見  你好嗎 找到你的幸福了嗎那笑容 一樣像花燦爛嗎曾經一起闖 不怕風雨有多狂驕傲 沮喪 還刻在我...   \n",
       "890    SHE    不作你的朋友  慢慢失憶 所有和你的事情必須忘記愛的盆地 深怕再一滴眼淚就會決堤我也不想被你肯定 在這個時候...   \n",
       "891    陳奕迅   你為什麼哭了呢  天黑了禮物拆了一半赤裸裸 晾在陽台上用力想 是什麼把罪惡卸下謊話自然而然先走必留下風光恨比愛...   \n",
       "\n",
       "    Category  y                                         clean_text  \\\n",
       "0         愛情  0  加點糖分再加點顏色漸漸沖淡原來美味的苦澀包裝陪襯再包裝快樂漸漸磨損原來無邪的興奮真實總是需要...   \n",
       "1         愛情  0  你有多瞭解我的每一天心情都是怎麼交接夜裡回家容不容易找到車位我多想知道在你的世界什麼你會放最...   \n",
       "2         愛情  0  無須要快樂反正你一早枯死如果有眼淚只不過生理分泌就算淚水多得可灌溉整片濕地蒲公英不會飛陵墓裡...   \n",
       "3         愛情  0  某夜你離開某天你走來某刻我明白某種我的愛睡在夢境徘徊世界停擺只剩我存在看見風吹來聽見雲散開預...   \n",
       "4         愛情  0  你給的愛像顆甜蜜的糖果我好想咬一口卻又害怕牙齒痛痛你給的愛像巧克力的誘惑甜的熱量對健康小心負...   \n",
       "..       ... ..                                                ...   \n",
       "887     悲傷離別  2  下著雨讓濕氣稀釋回憶我靠著你不出聲音看著你看著斑駁的甜蜜愛你困住你也困住我自己我那躲也躲不掉...   \n",
       "888     悲傷離別  2  好像缺碎了一塊再拼補不回來再不存在比空白更空白每一次我想起來其實你都還在藍色悲哀流過我的靜脈...   \n",
       "889     悲傷離別  2  你好嗎找到你的幸福了嗎那笑容一樣像花燦爛嗎曾經一起闖不怕風雨有多狂驕傲沮喪還刻在我心上我很好...   \n",
       "890     悲傷離別  2  慢慢失憶所有和你的事情必須忘記愛的盆地深怕再一滴眼淚就會決堤我也不想被你肯定在這個時候說我讓...   \n",
       "891     悲傷離別  2  天黑了禮物拆了一半赤裸裸晾在陽台上用力想是什麼把罪惡卸下謊話自然而然先走必留下風光恨比愛簡單...   \n",
       "\n",
       "                                              seg_text  \n",
       "0    [加點, 糖分, 再, 加點, 顏色, 漸漸, 沖, 淡, 原來, 美味, 苦澀, 包裝, ...  \n",
       "1    [瞭解, 一天, 心情, 交接, 夜裡, 回家, 容, 容易, 找到, 車位, 想, 知道,...  \n",
       "2    [無須, 快樂, 反正, 一早, 枯死, 眼淚, 只, 生理, 分泌, 淚水多, 灌溉, 整...  \n",
       "3    [某夜, 離開, 某天, 走, 某刻, 明白, 某種, 愛睡, 夢境, 徘徊, 世界, 停,...  \n",
       "4    [你給, 愛像顆, 甜蜜, 糖果, 好, 想, 咬一口, 卻, 害怕, 牙齒, 痛痛, 你給...  \n",
       "..                                                 ...  \n",
       "887  [下著雨, 濕氣, 稀釋, 回憶, 不出, 聲音, 斑駁, 甜蜜, 愛你, 困住, 困住, ...  \n",
       "888  [好像, 缺碎, 一塊, 再, 拼補, 回來, 再, 存在, 空白, 空白, 一次, 想起,...  \n",
       "889  [你好, 找到, 幸福, 笑容, 花燦爛, 曾經, 一起, 闖, 風雨有, 多狂, 驕傲, ...  \n",
       "890  [慢慢, 失憶, 所有, 事情, 忘, 記愛的, 盆地, 深怕, 再, 一滴, 眼淚, 決堤...  \n",
       "891  [天黑, 禮物, 拆, 一半, 赤裸裸, 晾在陽, 台上, 用力, 想, 罪惡, 卸下, 謊...  \n",
       "\n",
       "[892 rows x 7 columns]"
      ]
     },
     "execution_count": 13,
     "metadata": {},
     "output_type": "execute_result"
    }
   ],
   "source": [
    "df_select"
   ]
  },
  {
   "cell_type": "markdown",
   "id": "d5d883fe",
   "metadata": {},
   "source": [
    "### shuffle"
   ]
  },
  {
   "cell_type": "code",
   "execution_count": 14,
   "id": "a9b705b4",
   "metadata": {},
   "outputs": [],
   "source": [
    "from sklearn.utils import shuffle\n",
    "\n",
    "np.random.seed(1234)\n",
    "\n",
    "X, y = shuffle(df_select['seg_text'], df_select['y'])\n",
    "\n",
    "X.reset_index(drop = True, inplace = True)\n",
    "y.reset_index(drop = True, inplace = True)"
   ]
  },
  {
   "cell_type": "markdown",
   "id": "482eb9b5",
   "metadata": {},
   "source": [
    "## 訓練Doc2Vec"
   ]
  },
  {
   "cell_type": "markdown",
   "id": "991e547e",
   "metadata": {},
   "source": [
    "### initialize"
   ]
  },
  {
   "cell_type": "code",
   "execution_count": 15,
   "id": "3635f547",
   "metadata": {},
   "outputs": [],
   "source": [
    "df = df_select"
   ]
  },
  {
   "cell_type": "code",
   "execution_count": 16,
   "id": "bc1a0a2b",
   "metadata": {},
   "outputs": [
    {
     "data": {
      "text/html": [
       "<div>\n",
       "<style scoped>\n",
       "    .dataframe tbody tr th:only-of-type {\n",
       "        vertical-align: middle;\n",
       "    }\n",
       "\n",
       "    .dataframe tbody tr th {\n",
       "        vertical-align: top;\n",
       "    }\n",
       "\n",
       "    .dataframe thead th {\n",
       "        text-align: right;\n",
       "    }\n",
       "</style>\n",
       "<table border=\"1\" class=\"dataframe\">\n",
       "  <thead>\n",
       "    <tr style=\"text-align: right;\">\n",
       "      <th></th>\n",
       "      <th>Singer</th>\n",
       "      <th>Name</th>\n",
       "      <th>Lyric</th>\n",
       "      <th>Category</th>\n",
       "      <th>y</th>\n",
       "      <th>clean_text</th>\n",
       "      <th>seg_text</th>\n",
       "    </tr>\n",
       "  </thead>\n",
       "  <tbody>\n",
       "    <tr>\n",
       "      <th>0</th>\n",
       "      <td>蘇打綠</td>\n",
       "      <td>朱古力</td>\n",
       "      <td>加點糖分 再加點顏色 漸漸沖淡原來美味的苦澀包裝陪襯 再包裝快樂 漸漸磨損原來無邪的興奮真實...</td>\n",
       "      <td>愛情</td>\n",
       "      <td>0</td>\n",
       "      <td>加點糖分再加點顏色漸漸沖淡原來美味的苦澀包裝陪襯再包裝快樂漸漸磨損原來無邪的興奮真實總是需要...</td>\n",
       "      <td>[加點, 糖分, 再, 加點, 顏色, 漸漸, 沖, 淡, 原來, 美味, 苦澀, 包裝, ...</td>\n",
       "    </tr>\n",
       "    <tr>\n",
       "      <th>1</th>\n",
       "      <td>梁靜茹</td>\n",
       "      <td>我不害怕</td>\n",
       "      <td>你有多瞭解　我的每一天　心情都是怎麼交接夜裡回家　容不容易找到車位我多想知道　在你的世界　什...</td>\n",
       "      <td>愛情</td>\n",
       "      <td>0</td>\n",
       "      <td>你有多瞭解我的每一天心情都是怎麼交接夜裡回家容不容易找到車位我多想知道在你的世界什麼你會放最...</td>\n",
       "      <td>[瞭解, 一天, 心情, 交接, 夜裡, 回家, 容, 容易, 找到, 車位, 想, 知道,...</td>\n",
       "    </tr>\n",
       "    <tr>\n",
       "      <th>2</th>\n",
       "      <td>陳奕迅</td>\n",
       "      <td>月球上的人</td>\n",
       "      <td>無須要快樂　反正你一早枯死如果有眼淚　只不過生理分泌就算淚水多得　可灌溉整片濕地蒲公英不會飛...</td>\n",
       "      <td>愛情</td>\n",
       "      <td>0</td>\n",
       "      <td>無須要快樂反正你一早枯死如果有眼淚只不過生理分泌就算淚水多得可灌溉整片濕地蒲公英不會飛陵墓裡...</td>\n",
       "      <td>[無須, 快樂, 反正, 一早, 枯死, 眼淚, 只, 生理, 分泌, 淚水多, 灌溉, 整...</td>\n",
       "    </tr>\n",
       "    <tr>\n",
       "      <th>3</th>\n",
       "      <td>蘇打綠</td>\n",
       "      <td>融雪之前</td>\n",
       "      <td>某夜 你離開 某天 你走來某刻 我明白 某種 我的愛睡在 夢境徘徊 世界停擺 只剩我存在看見...</td>\n",
       "      <td>愛情</td>\n",
       "      <td>0</td>\n",
       "      <td>某夜你離開某天你走來某刻我明白某種我的愛睡在夢境徘徊世界停擺只剩我存在看見風吹來聽見雲散開預...</td>\n",
       "      <td>[某夜, 離開, 某天, 走, 某刻, 明白, 某種, 愛睡, 夢境, 徘徊, 世界, 停,...</td>\n",
       "    </tr>\n",
       "    <tr>\n",
       "      <th>4</th>\n",
       "      <td>楊丞琳</td>\n",
       "      <td>你是壞人</td>\n",
       "      <td>你給的愛 像顆甜蜜的糖果我好想咬一口卻又害怕牙齒痛痛你給的愛　像巧克力的誘惑甜的熱量對健康小...</td>\n",
       "      <td>愛情</td>\n",
       "      <td>0</td>\n",
       "      <td>你給的愛像顆甜蜜的糖果我好想咬一口卻又害怕牙齒痛痛你給的愛像巧克力的誘惑甜的熱量對健康小心負...</td>\n",
       "      <td>[你給, 愛像顆, 甜蜜, 糖果, 好, 想, 咬一口, 卻, 害怕, 牙齒, 痛痛, 你給...</td>\n",
       "    </tr>\n",
       "    <tr>\n",
       "      <th>...</th>\n",
       "      <td>...</td>\n",
       "      <td>...</td>\n",
       "      <td>...</td>\n",
       "      <td>...</td>\n",
       "      <td>...</td>\n",
       "      <td>...</td>\n",
       "      <td>...</td>\n",
       "    </tr>\n",
       "    <tr>\n",
       "      <th>887</th>\n",
       "      <td>SHE</td>\n",
       "      <td>說你愛我</td>\n",
       "      <td>下著雨讓濕氣稀釋回憶　我靠著你不出聲音看著你看著斑駁的甜蜜　愛你困住你也困住我自己我那躲也躲...</td>\n",
       "      <td>悲傷離別</td>\n",
       "      <td>2</td>\n",
       "      <td>下著雨讓濕氣稀釋回憶我靠著你不出聲音看著你看著斑駁的甜蜜愛你困住你也困住我自己我那躲也躲不掉...</td>\n",
       "      <td>[下著雨, 濕氣, 稀釋, 回憶, 不出, 聲音, 斑駁, 甜蜜, 愛你, 困住, 困住, ...</td>\n",
       "    </tr>\n",
       "    <tr>\n",
       "      <th>888</th>\n",
       "      <td>蔡依林</td>\n",
       "      <td>假面的告白</td>\n",
       "      <td>好像缺(碎)了一塊　再拼(補)不回來　再不存在　比空白更空白　每一次我想起來　其實你都還在　...</td>\n",
       "      <td>悲傷離別</td>\n",
       "      <td>2</td>\n",
       "      <td>好像缺碎了一塊再拼補不回來再不存在比空白更空白每一次我想起來其實你都還在藍色悲哀流過我的靜脈...</td>\n",
       "      <td>[好像, 缺碎, 一塊, 再, 拼補, 回來, 再, 存在, 空白, 空白, 一次, 想起,...</td>\n",
       "    </tr>\n",
       "    <tr>\n",
       "      <th>889</th>\n",
       "      <td>SHE</td>\n",
       "      <td>不說再見</td>\n",
       "      <td>你好嗎 找到你的幸福了嗎那笑容 一樣像花燦爛嗎曾經一起闖 不怕風雨有多狂驕傲 沮喪 還刻在我...</td>\n",
       "      <td>悲傷離別</td>\n",
       "      <td>2</td>\n",
       "      <td>你好嗎找到你的幸福了嗎那笑容一樣像花燦爛嗎曾經一起闖不怕風雨有多狂驕傲沮喪還刻在我心上我很好...</td>\n",
       "      <td>[你好, 找到, 幸福, 笑容, 花燦爛, 曾經, 一起, 闖, 風雨有, 多狂, 驕傲, ...</td>\n",
       "    </tr>\n",
       "    <tr>\n",
       "      <th>890</th>\n",
       "      <td>SHE</td>\n",
       "      <td>不作你的朋友</td>\n",
       "      <td>慢慢失憶 所有和你的事情必須忘記愛的盆地 深怕再一滴眼淚就會決堤我也不想被你肯定 在這個時候...</td>\n",
       "      <td>悲傷離別</td>\n",
       "      <td>2</td>\n",
       "      <td>慢慢失憶所有和你的事情必須忘記愛的盆地深怕再一滴眼淚就會決堤我也不想被你肯定在這個時候說我讓...</td>\n",
       "      <td>[慢慢, 失憶, 所有, 事情, 忘, 記愛的, 盆地, 深怕, 再, 一滴, 眼淚, 決堤...</td>\n",
       "    </tr>\n",
       "    <tr>\n",
       "      <th>891</th>\n",
       "      <td>陳奕迅</td>\n",
       "      <td>你為什麼哭了呢</td>\n",
       "      <td>天黑了禮物拆了一半赤裸裸 晾在陽台上用力想 是什麼把罪惡卸下謊話自然而然先走必留下風光恨比愛...</td>\n",
       "      <td>悲傷離別</td>\n",
       "      <td>2</td>\n",
       "      <td>天黑了禮物拆了一半赤裸裸晾在陽台上用力想是什麼把罪惡卸下謊話自然而然先走必留下風光恨比愛簡單...</td>\n",
       "      <td>[天黑, 禮物, 拆, 一半, 赤裸裸, 晾在陽, 台上, 用力, 想, 罪惡, 卸下, 謊...</td>\n",
       "    </tr>\n",
       "  </tbody>\n",
       "</table>\n",
       "<p>892 rows × 7 columns</p>\n",
       "</div>"
      ],
      "text/plain": [
       "    Singer      Name                                              Lyric  \\\n",
       "0      蘇打綠       朱古力  加點糖分 再加點顏色 漸漸沖淡原來美味的苦澀包裝陪襯 再包裝快樂 漸漸磨損原來無邪的興奮真實...   \n",
       "1      梁靜茹      我不害怕  你有多瞭解　我的每一天　心情都是怎麼交接夜裡回家　容不容易找到車位我多想知道　在你的世界　什...   \n",
       "2      陳奕迅     月球上的人  無須要快樂　反正你一早枯死如果有眼淚　只不過生理分泌就算淚水多得　可灌溉整片濕地蒲公英不會飛...   \n",
       "3      蘇打綠      融雪之前  某夜 你離開 某天 你走來某刻 我明白 某種 我的愛睡在 夢境徘徊 世界停擺 只剩我存在看見...   \n",
       "4      楊丞琳      你是壞人  你給的愛 像顆甜蜜的糖果我好想咬一口卻又害怕牙齒痛痛你給的愛　像巧克力的誘惑甜的熱量對健康小...   \n",
       "..     ...       ...                                                ...   \n",
       "887    SHE      說你愛我  下著雨讓濕氣稀釋回憶　我靠著你不出聲音看著你看著斑駁的甜蜜　愛你困住你也困住我自己我那躲也躲...   \n",
       "888    蔡依林     假面的告白  好像缺(碎)了一塊　再拼(補)不回來　再不存在　比空白更空白　每一次我想起來　其實你都還在　...   \n",
       "889    SHE      不說再見  你好嗎 找到你的幸福了嗎那笑容 一樣像花燦爛嗎曾經一起闖 不怕風雨有多狂驕傲 沮喪 還刻在我...   \n",
       "890    SHE    不作你的朋友  慢慢失憶 所有和你的事情必須忘記愛的盆地 深怕再一滴眼淚就會決堤我也不想被你肯定 在這個時候...   \n",
       "891    陳奕迅   你為什麼哭了呢  天黑了禮物拆了一半赤裸裸 晾在陽台上用力想 是什麼把罪惡卸下謊話自然而然先走必留下風光恨比愛...   \n",
       "\n",
       "    Category  y                                         clean_text  \\\n",
       "0         愛情  0  加點糖分再加點顏色漸漸沖淡原來美味的苦澀包裝陪襯再包裝快樂漸漸磨損原來無邪的興奮真實總是需要...   \n",
       "1         愛情  0  你有多瞭解我的每一天心情都是怎麼交接夜裡回家容不容易找到車位我多想知道在你的世界什麼你會放最...   \n",
       "2         愛情  0  無須要快樂反正你一早枯死如果有眼淚只不過生理分泌就算淚水多得可灌溉整片濕地蒲公英不會飛陵墓裡...   \n",
       "3         愛情  0  某夜你離開某天你走來某刻我明白某種我的愛睡在夢境徘徊世界停擺只剩我存在看見風吹來聽見雲散開預...   \n",
       "4         愛情  0  你給的愛像顆甜蜜的糖果我好想咬一口卻又害怕牙齒痛痛你給的愛像巧克力的誘惑甜的熱量對健康小心負...   \n",
       "..       ... ..                                                ...   \n",
       "887     悲傷離別  2  下著雨讓濕氣稀釋回憶我靠著你不出聲音看著你看著斑駁的甜蜜愛你困住你也困住我自己我那躲也躲不掉...   \n",
       "888     悲傷離別  2  好像缺碎了一塊再拼補不回來再不存在比空白更空白每一次我想起來其實你都還在藍色悲哀流過我的靜脈...   \n",
       "889     悲傷離別  2  你好嗎找到你的幸福了嗎那笑容一樣像花燦爛嗎曾經一起闖不怕風雨有多狂驕傲沮喪還刻在我心上我很好...   \n",
       "890     悲傷離別  2  慢慢失憶所有和你的事情必須忘記愛的盆地深怕再一滴眼淚就會決堤我也不想被你肯定在這個時候說我讓...   \n",
       "891     悲傷離別  2  天黑了禮物拆了一半赤裸裸晾在陽台上用力想是什麼把罪惡卸下謊話自然而然先走必留下風光恨比愛簡單...   \n",
       "\n",
       "                                              seg_text  \n",
       "0    [加點, 糖分, 再, 加點, 顏色, 漸漸, 沖, 淡, 原來, 美味, 苦澀, 包裝, ...  \n",
       "1    [瞭解, 一天, 心情, 交接, 夜裡, 回家, 容, 容易, 找到, 車位, 想, 知道,...  \n",
       "2    [無須, 快樂, 反正, 一早, 枯死, 眼淚, 只, 生理, 分泌, 淚水多, 灌溉, 整...  \n",
       "3    [某夜, 離開, 某天, 走, 某刻, 明白, 某種, 愛睡, 夢境, 徘徊, 世界, 停,...  \n",
       "4    [你給, 愛像顆, 甜蜜, 糖果, 好, 想, 咬一口, 卻, 害怕, 牙齒, 痛痛, 你給...  \n",
       "..                                                 ...  \n",
       "887  [下著雨, 濕氣, 稀釋, 回憶, 不出, 聲音, 斑駁, 甜蜜, 愛你, 困住, 困住, ...  \n",
       "888  [好像, 缺碎, 一塊, 再, 拼補, 回來, 再, 存在, 空白, 空白, 一次, 想起,...  \n",
       "889  [你好, 找到, 幸福, 笑容, 花燦爛, 曾經, 一起, 闖, 風雨有, 多狂, 驕傲, ...  \n",
       "890  [慢慢, 失憶, 所有, 事情, 忘, 記愛的, 盆地, 深怕, 再, 一滴, 眼淚, 決堤...  \n",
       "891  [天黑, 禮物, 拆, 一半, 赤裸裸, 晾在陽, 台上, 用力, 想, 罪惡, 卸下, 謊...  \n",
       "\n",
       "[892 rows x 7 columns]"
      ]
     },
     "execution_count": 16,
     "metadata": {},
     "output_type": "execute_result"
    }
   ],
   "source": [
    "df"
   ]
  },
  {
   "cell_type": "code",
   "execution_count": 17,
   "id": "b1e0a82f",
   "metadata": {},
   "outputs": [],
   "source": [
    "from gensim.models.doc2vec import TaggedDocument\n",
    "import collections"
   ]
  },
  {
   "cell_type": "code",
   "execution_count": 18,
   "id": "ed4f5ec8",
   "metadata": {},
   "outputs": [],
   "source": [
    "from sklearn.utils import shuffle\n",
    "\n",
    "np.random.seed(1234)\n",
    "\n",
    "df = shuffle(df)\n",
    "df.reset_index(drop = True, inplace = True)"
   ]
  },
  {
   "cell_type": "code",
   "execution_count": 19,
   "id": "7f2c5a41",
   "metadata": {
    "scrolled": true
   },
   "outputs": [],
   "source": [
    "# 分割訓練集和測試集\n",
    "train, test = train_test_split(df, test_size = 0.2, random_state = 27, stratify = df.Category.values)\n",
    "\n",
    "# 創建標籤化文檔\n",
    "train_tagged = train.apply(lambda r: TaggedDocument(words = r['seg_text'], tags = [r['y']]), axis = 1)\n",
    "test_tagged = test.apply(lambda r: TaggedDocument(words = r['seg_text'], tags = [r['y']]), axis = 1)"
   ]
  },
  {
   "cell_type": "markdown",
   "id": "147df38c",
   "metadata": {},
   "source": [
    "## 分佈式詞袋(DBOW)"
   ]
  },
  {
   "cell_type": "code",
   "execution_count": 20,
   "id": "c6437560",
   "metadata": {
    "scrolled": false
   },
   "outputs": [
    {
     "name": "stderr",
     "output_type": "stream",
     "text": [
      "100%|█████████████████████████████████████████████████████████████████████████████| 713/713 [00:00<00:00, 443831.81it/s]\n"
     ]
    },
    {
     "name": "stdout",
     "output_type": "stream",
     "text": [
      "0.08\n"
     ]
    }
   ],
   "source": [
    "import multiprocessing\n",
    "from gensim.models import Doc2Vec\n",
    "from tqdm import tqdm\n",
    " \n",
    "cores = multiprocessing.cpu_count()    # 獲取當前機器的 CPU 核心數\n",
    "model_dbow = Doc2Vec(dm = 0, negative = 0, hs = 1, alpha = 0.08, min_count = 4, window = 15, sample = 0, workers = cores)\n",
    "model_dbow.build_vocab([x for x in tqdm(train_tagged.values)])\n",
    "print(model_dbow.alpha)"
   ]
  },
  {
   "cell_type": "code",
   "execution_count": 21,
   "id": "cce5eca3",
   "metadata": {
    "scrolled": false
   },
   "outputs": [
    {
     "name": "stderr",
     "output_type": "stream",
     "text": [
      "100%|█████████████████████████████████████████████████████████████████████████████| 713/713 [00:00<00:00, 353408.03it/s]\n",
      "100%|█████████████████████████████████████████████████████████████████████████████| 713/713 [00:00<00:00, 403091.89it/s]\n",
      "100%|█████████████████████████████████████████████████████████████████████████████| 713/713 [00:00<00:00, 281171.38it/s]\n",
      "100%|█████████████████████████████████████████████████████████████████████████████| 713/713 [00:00<00:00, 466251.75it/s]\n",
      "100%|█████████████████████████████████████████████████████████████████████████████| 713/713 [00:00<00:00, 405331.90it/s]\n",
      "100%|█████████████████████████████████████████████████████████████████████████████| 713/713 [00:00<00:00, 401630.24it/s]\n",
      "100%|█████████████████████████████████████████████████████████████████████████████| 713/713 [00:00<00:00, 414030.01it/s]\n",
      "100%|█████████████████████████████████████████████████████████████████████████████| 713/713 [00:00<00:00, 325341.47it/s]\n",
      "100%|█████████████████████████████████████████████████████████████████████████████| 713/713 [00:00<00:00, 436957.74it/s]\n",
      "100%|█████████████████████████████████████████████████████████████████████████████| 713/713 [00:00<00:00, 372003.83it/s]\n",
      "100%|█████████████████████████████████████████████████████████████████████████████| 713/713 [00:00<00:00, 420847.00it/s]\n",
      "100%|█████████████████████████████████████████████████████████████████████████████| 713/713 [00:00<00:00, 455458.23it/s]\n",
      "100%|█████████████████████████████████████████████████████████████████████████████| 713/713 [00:00<00:00, 460437.07it/s]\n",
      "100%|█████████████████████████████████████████████████████████████████████████████| 713/713 [00:00<00:00, 448356.63it/s]\n",
      "100%|█████████████████████████████████████████████████████████████████████████████| 713/713 [00:00<00:00, 205013.97it/s]\n",
      "100%|█████████████████████████████████████████████████████████████████████████████| 713/713 [00:00<00:00, 465308.66it/s]\n",
      "100%|█████████████████████████████████████████████████████████████████████████████| 713/713 [00:00<00:00, 413171.97it/s]\n",
      "100%|█████████████████████████████████████████████████████████████████████████████| 713/713 [00:00<00:00, 415006.77it/s]\n",
      "100%|█████████████████████████████████████████████████████████████████████████████| 713/713 [00:00<00:00, 411919.94it/s]\n",
      "100%|█████████████████████████████████████████████████████████████████████████████| 713/713 [00:00<00:00, 414202.04it/s]\n",
      "100%|█████████████████████████████████████████████████████████████████████████████| 713/713 [00:00<00:00, 390920.10it/s]\n",
      "100%|█████████████████████████████████████████████████████████████████████████████| 713/713 [00:00<00:00, 211226.07it/s]\n",
      "100%|█████████████████████████████████████████████████████████████████████████████| 713/713 [00:00<00:00, 404509.50it/s]\n",
      "100%|█████████████████████████████████████████████████████████████████████████████| 713/713 [00:00<00:00, 216079.39it/s]\n",
      "100%|█████████████████████████████████████████████████████████████████████████████| 713/713 [00:00<00:00, 234148.04it/s]\n",
      "100%|█████████████████████████████████████████████████████████████████████████████| 713/713 [00:00<00:00, 421975.27it/s]\n",
      "100%|█████████████████████████████████████████████████████████████████████████████| 713/713 [00:00<00:00, 426914.88it/s]\n",
      "100%|█████████████████████████████████████████████████████████████████████████████| 713/713 [00:00<00:00, 410675.47it/s]\n",
      "100%|█████████████████████████████████████████████████████████████████████████████| 713/713 [00:00<00:00, 416335.62it/s]\n",
      "100%|█████████████████████████████████████████████████████████████████████████████| 713/713 [00:00<00:00, 473486.19it/s]\n",
      "100%|█████████████████████████████████████████████████████████████████████████████| 713/713 [00:00<00:00, 435938.59it/s]\n",
      "100%|█████████████████████████████████████████████████████████████████████████████| 713/713 [00:00<00:00, 433097.57it/s]\n",
      "100%|█████████████████████████████████████████████████████████████████████████████| 713/713 [00:00<00:00, 401037.78it/s]\n",
      "100%|█████████████████████████████████████████████████████████████████████████████| 713/713 [00:00<00:00, 405716.83it/s]\n",
      "100%|█████████████████████████████████████████████████████████████████████████████| 713/713 [00:00<00:00, 391175.77it/s]\n",
      "100%|█████████████████████████████████████████████████████████████████████████████| 713/713 [00:00<00:00, 402008.17it/s]\n",
      "100%|█████████████████████████████████████████████████████████████████████████████| 713/713 [00:00<00:00, 468369.42it/s]\n",
      "100%|█████████████████████████████████████████████████████████████████████████████| 713/713 [00:00<00:00, 403200.59it/s]\n",
      "100%|█████████████████████████████████████████████████████████████████████████████| 713/713 [00:00<00:00, 351208.31it/s]\n",
      "100%|█████████████████████████████████████████████████████████████████████████████| 713/713 [00:00<00:00, 363591.34it/s]\n",
      "100%|█████████████████████████████████████████████████████████████████████████████| 713/713 [00:00<00:00, 419430.40it/s]\n",
      "100%|█████████████████████████████████████████████████████████████████████████████| 713/713 [00:00<00:00, 430913.36it/s]\n",
      "100%|█████████████████████████████████████████████████████████████████████████████| 713/713 [00:00<00:00, 427280.86it/s]\n",
      "100%|█████████████████████████████████████████████████████████████████████████████| 713/713 [00:00<00:00, 431722.07it/s]\n",
      "100%|█████████████████████████████████████████████████████████████████████████████| 713/713 [00:00<00:00, 413457.59it/s]\n",
      "100%|█████████████████████████████████████████████████████████████████████████████| 713/713 [00:00<00:00, 382715.48it/s]\n",
      "100%|█████████████████████████████████████████████████████████████████████████████| 713/713 [00:00<00:00, 419783.65it/s]\n",
      "100%|█████████████████████████████████████████████████████████████████████████████| 713/713 [00:00<00:00, 361875.45it/s]\n",
      "100%|█████████████████████████████████████████████████████████████████████████████| 713/713 [00:00<00:00, 409550.64it/s]\n",
      "100%|█████████████████████████████████████████████████████████████████████████████| 713/713 [00:00<00:00, 427280.86it/s]\n"
     ]
    },
    {
     "name": "stdout",
     "output_type": "stream",
     "text": [
      "CPU times: user 7.52 s, sys: 109 ms, total: 7.62 s\n",
      "Wall time: 13.7 s\n"
     ]
    }
   ],
   "source": [
    "%%time\n",
    "for epoch in range(50):\n",
    "    model_dbow.train(utils.shuffle([x for x in tqdm(train_tagged.values)]), total_examples = len(train_tagged.values), \n",
    "                     epochs = 1)\n",
    "    model_dbow.alpha -= 0.001\n",
    "    model_dbow.min_alpha = model_dbow.alpha"
   ]
  },
  {
   "cell_type": "code",
   "execution_count": 22,
   "id": "d983211a",
   "metadata": {},
   "outputs": [],
   "source": [
    "def vec_for_learning(model, tagged_docs):\n",
    "    sents = tagged_docs.values\n",
    "    targets, regressors = zip(*[(doc.tags[0], model.infer_vector(doc.words, alpha = 0.025, epochs=10)) for doc in sents])\n",
    "    return targets, regressors"
   ]
  },
  {
   "cell_type": "code",
   "execution_count": 23,
   "id": "b62ecd5a",
   "metadata": {},
   "outputs": [],
   "source": [
    "y_train, x_train = vec_for_learning(model_dbow, train_tagged)\n",
    "y_test, x_test = vec_for_learning(model_dbow, test_tagged)"
   ]
  },
  {
   "cell_type": "code",
   "execution_count": 24,
   "id": "85caf5fb",
   "metadata": {
    "scrolled": true
   },
   "outputs": [
    {
     "name": "stderr",
     "output_type": "stream",
     "text": [
      "/home/vivian/miniconda3/envs/tf2/lib/python3.7/site-packages/sklearn/linear_model/_logistic.py:818: ConvergenceWarning: lbfgs failed to converge (status=1):\n",
      "STOP: TOTAL NO. of ITERATIONS REACHED LIMIT.\n",
      "\n",
      "Increase the number of iterations (max_iter) or scale the data as shown in:\n",
      "    https://scikit-learn.org/stable/modules/preprocessing.html\n",
      "Please also refer to the documentation for alternative solver options:\n",
      "    https://scikit-learn.org/stable/modules/linear_model.html#logistic-regression\n",
      "  extra_warning_msg=_LOGISTIC_SOLVER_CONVERGENCE_MSG,\n"
     ]
    }
   ],
   "source": [
    "logreg = LogisticRegression(n_jobs = 1, C = 1e5)\n",
    "logreg.fit(x_train, y_train)\n",
    "y_pred = logreg.predict(x_test)"
   ]
  },
  {
   "cell_type": "code",
   "execution_count": 25,
   "id": "19a8d90e",
   "metadata": {
    "scrolled": true
   },
   "outputs": [
    {
     "name": "stdout",
     "output_type": "stream",
     "text": [
      "Testing accuracy 0.4860335195530726\n",
      "Testing F1 score: 0.48491004509287894\n"
     ]
    }
   ],
   "source": [
    "from sklearn.metrics import accuracy_score, f1_score\n",
    " \n",
    "print('Testing accuracy %s' % accuracy_score(y_test, y_pred))\n",
    "print('Testing F1 score: {}'.format(f1_score(y_test, y_pred, average = 'weighted')))"
   ]
  },
  {
   "cell_type": "code",
   "execution_count": 26,
   "id": "3884725b",
   "metadata": {
    "scrolled": false
   },
   "outputs": [
    {
     "name": "stdout",
     "output_type": "stream",
     "text": [
      "              precision    recall  f1-score   support\n",
      "\n",
      "          愛情       0.43      0.43      0.43        60\n",
      "        想法表達       0.46      0.43      0.44        60\n",
      "        悲傷離別       0.56      0.59      0.58        59\n",
      "\n",
      "    accuracy                           0.49       179\n",
      "   macro avg       0.48      0.49      0.49       179\n",
      "weighted avg       0.48      0.49      0.48       179\n",
      "\n"
     ]
    }
   ],
   "source": [
    "from sklearn import metrics\n",
    "print(metrics.classification_report(y_test, y_pred, target_names = categories))\n",
    "matrix_result = metrics.confusion_matrix(y_test, y_pred)\n"
   ]
  },
  {
   "cell_type": "code",
   "execution_count": 27,
   "id": "89320fec",
   "metadata": {},
   "outputs": [],
   "source": [
    "# 設定字體\n",
    "from matplotlib.font_manager import FontProperties\n",
    "fonts = FontProperties(fname = \"msjh.ttc\", size = 14)\n",
    "%config InlineBackend.figure_format = 'retina'\n",
    "%matplotlib inline"
   ]
  },
  {
   "cell_type": "code",
   "execution_count": 28,
   "id": "6124de40",
   "metadata": {
    "scrolled": true
   },
   "outputs": [
    {
     "data": {
      "image/png": "[encoded data removed]",
      "text/plain": [
       "<Figure size 576x576 with 2 Axes>"
      ]
     },
     "metadata": {
      "image/png": {
       "height": 458,
       "width": 475
      },
      "needs_background": "light"
     },
     "output_type": "display_data"
    }
   ],
   "source": [
    "## confusion matrix visualization\n",
    "import seaborn as sns\n",
    "plt.figure(figsize = (8, 8))\n",
    "sns.heatmap(matrix_result, square = True, annot = True, fmt = 'd', linewidths = 1, cmap = \"GnBu\")\n",
    "plt.xlabel('True label', size = 14)\n",
    "plt.ylabel('Predicted label', size = 14)\n",
    "plt.xticks(np.arange(len(categories)) + 0.5, categories, fontproperties = fonts)\n",
    "plt.yticks(np.arange(len(categories)) + 0.5, categories, fontproperties = fonts)\n",
    "plt.show()"
   ]
  },
  {
   "cell_type": "code",
   "execution_count": 29,
   "id": "e1d57fe2",
   "metadata": {},
   "outputs": [],
   "source": [
    "model_dbow.save('./models/dbow_model.bin')"
   ]
  },
  {
   "cell_type": "markdown",
   "id": "22e059b3",
   "metadata": {},
   "source": [
    "## 分佈式存儲(DM)"
   ]
  },
  {
   "cell_type": "code",
   "execution_count": 30,
   "id": "00b3240a",
   "metadata": {
    "scrolled": true
   },
   "outputs": [
    {
     "name": "stderr",
     "output_type": "stream",
     "text": [
      "100%|█████████████████████████████████████████████████████████████████████████████| 713/713 [00:00<00:00, 456361.78it/s]\n"
     ]
    },
    {
     "name": "stdout",
     "output_type": "stream",
     "text": [
      "0.06\n"
     ]
    }
   ],
   "source": [
    "model_dm = Doc2Vec(dm = 1, dm_mean = 1, window = 40, hs = 0, negative = 5, min_count = 1, alpha = 0.06, seed = 1)\n",
    "model_dm.build_vocab([x for x in tqdm(train_tagged.values)])\n",
    "print(model_dm.alpha)"
   ]
  },
  {
   "cell_type": "code",
   "execution_count": 31,
   "id": "63a47ad6",
   "metadata": {
    "scrolled": true
   },
   "outputs": [
    {
     "name": "stderr",
     "output_type": "stream",
     "text": [
      "100%|█████████████████████████████████████████████████████████████████████████████| 713/713 [00:00<00:00, 429489.98it/s]\n",
      "100%|█████████████████████████████████████████████████████████████████████████████| 713/713 [00:00<00:00, 374754.23it/s]\n",
      "100%|█████████████████████████████████████████████████████████████████████████████| 713/713 [00:00<00:00, 452426.44it/s]\n",
      "100%|█████████████████████████████████████████████████████████████████████████████| 713/713 [00:00<00:00, 415006.77it/s]\n",
      "100%|█████████████████████████████████████████████████████████████████████████████| 713/713 [00:00<00:00, 396675.79it/s]\n",
      "100%|█████████████████████████████████████████████████████████████████████████████| 713/713 [00:00<00:00, 393026.51it/s]\n",
      "100%|█████████████████████████████████████████████████████████████████████████████| 713/713 [00:00<00:00, 413057.84it/s]\n",
      "100%|█████████████████████████████████████████████████████████████████████████████| 713/713 [00:00<00:00, 403091.89it/s]\n",
      "100%|█████████████████████████████████████████████████████████████████████████████| 713/713 [00:00<00:00, 478486.20it/s]\n",
      "100%|█████████████████████████████████████████████████████████████████████████████| 713/713 [00:00<00:00, 404509.50it/s]\n"
     ]
    },
    {
     "name": "stdout",
     "output_type": "stream",
     "text": [
      "CPU times: user 4.38 s, sys: 125 ms, total: 4.5 s\n",
      "Wall time: 6.21 s\n"
     ]
    }
   ],
   "source": [
    "%%time\n",
    "for epoch in range(10):\n",
    "    model_dm.train(utils.shuffle([x for x in tqdm(train_tagged.values)]), total_examples=len(train_tagged.values), epochs = 1)\n",
    "    model_dm.alpha -= 0.001\n",
    "    model_dm.min_alpha = model_dm.alpha"
   ]
  },
  {
   "cell_type": "code",
   "execution_count": 32,
   "id": "5e3f6b71",
   "metadata": {
    "scrolled": true
   },
   "outputs": [
    {
     "name": "stdout",
     "output_type": "stream",
     "text": [
      "Testing accuracy 0.441340782122905\n",
      "Testing F1 score: 0.403665416100089\n"
     ]
    },
    {
     "name": "stderr",
     "output_type": "stream",
     "text": [
      "/home/vivian/miniconda3/envs/tf2/lib/python3.7/site-packages/sklearn/linear_model/_logistic.py:818: ConvergenceWarning: lbfgs failed to converge (status=1):\n",
      "STOP: TOTAL NO. of ITERATIONS REACHED LIMIT.\n",
      "\n",
      "Increase the number of iterations (max_iter) or scale the data as shown in:\n",
      "    https://scikit-learn.org/stable/modules/preprocessing.html\n",
      "Please also refer to the documentation for alternative solver options:\n",
      "    https://scikit-learn.org/stable/modules/linear_model.html#logistic-regression\n",
      "  extra_warning_msg=_LOGISTIC_SOLVER_CONVERGENCE_MSG,\n"
     ]
    }
   ],
   "source": [
    "y_train, x_train = vec_for_learning(model_dm, train_tagged)\n",
    "y_test, x_test = vec_for_learning(model_dm, test_tagged)\n",
    " \n",
    "logreg.fit(x_train, y_train)\n",
    "y_pred = logreg.predict(x_test)\n",
    " \n",
    "print('Testing accuracy %s' % accuracy_score(y_test, y_pred))\n",
    "print('Testing F1 score: {}'.format(f1_score(y_test, y_pred, average='weighted')))"
   ]
  },
  {
   "cell_type": "code",
   "execution_count": 33,
   "id": "0441c993",
   "metadata": {
    "scrolled": true
   },
   "outputs": [
    {
     "name": "stdout",
     "output_type": "stream",
     "text": [
      "              precision    recall  f1-score   support\n",
      "\n",
      "          愛情       0.55      0.30      0.39        60\n",
      "        想法表達       0.43      0.20      0.27        60\n",
      "        悲傷離別       0.42      0.83      0.55        59\n",
      "\n",
      "    accuracy                           0.44       179\n",
      "   macro avg       0.46      0.44      0.40       179\n",
      "weighted avg       0.46      0.44      0.40       179\n",
      "\n"
     ]
    }
   ],
   "source": [
    "from sklearn import metrics\n",
    "print(metrics.classification_report(y_test, y_pred, target_names = categories))\n",
    "matrix_result = metrics.confusion_matrix(y_test, y_pred)\n"
   ]
  },
  {
   "cell_type": "code",
   "execution_count": 34,
   "id": "858decfb",
   "metadata": {
    "scrolled": true
   },
   "outputs": [
    {
     "data": {
      "image/png": "[encoded data removed]",
      "text/plain": [
       "<Figure size 576x576 with 2 Axes>"
      ]
     },
     "metadata": {
      "image/png": {
       "height": 450,
       "width": 475
      },
      "needs_background": "light"
     },
     "output_type": "display_data"
    }
   ],
   "source": [
    "## confusion matrix visualization\n",
    "import seaborn as sns\n",
    "plt.figure(figsize = (8, 8))\n",
    "sns.heatmap(matrix_result, square = True, annot = True, fmt = 'd', linewidths = 1, cmap = \"GnBu\")\n",
    "plt.xlabel('True label', size = 14)\n",
    "plt.ylabel('Predicted label', size = 14)\n",
    "plt.xticks(np.arange(len(categories)) + 0.5, categories, fontproperties = fonts)\n",
    "plt.yticks(np.arange(len(categories)) + 0.5, categories, fontproperties = fonts)\n",
    "plt.show()"
   ]
  },
  {
   "cell_type": "code",
   "execution_count": 35,
   "id": "baa4b5a9",
   "metadata": {},
   "outputs": [],
   "source": [
    "model_dm.save('./models/dm_model.bin')"
   ]
  },
  {
   "cell_type": "markdown",
   "id": "971e3b3f",
   "metadata": {},
   "source": [
    "## 合成DBOW & DM"
   ]
  },
  {
   "cell_type": "code",
   "execution_count": 36,
   "id": "0c175f9e",
   "metadata": {
    "scrolled": true
   },
   "outputs": [],
   "source": [
    "from gensim.test.test_doc2vec import ConcatenatedDoc2Vec\n",
    "model_concat = ConcatenatedDoc2Vec([model_dbow, model_dm])"
   ]
  },
  {
   "cell_type": "code",
   "execution_count": 37,
   "id": "b6edb4fb",
   "metadata": {},
   "outputs": [],
   "source": [
    "def get_vectors(model, tagged_docs):\n",
    "    sents = tagged_docs.values\n",
    "    targets, regressors = zip(*[(doc.tags[0], model.infer_vector(doc.words, epochs = 50)) for doc in sents])\n",
    "    return targets, regressors"
   ]
  },
  {
   "cell_type": "code",
   "execution_count": 38,
   "id": "157500dc",
   "metadata": {},
   "outputs": [
    {
     "ename": "KeyboardInterrupt",
     "evalue": "",
     "output_type": "error",
     "traceback": [
      "\u001b[0;31m---------------------------------------------------------------------------\u001b[0m",
      "\u001b[0;31mKeyboardInterrupt\u001b[0m                         Traceback (most recent call last)",
      "\u001b[0;32m/tmp/ipykernel_20298/1755275132.py\u001b[0m in \u001b[0;36m<module>\u001b[0;34m\u001b[0m\n\u001b[0;32m----> 1\u001b[0;31m \u001b[0my_train\u001b[0m\u001b[0;34m,\u001b[0m \u001b[0mx_train\u001b[0m \u001b[0;34m=\u001b[0m \u001b[0mget_vectors\u001b[0m\u001b[0;34m(\u001b[0m\u001b[0mmodel_concat\u001b[0m\u001b[0;34m,\u001b[0m \u001b[0mtrain_tagged\u001b[0m\u001b[0;34m)\u001b[0m\u001b[0;34m\u001b[0m\u001b[0;34m\u001b[0m\u001b[0m\n\u001b[0m\u001b[1;32m      2\u001b[0m \u001b[0my_test\u001b[0m\u001b[0;34m,\u001b[0m \u001b[0mx_test\u001b[0m \u001b[0;34m=\u001b[0m \u001b[0mget_vectors\u001b[0m\u001b[0;34m(\u001b[0m\u001b[0mmodel_concat\u001b[0m\u001b[0;34m,\u001b[0m \u001b[0mtest_tagged\u001b[0m\u001b[0;34m)\u001b[0m\u001b[0;34m\u001b[0m\u001b[0;34m\u001b[0m\u001b[0m\n",
      "\u001b[0;32m/tmp/ipykernel_20298/2591985965.py\u001b[0m in \u001b[0;36mget_vectors\u001b[0;34m(model, tagged_docs)\u001b[0m\n\u001b[1;32m      1\u001b[0m \u001b[0;32mdef\u001b[0m \u001b[0mget_vectors\u001b[0m\u001b[0;34m(\u001b[0m\u001b[0mmodel\u001b[0m\u001b[0;34m,\u001b[0m \u001b[0mtagged_docs\u001b[0m\u001b[0;34m)\u001b[0m\u001b[0;34m:\u001b[0m\u001b[0;34m\u001b[0m\u001b[0;34m\u001b[0m\u001b[0m\n\u001b[1;32m      2\u001b[0m     \u001b[0msents\u001b[0m \u001b[0;34m=\u001b[0m \u001b[0mtagged_docs\u001b[0m\u001b[0;34m.\u001b[0m\u001b[0mvalues\u001b[0m\u001b[0;34m\u001b[0m\u001b[0;34m\u001b[0m\u001b[0m\n\u001b[0;32m----> 3\u001b[0;31m     \u001b[0mtargets\u001b[0m\u001b[0;34m,\u001b[0m \u001b[0mregressors\u001b[0m \u001b[0;34m=\u001b[0m \u001b[0mzip\u001b[0m\u001b[0;34m(\u001b[0m\u001b[0;34m*\u001b[0m\u001b[0;34m[\u001b[0m\u001b[0;34m(\u001b[0m\u001b[0mdoc\u001b[0m\u001b[0;34m.\u001b[0m\u001b[0mtags\u001b[0m\u001b[0;34m[\u001b[0m\u001b[0;36m0\u001b[0m\u001b[0;34m]\u001b[0m\u001b[0;34m,\u001b[0m \u001b[0mmodel\u001b[0m\u001b[0;34m.\u001b[0m\u001b[0minfer_vector\u001b[0m\u001b[0;34m(\u001b[0m\u001b[0mdoc\u001b[0m\u001b[0;34m.\u001b[0m\u001b[0mwords\u001b[0m\u001b[0;34m,\u001b[0m \u001b[0mepochs\u001b[0m \u001b[0;34m=\u001b[0m \u001b[0;36m50\u001b[0m\u001b[0;34m)\u001b[0m\u001b[0;34m)\u001b[0m \u001b[0;32mfor\u001b[0m \u001b[0mdoc\u001b[0m \u001b[0;32min\u001b[0m \u001b[0msents\u001b[0m\u001b[0;34m]\u001b[0m\u001b[0;34m)\u001b[0m\u001b[0;34m\u001b[0m\u001b[0;34m\u001b[0m\u001b[0m\n\u001b[0m\u001b[1;32m      4\u001b[0m     \u001b[0;32mreturn\u001b[0m \u001b[0mtargets\u001b[0m\u001b[0;34m,\u001b[0m \u001b[0mregressors\u001b[0m\u001b[0;34m\u001b[0m\u001b[0;34m\u001b[0m\u001b[0m\n",
      "\u001b[0;32m/tmp/ipykernel_20298/2591985965.py\u001b[0m in \u001b[0;36m<listcomp>\u001b[0;34m(.0)\u001b[0m\n\u001b[1;32m      1\u001b[0m \u001b[0;32mdef\u001b[0m \u001b[0mget_vectors\u001b[0m\u001b[0;34m(\u001b[0m\u001b[0mmodel\u001b[0m\u001b[0;34m,\u001b[0m \u001b[0mtagged_docs\u001b[0m\u001b[0;34m)\u001b[0m\u001b[0;34m:\u001b[0m\u001b[0;34m\u001b[0m\u001b[0;34m\u001b[0m\u001b[0m\n\u001b[1;32m      2\u001b[0m     \u001b[0msents\u001b[0m \u001b[0;34m=\u001b[0m \u001b[0mtagged_docs\u001b[0m\u001b[0;34m.\u001b[0m\u001b[0mvalues\u001b[0m\u001b[0;34m\u001b[0m\u001b[0;34m\u001b[0m\u001b[0m\n\u001b[0;32m----> 3\u001b[0;31m     \u001b[0mtargets\u001b[0m\u001b[0;34m,\u001b[0m \u001b[0mregressors\u001b[0m \u001b[0;34m=\u001b[0m \u001b[0mzip\u001b[0m\u001b[0;34m(\u001b[0m\u001b[0;34m*\u001b[0m\u001b[0;34m[\u001b[0m\u001b[0;34m(\u001b[0m\u001b[0mdoc\u001b[0m\u001b[0;34m.\u001b[0m\u001b[0mtags\u001b[0m\u001b[0;34m[\u001b[0m\u001b[0;36m0\u001b[0m\u001b[0;34m]\u001b[0m\u001b[0;34m,\u001b[0m \u001b[0mmodel\u001b[0m\u001b[0;34m.\u001b[0m\u001b[0minfer_vector\u001b[0m\u001b[0;34m(\u001b[0m\u001b[0mdoc\u001b[0m\u001b[0;34m.\u001b[0m\u001b[0mwords\u001b[0m\u001b[0;34m,\u001b[0m \u001b[0mepochs\u001b[0m \u001b[0;34m=\u001b[0m \u001b[0;36m50\u001b[0m\u001b[0;34m)\u001b[0m\u001b[0;34m)\u001b[0m \u001b[0;32mfor\u001b[0m \u001b[0mdoc\u001b[0m \u001b[0;32min\u001b[0m \u001b[0msents\u001b[0m\u001b[0;34m]\u001b[0m\u001b[0;34m)\u001b[0m\u001b[0;34m\u001b[0m\u001b[0;34m\u001b[0m\u001b[0m\n\u001b[0m\u001b[1;32m      4\u001b[0m     \u001b[0;32mreturn\u001b[0m \u001b[0mtargets\u001b[0m\u001b[0;34m,\u001b[0m \u001b[0mregressors\u001b[0m\u001b[0;34m\u001b[0m\u001b[0;34m\u001b[0m\u001b[0m\n",
      "\u001b[0;32m~/miniconda3/envs/tf2/lib/python3.7/site-packages/gensim/test/test_doc2vec.py\u001b[0m in \u001b[0;36minfer_vector\u001b[0;34m(self, document, alpha, min_alpha, epochs)\u001b[0m\n\u001b[1;32m    758\u001b[0m \u001b[0;34m\u001b[0m\u001b[0m\n\u001b[1;32m    759\u001b[0m     \u001b[0;32mdef\u001b[0m \u001b[0minfer_vector\u001b[0m\u001b[0;34m(\u001b[0m\u001b[0mself\u001b[0m\u001b[0;34m,\u001b[0m \u001b[0mdocument\u001b[0m\u001b[0;34m,\u001b[0m \u001b[0malpha\u001b[0m\u001b[0;34m=\u001b[0m\u001b[0;32mNone\u001b[0m\u001b[0;34m,\u001b[0m \u001b[0mmin_alpha\u001b[0m\u001b[0;34m=\u001b[0m\u001b[0;32mNone\u001b[0m\u001b[0;34m,\u001b[0m \u001b[0mepochs\u001b[0m\u001b[0;34m=\u001b[0m\u001b[0;32mNone\u001b[0m\u001b[0;34m)\u001b[0m\u001b[0;34m:\u001b[0m\u001b[0;34m\u001b[0m\u001b[0;34m\u001b[0m\u001b[0m\n\u001b[0;32m--> 760\u001b[0;31m         \u001b[0;32mreturn\u001b[0m \u001b[0mnp\u001b[0m\u001b[0;34m.\u001b[0m\u001b[0mconcatenate\u001b[0m\u001b[0;34m(\u001b[0m\u001b[0;34m[\u001b[0m\u001b[0mmodel\u001b[0m\u001b[0;34m.\u001b[0m\u001b[0minfer_vector\u001b[0m\u001b[0;34m(\u001b[0m\u001b[0mdocument\u001b[0m\u001b[0;34m,\u001b[0m \u001b[0malpha\u001b[0m\u001b[0;34m,\u001b[0m \u001b[0mmin_alpha\u001b[0m\u001b[0;34m,\u001b[0m \u001b[0mepochs\u001b[0m\u001b[0;34m)\u001b[0m \u001b[0;32mfor\u001b[0m \u001b[0mmodel\u001b[0m \u001b[0;32min\u001b[0m \u001b[0mself\u001b[0m\u001b[0;34m.\u001b[0m\u001b[0mmodels\u001b[0m\u001b[0;34m]\u001b[0m\u001b[0;34m)\u001b[0m\u001b[0;34m\u001b[0m\u001b[0;34m\u001b[0m\u001b[0m\n\u001b[0m\u001b[1;32m    761\u001b[0m \u001b[0;34m\u001b[0m\u001b[0m\n\u001b[1;32m    762\u001b[0m     \u001b[0;32mdef\u001b[0m \u001b[0mtrain\u001b[0m\u001b[0;34m(\u001b[0m\u001b[0mself\u001b[0m\u001b[0;34m,\u001b[0m \u001b[0;34m*\u001b[0m\u001b[0mignore_args\u001b[0m\u001b[0;34m,\u001b[0m \u001b[0;34m**\u001b[0m\u001b[0mignore_kwargs\u001b[0m\u001b[0;34m)\u001b[0m\u001b[0;34m:\u001b[0m\u001b[0;34m\u001b[0m\u001b[0;34m\u001b[0m\u001b[0m\n",
      "\u001b[0;32m~/miniconda3/envs/tf2/lib/python3.7/site-packages/gensim/test/test_doc2vec.py\u001b[0m in \u001b[0;36m<listcomp>\u001b[0;34m(.0)\u001b[0m\n\u001b[1;32m    758\u001b[0m \u001b[0;34m\u001b[0m\u001b[0m\n\u001b[1;32m    759\u001b[0m     \u001b[0;32mdef\u001b[0m \u001b[0minfer_vector\u001b[0m\u001b[0;34m(\u001b[0m\u001b[0mself\u001b[0m\u001b[0;34m,\u001b[0m \u001b[0mdocument\u001b[0m\u001b[0;34m,\u001b[0m \u001b[0malpha\u001b[0m\u001b[0;34m=\u001b[0m\u001b[0;32mNone\u001b[0m\u001b[0;34m,\u001b[0m \u001b[0mmin_alpha\u001b[0m\u001b[0;34m=\u001b[0m\u001b[0;32mNone\u001b[0m\u001b[0;34m,\u001b[0m \u001b[0mepochs\u001b[0m\u001b[0;34m=\u001b[0m\u001b[0;32mNone\u001b[0m\u001b[0;34m)\u001b[0m\u001b[0;34m:\u001b[0m\u001b[0;34m\u001b[0m\u001b[0;34m\u001b[0m\u001b[0m\n\u001b[0;32m--> 760\u001b[0;31m         \u001b[0;32mreturn\u001b[0m \u001b[0mnp\u001b[0m\u001b[0;34m.\u001b[0m\u001b[0mconcatenate\u001b[0m\u001b[0;34m(\u001b[0m\u001b[0;34m[\u001b[0m\u001b[0mmodel\u001b[0m\u001b[0;34m.\u001b[0m\u001b[0minfer_vector\u001b[0m\u001b[0;34m(\u001b[0m\u001b[0mdocument\u001b[0m\u001b[0;34m,\u001b[0m \u001b[0malpha\u001b[0m\u001b[0;34m,\u001b[0m \u001b[0mmin_alpha\u001b[0m\u001b[0;34m,\u001b[0m \u001b[0mepochs\u001b[0m\u001b[0;34m)\u001b[0m \u001b[0;32mfor\u001b[0m \u001b[0mmodel\u001b[0m \u001b[0;32min\u001b[0m \u001b[0mself\u001b[0m\u001b[0;34m.\u001b[0m\u001b[0mmodels\u001b[0m\u001b[0;34m]\u001b[0m\u001b[0;34m)\u001b[0m\u001b[0;34m\u001b[0m\u001b[0;34m\u001b[0m\u001b[0m\n\u001b[0m\u001b[1;32m    761\u001b[0m \u001b[0;34m\u001b[0m\u001b[0m\n\u001b[1;32m    762\u001b[0m     \u001b[0;32mdef\u001b[0m \u001b[0mtrain\u001b[0m\u001b[0;34m(\u001b[0m\u001b[0mself\u001b[0m\u001b[0;34m,\u001b[0m \u001b[0;34m*\u001b[0m\u001b[0mignore_args\u001b[0m\u001b[0;34m,\u001b[0m \u001b[0;34m**\u001b[0m\u001b[0mignore_kwargs\u001b[0m\u001b[0;34m)\u001b[0m\u001b[0;34m:\u001b[0m\u001b[0;34m\u001b[0m\u001b[0;34m\u001b[0m\u001b[0m\n",
      "\u001b[0;32m~/miniconda3/envs/tf2/lib/python3.7/site-packages/gensim/models/doc2vec.py\u001b[0m in \u001b[0;36minfer_vector\u001b[0;34m(self, doc_words, alpha, min_alpha, epochs)\u001b[0m\n\u001b[1;32m    639\u001b[0m                 train_document_dbow(\n\u001b[1;32m    640\u001b[0m                     \u001b[0mself\u001b[0m\u001b[0;34m,\u001b[0m \u001b[0mdoc_words\u001b[0m\u001b[0;34m,\u001b[0m \u001b[0mdoctag_indexes\u001b[0m\u001b[0;34m,\u001b[0m \u001b[0malpha\u001b[0m\u001b[0;34m,\u001b[0m \u001b[0mwork\u001b[0m\u001b[0;34m,\u001b[0m\u001b[0;34m\u001b[0m\u001b[0;34m\u001b[0m\u001b[0m\n\u001b[0;32m--> 641\u001b[0;31m                     \u001b[0mlearn_words\u001b[0m\u001b[0;34m=\u001b[0m\u001b[0;32mFalse\u001b[0m\u001b[0;34m,\u001b[0m \u001b[0mlearn_hidden\u001b[0m\u001b[0;34m=\u001b[0m\u001b[0;32mFalse\u001b[0m\u001b[0;34m,\u001b[0m \u001b[0mdoctag_vectors\u001b[0m\u001b[0;34m=\u001b[0m\u001b[0mdoctag_vectors\u001b[0m\u001b[0;34m,\u001b[0m \u001b[0mdoctags_lockf\u001b[0m\u001b[0;34m=\u001b[0m\u001b[0mdoctags_lockf\u001b[0m\u001b[0;34m\u001b[0m\u001b[0;34m\u001b[0m\u001b[0m\n\u001b[0m\u001b[1;32m    642\u001b[0m                 )\n\u001b[1;32m    643\u001b[0m             \u001b[0;32melif\u001b[0m \u001b[0mself\u001b[0m\u001b[0;34m.\u001b[0m\u001b[0mdm_concat\u001b[0m\u001b[0;34m:\u001b[0m\u001b[0;34m\u001b[0m\u001b[0;34m\u001b[0m\u001b[0m\n",
      "\u001b[0;31mKeyboardInterrupt\u001b[0m: "
     ]
    }
   ],
   "source": [
    "y_train, x_train = get_vectors(model_concat, train_tagged)\n",
    "y_test, x_test = get_vectors(model_concat, test_tagged)"
   ]
  },
  {
   "cell_type": "code",
   "execution_count": null,
   "id": "19f5b50a",
   "metadata": {
    "scrolled": true
   },
   "outputs": [],
   "source": [
    "logreg.fit(x_train, y_train)\n",
    "y_pred = logreg.predict(x_test)\n",
    " \n",
    "print('Testing accuracy %s' % accuracy_score(y_test, y_pred))\n",
    "print('Testing F1 score: {}'.format(f1_score(y_test, y_pred, average='weighted')))"
   ]
  },
  {
   "cell_type": "code",
   "execution_count": null,
   "id": "417f2b14",
   "metadata": {
    "scrolled": true
   },
   "outputs": [],
   "source": [
    "from sklearn import metrics\n",
    "print(metrics.classification_report(y_test, y_pred, target_names = categories))\n",
    "matrix_result = metrics.confusion_matrix(y_test, y_pred)\n"
   ]
  },
  {
   "cell_type": "code",
   "execution_count": null,
   "id": "bccbd6f3",
   "metadata": {
    "scrolled": true
   },
   "outputs": [],
   "source": [
    "## confusion matrix visualization\n",
    "import seaborn as sns\n",
    "plt.figure(figsize = (8, 8))\n",
    "sns.heatmap(matrix_result, square = True, annot = True, fmt = 'd', linewidths = 1, cmap = \"GnBu\")\n",
    "plt.xlabel('True label', size = 14)\n",
    "plt.ylabel('Predicted label', size = 14)\n",
    "plt.xticks(np.arange(len(categories)) + 0.5, categories, fontproperties = fonts)\n",
    "plt.yticks(np.arange(len(categories)) + 0.5, categories, fontproperties = fonts)\n",
    "plt.show()"
   ]
  },
  {
   "cell_type": "code",
   "execution_count": null,
   "id": "35cc1025",
   "metadata": {},
   "outputs": [],
   "source": []
  },
  {
   "cell_type": "code",
   "execution_count": null,
   "id": "8c05b3d7",
   "metadata": {},
   "outputs": [],
   "source": []
  }
 ],
 "metadata": {
  "kernelspec": {
   "display_name": "Python 3 (ipykernel)",
   "language": "python",
   "name": "python3"
  },
  "language_info": {
   "codemirror_mode": {
    "name": "ipython",
    "version": 3
   },
   "file_extension": ".py",
   "mimetype": "text/x-python",
   "name": "python",
   "nbconvert_exporter": "python",
   "pygments_lexer": "ipython3",
   "version": "3.7.11"
  }
 },
 "nbformat": 4,
 "nbformat_minor": 5
}
